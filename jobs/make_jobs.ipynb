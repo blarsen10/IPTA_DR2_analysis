{
 "cells": [
  {
   "cell_type": "code",
   "execution_count": 2,
   "id": "ba91fb66",
   "metadata": {},
   "outputs": [],
   "source": [
    "import os, glob, copy\n",
    "from datetime import date\n",
    "from la_forge import core as co\n",
    "import numpy as np"
   ]
  },
  {
   "cell_type": "markdown",
   "id": "5469384d",
   "metadata": {},
   "source": [
    "## PTMCMC noise runs"
   ]
  },
  {
   "cell_type": "code",
   "execution_count": 3,
   "id": "86bced8b",
   "metadata": {},
   "outputs": [],
   "source": [
    "basedir = '/vast/palmer/home.grace/bbl29/IPTA_DR2_analysis'\n",
    "datadir = f'{basedir}/data/lite_unfiltered_53_ePSRs'\n",
    "template_file = './template_DR2lite_unfiltered_advnoise.sh'\n",
    "todays_date = str(date.today()).replace('-','')"
   ]
  },
  {
   "cell_type": "code",
   "execution_count": 4,
   "id": "110789b1",
   "metadata": {},
   "outputs": [
    {
     "data": {
      "text/plain": [
       "300000"
      ]
     },
     "execution_count": 4,
     "metadata": {},
     "output_type": "execute_result"
    }
   ],
   "source": [
    "# Assume 8 runs and we want 200k samples, thin of 10, assume burn of 5000 (max)\n",
    "thin = 10\n",
    "Nchains = 8\n",
    "burn = 5000\n",
    "target = 200000\n",
    "single_chain_Niter = (target//Nchains+burn)*10\n",
    "single_chain_Niter"
   ]
  },
  {
   "cell_type": "code",
   "execution_count": 5,
   "id": "7c493efb",
   "metadata": {},
   "outputs": [],
   "source": [
    "# get psrnames\n",
    "psrlist = []\n",
    "psrs = glob.glob(datadir + '/J*')\n",
    "for psr in psrs:\n",
    "    name = psr.split('/')[-1][:-4]\n",
    "    psrlist.append(name)\n",
    "psrlist = np.sort(np.unique(psrlist))\n",
    "# overwrite list\n",
    "psrlist = ['J0610-2100', 'J0900-3144', 'J1614-2230', 'J1721-2457', 'J1741+1351',\n",
    "           'J1824-2452A', 'J1903+0327', 'J1944+0907', 'J2019+2425', 'J2033+1734']"
   ]
  },
  {
   "cell_type": "code",
   "execution_count": 6,
   "id": "ef09b81b",
   "metadata": {},
   "outputs": [
    {
     "data": {
      "text/plain": [
       "(['J0610-2100',\n",
       "  'J0900-3144',\n",
       "  'J1614-2230',\n",
       "  'J1721-2457',\n",
       "  'J1741+1351',\n",
       "  'J1824-2452A',\n",
       "  'J1903+0327',\n",
       "  'J1944+0907',\n",
       "  'J2019+2425',\n",
       "  'J2033+1734'],\n",
       " 10)"
      ]
     },
     "execution_count": 6,
     "metadata": {},
     "output_type": "execute_result"
    }
   ],
   "source": [
    "psrlist, len(psrlist)"
   ]
  },
  {
   "cell_type": "code",
   "execution_count": 9,
   "id": "9aca34e6",
   "metadata": {},
   "outputs": [],
   "source": [
    "with open(template_file, \"r\") as f:\n",
    "    template = f.read()"
   ]
  },
  {
   "cell_type": "code",
   "execution_count": 10,
   "id": "590a4cd0",
   "metadata": {},
   "outputs": [
    {
     "name": "stdout",
     "output_type": "stream",
     "text": [
      "#!/bin/bash\n",
      "#SBATCH --job-name=DR2lite_unfiltered_{{PSRNAME}}_advnoise_{{DATE}}\n",
      "#SBATCH --partition={{PARTITION}}\n",
      "#SBATCH --exclude=r806u23n04\n",
      "#SBATCH --output=/home/bbl29/IPTA_DR2_analysis/logs/{{PSRNAME}}_DR2lite_unfiltered_advnoise_{{DATE}}.txt\n",
      "#SBATCH --error=/home/bbl29/IPTA_DR2_analysis/logs/error/{{PSRNAME}}_DR2lite_unfiltered_advnoise_{{DATE}}.txt\n",
      "#SBATCH --nodes=1\n",
      "#SBATCH --ntasks=4\n",
      "#SBATCH --cpus-per-task=1\n",
      "#SBATCH --threads-per-core=1\n",
      "#SBATCH --mem-per-cpu=10G\n",
      "#SBATCH --time={{RUNTIME_DAYS}}-\n",
      "#SBATCH --array=0-{{ARRAY_MAX}}\n",
      "#SBATCH --mail-type=END\n",
      "#SBATCH --mail-user=bjorn.larsen@yale.edu\n",
      "#SBATCH --requeue\n",
      "\n",
      "echo \"SLURM_JOBID: \" $SLURM_JOBID\n",
      "echo \"SLURM_ARRAY_TASK_ID: \" $SLURM_ARRAY_TASK_ID\n",
      "echo \"SLURM_ARRAY_JOB_ID: \" $SLURM_ARRAY_JOB_ID\n",
      "\n",
      "module load miniconda\n",
      "module load OpenMPI\n",
      "conda activate PTA_env\n",
      "\n",
      "psrname={{PSRNAME}}\n",
      "dataset=lite_unfiltered_53\n",
      "Niter=350000\n",
      "outdir=/vast/palmer/scratch/mingarelli/bbl29/IPTA_DR2_analysis/chains/dr2lite_unfiltered/advnoise/{{PSRNAME}}\n",
      "psr={{PSR}}\n",
      "emp_dist_path=\n",
      "\n",
      "\n",
      "srun -n $SLURM_NTASKS python3 ./scripts/run_custom_noise.py --psrname $psrname --Niter $Niter --outdir $outdir --psr $psr --emp_dist_path $emp_dist_path --human bjorn.larsen --dataset $dataset\n",
      "\n",
      "\n"
     ]
    }
   ],
   "source": [
    "print(template)"
   ]
  },
  {
   "cell_type": "code",
   "execution_count": 11,
   "id": "2810fc60",
   "metadata": {},
   "outputs": [],
   "source": [
    "psrs_to_run_extra_time = []#['J0613-0200','J1012+5307','J1024-0719','J1600-3053',\n",
    "                          #'J1643-1224','J1713+0747','J1744-1134','J1857+0943',\n",
    "                          #'J1909-3744','J1939+2134','J2145-0750']"
   ]
  },
  {
   "cell_type": "code",
   "execution_count": 12,
   "id": "2ed4d844",
   "metadata": {
    "scrolled": true
   },
   "outputs": [
    {
     "name": "stdout",
     "output_type": "stream",
     "text": [
      "J0610-2100\n",
      "J0900-3144\n",
      "J1614-2230\n",
      "J1721-2457\n",
      "J1741+1351\n",
      "J1824-2452A\n",
      "J1903+0327\n",
      "J1944+0907\n",
      "J2019+2425\n",
      "J2033+1734\n"
     ]
    }
   ],
   "source": [
    "for psrname in psrlist:\n",
    "    print(psrname)\n",
    "    # Write new file\n",
    "    file_path = f'{basedir}/jobs/{psrname}_DR2lite_unfiltered_advnoise.sh'\n",
    "    job_text = copy.deepcopy(template)\n",
    "    job_text = job_text.replace(\"{{PSRNAME}}\", psrname)\n",
    "    job_text = job_text.replace(\"{{DATE}}\", todays_date)\n",
    "    job_text = job_text.replace(\"{{PSR}}\", f'{datadir}/{psrname}.pkl')\n",
    "    if psrname in psrs_to_run_extra_time:\n",
    "        print('run pi_mingarelli')\n",
    "        job_text = job_text.replace(\"{{PARTITION}}\", 'pi_mingarelli')\n",
    "        job_text = job_text.replace(\"{{RUNTIME_DAYS}}\", '2')\n",
    "        job_text = job_text.replace(\"{{ARRAY_MAX}}\", '7')\n",
    "    else:\n",
    "        job_text = job_text.replace(\"{{PARTITION}}\", 'scavenge')\n",
    "        job_text = job_text.replace(\"{{RUNTIME_DAYS}}\", '1')\n",
    "        job_text = job_text.replace(\"{{ARRAY_MAX}}\", '9')\n",
    "    with open(file_path, \"w\") as f:\n",
    "        f.write(job_text)"
   ]
  },
  {
   "cell_type": "code",
   "execution_count": 14,
   "id": "9da8f2aa",
   "metadata": {},
   "outputs": [
    {
     "name": "stdout",
     "output_type": "stream",
     "text": [
      "#!/bin/bash\n",
      "#SBATCH --job-name=DR2lite_unfiltered_J2033+1734_advnoise_20250303\n",
      "#SBATCH --partition=scavenge\n",
      "#SBATCH --exclude=r806u23n04\n",
      "#SBATCH --output=/home/bbl29/IPTA_DR2_analysis/logs/J2033+1734_DR2lite_unfiltered_advnoise_20250303.txt\n",
      "#SBATCH --error=/home/bbl29/IPTA_DR2_analysis/logs/error/J2033+1734_DR2lite_unfiltered_advnoise_20250303.txt\n",
      "#SBATCH --nodes=1\n",
      "#SBATCH --ntasks=4\n",
      "#SBATCH --cpus-per-task=1\n",
      "#SBATCH --threads-per-core=1\n",
      "#SBATCH --mem-per-cpu=10G\n",
      "#SBATCH --time=1-\n",
      "#SBATCH --array=0-9\n",
      "#SBATCH --mail-type=END\n",
      "#SBATCH --mail-user=bjorn.larsen@yale.edu\n",
      "#SBATCH --requeue\n",
      "\n",
      "echo \"SLURM_JOBID: \" $SLURM_JOBID\n",
      "echo \"SLURM_ARRAY_TASK_ID: \" $SLURM_ARRAY_TASK_ID\n",
      "echo \"SLURM_ARRAY_JOB_ID: \" $SLURM_ARRAY_JOB_ID\n",
      "\n",
      "module load miniconda\n",
      "module load OpenMPI\n",
      "conda activate PTA_env\n",
      "\n",
      "psrname=J2033+1734\n",
      "dataset=lite_unfiltered_53\n",
      "Niter=350000\n",
      "outdir=/vast/palmer/scratch/mingarelli/bbl29/IPTA_DR2_analysis/chains/dr2lite_unfiltered/advnoise/J2033+1734\n",
      "psr=/vast/palmer/home.grace/bbl29/IPTA_DR2_analysis/data/lite_unfiltered_53_ePSRs/J2033+1734.pkl\n",
      "emp_dist_path=\n",
      "\n",
      "\n",
      "srun -n $SLURM_NTASKS python3 ./scripts/run_custom_noise.py --psrname $psrname --Niter $Niter --outdir $outdir --psr $psr --emp_dist_path $emp_dist_path --human bjorn.larsen --dataset $dataset\n",
      "\n",
      "\n"
     ]
    }
   ],
   "source": [
    "print(job_text)"
   ]
  },
  {
   "cell_type": "code",
   "execution_count": 15,
   "id": "b6a61edb",
   "metadata": {},
   "outputs": [],
   "source": [
    "mass_submit_text = 'import os\\n'\n",
    "for psrname in psrlist:\n",
    "    mass_submit_text += f'os.system(f\"sbatch jobs/{psrname}_DR2lite_unfiltered_advnoise.sh\")\\n'\n",
    "with open(f'{basedir}/submit_DR2lite_10more.py', \"w\") as f:\n",
    "    f.write(mass_submit_text)"
   ]
  },
  {
   "cell_type": "markdown",
   "id": "9555dc15",
   "metadata": {},
   "source": [
    "## Nautilus fact like runs"
   ]
  },
  {
   "cell_type": "code",
   "execution_count": 26,
   "id": "87dfda6f",
   "metadata": {},
   "outputs": [],
   "source": [
    "datastr = 'lite_unfiltered'\n",
    "basedir = '/vast/palmer/home.grace/bbl29/IPTA_DR2_analysis'\n",
    "datadir = f'{basedir}/data/{datastr}_53_ePSRs'\n",
    "#template_file = f'./template_{datastr}DR2_advnoise.sh'\n",
    "template_file = f'./template_nautilus_FL_dr2{datastr}.sh'\n",
    "todays_date = str(date.today()).replace('-','')"
   ]
  },
  {
   "cell_type": "code",
   "execution_count": 27,
   "id": "c1ba57c2",
   "metadata": {},
   "outputs": [
    {
     "data": {
      "text/plain": [
       "(['J0610-2100',\n",
       "  'J0900-3144',\n",
       "  'J1614-2230',\n",
       "  'J1721-2457',\n",
       "  'J1741+1351',\n",
       "  'J1824-2452A',\n",
       "  'J1903+0327',\n",
       "  'J1944+0907',\n",
       "  'J2019+2425',\n",
       "  'J2033+1734'],\n",
       " 10)"
      ]
     },
     "execution_count": 27,
     "metadata": {},
     "output_type": "execute_result"
    }
   ],
   "source": [
    "# get psrnames\n",
    "psrlist = []\n",
    "psrs = glob.glob(datadir + '/J*')\n",
    "for psr in psrs:\n",
    "    name = psr.split('/')[-1][:-4]\n",
    "    psrlist.append(name)\n",
    "psrlist = np.sort(np.unique(psrlist))\n",
    "# overwrite list\n",
    "psrlist = ['J0610-2100', 'J0900-3144', 'J1614-2230', 'J1721-2457', 'J1741+1351',\n",
    "           'J1824-2452A', 'J1903+0327', 'J1944+0907', 'J2019+2425', 'J2033+1734']\n",
    "psrlist, len(psrlist)"
   ]
  },
  {
   "cell_type": "code",
   "execution_count": 28,
   "id": "7f49f0b2",
   "metadata": {},
   "outputs": [],
   "source": [
    "with open(template_file, \"r\") as f:\n",
    "    template = f.read()"
   ]
  },
  {
   "cell_type": "code",
   "execution_count": 29,
   "id": "c3ba85bc",
   "metadata": {},
   "outputs": [
    {
     "name": "stdout",
     "output_type": "stream",
     "text": [
      "#!/bin/bash\n",
      "#SBATCH --job-name=DR2lite_unfiltered_{{PSRNAME}}_factlike_{{DATE}}\n",
      "#SBATCH --partition=scavenge\n",
      "#SBATCH --exclude=r806u23n04\n",
      "#SBATCH --output=/home/bbl29/IPTA_DR2_analysis/logs/DR2lite_unfiltered_{{PSRNAME}}_factlike_{{DATE}}.txt\n",
      "#SBATCH --error=/home/bbl29/IPTA_DR2_analysis/logs/error/DR2lite_unfiltered_{{PSRNAME}}_factlike_{{DATE}}.txt\n",
      "#SBATCH --nodes=1\n",
      "#SBATCH --ntasks=1\n",
      "#SBATCH --cpus-per-task=4\n",
      "#SBATCH --mem-per-cpu=10G\n",
      "#SBATCH --time=2:00:00\n",
      "#SBATCH --requeue\n",
      "#SBATCH --mail-type=END\n",
      "#SBATCH --mail-user=bjorn.larsen@yale.edu\n",
      "#SBATCH --requeue\n",
      "\n",
      "echo \"SLURM_JOBID: \" $SLURM_JOBID\n",
      "echo \"SLURM_ARRAY_TASK_ID: \" $SLURM_ARRAY_TASK_ID\n",
      "echo \"SLURM_ARRAY_JOB_ID: \" $SLURM_ARRAY_JOB_ID\n",
      "\n",
      "module load miniconda\n",
      "module load OpenMPI\n",
      "conda activate PTA_env\n",
      "\n",
      "export OMP_NUM_THREADS=1\n",
      "export MKL_NUM_THREADS=1\n",
      "export OPENBLAS_NUM_THREADS=1\n",
      "\n",
      "gwb_Nfreqs=13\n",
      "n_live=1000\n",
      "n_networks=4\n",
      "projectpath=/home/bbl29/IPTA_DR2_analysis\n",
      "outdir=/vast/palmer/home.grace/bbl29/project/IPTA_DR2_analysis/dr2lite_unfiltered/CRN${gwb_Nfreqs}_FL\n",
      "noisepath=$projectpath/noisedicts/dr2lite_unfiltered_advnoise.json\n",
      "psr={{PSR}}\n",
      "\n",
      "\n",
      "python3 ./scripts/run_nautilus_factlike.py --gwb_Nfreqs $gwb_Nfreqs --Ncpus $SLURM_NTASKS --Ncpus $SLURM_NTASKS --Nlive $n_live --Nnet $n_networks --psr $psr --outdir $outdir --noisepath $noisepath\n",
      "\n",
      "\n"
     ]
    }
   ],
   "source": [
    "print(template)"
   ]
  },
  {
   "cell_type": "code",
   "execution_count": 30,
   "id": "f7a30672",
   "metadata": {},
   "outputs": [
    {
     "data": {
      "text/plain": [
       "('lite_unfiltered',\n",
       " '/vast/palmer/home.grace/bbl29/IPTA_DR2_analysis/data/lite_unfiltered_53_ePSRs')"
      ]
     },
     "execution_count": 30,
     "metadata": {},
     "output_type": "execute_result"
    }
   ],
   "source": [
    "datastr, datadir"
   ]
  },
  {
   "cell_type": "code",
   "execution_count": 31,
   "id": "f04b8bbb",
   "metadata": {
    "scrolled": true
   },
   "outputs": [
    {
     "name": "stdout",
     "output_type": "stream",
     "text": [
      "J0610-2100\n",
      "J0900-3144\n",
      "J1614-2230\n",
      "J1721-2457\n",
      "J1741+1351\n",
      "J1824-2452A\n",
      "J1903+0327\n",
      "J1944+0907\n",
      "J2019+2425\n",
      "J2033+1734\n"
     ]
    }
   ],
   "source": [
    "for psrname in psrlist:\n",
    "    print(psrname)\n",
    "    # Write new file\n",
    "    file_path = f'{basedir}/jobs/FL_{psrname}_{datastr}.sh'\n",
    "    job_text = copy.deepcopy(template)\n",
    "    job_text = job_text.replace(\"{{PSRNAME}}\", psrname)\n",
    "    job_text = job_text.replace(\"{{DATE}}\", todays_date)\n",
    "    job_text = job_text.replace(\"{{PSR}}\", f'{datadir}/{psrname}.pkl')\n",
    "    with open(file_path, \"w\") as f:\n",
    "        f.write(job_text)"
   ]
  },
  {
   "cell_type": "code",
   "execution_count": 24,
   "id": "c1e2c880",
   "metadata": {},
   "outputs": [
    {
     "data": {
      "text/plain": [
       "'/vast/palmer/home.grace/bbl29/IPTA_DR2_analysis'"
      ]
     },
     "execution_count": 24,
     "metadata": {},
     "output_type": "execute_result"
    }
   ],
   "source": [
    "basedir"
   ]
  },
  {
   "cell_type": "code",
   "execution_count": 23,
   "id": "bf56a72d",
   "metadata": {},
   "outputs": [],
   "source": [
    "mass_submit_text = 'import os\\n'\n",
    "for psrname in psrlist:\n",
    "    mass_submit_text += f'os.system(f\"sbatch jobs/FL_{psrname}_{datastr}.sh\")\\n'\n",
    "with open(f'{basedir}/submit_DR2{datastr}_factlike_10more.py', \"w\") as f:\n",
    "    f.write(mass_submit_text)"
   ]
  },
  {
   "cell_type": "code",
   "execution_count": 25,
   "id": "d52ba007",
   "metadata": {},
   "outputs": [
    {
     "data": {
      "text/plain": [
       "'lite_unfiltered'"
      ]
     },
     "execution_count": 25,
     "metadata": {},
     "output_type": "execute_result"
    }
   ],
   "source": [
    "datastr"
   ]
  },
  {
   "cell_type": "code",
   "execution_count": 37,
   "id": "e3c86348",
   "metadata": {},
   "outputs": [
    {
     "data": {
      "text/plain": [
       "'/vast/palmer/home.grace/bbl29/IPTA_DR2_analysis/jobs/FL_J2322+2057_full.sh'"
      ]
     },
     "execution_count": 37,
     "metadata": {},
     "output_type": "execute_result"
    }
   ],
   "source": [
    "file_path"
   ]
  },
  {
   "cell_type": "code",
   "execution_count": null,
   "id": "e74d1546",
   "metadata": {},
   "outputs": [],
   "source": []
  }
 ],
 "metadata": {
  "kernelspec": {
   "display_name": "Python 3 (ipykernel)",
   "language": "python",
   "name": "python3"
  },
  "language_info": {
   "codemirror_mode": {
    "name": "ipython",
    "version": 3
   },
   "file_extension": ".py",
   "mimetype": "text/x-python",
   "name": "python",
   "nbconvert_exporter": "python",
   "pygments_lexer": "ipython3",
   "version": "3.10.12"
  }
 },
 "nbformat": 4,
 "nbformat_minor": 5
}
