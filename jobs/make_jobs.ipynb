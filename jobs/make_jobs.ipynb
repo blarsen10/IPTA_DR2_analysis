{
 "cells": [
  {
   "cell_type": "code",
   "execution_count": 1,
   "id": "ba91fb66",
   "metadata": {},
   "outputs": [
    {
     "name": "stderr",
     "output_type": "stream",
     "text": [
      "WARNING: AstropyDeprecationWarning: The private astropy._erfa module has been made into its own package, pyerfa, which is a dependency of astropy and can be imported directly using \"import erfa\" [astropy._erfa]\n"
     ]
    }
   ],
   "source": [
    "import os, glob, copy\n",
    "from datetime import date\n",
    "from la_forge import core as co\n",
    "import numpy as np"
   ]
  },
  {
   "cell_type": "code",
   "execution_count": 47,
   "id": "86bced8b",
   "metadata": {},
   "outputs": [],
   "source": [
    "basedir = '/vast/palmer/home.grace/bbl29/IPTA_DR2_analysis'\n",
    "datadir = f'{basedir}/data/full_ePSRs'\n",
    "template_file = './template_fullDR2_stdnoise.sh'\n",
    "todays_date = str(date.today()).replace('-','')"
   ]
  },
  {
   "cell_type": "code",
   "execution_count": 48,
   "id": "110789b1",
   "metadata": {},
   "outputs": [
    {
     "data": {
      "text/plain": [
       "300000"
      ]
     },
     "execution_count": 48,
     "metadata": {},
     "output_type": "execute_result"
    }
   ],
   "source": [
    "# Assume 8 runs and we want 200k samples, thin of 10, assume burn of 5000 (max)\n",
    "thin = 10\n",
    "Nchains = 8\n",
    "burn = 5000\n",
    "target = 200000\n",
    "single_chain_Niter = (target//Nchains+burn)*10\n",
    "single_chain_Niter"
   ]
  },
  {
   "cell_type": "code",
   "execution_count": 58,
   "id": "7c493efb",
   "metadata": {},
   "outputs": [],
   "source": [
    "# get psrnames\n",
    "psrlist = []\n",
    "psrs = glob.glob(datadir + '/J*')\n",
    "for psr in psrs:\n",
    "    name = psr.split('/')[-1][:-5]\n",
    "    psrlist.append(name)\n",
    "psrlist = np.sort(np.unique(psrlist))"
   ]
  },
  {
   "cell_type": "code",
   "execution_count": 59,
   "id": "9aca34e6",
   "metadata": {},
   "outputs": [],
   "source": [
    "with open(template_file, \"r\") as f:\n",
    "    template = f.read()"
   ]
  },
  {
   "cell_type": "code",
   "execution_count": 60,
   "id": "590a4cd0",
   "metadata": {},
   "outputs": [
    {
     "name": "stdout",
     "output_type": "stream",
     "text": [
      "#!/bin/bash\n",
      "#SBATCH --job-name=DR2_{{PSRNAME}}_stdnoise_{{DATE}}\n",
      "#SBATCH --partition={{PARTITION}}\n",
      "#SBATCH --exclude=r806u23n04\n",
      "#SBATCH --output=/home/bbl29/IPTA_DR2_analysis/logs/{{PSRNAME}}_DR2full_stdnoise_{{DATE}}.txt\n",
      "#SBATCH --error=/home/bbl29/IPTA_DR2_analysis/logs/error/{{PSRNAME}}_DR2full_stdnoise_{{DATE}}.txt\n",
      "#SBATCH --nodes=1\n",
      "#SBATCH --ntasks=4\n",
      "#SBATCH --cpus-per-task=1\n",
      "#SBATCH --threads-per-core=1\n",
      "#SBATCH --mem-per-cpu=10G\n",
      "#SBATCH --time={{RUNTIME_DAYS}}-\n",
      "#SBATCH --array=0-{{ARRAY_MAX}}\n",
      "#SBATCH --mail-type=END\n",
      "#SBATCH --mail-user=bjorn.larsen@yale.edu\n",
      "\n",
      "echo \"SLURM_JOBID: \" $SLURM_JOBID\n",
      "echo \"SLURM_ARRAY_TASK_ID: \" $SLURM_ARRAY_TASK_ID\n",
      "echo \"SLURM_ARRAY_JOB_ID: \" $SLURM_ARRAY_JOB_ID\n",
      "\n",
      "module load miniconda\n",
      "module load OpenMPI\n",
      "conda activate PTA_env\n",
      "\n",
      "psrname={{PSRNAME}}\n",
      "Niter=350000\n",
      "outdir=/vast/palmer/scratch/mingarelli/bbl29/IPTA_DR2_analysis/chains/dr2full/stdnoise/{{PSRNAME}}\n",
      "psr={{PSR}}\n",
      "emp_dist_path=\n",
      "\n",
      "\n",
      "srun -n $SLURM_NTASKS python3 ./scripts/run_std_noise.py --psrname $psrname --Niter $Niter --outdir $outdir --psr $psr --emp_dist_path $emp_dist_path --human bjorn.larsen\n",
      "\n",
      "\n"
     ]
    }
   ],
   "source": [
    "print(template)"
   ]
  },
  {
   "cell_type": "code",
   "execution_count": 61,
   "id": "2810fc60",
   "metadata": {},
   "outputs": [],
   "source": [
    "psrs_to_run_extra_time = ['J0613-0200','J1012+5307','J1024-0719','J1600-3053',\n",
    "                          'J1643-1224','J1713+0747','J1744-1134','J1857+0943',\n",
    "                          'J1909-3744','J1939+2134','J2145-0750']"
   ]
  },
  {
   "cell_type": "code",
   "execution_count": 62,
   "id": "2ed4d844",
   "metadata": {
    "scrolled": true
   },
   "outputs": [
    {
     "name": "stdout",
     "output_type": "stream",
     "text": [
      "J0030+0451\n",
      "J0034-0534\n",
      "J0218+4232\n",
      "J0437-4715\n",
      "J0610-2100\n",
      "J0613-0200\n",
      "run pi_mingarelli\n",
      "J0621+1002\n",
      "J0711-6830\n",
      "J0751+1807\n",
      "J0900-3144\n",
      "J1012+5307\n",
      "run pi_mingarelli\n",
      "J1022+1001\n",
      "J1024-0719\n",
      "run pi_mingarelli\n",
      "J1045-4509\n",
      "J1455-3330\n",
      "J1600-3053\n",
      "run pi_mingarelli\n",
      "J1603-7202\n",
      "J1614-2230\n",
      "J1640+2224\n",
      "J1643-1224\n",
      "run pi_mingarelli\n",
      "J1713+0747\n",
      "run pi_mingarelli\n",
      "J1721-2457\n",
      "J1730-2304\n",
      "J1732-5049\n",
      "J1738+0333\n",
      "J1741+1351\n",
      "J1744-1134\n",
      "run pi_mingarelli\n",
      "J1751-2857\n",
      "J1801-1417\n",
      "J1802-2124\n",
      "J1804-2717\n",
      "J1824-2452A\n",
      "J1843-1113\n",
      "J1853+1303\n",
      "J1857+0943\n",
      "run pi_mingarelli\n",
      "J1903+0327\n",
      "J1909-3744\n",
      "run pi_mingarelli\n",
      "J1910+1256\n",
      "J1911+1347\n",
      "J1911-1114\n",
      "J1918-0642\n",
      "J1939+2134\n",
      "run pi_mingarelli\n",
      "J1944+0907\n",
      "J1955+2908\n",
      "J2010-1323\n",
      "J2019+2425\n",
      "J2033+1734\n",
      "J2124-3358\n",
      "J2129-5721\n",
      "J2145-0750\n",
      "run pi_mingarelli\n",
      "J2229+2643\n",
      "J2317+1439\n",
      "J2322+2057\n"
     ]
    }
   ],
   "source": [
    "for psrname in psrlist:\n",
    "    print(psrname)\n",
    "    # Write new file\n",
    "    file_path = f'{basedir}/jobs/{psrname}_fullDR2_stdnoise.sh'\n",
    "    job_text = copy.deepcopy(template)\n",
    "    job_text = job_text.replace(\"{{PSRNAME}}\", psrname)\n",
    "    job_text = job_text.replace(\"{{DATE}}\", todays_date)\n",
    "    job_text = job_text.replace(\"{{PSR}}\", f'{datadir}/{psrname}.hdf5')\n",
    "    if psrname in psrs_to_run_extra_time:\n",
    "        print('run pi_mingarelli')\n",
    "        job_text = job_text.replace(\"{{PARTITION}}\", 'pi_mingarelli')\n",
    "        job_text = job_text.replace(\"{{RUNTIME_DAYS}}\", '2')\n",
    "        job_text = job_text.replace(\"{{ARRAY_MAX}}\", '7')\n",
    "    else:\n",
    "        job_text = job_text.replace(\"{{PARTITION}}\", 'scavenge')\n",
    "        job_text = job_text.replace(\"{{RUNTIME_DAYS}}\", '1')\n",
    "        job_text = job_text.replace(\"{{ARRAY_MAX}}\", '9')\n",
    "    with open(file_path, \"w\") as f:\n",
    "        f.write(job_text)"
   ]
  },
  {
   "cell_type": "code",
   "execution_count": 63,
   "id": "b6a61edb",
   "metadata": {},
   "outputs": [],
   "source": [
    "mass_submit_text = 'import os\\n'\n",
    "for psrname in psrlist:\n",
    "    mass_submit_text += f'os.system(f\"sbatch jobs/{psrname}_fullDR2_stdnoise.sh\")\\n'\n",
    "with open(f'{basedir}/submit_DR2full_stdnoise.py', \"w\") as f:\n",
    "    f.write(mass_submit_text)"
   ]
  },
  {
   "cell_type": "code",
   "execution_count": null,
   "id": "d52ba007",
   "metadata": {},
   "outputs": [],
   "source": []
  }
 ],
 "metadata": {
  "kernelspec": {
   "display_name": "Python 3 (ipykernel)",
   "language": "python",
   "name": "python3"
  },
  "language_info": {
   "codemirror_mode": {
    "name": "ipython",
    "version": 3
   },
   "file_extension": ".py",
   "mimetype": "text/x-python",
   "name": "python",
   "nbconvert_exporter": "python",
   "pygments_lexer": "ipython3",
   "version": "3.10.12"
  }
 },
 "nbformat": 4,
 "nbformat_minor": 5
}
