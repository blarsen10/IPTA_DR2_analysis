{
 "cells": [
  {
   "cell_type": "code",
   "execution_count": null,
   "id": "1743b14d",
   "metadata": {},
   "outputs": [],
   "source": [
    "import numpy as np\n",
    "import scipy\n",
    "import matplotlib.pyplot as plt\n",
    "import matplotlib.lines as mlines\n",
    "import corner\n",
    "import os, pickle"
   ]
  },
  {
   "cell_type": "code",
   "execution_count": null,
   "id": "6fff0394",
   "metadata": {},
   "outputs": [],
   "source": [
    "import la_forge.core as co\n",
    "from la_forge.rednoise import gorilla_bf"
   ]
  },
  {
   "cell_type": "code",
   "execution_count": null,
   "id": "c8a58dfc",
   "metadata": {},
   "outputs": [],
   "source": [
    "from nautilus import Sampler, Prior\n",
    "from scipy.stats import uniform\n",
    "import json, cloudpickle, glob\n",
    "import h5py\n",
    "import tqdm\n",
    "from h5pulsar import FilePulsar\n",
    "from enterprise_extensions.blocks import common_red_noise_block\n",
    "from enterprise.signals import signal_base\n",
    "from dr3_noise.models import model_singlepsr_noise\n",
    "from IPTA_DR2_analysis.model_blocks import adv_noise_block, full_Tspan, lite_Tspan"
   ]
  },
  {
   "cell_type": "markdown",
   "id": "6b6ba054",
   "metadata": {},
   "source": [
    "# first check the chains/posteriors"
   ]
  },
  {
   "cell_type": "code",
   "execution_count": null,
   "id": "17b02aac",
   "metadata": {},
   "outputs": [],
   "source": [
    "sampler_dict = {}\n",
    "unfinished_sampler_dict = {}\n",
    "pta_dict = {}"
   ]
  },
  {
   "cell_type": "code",
   "execution_count": null,
   "id": "4a0af778",
   "metadata": {},
   "outputs": [],
   "source": [
    "datastr = 'lite_unfiltered'\n",
    "Np = 53\n",
    "#litec = False\n",
    "edr2 = False\n",
    "gwb_Nfreqs = 13\n",
    "project_path = '/home/bbl29/IPTA_DR2_analysis'\n",
    "if datastr == 'full':\n",
    "    outdir = '/vast/palmer/home.grace/bbl29/project/IPTA_DR2_analysis/dr2full/factlike'\n",
    "else:\n",
    "    outdir = f'/vast/palmer/home.grace/bbl29/project/IPTA_DR2_analysis/dr2{datastr}/CRN{gwb_Nfreqs}_FL'\n",
    "figsave_dir = f'{project_path}/figs/dr2{datastr}/CRN{gwb_Nfreqs}_FL'\n",
    "noisepath=f'{project_path}/noisedicts/dr2{datastr}_advnoise.json'\n",
    "with open(noisepath,'r') as f:\n",
    "    noise_params = json.load(f)\n",
    "if litec and datastr == 'full':\n",
    "    figsave_dir = f'{project_path}/figs/dr2litec/CRN{gwb_Nfreqs}_FL'\n",
    "if edr2 and datastr == 'full':\n",
    "    figsave_dir = f'{project_path}/figs/edr2/CRN{gwb_Nfreqs}_FL'\n",
    "if datastr == 'lite_unfiltered' and Np == 43:\n",
    "    figsave_dir = f'{project_path}/figs/dr2{datastr}/CRN{gwb_Nfreqs}_FL_43'\n",
    "elif datastr == 'lite_unfiltered' and Np == 21:\n",
    "    figsave_dir = f'{project_path}/figs/dr2{datastr}/CRN{gwb_Nfreqs}_FL_21'\n",
    "elif datastr == 'lite_unfiltered' and Np == 53:\n",
    "    figsave_dir = f'{project_path}/figs/dr2{datastr}/CRN{gwb_Nfreqs}_FL_21'"
   ]
  },
  {
   "cell_type": "code",
   "execution_count": null,
   "id": "1762746a",
   "metadata": {},
   "outputs": [],
   "source": [
    "if datastr == 'full' or datastr == 'lite_unfiltered':\n",
    "    Tspan = full_Tspan\n",
    "elif datastr == 'lite':\n",
    "    Tspan = lite_Tspan"
   ]
  },
  {
   "cell_type": "code",
   "execution_count": null,
   "id": "8256a330",
   "metadata": {},
   "outputs": [],
   "source": [
    "if edr2:\n",
    "    psrdir = f'/vast/palmer/home.grace/bbl29/IPTA_DR2_analysis/data/edr2_ePSRs'\n",
    "elif Np is not None:\n",
    "    psrdir = f'/vast/palmer/home.grace/bbl29/IPTA_DR2_analysis/data/{datastr}_{Np}_ePSRs'\n",
    "else:\n",
    "    psrdir = f'/vast/palmer/home.grace/bbl29/IPTA_DR2_analysis/data/{datastr}_ePSRs'\n",
    "psrpaths = glob.glob(f'{psrdir}/*')\n",
    "all_psrnames = np.sort(np.unique([p.split('/')[-1].split('_')[0][:-4] for p in psrpaths]))\n",
    "psrnames = np.sort([p.split('/')[-1].split('_')[0] for p in glob.glob(f'{outdir}/*_converged.txt')])\n",
    "missing_psrs = [p for p in all_psrnames if not p in psrnames]\n",
    "print(f'Missing {len(missing_psrs)}/{len(all_psrnames)} PSRs: {missing_psrs}')"
   ]
  },
  {
   "cell_type": "code",
   "execution_count": null,
   "id": "24877435",
   "metadata": {},
   "outputs": [],
   "source": [
    "def get_prior_distr(param):\n",
    "    pline = str(param)\n",
    "    pmin = float(pline[pline.index('pmin')+5:pline.index(', pmax')])\n",
    "    pmax = float(pline[pline.index('pmax')+5:-1])\n",
    "    prior_dist = uniform(loc=pmin, scale=pmax-pmin)\n",
    "    return prior_dist"
   ]
  },
  {
   "cell_type": "code",
   "execution_count": null,
   "id": "12ddffcf",
   "metadata": {},
   "outputs": [],
   "source": [
    "! ls /vast/palmer/home.grace/bbl29/IPTA_DR2_analysis/data/edr2_ePSRs"
   ]
  },
  {
   "cell_type": "code",
   "execution_count": null,
   "id": "2405e34e",
   "metadata": {
    "scrolled": true
   },
   "outputs": [],
   "source": [
    "for psrname in all_psrnames:\n",
    "    if psrname in sampler_dict:\n",
    "        continue\n",
    "    filename = f'{outdir}/{psrname}_sampler.hdf5'\n",
    "    try:\n",
    "        psrpath = f'{psrdir}/{psrname}.hdf5'\n",
    "        with open(psrpath, 'rb') as f:\n",
    "            psr = FilePulsar(f)\n",
    "    except:\n",
    "        psrpath = f'{psrdir}/{psrname}.pkl'\n",
    "        with open(psrpath, 'rb') as f:\n",
    "            psr = pickle.load(f)\n",
    "\n",
    "    # load pickle\n",
    "    crn = common_red_noise_block(psd='powerlaw', prior='log-uniform', Tspan=Tspan,\n",
    "                                 components=13, gamma_val=13/3,\n",
    "                                 logmin=-18, logmax=-12, orf=None, name='crn')\n",
    "    noise = adv_noise_block(psr, full_pta_analysis=True, dataset=datastr, psr_model=True,\n",
    "                            tm_marg=True, tm_svd=True)\n",
    "    signals = crn + noise\n",
    "    pta = signal_base.PTA([signals(psr)])\n",
    "    pta.set_default_params(noise_params)\n",
    "    pta_dict[psrname] = pta\n",
    "\n",
    "    # make prior\n",
    "    prior = Prior()\n",
    "    for i in range(len(pta.params)):\n",
    "        prior.add_parameter(pta.param_names[i], dist=get_prior_distr(pta.params[i]))\n",
    "    print(f'{psrname}: dim = {prior.dimensionality()}')\n",
    "\n",
    "    # get sampler\n",
    "    sampler = Sampler(prior, pta.get_lnlikelihood, filepath=filename, pass_dict=False)\n",
    "    if sampler.explored:\n",
    "        sampler_dict[psrname] = sampler\n",
    "    else:\n",
    "        print(f'{psrname} still unfinished')\n",
    "        unfinished_sampler_dict[psrname] = sampler"
   ]
  },
  {
   "cell_type": "code",
   "execution_count": null,
   "id": "58617081",
   "metadata": {},
   "outputs": [],
   "source": [
    "def corner_labels(params):\n",
    "    labels = []\n",
    "    for p in params:\n",
    "        if 'dm_gp' in p:\n",
    "            noise = 'DM'\n",
    "        elif 'sw_gp' in p:\n",
    "            noise = 'SW'\n",
    "        elif 'chrom_gp' in p:\n",
    "            noise = 'Chr'\n",
    "        elif 'red_noise' in p:\n",
    "            noise = 'RN'\n",
    "        elif 'gw' in p:\n",
    "            noise = 'CRN'\n",
    "        elif 'crn' in p:\n",
    "            noise = 'CRN'\n",
    "        elif 'exp' in p:\n",
    "            noise = 'd'\n",
    "        else:\n",
    "            noise = '_'.join(p.split('_')[1:-1])\n",
    "        if 'gamma' in p:\n",
    "            labels.append(fr'$\\gamma_{{\\rm{{{noise}}}}}$')\n",
    "        elif 'log10_A' in p:\n",
    "            labels.append(fr'$\\log_{{10}}A_{{\\rm{{{noise}}}}}$')\n",
    "        elif 'log10_sigma_ne' in p:\n",
    "            labels.append(fr'$\\log_{{10}}\\sigma_{{n_e}}$')\n",
    "        elif 'log10_tau' in p:\n",
    "            labels.append(fr'$\\log_{{10}}\\tau_{{\\rm{{{noise}}}}}$')\n",
    "        elif 't0' in p:\n",
    "            labels.append(fr'${{t_{{0,}}}}_{{\\rm{{{noise}}}}}$')\n",
    "        else:\n",
    "            labels.append(p)\n",
    "    return labels"
   ]
  },
  {
   "cell_type": "code",
   "execution_count": null,
   "id": "2a002632",
   "metadata": {},
   "outputs": [],
   "source": [
    "# plot in progress run\n",
    "for psrname in unfinished_sampler_dict:\n",
    "    corepath = f'/vast/palmer/home.grace/bbl29/project/IPTA_DR2_analysis/dr2{datastr}/advnoise/{psrname}/core.h5'\n",
    "    c_psr = co.Core(corepath=corepath, burn=0)\n",
    "    sampler = unfinished_sampler_dict[psrname]\n",
    "    points, log_w, log_l = sampler.posterior()\n",
    "    ndim = points.shape[1]\n",
    "    print(sampler.posterior()[0].shape)\n",
    "    print('log Z: {:.2f}'.format(sampler.log_z))\n",
    "    fig, axes = plt.subplots(ndim, ndim, figsize=(3*ndim, 3*ndim))\n",
    "    fig = corner.corner(points, bins=20, #weights=np.exp(log_w),\n",
    "                        labels=corner_labels(sampler.prior.keys),\n",
    "                        plot_datapoints=True, plot_density=True, label_kwargs={'fontsize':20},\n",
    "                        fill_contours=False, no_fill_contours=True, levels=(0.68, 0.95),\n",
    "                        hist_kwargs={'density':True},\n",
    "                        fig=fig)#, range=np.ones(ndim) * 0.999)\n",
    "    axes = np.array(fig.axes).reshape(ndim,ndim)\n",
    "    for i in range(ndim):\n",
    "        pline = str(pta_dict[psrname].params[i])\n",
    "        pmin = float(pline[pline.index('pmin')+5:pline.index(', pmax')])\n",
    "        pmax = float(pline[pline.index('pmax')+5:-1])\n",
    "        x = np.linspace(pmin,pmax,300)\n",
    "        axes[i,i].plot(x, pta_dict[psrname].params[i].get_pdf(x), color='C2')\n",
    "        # add PTMCMC result\n",
    "        if i < ndim-1:\n",
    "            axes[i,i].hist(c_psr(pta_dict[psrname].param_names[i]), color='C1',\n",
    "                           density=True, histtype='step', bins=20)\n",
    "    fig.suptitle(psrname, fontsize=50)\n",
    "    break"
   ]
  },
  {
   "cell_type": "code",
   "execution_count": null,
   "id": "1a702aa1",
   "metadata": {},
   "outputs": [],
   "source": [
    "# bayes fac with weights\n",
    "def bayes_fac(array, weights=None, max=-4, min=-10, nbins=None):\n",
    "    prior = 1/(max-min)\n",
    "    if nbins is None:\n",
    "        nbins=int(max-min)\n",
    "    bins = np.linspace(min, max, nbins+1)\n",
    "    hist, _ = np.histogram(array, bins=bins, density=True, weights=weights)\n",
    "\n",
    "    if hist[0] == 0:\n",
    "        return np.nan\n",
    "    else:\n",
    "        return prior/hist[0]"
   ]
  },
  {
   "cell_type": "code",
   "execution_count": null,
   "id": "e428e886",
   "metadata": {},
   "outputs": [],
   "source": [
    "def Flike(sampler_dict, psrnames, bin_num=100):\n",
    "    bins = np.linspace(-18,-12,bin_num)\n",
    "    hist = np.zeros((len(psrnames),len(bins)-1))\n",
    "    for jj,p in enumerate(psrnames):\n",
    "        # histogram getting chain of psr[p][:, gw_log10_A] param\n",
    "        idx = sampler_dict[p].prior.keys.index('crn_log10_A')\n",
    "        points, log_w, _ = sampler_dict[p].posterior()\n",
    "        hist[jj,:] = np.histogram(points[:,idx], bins=bins, density=True, weights=np.exp(log_w))[0] + 1e-20\n",
    "    finalhist = np.prod(hist,axis=0)\n",
    "    finalhist_dist = scipy.stats.rv_histogram([finalhist,bins])\n",
    "    return finalhist_dist#, hist"
   ]
  },
  {
   "cell_type": "code",
   "execution_count": null,
   "id": "3148f55b",
   "metadata": {
    "scrolled": true
   },
   "outputs": [],
   "source": [
    "# get the CRN from PTMCMCSampler\n",
    "corepath = '/vast/palmer/home.grace/bbl29/project/IPTA_DR2_analysis/'\n",
    "if litec and datastr == 'full':\n",
    "    corepath += f'dr2litec/CRN{gwb_Nfreqs}_g4p3_advnoise/core.h5'\n",
    "elif Np is not None:\n",
    "    corepath += f'dr2{datastr}_{Np}/CRN{gwb_Nfreqs}_g4p3_advnoise/core.h5'\n",
    "else:\n",
    "    corepath += f'dr2{datastr}/CRN{gwb_Nfreqs}_g4p3_advnoise/core.h5'\n",
    "if os.path.isfile(corepath):\n",
    "    c = co.Core(corepath=corepath, burn=0)\n",
    "else:\n",
    "    print('No file for full-PTA search')"
   ]
  },
  {
   "cell_type": "code",
   "execution_count": null,
   "id": "2b46a786",
   "metadata": {},
   "outputs": [],
   "source": [
    "fig, ax = plt.subplots(figsize=(6,3),dpi=300)\n",
    "# plot hists\n",
    "lines = []\n",
    "ct = 0\n",
    "i = 2\n",
    "FL_psrnames = all_psrnames#np.unique([p.split('_')[0] for p in c.params if 'J' in p])\n",
    "for psrname in FL_psrnames:\n",
    "    s = sampler_dict[psrname]\n",
    "    points, log_w, _ = s.posterior()\n",
    "    idx = s.prior.keys.index('crn_log10_A')\n",
    "    BF = bayes_fac(points[:,idx], weights=np.exp(log_w), max=-12, min=-18)\n",
    "    if BF > 3:\n",
    "        ax.hist(points[:,idx], weights=np.exp(log_w), alpha=1, bins=60, color=f'C{i}',\n",
    "                histtype='step', density=True, range=(-18,-12), label=psrname)\n",
    "        i += 1\n",
    "    else:\n",
    "        ax.hist(points[:,idx], weights=np.exp(log_w), alpha=0.1, bins=60,\n",
    "                histtype='step', color='k', density=True, range=(-18,-12))\n",
    "# compute fact like stuff\n",
    "log10A_dist = Flike(sampler_dict, FL_psrnames, bin_num=61)\n",
    "ax = fig.axes[0]\n",
    "a = np.linspace(-18,-12,10000)\n",
    "ax.plot(a,log10A_dist.pdf(a),'-C0',lw=1,label='Factorized likelihood analysis')\n",
    "# Compute Savage-Dickey Bayes factor\n",
    "BF = (1/6)/np.mean(log10A_dist.pdf(a)[a < -16])\n",
    "# overplot CRN from PTMCMCSampler\n",
    "if os.path.isfile(corepath):\n",
    "    ax.hist(c('crn_log10_A'), bins=60, density=True, histtype='stepfilled',\n",
    "            color='C1', range=(-18,-12), alpha=0.5, label='Full PTA analysis')\n",
    "# labels, etc\n",
    "ax.set_xlabel(r'$\\log_{10}A_{\\rm{CRN}}$')\n",
    "ax.set_xlim([-18,-12])\n",
    "ylim = ax.get_ylim()\n",
    "ax.set_ylabel('PDF')\n",
    "ax.semilogy()\n",
    "ax.set_ylim([1e-11,ylim[1]+5])\n",
    "ax.legend(fontsize='small')\n",
    "if litec and datastr == 'full':\n",
    "    title = f'IPTA DR2litec Fact Like analysis: '\n",
    "else:\n",
    "    title = f'IPTA DR2{datastr} Fact Like analysis: '\n",
    "title += fr'$\\log_{{10}}\\mathcal{{B}}^{{CRN+IRN}}_{{IRN}}$ = {np.log10(BF):1.2f}'\n",
    "ax.set_title(title)\n",
    "fig.tight_layout()\n",
    "fig.savefig(f'{figsave_dir}/FL.png', dpi=300, bbox_inches='tight')"
   ]
  },
  {
   "cell_type": "markdown",
   "id": "4df331f7",
   "metadata": {},
   "source": [
    "## Dropout factors\n",
    "\n",
    "Taylor et al 2022 defines an FL-derived dropout factor, which compares the probability of measuring the recovered CP with pulsar $p$ included vs the probability of measuring it without pulsar $p$, as follows,\n",
    "\\begin{align*}\n",
    "    \\text{Dropout Factor} = \\frac{\\mathcal{Z}_{p,0}}{\\mathcal{Z}_{p,1}}\\left\\langle\\frac{p(A_{\\rm{CP}}|d,\\mathcal{H}_1)}{p(A_{\\rm{CP}})}\\right\\rangle_p.\n",
    "\\end{align*}\n",
    "Here, $\\mathcal{H}_0$ is the model with CP in all pulsars, $\\mathcal{H}_1$ is the model with CP in all pulsars except pulsar $p$. $\\mathcal{Z}_{p,0}$ is the Bayesian evidence of the noise + CRN in pulsar $p$, while $\\mathcal{Z}_{p,1}$ is the evidence of just the noise in pulsar $p$. $p(A_{\\rm{CP}}|d,\\mathcal{H}_1)$ is the posterior on $A_{\\rm{CP}}$ with pulsar $p$ not included, $p(A_{\\rm{CP}})$ is the prior, and $\\langle\\rangle_p$ indicates the enclosed ratio is computed and averaged over all posterior samples from pulsar $p$. As such, the relevant quantities to compute are:\n",
    "- $\\mathcal{Z}_{p,0}/\\mathcal{Z}_{p,1}$ is just the SD ratio for the FL CRN in pulsar $p$.\n",
    "- $p(A_{\\rm{CP}}|d,\\mathcal{H}_1)$ can be computed as a histogram using the FL with all pulsars except the dropped pulsar.\n",
    "- $\\langle\\rangle_p$ weighted average using distribution of weighted samples from pulsar $p$."
   ]
  },
  {
   "cell_type": "code",
   "execution_count": null,
   "id": "6fb88096",
   "metadata": {},
   "outputs": [],
   "source": [
    "def compute_DF(psr_drop, sampler_dict, psrnames):\n",
    "    # first compute SD BF\n",
    "    s = sampler_dict[psr_drop]\n",
    "    points, log_w, _ = s.posterior()\n",
    "    idx = s.prior.keys.index('crn_log10_A')\n",
    "    BF = bayes_fac(points[:,idx], weights=np.exp(log_w), max=-12, min=-18)\n",
    "    # next, compute the FL with N-1 pulsars\n",
    "    psrnames_minus_dropped = np.unique([p for p in psrnames if not p == psr_drop])\n",
    "    log10A_dist_H1 = Flike(sampler_dict, psrnames_minus_dropped, bin_num=61)\n",
    "    # compute the prior\n",
    "    log10A_prior = 1/6\n",
    "    # evaluate at all points\n",
    "    brac_p = np.average(log10A_dist_H1.pdf(points[:,idx])/log10A_prior, weights=np.exp(log_w))\n",
    "    return BF*brac_p"
   ]
  },
  {
   "cell_type": "code",
   "execution_count": null,
   "id": "17fcba8a",
   "metadata": {},
   "outputs": [],
   "source": [
    "FL_psrnames"
   ]
  },
  {
   "cell_type": "code",
   "execution_count": null,
   "id": "aa661dfa",
   "metadata": {},
   "outputs": [],
   "source": [
    "DFs = {}\n",
    "#FL_psrnames = np.unique([p.split('_')[0] for p in c.params if 'J' in p])\n",
    "for i, psr_drop in enumerate(FL_psrnames):\n",
    "    DFs[psr_drop] = compute_DF(psr_drop, sampler_dict, FL_psrnames)\n",
    "DFs = {k: v for k, v in sorted(DFs.items(), key=lambda item: item[1], reverse=True)}"
   ]
  },
  {
   "cell_type": "code",
   "execution_count": null,
   "id": "9b4a52b1",
   "metadata": {},
   "outputs": [],
   "source": [
    "DFs"
   ]
  },
  {
   "cell_type": "code",
   "execution_count": null,
   "id": "f54532f7",
   "metadata": {},
   "outputs": [],
   "source": [
    "if datastr == 'full' and not litec:\n",
    "    fig, ax = plt.subplots(figsize=(20,3),dpi=300)\n",
    "else:\n",
    "    fig, ax = plt.subplots(figsize=(10,3),dpi=300)\n",
    "ax.axhline(1, alpha=0.5, lw=1, color='k')\n",
    "for i, psr_drop in enumerate(DFs):\n",
    "    ax.plot([i], [DFs[psr_drop]], 'oC0')\n",
    "ax.set_xticks(np.arange(len(FL_psrnames)))\n",
    "ax.set_xticklabels(list(DFs.keys()), rotation=90, fontsize='large')\n",
    "ax.set_ylabel('CRN Dropout Factor', fontsize='x-large')\n",
    "if datastr == 'full' and litec:\n",
    "    ax.set_title(f'IPTA DR2litec CRN FL Dropout analysis', fontsize='x-large')\n",
    "else:\n",
    "    ax.set_title(f'IPTA DR2{datastr} CRN FL Dropout analysis', fontsize='x-large')\n",
    "ax.semilogy()\n",
    "ax.grid(which='both',lw=0.3)\n",
    "fig.savefig(f'{figsave_dir}/dropout.png')"
   ]
  },
  {
   "cell_type": "markdown",
   "id": "19b65cd0",
   "metadata": {},
   "source": [
    "# Sanity check\n",
    "\n",
    "Let's compare the individual noise params to those from the full PTA analysis"
   ]
  },
  {
   "cell_type": "code",
   "execution_count": null,
   "id": "7b368792",
   "metadata": {
    "scrolled": true
   },
   "outputs": [],
   "source": [
    "for psrname in sampler_dict:\n",
    "    print(psrname)\n",
    "    sampler = sampler_dict[psrname]\n",
    "    if psrname == 'J1713+0747':\n",
    "        ranges = [(0,7),(-20,-11),(0,7),(-20,-11),(-6.3,-5),(np.log10(5),np.log10(500)),(54742,54768),\n",
    "                  (0,7),(-20,-11),(-18,-12)]\n",
    "    elif (f'{psrname}_chrom_gp_gamma' in sampler.prior.keys and\n",
    "          f'{psrname}_sw_gp_log10_sigma_ne' in sampler.prior.keys):\n",
    "        ranges = [(0,7),(-20,-11),(0,7),(-20,-11),(0,7),(-20,-11),(-4,2),(-18,-12)]\n",
    "    elif f'{psrname}_chrom_gp_gamma' in sampler.prior.keys or psrname == 'J1012+5307':\n",
    "        ranges = [(0,7),(-20,-11),(0,7),(-20,-11),(0,7),(-20,-11),(-18,-12)]\n",
    "    elif f'{psrname}_sw_gp_log10_sigma_ne' in sampler.prior.keys:\n",
    "        ranges = [(0,7),(-20,-11),(0,7),(-20,-11),(-4,2),(-18,-12)]\n",
    "    else:\n",
    "        ranges = [(0,7),(-20,-11),(0,7),(-20,-11),(-18,-12)]\n",
    "    points, log_w, log_l = sampler.posterior()\n",
    "    mask = np.exp(log_w) > 1e-6\n",
    "    ndim = points.shape[1]\n",
    "    fig, axes = plt.subplots(ndim, ndim, figsize=(3*ndim, 3*ndim))\n",
    "    lines = []\n",
    "    fig = corner.corner(points[mask], bins=20, weights=np.exp(log_w)[mask], range=ranges,\n",
    "                        labels=corner_labels(sampler.prior.keys),\n",
    "                        plot_datapoints=True, plot_density=True, label_kwargs={'fontsize':25},\n",
    "                        fill_contours=False, no_fill_contours=True, levels=(0.68, 0.95),\n",
    "                        hist_kwargs={'density':True}, fig=fig)#, range=np.ones(ndim) * 0.999)\n",
    "    lines.append(mlines.Line2D([],[],color='k',label='Fact like (NS)'))\n",
    "    axes = np.array(fig.axes).reshape(ndim,ndim)\n",
    "    for i in range(ndim):\n",
    "        pline = str(pta_dict[psrname].params[i])\n",
    "        pmin = float(pline[pline.index('pmin')+5:pline.index(', pmax')])\n",
    "        pmax = float(pline[pline.index('pmax')+5:-1])\n",
    "        x = np.linspace(pmin,pmax,300)\n",
    "        axes[i,i].plot(x, pta_dict[psrname].params[i].get_pdf(x), color='C2')\n",
    "    # add PTMCMC result\n",
    "    for i in range(ndim):\n",
    "        bins=20\n",
    "        if i == ndim-1:\n",
    "            bins=60\n",
    "        axes[i,i].hist(c(pta_dict[psrname].param_names[i].replace('gw','crn')),\n",
    "                       color='C1', density=True, histtype='step', bins=bins, range=ranges[i])\n",
    "        for j in range(ndim):\n",
    "            if i > j:\n",
    "                ax = axes[i,j]\n",
    "                px = pta_dict[psrname].param_names[j].replace('gw','crn')\n",
    "                py = pta_dict[psrname].param_names[i].replace('gw','crn')\n",
    "                x = c(px)\n",
    "                y = c(py)\n",
    "                corner.hist2d(x, y, ax=ax, bins=20, levels=(0.68, 0.95), color='C1',\n",
    "                              plot_datapoints=False, fill_contours=False,\n",
    "                              no_fill_contours=True, plot_density=False,\n",
    "                              range=[ranges[j],ranges[i]])\n",
    "                if j > 0:\n",
    "                    ax.set_yticks([])\n",
    "                if i < ndim - 1:\n",
    "                    ax.set_xticks([])\n",
    "    lines.append(mlines.Line2D([],[],color='C1',label='Full PTA (MCMC)'))\n",
    "    fig.legend(handles=lines, fontsize=30)\n",
    "    fig.suptitle(psrname, fontsize=50)\n",
    "    fig.savefig(f'{figsave_dir}/{psrname}.png', dpi=300, bbox_inches='tight')\n",
    "    plt.show()"
   ]
  },
  {
   "cell_type": "code",
   "execution_count": null,
   "id": "9e67a9b6",
   "metadata": {},
   "outputs": [],
   "source": [
    "points.shape"
   ]
  },
  {
   "cell_type": "code",
   "execution_count": null,
   "id": "b26b77d9",
   "metadata": {},
   "outputs": [],
   "source": [
    "corner_labels(sampler.prior.keys)"
   ]
  },
  {
   "cell_type": "code",
   "execution_count": null,
   "id": "4b43b044",
   "metadata": {},
   "outputs": [],
   "source": [
    "ranges"
   ]
  },
  {
   "cell_type": "code",
   "execution_count": null,
   "id": "76f78e3b",
   "metadata": {},
   "outputs": [],
   "source": [
    "plt.close('all')"
   ]
  },
  {
   "cell_type": "code",
   "execution_count": null,
   "id": "f74d91f4",
   "metadata": {},
   "outputs": [],
   "source": []
  }
 ],
 "metadata": {
  "kernelspec": {
   "display_name": "Python 3 (ipykernel)",
   "language": "python",
   "name": "python3"
  },
  "language_info": {
   "codemirror_mode": {
    "name": "ipython",
    "version": 3
   },
   "file_extension": ".py",
   "mimetype": "text/x-python",
   "name": "python",
   "nbconvert_exporter": "python",
   "pygments_lexer": "ipython3",
   "version": "3.10.12"
  }
 },
 "nbformat": 4,
 "nbformat_minor": 5
}
