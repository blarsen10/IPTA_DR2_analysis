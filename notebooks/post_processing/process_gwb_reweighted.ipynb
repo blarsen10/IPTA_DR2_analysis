{
 "cells": [
  {
   "cell_type": "code",
   "execution_count": null,
   "id": "713f7125",
   "metadata": {},
   "outputs": [],
   "source": [
    "%matplotlib inline\n",
    "%config IPython.matplotlib.backend = \"retina\"\n",
    "from matplotlib import rcParams\n",
    "rcParams[\"savefig.dpi\"] = 300\n",
    "rcParams[\"figure.dpi\"] = 300"
   ]
  },
  {
   "cell_type": "code",
   "execution_count": null,
   "id": "1de4e808",
   "metadata": {},
   "outputs": [],
   "source": [
    "import numpy as np\n",
    "import glob\n",
    "import matplotlib.pyplot as plt\n",
    "import matplotlib.lines as mlines\n",
    "import la_forge.core as co\n",
    "import corner\n",
    "from IPython.display import display, Math\n",
    "from IPTA_DR2_analysis.model_blocks import lite_Tspan, full_Tspan"
   ]
  },
  {
   "cell_type": "code",
   "execution_count": null,
   "id": "c248371c",
   "metadata": {},
   "outputs": [],
   "source": [
    "import numpy as np\n",
    "from scipy.special import erfc, erfcinv\n",
    "import os, glob, pickle\n",
    "import json\n",
    "import matplotlib.pyplot as plt\n",
    "import libstempo as t2\n",
    "from enterprise.signals import utils as ent_utils\n",
    "from enterprise import constants as const\n",
    "from dr3_noise.models import model_singlepsr_noise\n",
    "from enterprise_extensions.blocks import common_red_noise_block\n",
    "from enterprise.signals import signal_base\n",
    "from h5pulsar import Pulsar, FilePulsar\n",
    "#from enterprise.pulsar import Pulsar\n",
    "import IPTA_DR2_analysis.utils as dr2u\n",
    "from IPTA_DR2_analysis.model_blocks import adv_noise_block"
   ]
  },
  {
   "cell_type": "code",
   "execution_count": null,
   "id": "ca22104d",
   "metadata": {},
   "outputs": [],
   "source": [
    "from la_forge import core as co\n",
    "import defiant\n",
    "from defiant import OptimalStatistic\n",
    "from defiant import utils, orf_functions\n",
    "from defiant import plotting as defplot\n",
    "from defiant.extra import mdc1_utils\n",
    "import tqdm\n",
    "from IPython.display import display, Math"
   ]
  },
  {
   "cell_type": "code",
   "execution_count": null,
   "id": "663f6690",
   "metadata": {},
   "outputs": [],
   "source": []
  },
  {
   "cell_type": "code",
   "execution_count": null,
   "id": "b09952c4",
   "metadata": {},
   "outputs": [],
   "source": [
    "dataset = 'full'\n",
    "gwb_Nfreqs = 13\n",
    "crn_model = f'CRN{gwb_Nfreqs}_g4p3_advnoise'\n",
    "# ------------\n",
    "project_path = '/vast/palmer/home.grace/bbl29/IPTA_DR2_analysis'\n",
    "datadir = f'{project_path}/data/{dataset}_ePSRs'\n",
    "if dataset == 'edr2':\n",
    "    core_save_dir = f'/vast/palmer/home.grace/bbl29/project/IPTA_DR2_analysis/edr2'\n",
    "    figsave = f'{project_path}/figs/edr2/{crn_model}'\n",
    "else:\n",
    "    core_save_dir = f'/vast/palmer/home.grace/bbl29/project/IPTA_DR2_analysis/dr2{dataset}'\n",
    "    figsave = f'{project_path}/figs/dr2{dataset}/{crn_model}'\n",
    "if 'lite' in dataset:\n",
    "    color = 'C1'\n",
    "elif dataset == 'edr2':\n",
    "    color = 'C2'\n",
    "else:\n",
    "    color = 'C0'"
   ]
  },
  {
   "cell_type": "code",
   "execution_count": null,
   "id": "05a175d7",
   "metadata": {},
   "outputs": [],
   "source": [
    "chain_idxs = []\n",
    "ln_weights = []\n",
    "for path in glob.glob(f'{core_save_dir}/{crn_model}/HD_reweighting/*'):\n",
    "    chain_idxs.append(np.loadtxt(f'{path}/chain_idxs.txt'))\n",
    "    ln_weights.append(np.loadtxt(f'{path}/ln_weights.txt'))\n",
    "chain_idxs = np.array(np.concatenate(chain_idxs), dtype=int)\n",
    "ln_weights = np.concatenate(ln_weights)\n",
    "chain_idxs = chain_idxs[~np.isnan(ln_weights)]\n",
    "ln_weights = ln_weights[~np.isnan(ln_weights)]"
   ]
  },
  {
   "cell_type": "code",
   "execution_count": null,
   "id": "858f3ea2",
   "metadata": {},
   "outputs": [],
   "source": [
    "c = co.Core(corepath=f'{core_save_dir}/{crn_model}/core.h5', burn=0)"
   ]
  },
  {
   "cell_type": "markdown",
   "id": "d8686e13",
   "metadata": {},
   "source": [
    "## Get Bayes fac"
   ]
  },
  {
   "cell_type": "code",
   "execution_count": null,
   "id": "d4cea353",
   "metadata": {},
   "outputs": [],
   "source": [
    "Ns = len(ln_weights)\n",
    "mean_wgt = np.nanmean(np.exp(ln_weights))\n",
    "sigma_wgt = np.nanstd(np.exp(ln_weights))\n",
    "neff = Ns/(1 + (sigma_wgt/mean_wgt)**2)\n",
    "PLR = np.exp(ln_weights)#/np.sqrt(neff)\n",
    "sigma_B = sigma_wgt/np.sqrt(neff)\n",
    "print(Ns)"
   ]
  },
  {
   "cell_type": "code",
   "execution_count": null,
   "id": "bc9be66e",
   "metadata": {},
   "outputs": [],
   "source": [
    "display(Math(fr'N_{{\\rm{{eff}}}} = {int(neff)}'))\n",
    "display(Math(fr'\\mathcal{{E}} = {neff/Ns:0.2f}'))\n",
    "display(Math(fr'\\mathcal{{B}}^{{\\rm{{HD}}}}_{{\\rm{{CRN}}}} = {mean_wgt:0.3f} \\pm {sigma_B:0.3f}'))"
   ]
  },
  {
   "cell_type": "code",
   "execution_count": null,
   "id": "08dceb99",
   "metadata": {},
   "outputs": [],
   "source": [
    "plt.figure(figsize=(7,3))\n",
    "plt.hist(PLR, bins=40, histtype='step', density=True, range=(0,np.min([4,np.max(BF)])), label=r'$w$')\n",
    "plt.axvline(1, alpha=0.5, color='k', label='BF = 1')\n",
    "plt.axvline(10**0.3, color='C1',\n",
    "            label=(r'Antoniadis+2022 result ($\\mathcal{B}^{\\rm{HD}}_{\\rm{CARN}} =$'+\n",
    "                   f'{np.round(10**0.3, decimals=3)})'))\n",
    "plt.axvline(mean_wgt, color='k',\n",
    "            label=r'My result ($\\mathcal{B}^{\\rm{HD}}_{\\rm{CARN}} =$'+f'{np.round(mean_wgt, decimals=3)})')\n",
    "plt.axvline(mean_wgt+sigma_B, color='k', ls='dashed')\n",
    "plt.axvline(mean_wgt-sigma_B, color='k', ls='dashed')\n",
    "plt.xlabel(r'$\\mathcal{B}^{\\rm{HD}}_{\\rm{CARN}}$')\n",
    "plt.ylabel('PDF')\n",
    "plt.xlim([0,4])\n",
    "plt.title('BF results from reweighting')\n",
    "plt.legend()"
   ]
  },
  {
   "cell_type": "markdown",
   "id": "5daff5b7",
   "metadata": {},
   "source": [
    "## Fixed gamma results"
   ]
  },
  {
   "cell_type": "code",
   "execution_count": null,
   "id": "150abd6a",
   "metadata": {},
   "outputs": [],
   "source": [
    "gwb_log10_A = c('crn_log10_A')[chain_idxs]"
   ]
  },
  {
   "cell_type": "code",
   "execution_count": null,
   "id": "18a329dd",
   "metadata": {},
   "outputs": [],
   "source": [
    "fig, ax = plt.subplots(figsize=(3.5,2.2), dpi=500)\n",
    "ax.hist(gwb_log10_A, histtype='step', density=True, bins=30, label='Auto correlations only')\n",
    "ax.hist(gwb_log10_A, histtype='step', density=True, bins=30, label='Auto+cross correlations',\n",
    "        weights=np.exp(ln_weights))\n",
    "ax.set_xlabel(r'$\\log_{10}A_{\\rm{CRN}}$')\n",
    "ax.set_ylabel('PDF')\n",
    "ax.legend(fontsize='xx-small')\n",
    "ax.set_title(f'DR2{dataset} | fixed gamma')\n",
    "fig.tight_layout()\n",
    "fig.savefig(f'{figsave}/hd_log10_A.png', dpi=500, bbox_inches='tight')"
   ]
  },
  {
   "cell_type": "code",
   "execution_count": null,
   "id": "3f222a5b",
   "metadata": {},
   "outputs": [],
   "source": [
    "# what does the CURN posterior look like over the samples where HD is favored? Over where it's not?"
   ]
  },
  {
   "cell_type": "code",
   "execution_count": null,
   "id": "f05ac7c7",
   "metadata": {},
   "outputs": [],
   "source": [
    "len(PLR), len(chain_idxs)"
   ]
  },
  {
   "cell_type": "code",
   "execution_count": null,
   "id": "3beda89b",
   "metadata": {},
   "outputs": [],
   "source": [
    "gwb_log10_A = c('crn_log10_A')[chain_idxs]\n",
    "HD_log10_A = c('crn_log10_A')[chain_idxs][PLR > 1]\n",
    "CRN_log10_A = c('crn_log10_A')[chain_idxs][PLR < 1]"
   ]
  },
  {
   "cell_type": "code",
   "execution_count": null,
   "id": "1ee9463c",
   "metadata": {},
   "outputs": [],
   "source": [
    "fig, ax = plt.subplots(figsize=(3.5,2.2), dpi=500)\n",
    "ax.hist(gwb_log10_A, histtype='step', density=True, bins=30, label='Auto correlations only')\n",
    "ax.hist(gwb_log10_A, histtype='step', density=True, bins=30, label='Auto+cross correlations',\n",
    "        weights=np.exp(ln_weights))\n",
    "ax.hist(HD_log10_A, histtype='step', density=True, bins=30, label='Samples where PLR > 1')\n",
    "ax.hist(CRN_log10_A, histtype='step', density=True, bins=30, label='Samples where PLR < 1')\n",
    "#ax.hist(gwb_log10_A, histtype='step', density=True, bins=30, label='Auto+cross correlations',\n",
    "#        weights=np.exp(ln_weights))\n",
    "ax.set_xlabel(r'$\\log_{10}A_{\\rm{CRN}}$')\n",
    "ax.set_ylabel('PDF')\n",
    "ax.legend(fontsize='xx-small')\n",
    "ax.set_title(f'DR2{dataset} | fixed gamma')\n",
    "fig.tight_layout()\n",
    "#fig.savefig(f'{figsave}/hd_log10_A.png', dpi=500, bbox_inches='tight')"
   ]
  },
  {
   "cell_type": "markdown",
   "id": "297a4ba8",
   "metadata": {},
   "source": [
    "## Sanity check using the OS\n",
    "\n",
    "The max vs min values of the distribution of weights should net HD plots that are visibly in preference for vs against the CURN"
   ]
  },
  {
   "cell_type": "code",
   "execution_count": null,
   "id": "fef6802f",
   "metadata": {},
   "outputs": [],
   "source": [
    "# make CURN model\n",
    "Nfreqs = 13\n",
    "if 'lite_unfiltered' in dataset:\n",
    "    noisedict_path = f'{project_path}/noisedicts/dr2lite_unfiltered_advnoise.json'\n",
    "else:\n",
    "    noisedict_path = f'{project_path}/noisedicts/dr2full_advnoise.json'\n",
    "    \n",
    "psrs = []\n",
    "psr_paths = np.sort(glob.glob(f'{project_path}/data/{dataset}_ePSRs/J*'))\n",
    "try:\n",
    "    for psr_path in psr_paths:\n",
    "        with open(psr_path,'rb') as f:\n",
    "            psrs.append(FilePulsar(f))\n",
    "except:\n",
    "    for psr_path in psr_paths:\n",
    "        with open(psr_path,'rb') as f:\n",
    "            psrs.append(pickle.load(f))\n",
    "len(psrs), psr_paths[0]\n",
    "\n",
    "# load noise params\n",
    "with open(noisedict_path,'r') as f:\n",
    "    noise_params = json.load(f)\n",
    "\n",
    "# set up model\n",
    "max_mjd = np.max([np.max(psr.toas) for psr in psrs])\n",
    "min_mjd = np.min([np.min(psr.toas) for psr in psrs])\n",
    "Tspan = max_mjd - min_mjd\n",
    "crn = common_red_noise_block(psd='powerlaw', prior='log-uniform', Tspan=Tspan,\n",
    "                             components=Nfreqs, gamma_val=13/3,\n",
    "                             logmin=-18, logmax=-12,\n",
    "                             orf=None, name='crn')\n",
    "\n",
    "# loop through pulsars, add noise\n",
    "models = []\n",
    "for psr in tqdm.tqdm(psrs):\n",
    "    noise = adv_noise_block(psr, full_pta_analysis=True, dataset='full', psr_model=True,\n",
    "                            tm_marg=True, tm_svd=True)\n",
    "    signals = crn + noise\n",
    "    models.append(signals(psr))\n",
    "pta = signal_base.PTA(models)\n",
    "pta.set_default_params(noise_params)"
   ]
  },
  {
   "cell_type": "code",
   "execution_count": null,
   "id": "44d55359",
   "metadata": {},
   "outputs": [],
   "source": [
    "OS_obj = OptimalStatistic(psrs, pta=pta, gwb_name='crn', core=c, orfs=['hd'])\n",
    "OS_obj.set_orf(['hd'])"
   ]
  },
  {
   "cell_type": "code",
   "execution_count": null,
   "id": "625da56c",
   "metadata": {},
   "outputs": [],
   "source": [
    "idx_best = np.argmax(PLR)\n",
    "idx_worst = np.argmin(PLR)\n",
    "params_best = {p:c(p)[chain_idxs][idx_best] for p in c.params}\n",
    "params_worst = {p:c(p)[chain_idxs][idx_worst] for p in c.params}\n",
    "print(PLR[idx_best], PLR[idx_worst])\n",
    "print(params_best['crn_log10_A'], params_worst['crn_log10_A'])\n",
    "print(params_best['lnlike'], params_worst['lnlike'])\n",
    "print(params_best['J1909-3744_red_noise_log10_A'], params_worst['J1909-3744_red_noise_log10_A'])"
   ]
  },
  {
   "cell_type": "code",
   "execution_count": null,
   "id": "8051a72e",
   "metadata": {},
   "outputs": [],
   "source": [
    "# If params=None, then DEFIANT will use maximum likelihood values from OS_obj.lfcore\n",
    "xi,rho,sig,C,A2,A2s = OS_obj.compute_OS(N=1,params=params_best, gamma=13/3, pair_covariance=True)\n",
    "\n",
    "print(f'{A2*1e30:0.2f} +- {A2s*1e30:0.2f} x 1e30')\n",
    "print(f'{A2/A2s:0.2f}')\n",
    "\n",
    "fig, ax = plt.subplots(figsize=(5,3))\n",
    "xiavg, rhoavg, sigavg = defiant.utils.binned_pair_correlations(xi, rho, sig, bins=10, orf='hd')\n",
    "ax.errorbar(xiavg, rhoavg, yerr=sigavg, marker='o', color='k', ls='none', capsize=5)\n",
    "hd_orf = orf_functions.get_orf_function('hd')\n",
    "xi_grid = np.linspace(0.0001,np.pi,1000)\n",
    "ax.plot(xi_grid, A2*hd_orf(xi_grid), color=color)\n",
    "ax.fill_between(xi_grid, (A2+A2s)*hd_orf(xi_grid), (A2-A2s)*hd_orf(xi_grid), color=color, alpha=0.2)\n",
    "ax.set_xlim([0,np.pi])\n",
    "ylim = ax.get_ylim()\n",
    "ax.scatter(xi, rho, marker='.', s=1, color='k')\n",
    "ax.set_ylim([-2.5e-29,2.5e-29])#2*np.array(ylim))\n",
    "ax.set_title(f'{dataset} OS (Best sample)')\n",
    "ax.set_xlabel('Pulsar separation (radians)')\n",
    "ax.set_ylabel('Correlated power')\n",
    "fig.savefig(f'{figsave}/OS_best_sample.png', dpi=400, bbox_inches='tight')\n",
    "plt.show()"
   ]
  },
  {
   "cell_type": "code",
   "execution_count": null,
   "id": "3b4f287a",
   "metadata": {},
   "outputs": [],
   "source": [
    "# If params=None, then DEFIANT will use maximum likelihood values from OS_obj.lfcore\n",
    "xi,rho,sig,C,A2,A2s = OS_obj.compute_OS(N=1,params=params_worst, gamma=13/3, pair_covariance=True)\n",
    "\n",
    "print(f'{A2*1e30:0.2f} +- {A2s*1e30:0.2f} x 1e30')\n",
    "print(f'{A2/A2s:0.2f}')\n",
    "\n",
    "fig, ax = plt.subplots(figsize=(5,3))\n",
    "xiavg, rhoavg, sigavg = defiant.utils.binned_pair_correlations(xi, rho, sig, bins=10, orf='hd')\n",
    "ax.errorbar(xiavg, rhoavg, yerr=sigavg, marker='o', color='k', ls='none', capsize=5)\n",
    "hd_orf = orf_functions.get_orf_function('hd')\n",
    "xi_grid = np.linspace(0.0001,np.pi,1000)\n",
    "ax.plot(xi_grid, A2*hd_orf(xi_grid), color=color)\n",
    "ax.fill_between(xi_grid, (A2+A2s)*hd_orf(xi_grid), (A2-A2s)*hd_orf(xi_grid), color=color, alpha=0.2)\n",
    "ax.set_xlim([0,np.pi])\n",
    "ylim = ax.get_ylim()\n",
    "ax.scatter(xi, rho, marker='.', s=1, color='k')\n",
    "ax.set_ylim([-2.5e-29,2.5e-29])#2*np.array(ylim))\n",
    "ax.set_title(f'{dataset} OS (Worst sample)')\n",
    "ax.set_xlabel('Pulsar separation (radians)')\n",
    "ax.set_ylabel('Correlated power')\n",
    "fig.savefig(f'{figsave}/OS_worst_sample.png', dpi=400, bbox_inches='tight')\n",
    "plt.show()"
   ]
  },
  {
   "cell_type": "markdown",
   "id": "242e7626",
   "metadata": {},
   "source": [
    "## Varied gamma results"
   ]
  },
  {
   "cell_type": "code",
   "execution_count": null,
   "id": "20a8d55b",
   "metadata": {},
   "outputs": [],
   "source": [
    "axis_labels = [r'$\\log_{10}A_{\\rm{GWB}}$', r'$\\gamma_{\\rm{GWB}}$']\n",
    "params = [p for p in c.params if 'crn' in p]\n",
    "p_idxs = [c.params.index(p) for p in params]\n",
    "fig = corner.corner(c.chain[chain_idxs][:,p_idxs], levels=(0.68,0.95), labels=axis_labels,\n",
    "                    color='C1', plot_density=False, plot_datapoints=False,\n",
    "                    no_fill_contours=False, hist_kwargs={'density':True},\n",
    "                    label_kwargs={'fontsize':20}, bins=30, weights=np.exp(ln_weights))\n",
    "lines = [mlines.Line2D([],[],color='C0',label='Auto correlations only')]\n",
    "fig = corner.corner(c.chain[chain_idxs][:,p_idxs], levels=(0.68,0.95), fig=fig,\n",
    "                    color='C0', plot_density=False, plot_datapoints=False,\n",
    "                    no_fill_contours=False, hist_kwargs={'density':True},\n",
    "                    bins=30)\n",
    "lines += [mlines.Line2D([],[],color='C1',label='Auto+cross correlations')]\n",
    "fig.legend(handles=lines, fontsize=10)\n",
    "axes = np.array(fig.axes).reshape((2,2))\n",
    "axes[0,0].axvline(13/3, color='C2')\n",
    "axes[1,0].axvline(13/3, color='C2')\n",
    "axes[1,0].axhline(np.log10(2.8e-15), color='C2')\n",
    "axes[1,1].axvline(np.log10(2.8e-15), color='C2')\n",
    "axes[1,1].set_title(f'DR2{dataset} | varied gamma')\n",
    "axes[1,0].set_ylim([-16,-13])\n",
    "axes[1,1].set_xlim([-16,-13])\n",
    "axes[0,0].set_xlim([2,6.1])\n",
    "axes[1,0].set_xlim([2,6.1])\n",
    "fig.savefig(f'{figsave}/hd_corner.png', dpi=300, bbox_inches='tight')\n",
    "plt.show()"
   ]
  },
  {
   "cell_type": "markdown",
   "id": "a30d3236",
   "metadata": {},
   "source": [
    "## Free spec results\n",
    "\n",
    "We can't make a weighed violin plot, but we can plot the free spec bin histograms"
   ]
  },
  {
   "cell_type": "code",
   "execution_count": null,
   "id": "6b13239b",
   "metadata": {},
   "outputs": [],
   "source": [
    "params = [p for p in c.params if 'crn' in p]\n",
    "fig, ax = plt.subplots(int(np.ceil(len(params)/4)), 4, figsize=(8,2*int(np.ceil(len(params)/4))))\n",
    "ax = np.array(ax).flatten()\n",
    "for i in range(len(params)):\n",
    "    ax[i].hist(c(params[i])[chain_idxs], density=True, color='C0', histtype='step', bins=30, label='CRN')\n",
    "    ax[i].hist(c(params[i])[chain_idxs], density=True, color='C1', histtype='step', bins=30,\n",
    "               weights=np.exp(ln_weights), label='HD')\n",
    "    ax[i].set_xlabel(fr'$\\log_{{10}}\\rho_{i}$')\n",
    "ax[1].legend(fontsize='small')\n",
    "for i in range(int(np.ceil(len(params)/4))*4 - len(params)):\n",
    "    ax[int(np.ceil(len(params)/4))*4-i-1].set_visible(False)\n",
    "fig.suptitle(f'DR2{dataset} | free spec')\n",
    "fig.savefig(f'{figsave}/hd_free_spec.png', dpi=300, bbox_inches='tight')\n",
    "fig.tight_layout()"
   ]
  },
  {
   "cell_type": "code",
   "execution_count": null,
   "id": "0d2e1b9d",
   "metadata": {},
   "outputs": [],
   "source": []
  },
  {
   "cell_type": "code",
   "execution_count": null,
   "id": "12562ba3",
   "metadata": {},
   "outputs": [],
   "source": []
  },
  {
   "cell_type": "markdown",
   "id": "d8d04945",
   "metadata": {},
   "source": [
    "## Check pulsar noise params"
   ]
  },
  {
   "cell_type": "code",
   "execution_count": null,
   "id": "a75b3c40",
   "metadata": {},
   "outputs": [],
   "source": [
    "def make_labels(params, psrname, add_psrname=True):\n",
    "    labels = []\n",
    "    if add_psrname:\n",
    "        add = psrname+'\\n'\n",
    "    else:\n",
    "        add = ''\n",
    "    for p in params:\n",
    "        if 'dm_gp_gamma' in p:\n",
    "            labels.append(add+r'$\\gamma_{\\rm{DM}}$')\n",
    "        elif 'dm_gp_log10_A' in p:\n",
    "            labels.append(add+r'$\\log_{10}A_{\\rm{DM}}$')\n",
    "        elif 'red_noise_gamma' in p:\n",
    "            labels.append(add+r'$\\gamma_{\\rm{IRN}}$')\n",
    "        elif 'red_noise_log10_A' in p:\n",
    "            labels.append(add+r'$\\log_{10}A_{\\rm{IRN}}$')\n",
    "        elif p == 'crn_log10_A':\n",
    "            labels.append(r'$\\log_{10}A_{\\rm{CRN}}$')\n",
    "        elif p == 'crn_gamma':\n",
    "            labels.append(r'$\\gamma_{\\rm{CRN}}$')\n",
    "        elif 'exp1_log10_Amp' in p:\n",
    "            labels.append(add+r'$\\log_{10}A_{\\rm{exp}}$')\n",
    "        elif 'exp1_log10_tau' in p:\n",
    "            labels.append(add+r'$\\log_{10}\\tau_{\\rm{exp}}$')\n",
    "        elif 'exp1_t0' in p:\n",
    "            labels.append(add+r'$t_{\\rm{exp}}$')\n",
    "        else:\n",
    "            labels.append(p)\n",
    "    return labels"
   ]
  },
  {
   "cell_type": "code",
   "execution_count": null,
   "id": "732d5a16",
   "metadata": {
    "scrolled": true
   },
   "outputs": [],
   "source": [
    "psrnames = np.unique([p.split('_')[0] for p in c.params if 'J' in p])\n",
    "for psrname in psrnames:\n",
    "    corepath = f'/vast/palmer/home.grace/bbl29/project/IPTA_DR2_analysis/dr2full/stdnoise/{psrname}/core.h5'\n",
    "    #c_psr = co.Core(corepath=corepath, burn=0)\n",
    "    params = [p for p in c.params if psrname in p] + [p for p in c.params if 'crn' in p]\n",
    "    p_idxs = [c.params.index(p) for p in params]\n",
    "    labels = make_labels(params, psrname, add_psrname=False)\n",
    "    fig = corner.corner(c.chain[chain_idxs][:,p_idxs], levels=(0.68,0.95), labels=labels,\n",
    "                        color='C0', plot_density=False, plot_datapoints=False,\n",
    "                        no_fill_contours=True, hist_kwargs={'density':True},\n",
    "                        label_kwargs={'fontsize':20})\n",
    "    fig = corner.corner(c.chain[chain_idxs][:,p_idxs], levels=(0.68,0.95), fig=fig,\n",
    "                        color='C1', plot_density=False, plot_datapoints=False, weights=np.exp(ln_weights),\n",
    "                        no_fill_contours=True, hist_kwargs={'density':True})\n",
    "    lines = [mlines.Line2D([],[],color='C0',label='CRN')]\n",
    "    lines += [mlines.Line2D([],[],color='C1',label='HD (reweighting)')]\n",
    "    fig.legend(handles=lines, fontsize=20)\n",
    "    fig.suptitle(f'PSR {psrname}', fontsize=30)\n",
    "    plt.show()\n",
    "    '''# next add single pulsar run\n",
    "    p_psr_idxs = [c_psr.params.index(p) for p in params]\n",
    "    fig = corner.corner(c_psr.chain[:,p_psr_idxs], levels=(0.68,0.95), fig=fig,\n",
    "                        color='C0', plot_density=False, plot_datapoints=False,\n",
    "                        no_fill_contours=True, hist_kwargs={'density':True})\n",
    "    # finally add CRN onto intrinsic red noise plot\n",
    "    ndim = len(params)\n",
    "    axes = np.reshape(fig.axes, (ndim,ndim))\n",
    "    idx_crn = c.params.index('crn_log10_A')\n",
    "    axes[-1,-1].hist(c.chain[:,idx_crn], color='C1',\n",
    "                     density=True, bins=20, histtype='step')\n",
    "    # add 13/3 line\n",
    "    axes[-1,-2].axvline(13/3, color='C1', ls='dashed')\n",
    "    axes[-2,-2].axvline(13/3, color='C1', ls='dashed')\n",
    "    lines = [mlines.Line2D([],[],color='C0',label='Single run')]\n",
    "    lines += [mlines.Line2D([],[],color='k',label='PTA run')]\n",
    "    lines += [mlines.Line2D([],[],color='C1',label='CRN')]\n",
    "    fig.legend(handles=lines, fontsize=20)\n",
    "    fig.suptitle(f'PSR {psrname}', fontsize=30)\n",
    "    fig.savefig(f'{figsave}/{psrname}.png', dpi=300, bbox_inches='tight')'''"
   ]
  },
  {
   "cell_type": "code",
   "execution_count": null,
   "id": "f866c68e",
   "metadata": {},
   "outputs": [],
   "source": [
    "plt.close('all')"
   ]
  },
  {
   "cell_type": "code",
   "execution_count": null,
   "id": "a4be9b29",
   "metadata": {},
   "outputs": [],
   "source": [
    "# KL divergence\n",
    "np.log(np.mean(np.exp(ln_weights))) - np.mean(ln_weights)"
   ]
  },
  {
   "cell_type": "code",
   "execution_count": null,
   "id": "e943210c",
   "metadata": {},
   "outputs": [],
   "source": []
  }
 ],
 "metadata": {
  "kernelspec": {
   "display_name": "Python 3 (ipykernel)",
   "language": "python",
   "name": "python3"
  },
  "language_info": {
   "codemirror_mode": {
    "name": "ipython",
    "version": 3
   },
   "file_extension": ".py",
   "mimetype": "text/x-python",
   "name": "python",
   "nbconvert_exporter": "python",
   "pygments_lexer": "ipython3",
   "version": "3.10.12"
  }
 },
 "nbformat": 4,
 "nbformat_minor": 5
}
