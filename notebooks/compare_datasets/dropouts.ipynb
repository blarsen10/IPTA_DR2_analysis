{
 "cells": [
  {
   "cell_type": "code",
   "execution_count": 1,
   "id": "491646f0",
   "metadata": {},
   "outputs": [],
   "source": [
    "%load_ext autoreload\n",
    "%autoreload 2\n",
    "%matplotlib inline\n",
    "%config IPython.matplotlib.backend = \"retina\"\n",
    "from matplotlib import rcParams\n",
    "from matplotlib import lines as mlines\n",
    "from matplotlib import ticker\n",
    "rcParams[\"savefig.dpi\"] = 300\n",
    "rcParams[\"figure.dpi\"] = 300"
   ]
  },
  {
   "cell_type": "code",
   "execution_count": 2,
   "id": "e6875242",
   "metadata": {},
   "outputs": [],
   "source": [
    "import numpy as np\n",
    "import scipy\n",
    "import matplotlib as mpl\n",
    "import matplotlib.pyplot as plt\n",
    "import json, os, pickle, glob\n",
    "import tqdm\n",
    "import corner\n",
    "import scipy.linalg as sl\n",
    "import logging\n",
    "from IPython.display import display, Math\n",
    "logger = logging.getLogger(__name__)\n",
    "default_colors = mpl.rcParams['axes.prop_cycle'].by_key()['color']"
   ]
  },
  {
   "cell_type": "code",
   "execution_count": 3,
   "id": "23448fd8",
   "metadata": {},
   "outputs": [],
   "source": [
    "from nautilus import Sampler, Prior\n",
    "from scipy.stats import uniform\n",
    "from scipy.linalg import LinAlgError\n",
    "import la_forge.diagnostics as dg\n",
    "import la_forge.core as co\n",
    "from la_forge.rednoise import gorilla_bf\n",
    "from la_forge.utils import epoch_ave_resid\n",
    "from h5pulsar import FilePulsar\n",
    "from enterprise.signals.utils import ConditionalGP\n",
    "#from la_forge.gp import Signal_Reconstruction\n",
    "from enterprise_extensions.blocks import common_red_noise_block\n",
    "from enterprise.signals import parameter, signal_base, utils, gp_signals, selections\n",
    "from enterprise_extensions import chromatic as chrom\n",
    "import enterprise.constants as const\n",
    "from enterprise_extensions.empirical_distr import EmpiricalDistribution1D, EmpiricalDistribution2D\n",
    "from la_forge.utils import bayes_fac\n",
    "from collections import OrderedDict\n",
    "DM_K = float(2.41e-4)"
   ]
  },
  {
   "cell_type": "code",
   "execution_count": 4,
   "id": "7bc4dd20",
   "metadata": {},
   "outputs": [],
   "source": [
    "from dr3_noise import post_processing_utils as ppu\n",
    "from dr3_noise import plot_utils as pu\n",
    "from dr3_noise.models import model_singlepsr_noise\n",
    "from targeted_cws_ng15.utils import get_prior_log_weights, weighted_quantile\n",
    "from IPTA_DR2_analysis.model_blocks import adv_noise_block, lite_Tspan, full_Tspan"
   ]
  },
  {
   "cell_type": "markdown",
   "id": "efd4251c",
   "metadata": {},
   "source": [
    "## Compare dropout factors using the FL\n",
    "\n",
    "We'd like to compare dropout factors on the same plot. For more details on this, go see the factlike_analysis notebook. This may take some time, so we are doing this in a dedicated notebook."
   ]
  },
  {
   "cell_type": "code",
   "execution_count": 5,
   "id": "7e061e28",
   "metadata": {},
   "outputs": [],
   "source": [
    "project_path = '/vast/palmer/home.grace/bbl29/IPTA_DR2_analysis'\n",
    "figsave = f'{project_path}/figs/dataset_comparisons/gwb'\n",
    "datasets = ['dr2lite_unfiltered', 'dr2full']\n",
    "labels = ['DR2 Lite', 'Full DR2']\n",
    "Nfreqs = [13, 13]\n",
    "Tspans = [full_Tspan, full_Tspan]\n",
    "noisetype = 'advnoise'\n",
    "model_names = [f'CRN{Nf}_g4p3_{noisetype}' for Nf in Nfreqs]\n",
    "outdirs = [f'/vast/palmer/home.grace/bbl29/project/IPTA_DR2_analysis/dr2lite_unfiltered/CRN13_FL/',\n",
    "           f'/vast/palmer/home.grace/bbl29/project/IPTA_DR2_analysis/dr2full/factlike']\n",
    "noisepaths=[f'{project_path}/noisedicts/{ds}_advnoise.json' for ds in datasets]\n",
    "DFs_all = {lbl:{} for lbl in labels}"
   ]
  },
  {
   "cell_type": "code",
   "execution_count": 6,
   "id": "8256a330",
   "metadata": {},
   "outputs": [
    {
     "name": "stdout",
     "output_type": "stream",
     "text": [
      "Missing 0 PSRs: []\n"
     ]
    },
    {
     "data": {
      "text/plain": [
       "(array(['J0030+0451', 'J0034-0534', 'J0218+4232', 'J0437-4715',\n",
       "        'J0610-2100', 'J0613-0200', 'J0621+1002', 'J0711-6830',\n",
       "        'J0751+1807', 'J0900-3144', 'J1012+5307', 'J1022+1001',\n",
       "        'J1024-0719', 'J1045-4509', 'J1455-3330', 'J1600-3053',\n",
       "        'J1603-7202', 'J1614-2230', 'J1640+2224', 'J1643-1224',\n",
       "        'J1713+0747', 'J1721-2457', 'J1730-2304', 'J1732-5049',\n",
       "        'J1738+0333', 'J1741+1351', 'J1744-1134', 'J1751-2857',\n",
       "        'J1801-1417', 'J1802-2124', 'J1804-2717', 'J1824-2452A',\n",
       "        'J1843-1113', 'J1853+1303', 'J1857+0943', 'J1903+0327',\n",
       "        'J1909-3744', 'J1910+1256', 'J1911+1347', 'J1911-1114',\n",
       "        'J1918-0642', 'J1939+2134', 'J1944+0907', 'J1955+2908',\n",
       "        'J2010-1323', 'J2019+2425', 'J2033+1734', 'J2124-3358',\n",
       "        'J2129-5721', 'J2145-0750', 'J2229+2643', 'J2317+1439',\n",
       "        'J2322+2057'], dtype='<U11'),\n",
       " 53)"
      ]
     },
     "execution_count": 6,
     "metadata": {},
     "output_type": "execute_result"
    }
   ],
   "source": [
    "all_psrnames = np.sort(np.unique([p.split('/')[-1].split('_')[0] for p in glob.glob(f'{outdirs[0]}/*')]))\n",
    "psrnames = np.sort([p.split('/')[-1].split('_')[0] for p in glob.glob(f'{outdirs[0]}/*_converged.txt')])\n",
    "missing_psrs = [p for p in all_psrnames if not p in psrnames]\n",
    "FL_psrnames = psrnames\n",
    "print(f'Missing {len(missing_psrs)} PSRs: {missing_psrs}')\n",
    "psrnames, len(psrnames)"
   ]
  },
  {
   "cell_type": "code",
   "execution_count": 7,
   "id": "24877435",
   "metadata": {},
   "outputs": [],
   "source": [
    "def get_prior_distr(param):\n",
    "    pline = str(param)\n",
    "    pmin = float(pline[pline.index('pmin')+5:pline.index(', pmax')])\n",
    "    pmax = float(pline[pline.index('pmax')+5:-1])\n",
    "    prior_dist = uniform(loc=pmin, scale=pmax-pmin)\n",
    "    return prior_dist"
   ]
  },
  {
   "cell_type": "code",
   "execution_count": 8,
   "id": "d346b973",
   "metadata": {
    "scrolled": true
   },
   "outputs": [
    {
     "name": "stderr",
     "output_type": "stream",
     "text": [
      "  2%|▏         | 1/53 [00:00<00:12,  4.21it/s]"
     ]
    },
    {
     "name": "stdout",
     "output_type": "stream",
     "text": [
      "J0030+0451: dim = 5\n",
      "J0034-0534: dim = 6\n"
     ]
    },
    {
     "name": "stderr",
     "output_type": "stream",
     "text": [
      "\r",
      "  4%|▍         | 2/53 [00:00<00:12,  3.96it/s]"
     ]
    },
    {
     "name": "stdout",
     "output_type": "stream",
     "text": [
      "J0218+4232: dim = 5\n"
     ]
    },
    {
     "name": "stderr",
     "output_type": "stream",
     "text": [
      "\r",
      "  6%|▌         | 3/53 [00:00<00:16,  3.00it/s]"
     ]
    },
    {
     "name": "stdout",
     "output_type": "stream",
     "text": [
      "J0437-4715: dim = 7\n"
     ]
    },
    {
     "name": "stderr",
     "output_type": "stream",
     "text": [
      "\r",
      "  8%|▊         | 4/53 [00:01<00:29,  1.64it/s]"
     ]
    },
    {
     "name": "stdout",
     "output_type": "stream",
     "text": [
      "J0610-2100: dim = 5\n"
     ]
    },
    {
     "name": "stderr",
     "output_type": "stream",
     "text": [
      "\r",
      "  9%|▉         | 5/53 [00:02<00:23,  2.08it/s]"
     ]
    },
    {
     "name": "stdout",
     "output_type": "stream",
     "text": [
      "J0613-0200: dim = 7\n"
     ]
    },
    {
     "name": "stderr",
     "output_type": "stream",
     "text": [
      "\r",
      " 11%|█▏        | 6/53 [00:02<00:22,  2.13it/s]"
     ]
    },
    {
     "name": "stdout",
     "output_type": "stream",
     "text": [
      "J0621+1002: dim = 5\n"
     ]
    },
    {
     "name": "stderr",
     "output_type": "stream",
     "text": [
      "\r",
      " 13%|█▎        | 7/53 [00:03<00:20,  2.28it/s]"
     ]
    },
    {
     "name": "stdout",
     "output_type": "stream",
     "text": [
      "J0711-6830: dim = 5\n"
     ]
    },
    {
     "name": "stderr",
     "output_type": "stream",
     "text": [
      "\r",
      " 15%|█▌        | 8/53 [00:03<00:17,  2.61it/s]"
     ]
    },
    {
     "name": "stdout",
     "output_type": "stream",
     "text": [
      "J0751+1807: dim = 5\n"
     ]
    },
    {
     "name": "stderr",
     "output_type": "stream",
     "text": [
      " 19%|█▉        | 10/53 [00:03<00:13,  3.12it/s]"
     ]
    },
    {
     "name": "stdout",
     "output_type": "stream",
     "text": [
      "J0900-3144: dim = 5\n",
      "J1012+5307: dim = 7\n"
     ]
    },
    {
     "name": "stderr",
     "output_type": "stream",
     "text": [
      "\r",
      " 21%|██        | 11/53 [00:04<00:14,  2.84it/s]"
     ]
    },
    {
     "name": "stdout",
     "output_type": "stream",
     "text": [
      "J1022+1001: dim = 6\n"
     ]
    },
    {
     "name": "stderr",
     "output_type": "stream",
     "text": [
      "\r",
      " 23%|██▎       | 12/53 [00:04<00:13,  2.94it/s]"
     ]
    },
    {
     "name": "stdout",
     "output_type": "stream",
     "text": [
      "J1024-0719: dim = 5\n"
     ]
    },
    {
     "name": "stderr",
     "output_type": "stream",
     "text": [
      "\r",
      " 25%|██▍       | 13/53 [00:04<00:12,  3.13it/s]"
     ]
    },
    {
     "name": "stdout",
     "output_type": "stream",
     "text": [
      "J1045-4509: dim = 5\n"
     ]
    },
    {
     "name": "stderr",
     "output_type": "stream",
     "text": [
      " 28%|██▊       | 15/53 [00:05<00:10,  3.53it/s]"
     ]
    },
    {
     "name": "stdout",
     "output_type": "stream",
     "text": [
      "J1455-3330: dim = 5\n",
      "J1600-3053: dim = 8\n"
     ]
    },
    {
     "name": "stderr",
     "output_type": "stream",
     "text": [
      "\r",
      " 30%|███       | 16/53 [00:05<00:11,  3.36it/s]"
     ]
    },
    {
     "name": "stdout",
     "output_type": "stream",
     "text": [
      "J1603-7202: dim = 5\n"
     ]
    },
    {
     "name": "stderr",
     "output_type": "stream",
     "text": [
      "\r",
      " 32%|███▏      | 17/53 [00:06<00:11,  3.21it/s]"
     ]
    },
    {
     "name": "stdout",
     "output_type": "stream",
     "text": [
      "J1614-2230: dim = 6\n"
     ]
    },
    {
     "name": "stderr",
     "output_type": "stream",
     "text": [
      " 36%|███▌      | 19/53 [00:06<00:11,  2.92it/s]"
     ]
    },
    {
     "name": "stdout",
     "output_type": "stream",
     "text": [
      "J1640+2224: dim = 5\n",
      "J1643-1224: dim = 7\n"
     ]
    },
    {
     "name": "stderr",
     "output_type": "stream",
     "text": [
      "\r",
      " 38%|███▊      | 20/53 [00:07<00:12,  2.67it/s]"
     ]
    },
    {
     "name": "stdout",
     "output_type": "stream",
     "text": [
      "J1713+0747: dim = 10\n"
     ]
    },
    {
     "name": "stderr",
     "output_type": "stream",
     "text": [
      "\r",
      " 40%|███▉      | 21/53 [00:07<00:13,  2.35it/s]"
     ]
    },
    {
     "name": "stdout",
     "output_type": "stream",
     "text": [
      "J1721-2457: dim = 6\n"
     ]
    },
    {
     "name": "stderr",
     "output_type": "stream",
     "text": [
      " 43%|████▎     | 23/53 [00:08<00:10,  2.95it/s]"
     ]
    },
    {
     "name": "stdout",
     "output_type": "stream",
     "text": [
      "J1730-2304: dim = 5\n",
      "J1732-5049: dim = 5\n"
     ]
    },
    {
     "name": "stderr",
     "output_type": "stream",
     "text": [
      " 47%|████▋     | 25/53 [00:08<00:07,  3.77it/s]"
     ]
    },
    {
     "name": "stdout",
     "output_type": "stream",
     "text": [
      "J1738+0333: dim = 5\n"
     ]
    },
    {
     "name": "stderr",
     "output_type": "stream",
     "text": [
      "\r",
      " 49%|████▉     | 26/53 [00:09<00:07,  3.84it/s]"
     ]
    },
    {
     "name": "stdout",
     "output_type": "stream",
     "text": [
      "J1741+1351: dim = 5\n"
     ]
    },
    {
     "name": "stderr",
     "output_type": "stream",
     "text": [
      "\r",
      " 51%|█████     | 27/53 [00:09<00:06,  3.95it/s]"
     ]
    },
    {
     "name": "stdout",
     "output_type": "stream",
     "text": [
      "J1744-1134: dim = 5\n",
      "J1751-2857: dim = 6\n"
     ]
    },
    {
     "name": "stderr",
     "output_type": "stream",
     "text": [
      " 55%|█████▍    | 29/53 [00:09<00:05,  4.45it/s]"
     ]
    },
    {
     "name": "stdout",
     "output_type": "stream",
     "text": [
      "J1801-1417: dim = 5\n",
      "J1802-2124: dim = 5\n"
     ]
    },
    {
     "name": "stderr",
     "output_type": "stream",
     "text": [
      " 58%|█████▊    | 31/53 [00:10<00:04,  4.49it/s]"
     ]
    },
    {
     "name": "stdout",
     "output_type": "stream",
     "text": [
      "J1804-2717: dim = 5\n",
      "J1824-2452A: dim = 5\n"
     ]
    },
    {
     "name": "stderr",
     "output_type": "stream",
     "text": [
      "\r",
      " 60%|██████    | 32/53 [00:10<00:05,  3.72it/s]"
     ]
    },
    {
     "name": "stdout",
     "output_type": "stream",
     "text": [
      "J1843-1113: dim = 6\n"
     ]
    },
    {
     "name": "stderr",
     "output_type": "stream",
     "text": [
      " 64%|██████▍   | 34/53 [00:10<00:04,  4.13it/s]"
     ]
    },
    {
     "name": "stdout",
     "output_type": "stream",
     "text": [
      "J1853+1303: dim = 5\n",
      "J1857+0943: dim = 5\n"
     ]
    },
    {
     "name": "stderr",
     "output_type": "stream",
     "text": [
      "\r",
      " 66%|██████▌   | 35/53 [00:11<00:05,  3.08it/s]"
     ]
    },
    {
     "name": "stdout",
     "output_type": "stream",
     "text": [
      "J1903+0327: dim = 7\n"
     ]
    },
    {
     "name": "stderr",
     "output_type": "stream",
     "text": [
      "\r",
      " 68%|██████▊   | 36/53 [00:11<00:06,  2.70it/s]"
     ]
    },
    {
     "name": "stdout",
     "output_type": "stream",
     "text": [
      "J1909-3744: dim = 5\n"
     ]
    },
    {
     "name": "stderr",
     "output_type": "stream",
     "text": [
      "\r",
      " 70%|██████▉   | 37/53 [00:12<00:06,  2.55it/s]"
     ]
    },
    {
     "name": "stdout",
     "output_type": "stream",
     "text": [
      "J1910+1256: dim = 5\n"
     ]
    },
    {
     "name": "stderr",
     "output_type": "stream",
     "text": [
      " 74%|███████▎  | 39/53 [00:12<00:04,  3.08it/s]"
     ]
    },
    {
     "name": "stdout",
     "output_type": "stream",
     "text": [
      "J1911+1347: dim = 5\n",
      "J1911-1114: dim = 5\n"
     ]
    },
    {
     "name": "stderr",
     "output_type": "stream",
     "text": [
      "\r",
      " 75%|███████▌  | 40/53 [00:13<00:03,  3.65it/s]"
     ]
    },
    {
     "name": "stdout",
     "output_type": "stream",
     "text": [
      "J1918-0642: dim = 6\n"
     ]
    },
    {
     "name": "stderr",
     "output_type": "stream",
     "text": [
      "\r",
      " 77%|███████▋  | 41/53 [00:13<00:03,  3.63it/s]"
     ]
    },
    {
     "name": "stdout",
     "output_type": "stream",
     "text": [
      "J1939+2134: dim = 7\n"
     ]
    },
    {
     "name": "stderr",
     "output_type": "stream",
     "text": [
      "\r",
      " 79%|███████▉  | 42/53 [00:14<00:06,  1.65it/s]"
     ]
    },
    {
     "name": "stdout",
     "output_type": "stream",
     "text": [
      "J1944+0907: dim = 5\n"
     ]
    },
    {
     "name": "stderr",
     "output_type": "stream",
     "text": [
      "\r",
      " 81%|████████  | 43/53 [00:15<00:05,  1.92it/s]"
     ]
    },
    {
     "name": "stdout",
     "output_type": "stream",
     "text": [
      "J1955+2908: dim = 5\n"
     ]
    },
    {
     "name": "stderr",
     "output_type": "stream",
     "text": [
      "\r",
      " 83%|████████▎ | 44/53 [00:15<00:04,  2.21it/s]"
     ]
    },
    {
     "name": "stdout",
     "output_type": "stream",
     "text": [
      "J2010-1323: dim = 5\n"
     ]
    },
    {
     "name": "stderr",
     "output_type": "stream",
     "text": [
      " 87%|████████▋ | 46/53 [00:15<00:02,  3.12it/s]"
     ]
    },
    {
     "name": "stdout",
     "output_type": "stream",
     "text": [
      "J2019+2425: dim = 5\n",
      "J2033+1734: dim = 5\n"
     ]
    },
    {
     "name": "stderr",
     "output_type": "stream",
     "text": [
      "\r",
      " 89%|████████▊ | 47/53 [00:15<00:01,  3.60it/s]"
     ]
    },
    {
     "name": "stdout",
     "output_type": "stream",
     "text": [
      "J2124-3358: dim = 6\n"
     ]
    },
    {
     "name": "stderr",
     "output_type": "stream",
     "text": [
      " 92%|█████████▏| 49/53 [00:16<00:01,  3.87it/s]"
     ]
    },
    {
     "name": "stdout",
     "output_type": "stream",
     "text": [
      "J2129-5721: dim = 5\n",
      "J2145-0750: dim = 6\n"
     ]
    },
    {
     "name": "stderr",
     "output_type": "stream",
     "text": [
      " 96%|█████████▌| 51/53 [00:16<00:00,  3.85it/s]"
     ]
    },
    {
     "name": "stdout",
     "output_type": "stream",
     "text": [
      "J2229+2643: dim = 5\n",
      "J2317+1439: dim = 5\n"
     ]
    },
    {
     "name": "stderr",
     "output_type": "stream",
     "text": [
      "100%|██████████| 53/53 [00:17<00:00,  3.05it/s]\n"
     ]
    },
    {
     "name": "stdout",
     "output_type": "stream",
     "text": [
      "J2322+2057: dim = 5\n"
     ]
    },
    {
     "name": "stderr",
     "output_type": "stream",
     "text": [
      "\r",
      "  0%|          | 0/53 [00:00<?, ?it/s]"
     ]
    },
    {
     "name": "stdout",
     "output_type": "stream",
     "text": [
      "J0030+0451: dim = 5\n"
     ]
    },
    {
     "name": "stderr",
     "output_type": "stream",
     "text": [
      "\r",
      "  2%|▏         | 1/53 [00:00<00:30,  1.68it/s]"
     ]
    },
    {
     "name": "stdout",
     "output_type": "stream",
     "text": [
      "J0034-0534: dim = 6\n"
     ]
    },
    {
     "name": "stderr",
     "output_type": "stream",
     "text": [
      "\r",
      "  4%|▍         | 2/53 [00:00<00:20,  2.45it/s]"
     ]
    },
    {
     "name": "stdout",
     "output_type": "stream",
     "text": [
      "J0218+4232: dim = 5\n"
     ]
    },
    {
     "name": "stderr",
     "output_type": "stream",
     "text": [
      "\r",
      "  6%|▌         | 3/53 [00:01<00:20,  2.41it/s]"
     ]
    },
    {
     "name": "stdout",
     "output_type": "stream",
     "text": [
      "J0437-4715: dim = 7\n"
     ]
    },
    {
     "name": "stderr",
     "output_type": "stream",
     "text": [
      "\r",
      "  8%|▊         | 4/53 [00:02<00:34,  1.40it/s]"
     ]
    },
    {
     "name": "stdout",
     "output_type": "stream",
     "text": [
      "J0610-2100: dim = 5\n"
     ]
    },
    {
     "name": "stderr",
     "output_type": "stream",
     "text": [
      "\r",
      "  9%|▉         | 5/53 [00:02<00:26,  1.80it/s]"
     ]
    },
    {
     "name": "stdout",
     "output_type": "stream",
     "text": [
      "J0613-0200: dim = 7\n"
     ]
    },
    {
     "name": "stderr",
     "output_type": "stream",
     "text": [
      "\r",
      " 11%|█▏        | 6/53 [00:05<00:57,  1.23s/it]"
     ]
    },
    {
     "name": "stdout",
     "output_type": "stream",
     "text": [
      "J0621+1002: dim = 5\n"
     ]
    },
    {
     "name": "stderr",
     "output_type": "stream",
     "text": [
      " 15%|█▌        | 8/53 [00:05<00:33,  1.35it/s]"
     ]
    },
    {
     "name": "stdout",
     "output_type": "stream",
     "text": [
      "J0711-6830: dim = 5\n",
      "J0751+1807: dim = 5\n"
     ]
    },
    {
     "name": "stderr",
     "output_type": "stream",
     "text": [
      " 19%|█▉        | 10/53 [00:06<00:21,  2.00it/s]"
     ]
    },
    {
     "name": "stdout",
     "output_type": "stream",
     "text": [
      "J0900-3144: dim = 5\n",
      "J1012+5307: dim = 7\n"
     ]
    },
    {
     "name": "stderr",
     "output_type": "stream",
     "text": [
      "\r",
      " 21%|██        | 11/53 [00:08<00:45,  1.09s/it]"
     ]
    },
    {
     "name": "stdout",
     "output_type": "stream",
     "text": [
      "J1022+1001: dim = 6\n"
     ]
    },
    {
     "name": "stderr",
     "output_type": "stream",
     "text": [
      "\r",
      " 23%|██▎       | 12/53 [00:09<00:39,  1.05it/s]"
     ]
    },
    {
     "name": "stdout",
     "output_type": "stream",
     "text": [
      "J1024-0719: dim = 5\n"
     ]
    },
    {
     "name": "stderr",
     "output_type": "stream",
     "text": [
      "\r",
      " 25%|██▍       | 13/53 [00:11<00:44,  1.12s/it]"
     ]
    },
    {
     "name": "stdout",
     "output_type": "stream",
     "text": [
      "J1045-4509: dim = 5\n"
     ]
    },
    {
     "name": "stderr",
     "output_type": "stream",
     "text": [
      " 28%|██▊       | 15/53 [00:12<00:29,  1.27it/s]"
     ]
    },
    {
     "name": "stdout",
     "output_type": "stream",
     "text": [
      "J1455-3330: dim = 5\n",
      "J1600-3053: dim = 8\n"
     ]
    },
    {
     "name": "stderr",
     "output_type": "stream",
     "text": [
      "\r",
      " 30%|███       | 16/53 [00:13<00:41,  1.13s/it]"
     ]
    },
    {
     "name": "stdout",
     "output_type": "stream",
     "text": [
      "J1603-7202: dim = 5\n"
     ]
    },
    {
     "name": "stderr",
     "output_type": "stream",
     "text": [
      "\r",
      " 32%|███▏      | 17/53 [00:14<00:32,  1.10it/s]"
     ]
    },
    {
     "name": "stdout",
     "output_type": "stream",
     "text": [
      "J1614-2230: dim = 6\n"
     ]
    },
    {
     "name": "stderr",
     "output_type": "stream",
     "text": [
      "\r",
      " 34%|███▍      | 18/53 [00:14<00:29,  1.20it/s]"
     ]
    },
    {
     "name": "stdout",
     "output_type": "stream",
     "text": [
      "J1640+2224: dim = 5\n"
     ]
    },
    {
     "name": "stderr",
     "output_type": "stream",
     "text": [
      "\r",
      " 36%|███▌      | 19/53 [00:15<00:26,  1.28it/s]"
     ]
    },
    {
     "name": "stdout",
     "output_type": "stream",
     "text": [
      "J1643-1224: dim = 7\n"
     ]
    },
    {
     "name": "stderr",
     "output_type": "stream",
     "text": [
      "\r",
      " 38%|███▊      | 20/53 [00:17<00:39,  1.19s/it]"
     ]
    },
    {
     "name": "stdout",
     "output_type": "stream",
     "text": [
      "J1713+0747: dim = 10\n"
     ]
    },
    {
     "name": "stderr",
     "output_type": "stream",
     "text": [
      "\r",
      " 40%|███▉      | 21/53 [00:24<01:27,  2.72s/it]"
     ]
    },
    {
     "name": "stdout",
     "output_type": "stream",
     "text": [
      "J1721-2457: dim = 6\n"
     ]
    },
    {
     "name": "stderr",
     "output_type": "stream",
     "text": [
      " 43%|████▎     | 23/53 [00:24<00:44,  1.49s/it]"
     ]
    },
    {
     "name": "stdout",
     "output_type": "stream",
     "text": [
      "J1730-2304: dim = 5\n",
      "J1732-5049: dim = 5\n"
     ]
    },
    {
     "name": "stderr",
     "output_type": "stream",
     "text": [
      "\r",
      " 45%|████▌     | 24/53 [00:24<00:32,  1.12s/it]"
     ]
    },
    {
     "name": "stdout",
     "output_type": "stream",
     "text": [
      "J1738+0333: dim = 5\n"
     ]
    },
    {
     "name": "stderr",
     "output_type": "stream",
     "text": [
      "\r",
      " 47%|████▋     | 25/53 [00:25<00:25,  1.10it/s]"
     ]
    },
    {
     "name": "stdout",
     "output_type": "stream",
     "text": [
      "J1741+1351: dim = 5\n"
     ]
    },
    {
     "name": "stderr",
     "output_type": "stream",
     "text": [
      "\r",
      " 49%|████▉     | 26/53 [00:25<00:19,  1.38it/s]"
     ]
    },
    {
     "name": "stdout",
     "output_type": "stream",
     "text": [
      "J1744-1134: dim = 5\n"
     ]
    },
    {
     "name": "stderr",
     "output_type": "stream",
     "text": [
      " 53%|█████▎    | 28/53 [00:28<00:21,  1.15it/s]"
     ]
    },
    {
     "name": "stdout",
     "output_type": "stream",
     "text": [
      "J1751-2857: dim = 6\n",
      "J1801-1417: dim = 5\n"
     ]
    },
    {
     "name": "stderr",
     "output_type": "stream",
     "text": [
      "\r",
      " 55%|█████▍    | 29/53 [00:28<00:16,  1.48it/s]"
     ]
    },
    {
     "name": "stdout",
     "output_type": "stream",
     "text": [
      "J1802-2124: dim = 5\n"
     ]
    },
    {
     "name": "stderr",
     "output_type": "stream",
     "text": [
      " 58%|█████▊    | 31/53 [00:28<00:10,  2.05it/s]"
     ]
    },
    {
     "name": "stdout",
     "output_type": "stream",
     "text": [
      "J1804-2717: dim = 5\n",
      "J1824-2452A: dim = 5\n"
     ]
    },
    {
     "name": "stderr",
     "output_type": "stream",
     "text": [
      "\r",
      " 60%|██████    | 32/53 [00:29<00:09,  2.19it/s]"
     ]
    },
    {
     "name": "stdout",
     "output_type": "stream",
     "text": [
      "J1843-1113: dim = 6\n"
     ]
    },
    {
     "name": "stderr",
     "output_type": "stream",
     "text": [
      " 64%|██████▍   | 34/53 [00:29<00:07,  2.63it/s]"
     ]
    },
    {
     "name": "stdout",
     "output_type": "stream",
     "text": [
      "J1853+1303: dim = 5\n",
      "J1857+0943: dim = 5\n"
     ]
    },
    {
     "name": "stderr",
     "output_type": "stream",
     "text": [
      "\r",
      " 66%|██████▌   | 35/53 [00:31<00:11,  1.55it/s]"
     ]
    },
    {
     "name": "stdout",
     "output_type": "stream",
     "text": [
      "J1903+0327: dim = 7\n"
     ]
    },
    {
     "name": "stderr",
     "output_type": "stream",
     "text": [
      "\r",
      " 68%|██████▊   | 36/53 [00:31<00:10,  1.56it/s]"
     ]
    },
    {
     "name": "stdout",
     "output_type": "stream",
     "text": [
      "J1909-3744: dim = 5\n"
     ]
    },
    {
     "name": "stderr",
     "output_type": "stream",
     "text": [
      "\r",
      " 70%|██████▉   | 37/53 [00:33<00:16,  1.00s/it]"
     ]
    },
    {
     "name": "stdout",
     "output_type": "stream",
     "text": [
      "J1910+1256: dim = 5\n"
     ]
    },
    {
     "name": "stderr",
     "output_type": "stream",
     "text": [
      " 74%|███████▎  | 39/53 [00:34<00:09,  1.55it/s]"
     ]
    },
    {
     "name": "stdout",
     "output_type": "stream",
     "text": [
      "J1911+1347: dim = 5\n"
     ]
    },
    {
     "name": "stderr",
     "output_type": "stream",
     "text": [
      "\r",
      " 75%|███████▌  | 40/53 [00:34<00:06,  1.99it/s]"
     ]
    },
    {
     "name": "stdout",
     "output_type": "stream",
     "text": [
      "J1911-1114: dim = 5\n",
      "J1918-0642: dim = 6\n"
     ]
    },
    {
     "name": "stderr",
     "output_type": "stream",
     "text": [
      "\r",
      " 77%|███████▋  | 41/53 [00:35<00:08,  1.36it/s]"
     ]
    },
    {
     "name": "stdout",
     "output_type": "stream",
     "text": [
      "J1939+2134: dim = 7\n"
     ]
    },
    {
     "name": "stderr",
     "output_type": "stream",
     "text": [
      "\r",
      " 79%|███████▉  | 42/53 [00:39<00:18,  1.70s/it]"
     ]
    },
    {
     "name": "stdout",
     "output_type": "stream",
     "text": [
      "J1944+0907: dim = 5\n"
     ]
    },
    {
     "name": "stderr",
     "output_type": "stream",
     "text": [
      "\r",
      " 81%|████████  | 43/53 [00:40<00:12,  1.29s/it]"
     ]
    },
    {
     "name": "stdout",
     "output_type": "stream",
     "text": [
      "J1955+2908: dim = 5\n"
     ]
    },
    {
     "name": "stderr",
     "output_type": "stream",
     "text": [
      "\r",
      " 83%|████████▎ | 44/53 [00:40<00:09,  1.02s/it]"
     ]
    },
    {
     "name": "stdout",
     "output_type": "stream",
     "text": [
      "J2010-1323: dim = 5\n"
     ]
    },
    {
     "name": "stderr",
     "output_type": "stream",
     "text": [
      " 87%|████████▋ | 46/53 [00:41<00:05,  1.33it/s]"
     ]
    },
    {
     "name": "stdout",
     "output_type": "stream",
     "text": [
      "J2019+2425: dim = 5\n",
      "J2033+1734: dim = 5\n"
     ]
    },
    {
     "name": "stderr",
     "output_type": "stream",
     "text": [
      "\r",
      " 89%|████████▊ | 47/53 [00:41<00:03,  1.71it/s]"
     ]
    },
    {
     "name": "stdout",
     "output_type": "stream",
     "text": [
      "J2124-3358: dim = 6\n"
     ]
    },
    {
     "name": "stderr",
     "output_type": "stream",
     "text": [
      " 92%|█████████▏| 49/53 [00:42<00:01,  2.26it/s]"
     ]
    },
    {
     "name": "stdout",
     "output_type": "stream",
     "text": [
      "J2129-5721: dim = 5\n",
      "J2145-0750: dim = 6\n"
     ]
    },
    {
     "name": "stderr",
     "output_type": "stream",
     "text": [
      " 96%|█████████▌| 51/53 [00:44<00:01,  1.37it/s]"
     ]
    },
    {
     "name": "stdout",
     "output_type": "stream",
     "text": [
      "J2229+2643: dim = 5\n",
      "J2317+1439: dim = 5\n"
     ]
    },
    {
     "name": "stderr",
     "output_type": "stream",
     "text": [
      "100%|██████████| 53/53 [00:45<00:00,  1.16it/s]"
     ]
    },
    {
     "name": "stdout",
     "output_type": "stream",
     "text": [
      "J2322+2057: dim = 5\n"
     ]
    },
    {
     "name": "stderr",
     "output_type": "stream",
     "text": [
      "\n"
     ]
    }
   ],
   "source": [
    "sampler_dict = {}\n",
    "for outdir, ds, lbl, Tspan, Nf, noisepath in zip(outdirs, datasets, labels, Tspans, Nfreqs, noisepaths):\n",
    "    ds_short = ds.replace(\"dr2\",\"\")\n",
    "    if ds_short == 'lite_unfiltered':\n",
    "        ds_short += '_53'\n",
    "    pta_dict = {}\n",
    "    sampler_dict[lbl] = {}\n",
    "    for psrname in tqdm.tqdm(psrnames):\n",
    "        \n",
    "        with open(noisepath,'r') as f:\n",
    "            noise_params = json.load(f)\n",
    "\n",
    "        filename = f'{outdir}/{psrname}_sampler.hdf5'\n",
    "        if not os.path.isfile(filename):\n",
    "            raise FileError(filename)\n",
    "        try:\n",
    "            psrpath = f'/vast/palmer/home.grace/bbl29/IPTA_DR2_analysis/data/{ds_short}_ePSRs/{psrname}.hdf5'\n",
    "            with open(psrpath, 'rb') as f:\n",
    "                psr = FilePulsar(f)\n",
    "        except:\n",
    "            psrpath = f'/vast/palmer/home.grace/bbl29/IPTA_DR2_analysis/data/{ds_short}_ePSRs/{psrname}.pkl'\n",
    "            with open(psrpath, 'rb') as f:\n",
    "                psr = pickle.load(f)\n",
    "\n",
    "        # load pickle\n",
    "        crn = common_red_noise_block(psd='powerlaw', prior='log-uniform', Tspan=Tspan,\n",
    "                                     components=Nf, gamma_val=13/3,\n",
    "                                     logmin=-18, logmax=-12, orf=None, name='crn')\n",
    "        noise = adv_noise_block(psr, full_pta_analysis=True, dataset='full', psr_model=True,\n",
    "                                tm_marg=True, tm_svd=True)\n",
    "        signals = crn + noise\n",
    "        pta = signal_base.PTA([signals(psr)])\n",
    "        pta.set_default_params(noise_params)\n",
    "        pta_dict[psrname] = pta\n",
    "\n",
    "        # make prior\n",
    "        prior = Prior()\n",
    "        for i in range(len(pta.params)):\n",
    "            prior.add_parameter(pta.param_names[i], dist=get_prior_distr(pta.params[i]))\n",
    "        print(f'{psrname}: dim = {prior.dimensionality()}')\n",
    "\n",
    "        # get sampler\n",
    "        sampler = Sampler(prior, pta.get_lnlikelihood, filepath=filename, pass_dict=False)\n",
    "        if sampler.explored:\n",
    "            sampler_dict[lbl][psrname] = sampler"
   ]
  },
  {
   "cell_type": "code",
   "execution_count": 9,
   "id": "1a702aa1",
   "metadata": {},
   "outputs": [],
   "source": [
    "# bayes fac with weights\n",
    "def bayes_fac(array, weights=None, max=-4, min=-10, nbins=None):\n",
    "    prior = 1/(max-min)\n",
    "    if nbins is None:\n",
    "        nbins=int(max-min)\n",
    "    bins = np.linspace(min, max, nbins+1)\n",
    "    hist, _ = np.histogram(array, bins=bins, density=True, weights=weights)\n",
    "    if hist[0] == 0:\n",
    "        return np.nan\n",
    "    else:\n",
    "        return prior/hist[0]"
   ]
  },
  {
   "cell_type": "code",
   "execution_count": 10,
   "id": "e428e886",
   "metadata": {},
   "outputs": [],
   "source": [
    "def FLike(sampler_dict, psrnames, bin_num=100, psr_masks=None, bootstrap_idx=None):\n",
    "    bins = np.linspace(-18,-12,bin_num)\n",
    "    hist = np.zeros((len(psrnames),len(bins)-1))\n",
    "    for jj,p in enumerate(psrnames):\n",
    "        # histogram getting chain of psr[p][:, gw_log10_A] param\n",
    "        idx = sampler_dict[p].prior.keys.index('crn_log10_A')\n",
    "        points, log_w, _ = sampler_dict[p].posterior()\n",
    "        if psr_masks is None:\n",
    "            hist[jj,:] = np.histogram(points[:,idx], bins=bins, density=True,\n",
    "                                      weights=np.exp(log_w))[0] + 1e-20\n",
    "        else:\n",
    "            mask = psr_masks[p][bootstrap_idx]\n",
    "            hist[jj,:] = np.histogram(points[mask][:,idx], bins=bins, density=True,\n",
    "                                      weights=np.exp(log_w[mask]))[0] + 1e-20\n",
    "    finalhist = np.prod(hist,axis=0)\n",
    "    finalhist_dist = scipy.stats.rv_histogram([finalhist,bins])\n",
    "    return finalhist_dist#, hist"
   ]
  },
  {
   "cell_type": "code",
   "execution_count": 11,
   "id": "6fb88096",
   "metadata": {},
   "outputs": [],
   "source": [
    "def compute_DF(psr_drop, sampler_dict, psrnames, bootstrap_realizations=None, bootstrap_idx=None,\n",
    "               FLike_bin_num=61, SD_nbins=None):\n",
    "    # first compute SD BF\n",
    "    s = sampler_dict[psr_drop]\n",
    "    points, log_w, _ = s.posterior()\n",
    "    if bootstrap_realizations is not None:\n",
    "        # use independent bootstrap realization\n",
    "        mask = bootstrap_realizations[psr_drop][bootstrap_idx]\n",
    "    else:\n",
    "        # use all samples\n",
    "        mask = np.ones(len(points), dtype=bool)\n",
    "    idx = s.prior.keys.index('crn_log10_A')\n",
    "    BF = bayes_fac(points[mask][:,idx], weights=np.exp(log_w[mask]), max=-12, min=-18, nbins=SD_nbins)\n",
    "    # next, compute the FL with N-1 pulsars\n",
    "    psrnames_minus_dropped = np.unique([p for p in psrnames if not p == psr_drop])\n",
    "    log10A_dist_H1 = FLike(sampler_dict, psrnames_minus_dropped, bin_num=FLike_bin_num,\n",
    "                           psr_masks=bootstrap_realizations, bootstrap_idx=bootstrap_idx)\n",
    "    # compute the prior\n",
    "    log10A_prior = 1/6\n",
    "    # evaluate at all points\n",
    "    brac_p = np.average(log10A_dist_H1.pdf(points[mask][:,idx])/log10A_prior, weights=np.exp(log_w[mask]))\n",
    "    return BF*brac_p"
   ]
  },
  {
   "cell_type": "markdown",
   "id": "31ce7e94",
   "metadata": {},
   "source": [
    "Here is a first go doing a straightforward computation"
   ]
  },
  {
   "cell_type": "code",
   "execution_count": 21,
   "id": "aa661dfa",
   "metadata": {
    "scrolled": true
   },
   "outputs": [
    {
     "name": "stdout",
     "output_type": "stream",
     "text": [
      "DR2 Lite\n",
      "Full DR2\n"
     ]
    }
   ],
   "source": [
    "DFs = {}\n",
    "for ds, lbl in zip(datasets, labels):\n",
    "    print(lbl)\n",
    "    DFs[lbl] = {}\n",
    "    for i, psr_drop in enumerate(FL_psrnames):\n",
    "        DFs[lbl][psr_drop] = compute_DF(psr_drop, sampler_dict[lbl], psrnames)\n",
    "    DFs[lbl] = {k.replace('-',r'$-$'): v for k, v in sorted(DFs[lbl].items(), key=lambda item: item[1],\n",
    "                                                            reverse=True)}"
   ]
  },
  {
   "cell_type": "code",
   "execution_count": 32,
   "id": "b798287d",
   "metadata": {
    "scrolled": true
   },
   "outputs": [
    {
     "data": {
      "text/plain": [
       "{'DR2 Lite': {'J0437$-$4715': 19.560556447827484,\n",
       "  'J1857+0943': 12.547113680652794,\n",
       "  'J1744$-$1134': 10.841940891033701,\n",
       "  'J0613$-$0200': 6.747788314530357,\n",
       "  'J2145$-$0750': 5.008312978051926,\n",
       "  'J1022+1001': 3.0705784354311643,\n",
       "  'J1911+1347': 2.780612525041689,\n",
       "  'J0030+0451': 2.762895394626805,\n",
       "  'J0218+4232': 2.2210714329674133,\n",
       "  'J1918$-$0642': 1.5945468929706748,\n",
       "  'J2010$-$1323': 1.500545581054471,\n",
       "  'J0711$-$6830': 1.446896819381966,\n",
       "  'J1455$-$3330': 1.2808970815214547,\n",
       "  'J1643$-$1224': 1.2649120155019977,\n",
       "  'J2129$-$5721': 1.2611699173160982,\n",
       "  'J1741+1351': 1.210096889517223,\n",
       "  'J1853+1303': 1.1966803244827307,\n",
       "  'J0034$-$0534': 1.1912103488005503,\n",
       "  'J1024$-$0719': 1.184348490965646,\n",
       "  'J0751+1807': 1.1508029642811322,\n",
       "  'J2317+1439': 1.1484430626674818,\n",
       "  'J2229+2643': 1.0885676768181072,\n",
       "  'J0621+1002': 1.0847234078492127,\n",
       "  'J1603$-$7202': 1.0797291364373953,\n",
       "  'J1843$-$1113': 1.0752777368154574,\n",
       "  'J1600$-$3053': 1.0714364983024063,\n",
       "  'J1751$-$2857': 1.066356597788956,\n",
       "  'J1801$-$1417': 1.0539604357706058,\n",
       "  'J1955+2908': 1.0457304960119145,\n",
       "  'J1804$-$2717': 1.0434492698799251,\n",
       "  'J1732$-$5049': 1.0368751222865868,\n",
       "  'J1802$-$2124': 1.0337792402153692,\n",
       "  'J0900$-$3144': 1.0289978109578048,\n",
       "  'J1824$-$2452A': 1.0282826758768662,\n",
       "  'J1738+0333': 1.0275464523207425,\n",
       "  'J2322+2057': 1.015102294141441,\n",
       "  'J2124$-$3358': 1.0103091722799955,\n",
       "  'J1910+1256': 1.0054003631662582,\n",
       "  'J1903+0327': 0.9942925236473509,\n",
       "  'J1721$-$2457': 0.9762998137204395,\n",
       "  'J2019+2425': 0.9719843940605992,\n",
       "  'J1939+2134': 0.9525459406489072,\n",
       "  'J1944+0907': 0.9459380822503729,\n",
       "  'J1730$-$2304': 0.9270822832803388,\n",
       "  'J0610$-$2100': 0.9256776988660725,\n",
       "  'J2033+1734': 0.9246366383148423,\n",
       "  'J1911$-$1114': 0.9206610053121158,\n",
       "  'J1045$-$4509': 0.9160832220790501,\n",
       "  'J1614$-$2230': 0.8355122955053831,\n",
       "  'J1012+5307': 0.7027187335976344,\n",
       "  'J1640+2224': 0.3742620622116887,\n",
       "  'J1713+0747': 0.17979129289798104,\n",
       "  'J1909$-$3744': 0.0005661310861315943},\n",
       " 'Full DR2': {'J0613$-$0200': 24.22200985231066,\n",
       "  'J0437$-$4715': 13.838560506271726,\n",
       "  'J1600$-$3053': 13.502798386652767,\n",
       "  'J1857+0943': 12.620750239815894,\n",
       "  'J1918$-$0642': 9.554626468770405,\n",
       "  'J0030+0451': 6.259026609674345,\n",
       "  'J1713+0747': 4.937646581860038,\n",
       "  'J1853+1303': 4.428869937908286,\n",
       "  'J1744$-$1134': 2.9466751934647113,\n",
       "  'J0711$-$6830': 2.4593483473461215,\n",
       "  'J1911+1347': 2.2674181644256293,\n",
       "  'J2124$-$3358': 2.110107957898971,\n",
       "  'J1455$-$3330': 1.8264406207541168,\n",
       "  'J0218+4232': 1.6502105751015799,\n",
       "  'J2010$-$1323': 1.5505480175241537,\n",
       "  'J2145$-$0750': 1.3781932010817428,\n",
       "  'J1022+1001': 1.2804476464262082,\n",
       "  'J1730$-$2304': 1.2706077595053469,\n",
       "  'J2129$-$5721': 1.2634573517804735,\n",
       "  'J1741+1351': 1.2444957936983525,\n",
       "  'J1738+0333': 1.1674019992882652,\n",
       "  'J0034$-$0534': 1.1250503480847096,\n",
       "  'J1903+0327': 1.081561064198504,\n",
       "  'J2229+2643': 1.0702278182766827,\n",
       "  'J1843$-$1113': 1.0553157560688449,\n",
       "  'J1802$-$2124': 1.0518570985803188,\n",
       "  'J1804$-$2717': 1.0391909532649308,\n",
       "  'J1751$-$2857': 1.0318325689771293,\n",
       "  'J0900$-$3144': 1.02321528420301,\n",
       "  'J1911$-$1114': 1.0191613932219272,\n",
       "  'J1045$-$4509': 1.0150976262999682,\n",
       "  'J1643$-$1224': 1.0059749341355493,\n",
       "  'J0621+1002': 1.0019944221364514,\n",
       "  'J1732$-$5049': 0.9905210265035335,\n",
       "  'J1955+2908': 0.9871226925524089,\n",
       "  'J1910+1256': 0.9865910745171819,\n",
       "  'J0751+1807': 0.9801632927758432,\n",
       "  'J2019+2425': 0.9795046234726376,\n",
       "  'J1801$-$1417': 0.9696959784446113,\n",
       "  'J1640+2224': 0.96948428788595,\n",
       "  'J0610$-$2100': 0.9665977389322927,\n",
       "  'J2033+1734': 0.9501318926243092,\n",
       "  'J1603$-$7202': 0.9475258869947695,\n",
       "  'J2322+2057': 0.9346382143755126,\n",
       "  'J1944+0907': 0.9257884882190509,\n",
       "  'J1824$-$2452A': 0.9083945348948859,\n",
       "  'J1721$-$2457': 0.8699917319684676,\n",
       "  'J1939+2134': 0.8697796989484771,\n",
       "  'J1614$-$2230': 0.860734568874719,\n",
       "  'J1012+5307': 0.8529584850062738,\n",
       "  'J1024$-$0719': 0.8193897009474201,\n",
       "  'J1909$-$3744': 0.48941294166367383,\n",
       "  'J2317+1439': 0.26436071074160367}}"
      ]
     },
     "execution_count": 32,
     "metadata": {},
     "output_type": "execute_result"
    }
   ],
   "source": [
    "DFs"
   ]
  },
  {
   "cell_type": "code",
   "execution_count": 36,
   "id": "8f4bd7c2",
   "metadata": {},
   "outputs": [
    {
     "data": {
      "text/plain": [
       "['DR2 Lite', 'Full DR2']"
      ]
     },
     "execution_count": 36,
     "metadata": {},
     "output_type": "execute_result"
    }
   ],
   "source": [
    "labels"
   ]
  },
  {
   "cell_type": "code",
   "execution_count": 40,
   "id": "f54532f7",
   "metadata": {},
   "outputs": [
    {
     "data": {
      "image/png": "[encoded data removed]",
      "text/plain": [
       "<Figure size 3000x1200 with 1 Axes>"
      ]
     },
     "metadata": {},
     "output_type": "display_data"
    }
   ],
   "source": [
    "fig, ax = plt.subplots(figsize=(10,4),dpi=300)\n",
    "ax.axhline(1, alpha=0.5, lw=1, color='k')\n",
    "for i, psr_drop in enumerate(DFs['Full DR2']):\n",
    "    ax.scatter([i], [DFs['DR2 Lite'][psr_drop]], color='C1')\n",
    "    ax.scatter([i], [DFs['Full DR2'][psr_drop]], ec='C0', fc='none', lw=2)\n",
    "ax.set_xticks(np.arange(len(FL_psrnames)))\n",
    "ax.set_xticklabels(list(DFs['Full DR2'].keys()), rotation=90, fontsize='large')\n",
    "ax.set_ylabel('CRN Dropout Factor', fontsize='x-large')\n",
    "ax.semilogy()\n",
    "ax.grid(which='both',lw=0.3)\n",
    "fig.tight_layout()\n",
    "fig.savefig(f'{figsave}/dropout.png', bbox_inches='tight', dpi=300)"
   ]
  },
  {
   "cell_type": "markdown",
   "id": "98a7db7b",
   "metadata": {},
   "source": [
    "It's important to compute uncertainties on the dropout factors. We can do this by following the procedure from the main paper to compute the uncertainty via bootstrapping.\n",
    "\n",
    "For a given bootstrap realization, each individual pulsar’s MCMC chain was re-sampled with replacement. With the re-sampled CP posteriors for each pulsar, the factorized likelihood approach pieces together the dropout factor by iteratively removing pulsars from the array, and all by using bootstrapped pulsar CP posterior chains. This process was repeated for $10^3$ bootstrap realizations across $25$ different combinations of meta-parameters used in the factorized-likelihood dropout factor calculation. The end result is that the median dropout factor and 95 percent confidence intervals were computed from a total of $2.5 \\times 10^4$ factorized likelihood dropout values for each pulsar.\n",
    "\n",
    "Here are how we will change the meta-parameters:\n",
    "- Number of FLike bins (61, 71, 81, 91, 101)\n",
    "- Number of bins for Savage Dickey (6, 12, 18, 24, 30)\n",
    "\n",
    "We will draw 1000 samples in every independent bootstrap realization. We will pre-compute the realizations as well."
   ]
  },
  {
   "cell_type": "code",
   "execution_count": 12,
   "id": "cae2d29e",
   "metadata": {},
   "outputs": [],
   "source": [
    "# precompute bootstrap realizations\n",
    "np.random.seed(3000)\n",
    "n_samples_bootstrap = 1000\n",
    "n_bootstraps = 1000\n",
    "psr_masks = {}\n",
    "for ds, lbl in zip(datasets, labels):\n",
    "    psr_masks[lbl] = {}\n",
    "    for psrname in FL_psrnames:\n",
    "        psr_masks[lbl][psrname] = np.zeros((n_bootstraps,n_samples_bootstrap), dtype=int)\n",
    "        s = sampler_dict[lbl][psrname]\n",
    "        points, _, _ = s.posterior()\n",
    "        for i in range(n_bootstraps):\n",
    "            mask = np.random.choice(np.arange(len(points)), size=n_samples_bootstrap)\n",
    "            psr_masks[lbl][psrname][i] = mask"
   ]
  },
  {
   "cell_type": "code",
   "execution_count": 13,
   "id": "d60841c1",
   "metadata": {},
   "outputs": [],
   "source": [
    "from tqdm.contrib import itertools"
   ]
  },
  {
   "cell_type": "code",
   "execution_count": 14,
   "id": "37b718f4",
   "metadata": {},
   "outputs": [
    {
     "data": {
      "text/plain": [
       "['dr2lite_unfiltered', 'dr2full']"
      ]
     },
     "execution_count": 14,
     "metadata": {},
     "output_type": "execute_result"
    }
   ],
   "source": [
    "datasets"
   ]
  },
  {
   "cell_type": "code",
   "execution_count": 15,
   "id": "3dc7cd16",
   "metadata": {
    "scrolled": true
   },
   "outputs": [
    {
     "name": "stdout",
     "output_type": "stream",
     "text": [
      "DR2 Lite\n"
     ]
    },
    {
     "name": "stderr",
     "output_type": "stream",
     "text": [
      "  9%|▉         | 5/53 [00:00<00:01, 41.16it/s]"
     ]
    },
    {
     "name": "stdout",
     "output_type": "stream",
     "text": [
      "loading dr2lite_unfiltered J0030+0451 from file\n",
      "loading dr2lite_unfiltered J0034-0534 from file\n",
      "loading dr2lite_unfiltered J0218+4232 from file\n",
      "loading dr2lite_unfiltered J0437-4715 from file\n",
      "loading dr2lite_unfiltered J0610-2100 from file\n",
      "loading dr2lite_unfiltered J0613-0200 from file\n",
      "loading dr2lite_unfiltered J0621+1002 from file\n",
      "loading dr2lite_unfiltered J0711-6830 from file\n",
      "loading dr2lite_unfiltered J0751+1807 from file\n"
     ]
    },
    {
     "name": "stderr",
     "output_type": "stream",
     "text": [
      " 28%|██▊       | 15/53 [00:00<00:00, 38.87it/s]"
     ]
    },
    {
     "name": "stdout",
     "output_type": "stream",
     "text": [
      "loading dr2lite_unfiltered J0900-3144 from file\n",
      "loading dr2lite_unfiltered J1012+5307 from file\n",
      "loading dr2lite_unfiltered J1022+1001 from file\n",
      "loading dr2lite_unfiltered J1024-0719 from file\n",
      "loading dr2lite_unfiltered J1045-4509 from file\n",
      "loading dr2lite_unfiltered J1455-3330 from file\n",
      "loading dr2lite_unfiltered J1600-3053 from file\n",
      "loading dr2lite_unfiltered J1603-7202 from file\n"
     ]
    },
    {
     "name": "stderr",
     "output_type": "stream",
     "text": [
      " 43%|████▎     | 23/53 [00:00<00:00, 37.00it/s]"
     ]
    },
    {
     "name": "stdout",
     "output_type": "stream",
     "text": [
      "loading dr2lite_unfiltered J1614-2230 from file\n",
      "loading dr2lite_unfiltered J1640+2224 from file\n",
      "loading dr2lite_unfiltered J1643-1224 from file\n",
      "loading dr2lite_unfiltered J1713+0747 from file\n",
      "loading dr2lite_unfiltered J1721-2457 from file\n",
      "loading dr2lite_unfiltered J1730-2304 from file\n",
      "loading dr2lite_unfiltered J1732-5049 from file\n"
     ]
    },
    {
     "name": "stderr",
     "output_type": "stream",
     "text": [
      "\r",
      " 51%|█████     | 27/53 [00:00<00:00, 36.52it/s]"
     ]
    },
    {
     "name": "stdout",
     "output_type": "stream",
     "text": [
      "loading dr2lite_unfiltered J1738+0333 from file\n",
      "loading dr2lite_unfiltered J1741+1351 from file\n",
      "loading dr2lite_unfiltered J1744-1134 from file\n",
      "loading dr2lite_unfiltered J1751-2857 from file\n",
      "loading dr2lite_unfiltered J1801-1417 from file\n",
      "loading dr2lite_unfiltered J1802-2124 from file\n"
     ]
    },
    {
     "data": {
      "application/vnd.jupyter.widget-view+json": {
       "model_id": "",
       "version_major": 2,
       "version_minor": 0
      },
      "text/plain": [
       "  0%|          | 0/25000 [00:00<?, ?it/s]"
      ]
     },
     "metadata": {},
     "output_type": "display_data"
    },
    {
     "name": "stderr",
     "output_type": "stream",
     "text": [
      " 58%|█████▊    | 31/53 [42:34<1:13:23, 200.15s/it]"
     ]
    },
    {
     "data": {
      "application/vnd.jupyter.widget-view+json": {
       "model_id": "",
       "version_major": 2,
       "version_minor": 0
      },
      "text/plain": [
       "  0%|          | 0/25000 [00:00<?, ?it/s]"
      ]
     },
     "metadata": {},
     "output_type": "display_data"
    },
    {
     "name": "stderr",
     "output_type": "stream",
     "text": [
      "\r",
      " 60%|██████    | 32/53 [1:25:10<2:33:03, 437.32s/it]"
     ]
    },
    {
     "data": {
      "application/vnd.jupyter.widget-view+json": {
       "model_id": "",
       "version_major": 2,
       "version_minor": 0
      },
      "text/plain": [
       "  0%|          | 0/25000 [00:00<?, ?it/s]"
      ]
     },
     "metadata": {},
     "output_type": "display_data"
    },
    {
     "name": "stderr",
     "output_type": "stream",
     "text": [
      "\r",
      " 62%|██████▏   | 33/53 [2:08:20<3:56:00, 708.04s/it]"
     ]
    },
    {
     "data": {
      "application/vnd.jupyter.widget-view+json": {
       "model_id": "",
       "version_major": 2,
       "version_minor": 0
      },
      "text/plain": [
       "  0%|          | 0/25000 [00:00<?, ?it/s]"
      ]
     },
     "metadata": {},
     "output_type": "display_data"
    },
    {
     "name": "stderr",
     "output_type": "stream",
     "text": [
      "\r",
      " 64%|██████▍   | 34/53 [2:50:25<5:11:49, 984.69s/it]"
     ]
    },
    {
     "data": {
      "application/vnd.jupyter.widget-view+json": {
       "model_id": "",
       "version_major": 2,
       "version_minor": 0
      },
      "text/plain": [
       "  0%|          | 0/25000 [00:00<?, ?it/s]"
      ]
     },
     "metadata": {},
     "output_type": "display_data"
    },
    {
     "name": "stderr",
     "output_type": "stream",
     "text": [
      "\r",
      " 66%|██████▌   | 35/53 [3:32:33<6:18:08, 1260.44s/it]"
     ]
    },
    {
     "data": {
      "application/vnd.jupyter.widget-view+json": {
       "model_id": "4f55aef051264ad8b8eed3db673d0fa1",
       "version_major": 2,
       "version_minor": 0
      },
      "text/plain": [
       "  0%|          | 0/25000 [00:00<?, ?it/s]"
      ]
     },
     "metadata": {},
     "output_type": "display_data"
    },
    {
     "name": "stderr",
     "output_type": "stream",
     "text": [
      "IOPub message rate exceeded.\n",
      "The notebook server will temporarily stop sending output\n",
      "to the client in order to avoid crashing it.\n",
      "To change this limit, set the config variable\n",
      "`--NotebookApp.iopub_msg_rate_limit`.\n",
      "\n",
      "Current values:\n",
      "NotebookApp.iopub_msg_rate_limit=1000.0 (msgs/sec)\n",
      "NotebookApp.rate_limit_window=3.0 (secs)\n",
      "\n",
      "IOPub message rate exceeded.\n",
      "The notebook server will temporarily stop sending output\n",
      "to the client in order to avoid crashing it.\n",
      "To change this limit, set the config variable\n",
      "`--NotebookApp.iopub_msg_rate_limit`.\n",
      "\n",
      "Current values:\n",
      "NotebookApp.iopub_msg_rate_limit=1000.0 (msgs/sec)\n",
      "NotebookApp.rate_limit_window=3.0 (secs)\n",
      "\n",
      "IOPub message rate exceeded.\n",
      "The notebook server will temporarily stop sending output\n",
      "to the client in order to avoid crashing it.\n",
      "To change this limit, set the config variable\n",
      "`--NotebookApp.iopub_msg_rate_limit`.\n",
      "\n",
      "Current values:\n",
      "NotebookApp.iopub_msg_rate_limit=1000.0 (msgs/sec)\n",
      "NotebookApp.rate_limit_window=3.0 (secs)\n",
      "\n",
      " 70%|██████▉   | 37/53 [4:57:09<7:46:43, 1750.22s/it]"
     ]
    },
    {
     "data": {
      "application/vnd.jupyter.widget-view+json": {
       "model_id": "",
       "version_major": 2,
       "version_minor": 0
      },
      "text/plain": [
       "  0%|          | 0/25000 [00:00<?, ?it/s]"
      ]
     },
     "metadata": {},
     "output_type": "display_data"
    },
    {
     "name": "stderr",
     "output_type": "stream",
     "text": [
      "\r",
      " 72%|███████▏  | 38/53 [5:38:45<8:02:52, 1931.52s/it]"
     ]
    },
    {
     "data": {
      "application/vnd.jupyter.widget-view+json": {
       "model_id": "",
       "version_major": 2,
       "version_minor": 0
      },
      "text/plain": [
       "  0%|          | 0/25000 [00:00<?, ?it/s]"
      ]
     },
     "metadata": {},
     "output_type": "display_data"
    },
    {
     "name": "stderr",
     "output_type": "stream",
     "text": [
      "IOPub message rate exceeded.\n",
      "The notebook server will temporarily stop sending output\n",
      "to the client in order to avoid crashing it.\n",
      "To change this limit, set the config variable\n",
      "`--NotebookApp.iopub_msg_rate_limit`.\n",
      "\n",
      "Current values:\n",
      "NotebookApp.iopub_msg_rate_limit=1000.0 (msgs/sec)\n",
      "NotebookApp.rate_limit_window=3.0 (secs)\n",
      "\n",
      " 74%|███████▎  | 39/53 [6:20:08<8:03:53, 2073.82s/it]"
     ]
    },
    {
     "data": {
      "application/vnd.jupyter.widget-view+json": {
       "model_id": "4e5d1e3b1c3646b1aee4dfc9ec65f852",
       "version_major": 2,
       "version_minor": 0
      },
      "text/plain": [
       "  0%|          | 0/25000 [00:00<?, ?it/s]"
      ]
     },
     "metadata": {},
     "output_type": "display_data"
    },
    {
     "name": "stderr",
     "output_type": "stream",
     "text": [
      "IOPub message rate exceeded.\n",
      "The notebook server will temporarily stop sending output\n",
      "to the client in order to avoid crashing it.\n",
      "To change this limit, set the config variable\n",
      "`--NotebookApp.iopub_msg_rate_limit`.\n",
      "\n",
      "Current values:\n",
      "NotebookApp.iopub_msg_rate_limit=1000.0 (msgs/sec)\n",
      "NotebookApp.rate_limit_window=3.0 (secs)\n",
      "\n",
      "IOPub message rate exceeded.\n",
      "The notebook server will temporarily stop sending output\n",
      "to the client in order to avoid crashing it.\n",
      "To change this limit, set the config variable\n",
      "`--NotebookApp.iopub_msg_rate_limit`.\n",
      "\n",
      "Current values:\n",
      "NotebookApp.iopub_msg_rate_limit=1000.0 (msgs/sec)\n",
      "NotebookApp.rate_limit_window=3.0 (secs)\n",
      "\n",
      "IOPub message rate exceeded.\n",
      "The notebook server will temporarily stop sending output\n",
      "to the client in order to avoid crashing it.\n",
      "To change this limit, set the config variable\n",
      "`--NotebookApp.iopub_msg_rate_limit`.\n",
      "\n",
      "Current values:\n",
      "NotebookApp.iopub_msg_rate_limit=1000.0 (msgs/sec)\n",
      "NotebookApp.rate_limit_window=3.0 (secs)\n",
      "\n",
      "IOPub message rate exceeded.\n",
      "The notebook server will temporarily stop sending output\n",
      "to the client in order to avoid crashing it.\n",
      "To change this limit, set the config variable\n",
      "`--NotebookApp.iopub_msg_rate_limit`.\n",
      "\n",
      "Current values:\n",
      "NotebookApp.iopub_msg_rate_limit=1000.0 (msgs/sec)\n",
      "NotebookApp.rate_limit_window=3.0 (secs)\n",
      "\n",
      "IOPub message rate exceeded.\n",
      "The notebook server will temporarily stop sending output\n",
      "to the client in order to avoid crashing it.\n",
      "To change this limit, set the config variable\n",
      "`--NotebookApp.iopub_msg_rate_limit`.\n",
      "\n",
      "Current values:\n",
      "NotebookApp.iopub_msg_rate_limit=1000.0 (msgs/sec)\n",
      "NotebookApp.rate_limit_window=3.0 (secs)\n",
      "\n",
      "IOPub message rate exceeded.\n",
      "The notebook server will temporarily stop sending output\n",
      "to the client in order to avoid crashing it.\n",
      "To change this limit, set the config variable\n",
      "`--NotebookApp.iopub_msg_rate_limit`.\n",
      "\n",
      "Current values:\n",
      "NotebookApp.iopub_msg_rate_limit=1000.0 (msgs/sec)\n",
      "NotebookApp.rate_limit_window=3.0 (secs)\n",
      "\n",
      "IOPub message rate exceeded.\n",
      "The notebook server will temporarily stop sending output\n",
      "to the client in order to avoid crashing it.\n",
      "To change this limit, set the config variable\n",
      "`--NotebookApp.iopub_msg_rate_limit`.\n",
      "\n",
      "Current values:\n",
      "NotebookApp.iopub_msg_rate_limit=1000.0 (msgs/sec)\n",
      "NotebookApp.rate_limit_window=3.0 (secs)\n",
      "\n",
      "IOPub message rate exceeded.\n",
      "The notebook server will temporarily stop sending output\n",
      "to the client in order to avoid crashing it.\n",
      "To change this limit, set the config variable\n",
      "`--NotebookApp.iopub_msg_rate_limit`.\n",
      "\n",
      "Current values:\n",
      "NotebookApp.iopub_msg_rate_limit=1000.0 (msgs/sec)\n",
      "NotebookApp.rate_limit_window=3.0 (secs)\n",
      "\n",
      "IOPub message rate exceeded.\n",
      "The notebook server will temporarily stop sending output\n",
      "to the client in order to avoid crashing it.\n",
      "To change this limit, set the config variable\n",
      "`--NotebookApp.iopub_msg_rate_limit`.\n",
      "\n",
      "Current values:\n",
      "NotebookApp.iopub_msg_rate_limit=1000.0 (msgs/sec)\n",
      "NotebookApp.rate_limit_window=3.0 (secs)\n",
      "\n",
      "IOPub message rate exceeded.\n",
      "The notebook server will temporarily stop sending output\n",
      "to the client in order to avoid crashing it.\n",
      "To change this limit, set the config variable\n",
      "`--NotebookApp.iopub_msg_rate_limit`.\n",
      "\n",
      "Current values:\n",
      "NotebookApp.iopub_msg_rate_limit=1000.0 (msgs/sec)\n",
      "NotebookApp.rate_limit_window=3.0 (secs)\n",
      "\n",
      "IOPub message rate exceeded.\n",
      "The notebook server will temporarily stop sending output\n",
      "to the client in order to avoid crashing it.\n",
      "To change this limit, set the config variable\n",
      "`--NotebookApp.iopub_msg_rate_limit`.\n",
      "\n",
      "Current values:\n",
      "NotebookApp.iopub_msg_rate_limit=1000.0 (msgs/sec)\n",
      "NotebookApp.rate_limit_window=3.0 (secs)\n",
      "\n",
      "IOPub message rate exceeded.\n",
      "The notebook server will temporarily stop sending output\n",
      "to the client in order to avoid crashing it.\n",
      "To change this limit, set the config variable\n",
      "`--NotebookApp.iopub_msg_rate_limit`.\n",
      "\n",
      "Current values:\n",
      "NotebookApp.iopub_msg_rate_limit=1000.0 (msgs/sec)\n",
      "NotebookApp.rate_limit_window=3.0 (secs)\n",
      "\n",
      " 81%|████████  | 43/53 [9:09:15<6:42:45, 2416.53s/it]"
     ]
    },
    {
     "data": {
      "application/vnd.jupyter.widget-view+json": {
       "model_id": "d683807e406f41b8bdf50900584f4b4d",
       "version_major": 2,
       "version_minor": 0
      },
      "text/plain": [
       "  0%|          | 0/25000 [00:00<?, ?it/s]"
      ]
     },
     "metadata": {},
     "output_type": "display_data"
    },
    {
     "name": "stderr",
     "output_type": "stream",
     "text": [
      "IOPub message rate exceeded.\n",
      "The notebook server will temporarily stop sending output\n",
      "to the client in order to avoid crashing it.\n",
      "To change this limit, set the config variable\n",
      "`--NotebookApp.iopub_msg_rate_limit`.\n",
      "\n",
      "Current values:\n",
      "NotebookApp.iopub_msg_rate_limit=1000.0 (msgs/sec)\n",
      "NotebookApp.rate_limit_window=3.0 (secs)\n",
      "\n",
      "IOPub message rate exceeded.\n",
      "The notebook server will temporarily stop sending output\n",
      "to the client in order to avoid crashing it.\n",
      "To change this limit, set the config variable\n",
      "`--NotebookApp.iopub_msg_rate_limit`.\n",
      "\n",
      "Current values:\n",
      "NotebookApp.iopub_msg_rate_limit=1000.0 (msgs/sec)\n",
      "NotebookApp.rate_limit_window=3.0 (secs)\n",
      "\n",
      "IOPub message rate exceeded.\n",
      "The notebook server will temporarily stop sending output\n",
      "to the client in order to avoid crashing it.\n",
      "To change this limit, set the config variable\n",
      "`--NotebookApp.iopub_msg_rate_limit`.\n",
      "\n",
      "Current values:\n",
      "NotebookApp.iopub_msg_rate_limit=1000.0 (msgs/sec)\n",
      "NotebookApp.rate_limit_window=3.0 (secs)\n",
      "\n",
      "IOPub message rate exceeded.\n",
      "The notebook server will temporarily stop sending output\n",
      "to the client in order to avoid crashing it.\n",
      "To change this limit, set the config variable\n",
      "`--NotebookApp.iopub_msg_rate_limit`.\n",
      "\n",
      "Current values:\n",
      "NotebookApp.iopub_msg_rate_limit=1000.0 (msgs/sec)\n",
      "NotebookApp.rate_limit_window=3.0 (secs)\n",
      "\n",
      "IOPub message rate exceeded.\n",
      "The notebook server will temporarily stop sending output\n",
      "to the client in order to avoid crashing it.\n",
      "To change this limit, set the config variable\n",
      "`--NotebookApp.iopub_msg_rate_limit`.\n",
      "\n",
      "Current values:\n",
      "NotebookApp.iopub_msg_rate_limit=1000.0 (msgs/sec)\n",
      "NotebookApp.rate_limit_window=3.0 (secs)\n",
      "\n",
      "IOPub message rate exceeded.\n",
      "The notebook server will temporarily stop sending output\n",
      "to the client in order to avoid crashing it.\n",
      "To change this limit, set the config variable\n",
      "`--NotebookApp.iopub_msg_rate_limit`.\n",
      "\n",
      "Current values:\n",
      "NotebookApp.iopub_msg_rate_limit=1000.0 (msgs/sec)\n",
      "NotebookApp.rate_limit_window=3.0 (secs)\n",
      "\n",
      "IOPub message rate exceeded.\n",
      "The notebook server will temporarily stop sending output\n",
      "to the client in order to avoid crashing it.\n",
      "To change this limit, set the config variable\n",
      "`--NotebookApp.iopub_msg_rate_limit`.\n",
      "\n",
      "Current values:\n",
      "NotebookApp.iopub_msg_rate_limit=1000.0 (msgs/sec)\n",
      "NotebookApp.rate_limit_window=3.0 (secs)\n",
      "\n",
      "IOPub message rate exceeded.\n",
      "The notebook server will temporarily stop sending output\n",
      "to the client in order to avoid crashing it.\n",
      "To change this limit, set the config variable\n",
      "`--NotebookApp.iopub_msg_rate_limit`.\n",
      "\n",
      "Current values:\n",
      "NotebookApp.iopub_msg_rate_limit=1000.0 (msgs/sec)\n",
      "NotebookApp.rate_limit_window=3.0 (secs)\n",
      "\n",
      "IOPub message rate exceeded.\n",
      "The notebook server will temporarily stop sending output\n",
      "to the client in order to avoid crashing it.\n",
      "To change this limit, set the config variable\n",
      "`--NotebookApp.iopub_msg_rate_limit`.\n",
      "\n",
      "Current values:\n",
      "NotebookApp.iopub_msg_rate_limit=1000.0 (msgs/sec)\n",
      "NotebookApp.rate_limit_window=3.0 (secs)\n",
      "\n",
      "IOPub message rate exceeded.\n",
      "The notebook server will temporarily stop sending output\n",
      "to the client in order to avoid crashing it.\n",
      "To change this limit, set the config variable\n",
      "`--NotebookApp.iopub_msg_rate_limit`.\n",
      "\n",
      "Current values:\n",
      "NotebookApp.iopub_msg_rate_limit=1000.0 (msgs/sec)\n",
      "NotebookApp.rate_limit_window=3.0 (secs)\n",
      "\n",
      "IOPub message rate exceeded.\n",
      "The notebook server will temporarily stop sending output\n",
      "to the client in order to avoid crashing it.\n",
      "To change this limit, set the config variable\n",
      "`--NotebookApp.iopub_msg_rate_limit`.\n",
      "\n",
      "Current values:\n",
      "NotebookApp.iopub_msg_rate_limit=1000.0 (msgs/sec)\n",
      "NotebookApp.rate_limit_window=3.0 (secs)\n",
      "\n",
      "IOPub message rate exceeded.\n",
      "The notebook server will temporarily stop sending output\n",
      "to the client in order to avoid crashing it.\n",
      "To change this limit, set the config variable\n",
      "`--NotebookApp.iopub_msg_rate_limit`.\n",
      "\n",
      "Current values:\n",
      "NotebookApp.iopub_msg_rate_limit=1000.0 (msgs/sec)\n",
      "NotebookApp.rate_limit_window=3.0 (secs)\n",
      "\n",
      "IOPub message rate exceeded.\n",
      "The notebook server will temporarily stop sending output\n",
      "to the client in order to avoid crashing it.\n",
      "To change this limit, set the config variable\n",
      "`--NotebookApp.iopub_msg_rate_limit`.\n",
      "\n",
      "Current values:\n",
      "NotebookApp.iopub_msg_rate_limit=1000.0 (msgs/sec)\n",
      "NotebookApp.rate_limit_window=3.0 (secs)\n",
      "\n",
      "IOPub message rate exceeded.\n",
      "The notebook server will temporarily stop sending output\n",
      "to the client in order to avoid crashing it.\n",
      "To change this limit, set the config variable\n",
      "`--NotebookApp.iopub_msg_rate_limit`.\n",
      "\n",
      "Current values:\n",
      "NotebookApp.iopub_msg_rate_limit=1000.0 (msgs/sec)\n",
      "NotebookApp.rate_limit_window=3.0 (secs)\n",
      "\n",
      "IOPub message rate exceeded.\n",
      "The notebook server will temporarily stop sending output\n",
      "to the client in order to avoid crashing it.\n",
      "To change this limit, set the config variable\n",
      "`--NotebookApp.iopub_msg_rate_limit`.\n",
      "\n",
      "Current values:\n",
      "NotebookApp.iopub_msg_rate_limit=1000.0 (msgs/sec)\n",
      "NotebookApp.rate_limit_window=3.0 (secs)\n",
      "\n",
      "IOPub message rate exceeded.\n",
      "The notebook server will temporarily stop sending output\n",
      "to the client in order to avoid crashing it.\n",
      "To change this limit, set the config variable\n",
      "`--NotebookApp.iopub_msg_rate_limit`.\n",
      "\n",
      "Current values:\n",
      "NotebookApp.iopub_msg_rate_limit=1000.0 (msgs/sec)\n",
      "NotebookApp.rate_limit_window=3.0 (secs)\n",
      "\n",
      "IOPub message rate exceeded.\n",
      "The notebook server will temporarily stop sending output\n",
      "to the client in order to avoid crashing it.\n",
      "To change this limit, set the config variable\n",
      "`--NotebookApp.iopub_msg_rate_limit`.\n",
      "\n",
      "Current values:\n",
      "NotebookApp.iopub_msg_rate_limit=1000.0 (msgs/sec)\n",
      "NotebookApp.rate_limit_window=3.0 (secs)\n",
      "\n",
      "IOPub message rate exceeded.\n",
      "The notebook server will temporarily stop sending output\n",
      "to the client in order to avoid crashing it.\n",
      "To change this limit, set the config variable\n",
      "`--NotebookApp.iopub_msg_rate_limit`.\n",
      "\n",
      "Current values:\n",
      "NotebookApp.iopub_msg_rate_limit=1000.0 (msgs/sec)\n",
      "NotebookApp.rate_limit_window=3.0 (secs)\n",
      "\n",
      "IOPub message rate exceeded.\n",
      "The notebook server will temporarily stop sending output\n",
      "to the client in order to avoid crashing it.\n",
      "To change this limit, set the config variable\n",
      "`--NotebookApp.iopub_msg_rate_limit`.\n",
      "\n",
      "Current values:\n",
      "NotebookApp.iopub_msg_rate_limit=1000.0 (msgs/sec)\n",
      "NotebookApp.rate_limit_window=3.0 (secs)\n",
      "\n",
      "IOPub message rate exceeded.\n",
      "The notebook server will temporarily stop sending output\n",
      "to the client in order to avoid crashing it.\n",
      "To change this limit, set the config variable\n",
      "`--NotebookApp.iopub_msg_rate_limit`.\n",
      "\n",
      "Current values:\n",
      "NotebookApp.iopub_msg_rate_limit=1000.0 (msgs/sec)\n",
      "NotebookApp.rate_limit_window=3.0 (secs)\n",
      "\n",
      "IOPub message rate exceeded.\n",
      "The notebook server will temporarily stop sending output\n",
      "to the client in order to avoid crashing it.\n",
      "To change this limit, set the config variable\n",
      "`--NotebookApp.iopub_msg_rate_limit`.\n",
      "\n",
      "Current values:\n",
      "NotebookApp.iopub_msg_rate_limit=1000.0 (msgs/sec)\n",
      "NotebookApp.rate_limit_window=3.0 (secs)\n",
      "\n",
      "IOPub message rate exceeded.\n",
      "The notebook server will temporarily stop sending output\n",
      "to the client in order to avoid crashing it.\n",
      "To change this limit, set the config variable\n",
      "`--NotebookApp.iopub_msg_rate_limit`.\n",
      "\n",
      "Current values:\n",
      "NotebookApp.iopub_msg_rate_limit=1000.0 (msgs/sec)\n",
      "NotebookApp.rate_limit_window=3.0 (secs)\n",
      "\n",
      "IOPub message rate exceeded.\n",
      "The notebook server will temporarily stop sending output\n",
      "to the client in order to avoid crashing it.\n",
      "To change this limit, set the config variable\n",
      "`--NotebookApp.iopub_msg_rate_limit`.\n",
      "\n",
      "Current values:\n",
      "NotebookApp.iopub_msg_rate_limit=1000.0 (msgs/sec)\n",
      "NotebookApp.rate_limit_window=3.0 (secs)\n",
      "\n",
      "IOPub message rate exceeded.\n",
      "The notebook server will temporarily stop sending output\n",
      "to the client in order to avoid crashing it.\n",
      "To change this limit, set the config variable\n",
      "`--NotebookApp.iopub_msg_rate_limit`.\n",
      "\n",
      "Current values:\n",
      "NotebookApp.iopub_msg_rate_limit=1000.0 (msgs/sec)\n",
      "NotebookApp.rate_limit_window=3.0 (secs)\n",
      "\n",
      "IOPub message rate exceeded.\n",
      "The notebook server will temporarily stop sending output\n",
      "to the client in order to avoid crashing it.\n",
      "To change this limit, set the config variable\n",
      "`--NotebookApp.iopub_msg_rate_limit`.\n",
      "\n",
      "Current values:\n",
      "NotebookApp.iopub_msg_rate_limit=1000.0 (msgs/sec)\n",
      "NotebookApp.rate_limit_window=3.0 (secs)\n",
      "\n",
      "IOPub message rate exceeded.\n",
      "The notebook server will temporarily stop sending output\n",
      "to the client in order to avoid crashing it.\n",
      "To change this limit, set the config variable\n",
      "`--NotebookApp.iopub_msg_rate_limit`.\n",
      "\n",
      "Current values:\n",
      "NotebookApp.iopub_msg_rate_limit=1000.0 (msgs/sec)\n",
      "NotebookApp.rate_limit_window=3.0 (secs)\n",
      "\n"
     ]
    },
    {
     "name": "stderr",
     "output_type": "stream",
     "text": [
      "IOPub message rate exceeded.\n",
      "The notebook server will temporarily stop sending output\n",
      "to the client in order to avoid crashing it.\n",
      "To change this limit, set the config variable\n",
      "`--NotebookApp.iopub_msg_rate_limit`.\n",
      "\n",
      "Current values:\n",
      "NotebookApp.iopub_msg_rate_limit=1000.0 (msgs/sec)\n",
      "NotebookApp.rate_limit_window=3.0 (secs)\n",
      "\n",
      "IOPub message rate exceeded.\n",
      "The notebook server will temporarily stop sending output\n",
      "to the client in order to avoid crashing it.\n",
      "To change this limit, set the config variable\n",
      "`--NotebookApp.iopub_msg_rate_limit`.\n",
      "\n",
      "Current values:\n",
      "NotebookApp.iopub_msg_rate_limit=1000.0 (msgs/sec)\n",
      "NotebookApp.rate_limit_window=3.0 (secs)\n",
      "\n",
      "IOPub message rate exceeded.\n",
      "The notebook server will temporarily stop sending output\n",
      "to the client in order to avoid crashing it.\n",
      "To change this limit, set the config variable\n",
      "`--NotebookApp.iopub_msg_rate_limit`.\n",
      "\n",
      "Current values:\n",
      "NotebookApp.iopub_msg_rate_limit=1000.0 (msgs/sec)\n",
      "NotebookApp.rate_limit_window=3.0 (secs)\n",
      "\n",
      "IOPub message rate exceeded.\n",
      "The notebook server will temporarily stop sending output\n",
      "to the client in order to avoid crashing it.\n",
      "To change this limit, set the config variable\n",
      "`--NotebookApp.iopub_msg_rate_limit`.\n",
      "\n",
      "Current values:\n",
      "NotebookApp.iopub_msg_rate_limit=1000.0 (msgs/sec)\n",
      "NotebookApp.rate_limit_window=3.0 (secs)\n",
      "\n",
      "IOPub message rate exceeded.\n",
      "The notebook server will temporarily stop sending output\n",
      "to the client in order to avoid crashing it.\n",
      "To change this limit, set the config variable\n",
      "`--NotebookApp.iopub_msg_rate_limit`.\n",
      "\n",
      "Current values:\n",
      "NotebookApp.iopub_msg_rate_limit=1000.0 (msgs/sec)\n",
      "NotebookApp.rate_limit_window=3.0 (secs)\n",
      "\n",
      "IOPub message rate exceeded.\n",
      "The notebook server will temporarily stop sending output\n",
      "to the client in order to avoid crashing it.\n",
      "To change this limit, set the config variable\n",
      "`--NotebookApp.iopub_msg_rate_limit`.\n",
      "\n",
      "Current values:\n",
      "NotebookApp.iopub_msg_rate_limit=1000.0 (msgs/sec)\n",
      "NotebookApp.rate_limit_window=3.0 (secs)\n",
      "\n",
      "IOPub message rate exceeded.\n",
      "The notebook server will temporarily stop sending output\n",
      "to the client in order to avoid crashing it.\n",
      "To change this limit, set the config variable\n",
      "`--NotebookApp.iopub_msg_rate_limit`.\n",
      "\n",
      "Current values:\n",
      "NotebookApp.iopub_msg_rate_limit=1000.0 (msgs/sec)\n",
      "NotebookApp.rate_limit_window=3.0 (secs)\n",
      "\n",
      "IOPub message rate exceeded.\n",
      "The notebook server will temporarily stop sending output\n",
      "to the client in order to avoid crashing it.\n",
      "To change this limit, set the config variable\n",
      "`--NotebookApp.iopub_msg_rate_limit`.\n",
      "\n",
      "Current values:\n",
      "NotebookApp.iopub_msg_rate_limit=1000.0 (msgs/sec)\n",
      "NotebookApp.rate_limit_window=3.0 (secs)\n",
      "\n",
      "IOPub message rate exceeded.\n",
      "The notebook server will temporarily stop sending output\n",
      "to the client in order to avoid crashing it.\n",
      "To change this limit, set the config variable\n",
      "`--NotebookApp.iopub_msg_rate_limit`.\n",
      "\n",
      "Current values:\n",
      "NotebookApp.iopub_msg_rate_limit=1000.0 (msgs/sec)\n",
      "NotebookApp.rate_limit_window=3.0 (secs)\n",
      "\n",
      "IOPub message rate exceeded.\n",
      "The notebook server will temporarily stop sending output\n",
      "to the client in order to avoid crashing it.\n",
      "To change this limit, set the config variable\n",
      "`--NotebookApp.iopub_msg_rate_limit`.\n",
      "\n",
      "Current values:\n",
      "NotebookApp.iopub_msg_rate_limit=1000.0 (msgs/sec)\n",
      "NotebookApp.rate_limit_window=3.0 (secs)\n",
      "\n",
      "IOPub message rate exceeded.\n",
      "The notebook server will temporarily stop sending output\n",
      "to the client in order to avoid crashing it.\n",
      "To change this limit, set the config variable\n",
      "`--NotebookApp.iopub_msg_rate_limit`.\n",
      "\n",
      "Current values:\n",
      "NotebookApp.iopub_msg_rate_limit=1000.0 (msgs/sec)\n",
      "NotebookApp.rate_limit_window=3.0 (secs)\n",
      "\n",
      "IOPub message rate exceeded.\n",
      "The notebook server will temporarily stop sending output\n",
      "to the client in order to avoid crashing it.\n",
      "To change this limit, set the config variable\n",
      "`--NotebookApp.iopub_msg_rate_limit`.\n",
      "\n",
      "Current values:\n",
      "NotebookApp.iopub_msg_rate_limit=1000.0 (msgs/sec)\n",
      "NotebookApp.rate_limit_window=3.0 (secs)\n",
      "\n",
      "IOPub message rate exceeded.\n",
      "The notebook server will temporarily stop sending output\n",
      "to the client in order to avoid crashing it.\n",
      "To change this limit, set the config variable\n",
      "`--NotebookApp.iopub_msg_rate_limit`.\n",
      "\n",
      "Current values:\n",
      "NotebookApp.iopub_msg_rate_limit=1000.0 (msgs/sec)\n",
      "NotebookApp.rate_limit_window=3.0 (secs)\n",
      "\n",
      " 96%|█████████▌| 51/53 [14:47:47<1:23:57, 2519.00s/it]"
     ]
    },
    {
     "data": {
      "application/vnd.jupyter.widget-view+json": {
       "model_id": "64c9ea8873754034bbc6ad35063395bc",
       "version_major": 2,
       "version_minor": 0
      },
      "text/plain": [
       "  0%|          | 0/25000 [00:00<?, ?it/s]"
      ]
     },
     "metadata": {},
     "output_type": "display_data"
    },
    {
     "name": "stderr",
     "output_type": "stream",
     "text": [
      "IOPub message rate exceeded.\n",
      "The notebook server will temporarily stop sending output\n",
      "to the client in order to avoid crashing it.\n",
      "To change this limit, set the config variable\n",
      "`--NotebookApp.iopub_msg_rate_limit`.\n",
      "\n",
      "Current values:\n",
      "NotebookApp.iopub_msg_rate_limit=1000.0 (msgs/sec)\n",
      "NotebookApp.rate_limit_window=3.0 (secs)\n",
      "\n",
      "IOPub message rate exceeded.\n",
      "The notebook server will temporarily stop sending output\n",
      "to the client in order to avoid crashing it.\n",
      "To change this limit, set the config variable\n",
      "`--NotebookApp.iopub_msg_rate_limit`.\n",
      "\n",
      "Current values:\n",
      "NotebookApp.iopub_msg_rate_limit=1000.0 (msgs/sec)\n",
      "NotebookApp.rate_limit_window=3.0 (secs)\n",
      "\n",
      "IOPub message rate exceeded.\n",
      "The notebook server will temporarily stop sending output\n",
      "to the client in order to avoid crashing it.\n",
      "To change this limit, set the config variable\n",
      "`--NotebookApp.iopub_msg_rate_limit`.\n",
      "\n",
      "Current values:\n",
      "NotebookApp.iopub_msg_rate_limit=1000.0 (msgs/sec)\n",
      "NotebookApp.rate_limit_window=3.0 (secs)\n",
      "\n",
      "IOPub message rate exceeded.\n",
      "The notebook server will temporarily stop sending output\n",
      "to the client in order to avoid crashing it.\n",
      "To change this limit, set the config variable\n",
      "`--NotebookApp.iopub_msg_rate_limit`.\n",
      "\n",
      "Current values:\n",
      "NotebookApp.iopub_msg_rate_limit=1000.0 (msgs/sec)\n",
      "NotebookApp.rate_limit_window=3.0 (secs)\n",
      "\n",
      "IOPub message rate exceeded.\n",
      "The notebook server will temporarily stop sending output\n",
      "to the client in order to avoid crashing it.\n",
      "To change this limit, set the config variable\n",
      "`--NotebookApp.iopub_msg_rate_limit`.\n",
      "\n",
      "Current values:\n",
      "NotebookApp.iopub_msg_rate_limit=1000.0 (msgs/sec)\n",
      "NotebookApp.rate_limit_window=3.0 (secs)\n",
      "\n",
      "IOPub message rate exceeded.\n",
      "The notebook server will temporarily stop sending output\n",
      "to the client in order to avoid crashing it.\n",
      "To change this limit, set the config variable\n",
      "`--NotebookApp.iopub_msg_rate_limit`.\n",
      "\n",
      "Current values:\n",
      "NotebookApp.iopub_msg_rate_limit=1000.0 (msgs/sec)\n",
      "NotebookApp.rate_limit_window=3.0 (secs)\n",
      "\n",
      "IOPub message rate exceeded.\n",
      "The notebook server will temporarily stop sending output\n",
      "to the client in order to avoid crashing it.\n",
      "To change this limit, set the config variable\n",
      "`--NotebookApp.iopub_msg_rate_limit`.\n",
      "\n",
      "Current values:\n",
      "NotebookApp.iopub_msg_rate_limit=1000.0 (msgs/sec)\n",
      "NotebookApp.rate_limit_window=3.0 (secs)\n",
      "\n",
      "IOPub message rate exceeded.\n",
      "The notebook server will temporarily stop sending output\n",
      "to the client in order to avoid crashing it.\n",
      "To change this limit, set the config variable\n",
      "`--NotebookApp.iopub_msg_rate_limit`.\n",
      "\n",
      "Current values:\n",
      "NotebookApp.iopub_msg_rate_limit=1000.0 (msgs/sec)\n",
      "NotebookApp.rate_limit_window=3.0 (secs)\n",
      "\n",
      "IOPub message rate exceeded.\n",
      "The notebook server will temporarily stop sending output\n",
      "to the client in order to avoid crashing it.\n",
      "To change this limit, set the config variable\n",
      "`--NotebookApp.iopub_msg_rate_limit`.\n",
      "\n",
      "Current values:\n",
      "NotebookApp.iopub_msg_rate_limit=1000.0 (msgs/sec)\n",
      "NotebookApp.rate_limit_window=3.0 (secs)\n",
      "\n",
      "IOPub message rate exceeded.\n",
      "The notebook server will temporarily stop sending output\n",
      "to the client in order to avoid crashing it.\n",
      "To change this limit, set the config variable\n",
      "`--NotebookApp.iopub_msg_rate_limit`.\n",
      "\n",
      "Current values:\n",
      "NotebookApp.iopub_msg_rate_limit=1000.0 (msgs/sec)\n",
      "NotebookApp.rate_limit_window=3.0 (secs)\n",
      "\n",
      "IOPub message rate exceeded.\n",
      "The notebook server will temporarily stop sending output\n",
      "to the client in order to avoid crashing it.\n",
      "To change this limit, set the config variable\n",
      "`--NotebookApp.iopub_msg_rate_limit`.\n",
      "\n",
      "Current values:\n",
      "NotebookApp.iopub_msg_rate_limit=1000.0 (msgs/sec)\n",
      "NotebookApp.rate_limit_window=3.0 (secs)\n",
      "\n",
      "IOPub message rate exceeded.\n",
      "The notebook server will temporarily stop sending output\n",
      "to the client in order to avoid crashing it.\n",
      "To change this limit, set the config variable\n",
      "`--NotebookApp.iopub_msg_rate_limit`.\n",
      "\n",
      "Current values:\n",
      "NotebookApp.iopub_msg_rate_limit=1000.0 (msgs/sec)\n",
      "NotebookApp.rate_limit_window=3.0 (secs)\n",
      "\n",
      "IOPub message rate exceeded.\n",
      "The notebook server will temporarily stop sending output\n",
      "to the client in order to avoid crashing it.\n",
      "To change this limit, set the config variable\n",
      "`--NotebookApp.iopub_msg_rate_limit`.\n",
      "\n",
      "Current values:\n",
      "NotebookApp.iopub_msg_rate_limit=1000.0 (msgs/sec)\n",
      "NotebookApp.rate_limit_window=3.0 (secs)\n",
      "\n",
      "IOPub message rate exceeded.\n",
      "The notebook server will temporarily stop sending output\n",
      "to the client in order to avoid crashing it.\n",
      "To change this limit, set the config variable\n",
      "`--NotebookApp.iopub_msg_rate_limit`.\n",
      "\n",
      "Current values:\n",
      "NotebookApp.iopub_msg_rate_limit=1000.0 (msgs/sec)\n",
      "NotebookApp.rate_limit_window=3.0 (secs)\n",
      "\n",
      "IOPub message rate exceeded.\n",
      "The notebook server will temporarily stop sending output\n",
      "to the client in order to avoid crashing it.\n",
      "To change this limit, set the config variable\n",
      "`--NotebookApp.iopub_msg_rate_limit`.\n",
      "\n",
      "Current values:\n",
      "NotebookApp.iopub_msg_rate_limit=1000.0 (msgs/sec)\n",
      "NotebookApp.rate_limit_window=3.0 (secs)\n",
      "\n",
      "IOPub message rate exceeded.\n",
      "The notebook server will temporarily stop sending output\n",
      "to the client in order to avoid crashing it.\n",
      "To change this limit, set the config variable\n",
      "`--NotebookApp.iopub_msg_rate_limit`.\n",
      "\n",
      "Current values:\n",
      "NotebookApp.iopub_msg_rate_limit=1000.0 (msgs/sec)\n",
      "NotebookApp.rate_limit_window=3.0 (secs)\n",
      "\n",
      "IOPub message rate exceeded.\n",
      "The notebook server will temporarily stop sending output\n",
      "to the client in order to avoid crashing it.\n",
      "To change this limit, set the config variable\n",
      "`--NotebookApp.iopub_msg_rate_limit`.\n",
      "\n",
      "Current values:\n",
      "NotebookApp.iopub_msg_rate_limit=1000.0 (msgs/sec)\n",
      "NotebookApp.rate_limit_window=3.0 (secs)\n",
      "\n",
      "IOPub message rate exceeded.\n",
      "The notebook server will temporarily stop sending output\n",
      "to the client in order to avoid crashing it.\n",
      "To change this limit, set the config variable\n",
      "`--NotebookApp.iopub_msg_rate_limit`.\n",
      "\n",
      "Current values:\n",
      "NotebookApp.iopub_msg_rate_limit=1000.0 (msgs/sec)\n",
      "NotebookApp.rate_limit_window=3.0 (secs)\n",
      "\n",
      "IOPub message rate exceeded.\n",
      "The notebook server will temporarily stop sending output\n",
      "to the client in order to avoid crashing it.\n",
      "To change this limit, set the config variable\n",
      "`--NotebookApp.iopub_msg_rate_limit`.\n",
      "\n",
      "Current values:\n",
      "NotebookApp.iopub_msg_rate_limit=1000.0 (msgs/sec)\n",
      "NotebookApp.rate_limit_window=3.0 (secs)\n",
      "\n",
      "IOPub message rate exceeded.\n",
      "The notebook server will temporarily stop sending output\n",
      "to the client in order to avoid crashing it.\n",
      "To change this limit, set the config variable\n",
      "`--NotebookApp.iopub_msg_rate_limit`.\n",
      "\n",
      "Current values:\n",
      "NotebookApp.iopub_msg_rate_limit=1000.0 (msgs/sec)\n",
      "NotebookApp.rate_limit_window=3.0 (secs)\n",
      "\n",
      "IOPub message rate exceeded.\n",
      "The notebook server will temporarily stop sending output\n",
      "to the client in order to avoid crashing it.\n",
      "To change this limit, set the config variable\n",
      "`--NotebookApp.iopub_msg_rate_limit`.\n",
      "\n",
      "Current values:\n",
      "NotebookApp.iopub_msg_rate_limit=1000.0 (msgs/sec)\n",
      "NotebookApp.rate_limit_window=3.0 (secs)\n",
      "\n",
      "IOPub message rate exceeded.\n",
      "The notebook server will temporarily stop sending output\n",
      "to the client in order to avoid crashing it.\n",
      "To change this limit, set the config variable\n",
      "`--NotebookApp.iopub_msg_rate_limit`.\n",
      "\n",
      "Current values:\n",
      "NotebookApp.iopub_msg_rate_limit=1000.0 (msgs/sec)\n",
      "NotebookApp.rate_limit_window=3.0 (secs)\n",
      "\n",
      "IOPub message rate exceeded.\n",
      "The notebook server will temporarily stop sending output\n",
      "to the client in order to avoid crashing it.\n",
      "To change this limit, set the config variable\n",
      "`--NotebookApp.iopub_msg_rate_limit`.\n",
      "\n",
      "Current values:\n",
      "NotebookApp.iopub_msg_rate_limit=1000.0 (msgs/sec)\n",
      "NotebookApp.rate_limit_window=3.0 (secs)\n",
      "\n",
      "IOPub message rate exceeded.\n",
      "The notebook server will temporarily stop sending output\n",
      "to the client in order to avoid crashing it.\n",
      "To change this limit, set the config variable\n",
      "`--NotebookApp.iopub_msg_rate_limit`.\n",
      "\n",
      "Current values:\n",
      "NotebookApp.iopub_msg_rate_limit=1000.0 (msgs/sec)\n",
      "NotebookApp.rate_limit_window=3.0 (secs)\n",
      "\n",
      "IOPub message rate exceeded.\n",
      "The notebook server will temporarily stop sending output\n",
      "to the client in order to avoid crashing it.\n",
      "To change this limit, set the config variable\n",
      "`--NotebookApp.iopub_msg_rate_limit`.\n",
      "\n",
      "Current values:\n",
      "NotebookApp.iopub_msg_rate_limit=1000.0 (msgs/sec)\n",
      "NotebookApp.rate_limit_window=3.0 (secs)\n",
      "\n",
      " 17%|█▋        | 9/53 [2:08:43<13:05:42, 1071.42s/it]"
     ]
    },
    {
     "data": {
      "application/vnd.jupyter.widget-view+json": {
       "model_id": "",
       "version_major": 2,
       "version_minor": 0
      },
      "text/plain": [
       "  0%|          | 0/25000 [00:00<?, ?it/s]"
      ]
     },
     "metadata": {},
     "output_type": "display_data"
    },
    {
     "name": "stderr",
     "output_type": "stream",
     "text": [
      "\r",
      " 19%|█▉        | 10/53 [2:51:21<16:35:38, 1389.27s/it]"
     ]
    },
    {
     "name": "stdout",
     "output_type": "stream",
     "text": [
      "loading dr2full J1012+5307 from file\n",
      "loading dr2full J1022+1001 from file\n",
      "loading dr2full J1024-0719 from file\n"
     ]
    },
    {
     "data": {
      "application/vnd.jupyter.widget-view+json": {
       "model_id": "",
       "version_major": 2,
       "version_minor": 0
      },
      "text/plain": [
       "  0%|          | 0/25000 [00:00<?, ?it/s]"
      ]
     },
     "metadata": {},
     "output_type": "display_data"
    },
    {
     "name": "stderr",
     "output_type": "stream",
     "text": [
      "\r",
      " 26%|██▋       | 14/53 [3:34:06<10:35:39, 977.95s/it] "
     ]
    },
    {
     "name": "stdout",
     "output_type": "stream",
     "text": [
      "loading dr2full J1455-3330 from file\n",
      "loading dr2full J1600-3053 from file\n"
     ]
    },
    {
     "data": {
      "application/vnd.jupyter.widget-view+json": {
       "model_id": "",
       "version_major": 2,
       "version_minor": 0
      },
      "text/plain": [
       "  0%|          | 0/25000 [00:00<?, ?it/s]"
      ]
     },
     "metadata": {},
     "output_type": "display_data"
    },
    {
     "name": "stderr",
     "output_type": "stream",
     "text": [
      "\r",
      " 32%|███▏      | 17/53 [4:16:43<9:18:52, 931.45s/it] "
     ]
    },
    {
     "data": {
      "application/vnd.jupyter.widget-view+json": {
       "model_id": "",
       "version_major": 2,
       "version_minor": 0
      },
      "text/plain": [
       "  0%|          | 0/25000 [00:00<?, ?it/s]"
      ]
     },
     "metadata": {},
     "output_type": "display_data"
    },
    {
     "name": "stderr",
     "output_type": "stream",
     "text": [
      "IOPub message rate exceeded.\n",
      "The notebook server will temporarily stop sending output\n",
      "to the client in order to avoid crashing it.\n",
      "To change this limit, set the config variable\n",
      "`--NotebookApp.iopub_msg_rate_limit`.\n",
      "\n",
      "Current values:\n",
      "NotebookApp.iopub_msg_rate_limit=1000.0 (msgs/sec)\n",
      "NotebookApp.rate_limit_window=3.0 (secs)\n",
      "\n",
      "IOPub message rate exceeded.\n",
      "The notebook server will temporarily stop sending output\n",
      "to the client in order to avoid crashing it.\n",
      "To change this limit, set the config variable\n",
      "`--NotebookApp.iopub_msg_rate_limit`.\n",
      "\n",
      "Current values:\n",
      "NotebookApp.iopub_msg_rate_limit=1000.0 (msgs/sec)\n",
      "NotebookApp.rate_limit_window=3.0 (secs)\n",
      "\n",
      " 34%|███▍      | 18/53 [5:00:12<11:30:09, 1183.12s/it]"
     ]
    },
    {
     "name": "stdout",
     "output_type": "stream",
     "text": [
      "loading dr2full J1640+2224 from file\n",
      "loading dr2full J1643-1224 from file\n",
      "loading dr2full J1713+0747 from file\n"
     ]
    },
    {
     "data": {
      "application/vnd.jupyter.widget-view+json": {
       "model_id": "",
       "version_major": 2,
       "version_minor": 0
      },
      "text/plain": [
       "  0%|          | 0/25000 [00:00<?, ?it/s]"
      ]
     },
     "metadata": {},
     "output_type": "display_data"
    },
    {
     "name": "stderr",
     "output_type": "stream",
     "text": [
      "\r",
      " 42%|████▏     | 22/53 [5:43:03<8:02:23, 933.68s/it]  "
     ]
    },
    {
     "data": {
      "application/vnd.jupyter.widget-view+json": {
       "model_id": "",
       "version_major": 2,
       "version_minor": 0
      },
      "text/plain": [
       "  0%|          | 0/25000 [00:00<?, ?it/s]"
      ]
     },
     "metadata": {},
     "output_type": "display_data"
    },
    {
     "name": "stderr",
     "output_type": "stream",
     "text": [
      "\r",
      " 43%|████▎     | 23/53 [6:25:43<9:41:56, 1163.89s/it]"
     ]
    },
    {
     "data": {
      "application/vnd.jupyter.widget-view+json": {
       "model_id": "",
       "version_major": 2,
       "version_minor": 0
      },
      "text/plain": [
       "  0%|          | 0/25000 [00:00<?, ?it/s]"
      ]
     },
     "metadata": {},
     "output_type": "display_data"
    },
    {
     "name": "stderr",
     "output_type": "stream",
     "text": [
      "\r",
      " 45%|████▌     | 24/53 [7:08:18<11:15:33, 1397.71s/it]"
     ]
    },
    {
     "data": {
      "application/vnd.jupyter.widget-view+json": {
       "model_id": "",
       "version_major": 2,
       "version_minor": 0
      },
      "text/plain": [
       "  0%|          | 0/25000 [00:00<?, ?it/s]"
      ]
     },
     "metadata": {},
     "output_type": "display_data"
    },
    {
     "name": "stderr",
     "output_type": "stream",
     "text": [
      "\r",
      " 47%|████▋     | 25/53 [7:50:53<12:36:52, 1621.86s/it]"
     ]
    },
    {
     "data": {
      "application/vnd.jupyter.widget-view+json": {
       "model_id": "",
       "version_major": 2,
       "version_minor": 0
      },
      "text/plain": [
       "  0%|          | 0/25000 [00:00<?, ?it/s]"
      ]
     },
     "metadata": {},
     "output_type": "display_data"
    },
    {
     "name": "stderr",
     "output_type": "stream",
     "text": [
      "\r",
      " 49%|████▉     | 26/53 [8:33:33<13:41:22, 1825.27s/it]"
     ]
    },
    {
     "name": "stdout",
     "output_type": "stream",
     "text": [
      "loading dr2full J1744-1134 from file\n"
     ]
    },
    {
     "data": {
      "application/vnd.jupyter.widget-view+json": {
       "model_id": "",
       "version_major": 2,
       "version_minor": 0
      },
      "text/plain": [
       "  0%|          | 0/25000 [00:00<?, ?it/s]"
      ]
     },
     "metadata": {},
     "output_type": "display_data"
    },
    {
     "name": "stderr",
     "output_type": "stream",
     "text": [
      "\r",
      " 53%|█████▎    | 28/53 [9:16:12<11:13:36, 1616.65s/it]"
     ]
    },
    {
     "data": {
      "application/vnd.jupyter.widget-view+json": {
       "model_id": "",
       "version_major": 2,
       "version_minor": 0
      },
      "text/plain": [
       "  0%|          | 0/25000 [00:00<?, ?it/s]"
      ]
     },
     "metadata": {},
     "output_type": "display_data"
    },
    {
     "name": "stderr",
     "output_type": "stream",
     "text": [
      "\r",
      " 55%|█████▍    | 29/53 [9:58:51<12:07:27, 1818.65s/it]"
     ]
    },
    {
     "data": {
      "application/vnd.jupyter.widget-view+json": {
       "model_id": "",
       "version_major": 2,
       "version_minor": 0
      },
      "text/plain": [
       "  0%|          | 0/25000 [00:00<?, ?it/s]"
      ]
     },
     "metadata": {},
     "output_type": "display_data"
    },
    {
     "name": "stderr",
     "output_type": "stream",
     "text": [
      "\r",
      " 57%|█████▋    | 30/53 [10:41:21<12:42:58, 1990.35s/it]"
     ]
    },
    {
     "data": {
      "application/vnd.jupyter.widget-view+json": {
       "model_id": "e67ef7569b104a45b1f80091fed0665a",
       "version_major": 2,
       "version_minor": 0
      },
      "text/plain": [
       "  0%|          | 0/25000 [00:00<?, ?it/s]"
      ]
     },
     "metadata": {},
     "output_type": "display_data"
    },
    {
     "name": "stderr",
     "output_type": "stream",
     "text": [
      "IOPub message rate exceeded.\n",
      "The notebook server will temporarily stop sending output\n",
      "to the client in order to avoid crashing it.\n",
      "To change this limit, set the config variable\n",
      "`--NotebookApp.iopub_msg_rate_limit`.\n",
      "\n",
      "Current values:\n",
      "NotebookApp.iopub_msg_rate_limit=1000.0 (msgs/sec)\n",
      "NotebookApp.rate_limit_window=3.0 (secs)\n",
      "\n",
      "IOPub message rate exceeded.\n",
      "The notebook server will temporarily stop sending output\n",
      "to the client in order to avoid crashing it.\n",
      "To change this limit, set the config variable\n",
      "`--NotebookApp.iopub_msg_rate_limit`.\n",
      "\n",
      "Current values:\n",
      "NotebookApp.iopub_msg_rate_limit=1000.0 (msgs/sec)\n",
      "NotebookApp.rate_limit_window=3.0 (secs)\n",
      "\n",
      "IOPub message rate exceeded.\n",
      "The notebook server will temporarily stop sending output\n",
      "to the client in order to avoid crashing it.\n",
      "To change this limit, set the config variable\n",
      "`--NotebookApp.iopub_msg_rate_limit`.\n",
      "\n",
      "Current values:\n",
      "NotebookApp.iopub_msg_rate_limit=1000.0 (msgs/sec)\n",
      "NotebookApp.rate_limit_window=3.0 (secs)\n",
      "\n",
      "IOPub message rate exceeded.\n",
      "The notebook server will temporarily stop sending output\n",
      "to the client in order to avoid crashing it.\n",
      "To change this limit, set the config variable\n",
      "`--NotebookApp.iopub_msg_rate_limit`.\n",
      "\n",
      "Current values:\n",
      "NotebookApp.iopub_msg_rate_limit=1000.0 (msgs/sec)\n",
      "NotebookApp.rate_limit_window=3.0 (secs)\n",
      "\n",
      "IOPub message rate exceeded.\n",
      "The notebook server will temporarily stop sending output\n",
      "to the client in order to avoid crashing it.\n",
      "To change this limit, set the config variable\n",
      "`--NotebookApp.iopub_msg_rate_limit`.\n",
      "\n",
      "Current values:\n",
      "NotebookApp.iopub_msg_rate_limit=1000.0 (msgs/sec)\n",
      "NotebookApp.rate_limit_window=3.0 (secs)\n",
      "\n",
      "IOPub message rate exceeded.\n",
      "The notebook server will temporarily stop sending output\n",
      "to the client in order to avoid crashing it.\n",
      "To change this limit, set the config variable\n",
      "`--NotebookApp.iopub_msg_rate_limit`.\n",
      "\n",
      "Current values:\n",
      "NotebookApp.iopub_msg_rate_limit=1000.0 (msgs/sec)\n",
      "NotebookApp.rate_limit_window=3.0 (secs)\n",
      "\n",
      "IOPub message rate exceeded.\n",
      "The notebook server will temporarily stop sending output\n",
      "to the client in order to avoid crashing it.\n",
      "To change this limit, set the config variable\n",
      "`--NotebookApp.iopub_msg_rate_limit`.\n",
      "\n",
      "Current values:\n",
      "NotebookApp.iopub_msg_rate_limit=1000.0 (msgs/sec)\n",
      "NotebookApp.rate_limit_window=3.0 (secs)\n",
      "\n",
      "IOPub message rate exceeded.\n",
      "The notebook server will temporarily stop sending output\n",
      "to the client in order to avoid crashing it.\n",
      "To change this limit, set the config variable\n",
      "`--NotebookApp.iopub_msg_rate_limit`.\n",
      "\n",
      "Current values:\n",
      "NotebookApp.iopub_msg_rate_limit=1000.0 (msgs/sec)\n",
      "NotebookApp.rate_limit_window=3.0 (secs)\n",
      "\n",
      "IOPub message rate exceeded.\n",
      "The notebook server will temporarily stop sending output\n",
      "to the client in order to avoid crashing it.\n",
      "To change this limit, set the config variable\n",
      "`--NotebookApp.iopub_msg_rate_limit`.\n",
      "\n",
      "Current values:\n",
      "NotebookApp.iopub_msg_rate_limit=1000.0 (msgs/sec)\n",
      "NotebookApp.rate_limit_window=3.0 (secs)\n",
      "\n"
     ]
    },
    {
     "name": "stdout",
     "output_type": "stream",
     "text": [
      "loading dr2full J1857+0943 from file\n"
     ]
    },
    {
     "data": {
      "application/vnd.jupyter.widget-view+json": {
       "model_id": "30466a20d7ae47cf864b185a11909977",
       "version_major": 2,
       "version_minor": 0
      },
      "text/plain": [
       "  0%|          | 0/25000 [00:00<?, ?it/s]"
      ]
     },
     "metadata": {},
     "output_type": "display_data"
    },
    {
     "name": "stderr",
     "output_type": "stream",
     "text": [
      "IOPub message rate exceeded.\n",
      "The notebook server will temporarily stop sending output\n",
      "to the client in order to avoid crashing it.\n",
      "To change this limit, set the config variable\n",
      "`--NotebookApp.iopub_msg_rate_limit`.\n",
      "\n",
      "Current values:\n",
      "NotebookApp.iopub_msg_rate_limit=1000.0 (msgs/sec)\n",
      "NotebookApp.rate_limit_window=3.0 (secs)\n",
      "\n",
      "IOPub message rate exceeded.\n",
      "The notebook server will temporarily stop sending output\n",
      "to the client in order to avoid crashing it.\n",
      "To change this limit, set the config variable\n",
      "`--NotebookApp.iopub_msg_rate_limit`.\n",
      "\n",
      "Current values:\n",
      "NotebookApp.iopub_msg_rate_limit=1000.0 (msgs/sec)\n",
      "NotebookApp.rate_limit_window=3.0 (secs)\n",
      "\n",
      "IOPub message rate exceeded.\n",
      "The notebook server will temporarily stop sending output\n",
      "to the client in order to avoid crashing it.\n",
      "To change this limit, set the config variable\n",
      "`--NotebookApp.iopub_msg_rate_limit`.\n",
      "\n",
      "Current values:\n",
      "NotebookApp.iopub_msg_rate_limit=1000.0 (msgs/sec)\n",
      "NotebookApp.rate_limit_window=3.0 (secs)\n",
      "\n",
      "IOPub message rate exceeded.\n",
      "The notebook server will temporarily stop sending output\n",
      "to the client in order to avoid crashing it.\n",
      "To change this limit, set the config variable\n",
      "`--NotebookApp.iopub_msg_rate_limit`.\n",
      "\n",
      "Current values:\n",
      "NotebookApp.iopub_msg_rate_limit=1000.0 (msgs/sec)\n",
      "NotebookApp.rate_limit_window=3.0 (secs)\n",
      "\n",
      "IOPub message rate exceeded.\n",
      "The notebook server will temporarily stop sending output\n",
      "to the client in order to avoid crashing it.\n",
      "To change this limit, set the config variable\n",
      "`--NotebookApp.iopub_msg_rate_limit`.\n",
      "\n",
      "Current values:\n",
      "NotebookApp.iopub_msg_rate_limit=1000.0 (msgs/sec)\n",
      "NotebookApp.rate_limit_window=3.0 (secs)\n",
      "\n",
      "IOPub message rate exceeded.\n",
      "The notebook server will temporarily stop sending output\n",
      "to the client in order to avoid crashing it.\n",
      "To change this limit, set the config variable\n",
      "`--NotebookApp.iopub_msg_rate_limit`.\n",
      "\n",
      "Current values:\n",
      "NotebookApp.iopub_msg_rate_limit=1000.0 (msgs/sec)\n",
      "NotebookApp.rate_limit_window=3.0 (secs)\n",
      "\n",
      "IOPub message rate exceeded.\n",
      "The notebook server will temporarily stop sending output\n",
      "to the client in order to avoid crashing it.\n",
      "To change this limit, set the config variable\n",
      "`--NotebookApp.iopub_msg_rate_limit`.\n",
      "\n",
      "Current values:\n",
      "NotebookApp.iopub_msg_rate_limit=1000.0 (msgs/sec)\n",
      "NotebookApp.rate_limit_window=3.0 (secs)\n",
      "\n",
      "IOPub message rate exceeded.\n",
      "The notebook server will temporarily stop sending output\n",
      "to the client in order to avoid crashing it.\n",
      "To change this limit, set the config variable\n",
      "`--NotebookApp.iopub_msg_rate_limit`.\n",
      "\n",
      "Current values:\n",
      "NotebookApp.iopub_msg_rate_limit=1000.0 (msgs/sec)\n",
      "NotebookApp.rate_limit_window=3.0 (secs)\n",
      "\n",
      "IOPub message rate exceeded.\n",
      "The notebook server will temporarily stop sending output\n",
      "to the client in order to avoid crashing it.\n",
      "To change this limit, set the config variable\n",
      "`--NotebookApp.iopub_msg_rate_limit`.\n",
      "\n",
      "Current values:\n",
      "NotebookApp.iopub_msg_rate_limit=1000.0 (msgs/sec)\n",
      "NotebookApp.rate_limit_window=3.0 (secs)\n",
      "\n",
      "IOPub message rate exceeded.\n",
      "The notebook server will temporarily stop sending output\n",
      "to the client in order to avoid crashing it.\n",
      "To change this limit, set the config variable\n",
      "`--NotebookApp.iopub_msg_rate_limit`.\n",
      "\n",
      "Current values:\n",
      "NotebookApp.iopub_msg_rate_limit=1000.0 (msgs/sec)\n",
      "NotebookApp.rate_limit_window=3.0 (secs)\n",
      "\n",
      "IOPub message rate exceeded.\n",
      "The notebook server will temporarily stop sending output\n",
      "to the client in order to avoid crashing it.\n",
      "To change this limit, set the config variable\n",
      "`--NotebookApp.iopub_msg_rate_limit`.\n",
      "\n",
      "Current values:\n",
      "NotebookApp.iopub_msg_rate_limit=1000.0 (msgs/sec)\n",
      "NotebookApp.rate_limit_window=3.0 (secs)\n",
      "\n",
      "IOPub message rate exceeded.\n",
      "The notebook server will temporarily stop sending output\n",
      "to the client in order to avoid crashing it.\n",
      "To change this limit, set the config variable\n",
      "`--NotebookApp.iopub_msg_rate_limit`.\n",
      "\n",
      "Current values:\n",
      "NotebookApp.iopub_msg_rate_limit=1000.0 (msgs/sec)\n",
      "NotebookApp.rate_limit_window=3.0 (secs)\n",
      "\n",
      "IOPub message rate exceeded.\n",
      "The notebook server will temporarily stop sending output\n",
      "to the client in order to avoid crashing it.\n",
      "To change this limit, set the config variable\n",
      "`--NotebookApp.iopub_msg_rate_limit`.\n",
      "\n",
      "Current values:\n",
      "NotebookApp.iopub_msg_rate_limit=1000.0 (msgs/sec)\n",
      "NotebookApp.rate_limit_window=3.0 (secs)\n",
      "\n",
      "IOPub message rate exceeded.\n",
      "The notebook server will temporarily stop sending output\n",
      "to the client in order to avoid crashing it.\n",
      "To change this limit, set the config variable\n",
      "`--NotebookApp.iopub_msg_rate_limit`.\n",
      "\n",
      "Current values:\n",
      "NotebookApp.iopub_msg_rate_limit=1000.0 (msgs/sec)\n",
      "NotebookApp.rate_limit_window=3.0 (secs)\n",
      "\n",
      "IOPub message rate exceeded.\n",
      "The notebook server will temporarily stop sending output\n",
      "to the client in order to avoid crashing it.\n",
      "To change this limit, set the config variable\n",
      "`--NotebookApp.iopub_msg_rate_limit`.\n",
      "\n",
      "Current values:\n",
      "NotebookApp.iopub_msg_rate_limit=1000.0 (msgs/sec)\n",
      "NotebookApp.rate_limit_window=3.0 (secs)\n",
      "\n",
      "IOPub message rate exceeded.\n",
      "The notebook server will temporarily stop sending output\n",
      "to the client in order to avoid crashing it.\n",
      "To change this limit, set the config variable\n",
      "`--NotebookApp.iopub_msg_rate_limit`.\n",
      "\n",
      "Current values:\n",
      "NotebookApp.iopub_msg_rate_limit=1000.0 (msgs/sec)\n",
      "NotebookApp.rate_limit_window=3.0 (secs)\n",
      "\n",
      "IOPub message rate exceeded.\n",
      "The notebook server will temporarily stop sending output\n",
      "to the client in order to avoid crashing it.\n",
      "To change this limit, set the config variable\n",
      "`--NotebookApp.iopub_msg_rate_limit`.\n",
      "\n",
      "Current values:\n",
      "NotebookApp.iopub_msg_rate_limit=1000.0 (msgs/sec)\n",
      "NotebookApp.rate_limit_window=3.0 (secs)\n",
      "\n",
      "IOPub message rate exceeded.\n",
      "The notebook server will temporarily stop sending output\n",
      "to the client in order to avoid crashing it.\n",
      "To change this limit, set the config variable\n",
      "`--NotebookApp.iopub_msg_rate_limit`.\n",
      "\n",
      "Current values:\n",
      "NotebookApp.iopub_msg_rate_limit=1000.0 (msgs/sec)\n",
      "NotebookApp.rate_limit_window=3.0 (secs)\n",
      "\n",
      "IOPub message rate exceeded.\n",
      "The notebook server will temporarily stop sending output\n",
      "to the client in order to avoid crashing it.\n",
      "To change this limit, set the config variable\n",
      "`--NotebookApp.iopub_msg_rate_limit`.\n",
      "\n",
      "Current values:\n",
      "NotebookApp.iopub_msg_rate_limit=1000.0 (msgs/sec)\n",
      "NotebookApp.rate_limit_window=3.0 (secs)\n",
      "\n",
      "IOPub message rate exceeded.\n",
      "The notebook server will temporarily stop sending output\n",
      "to the client in order to avoid crashing it.\n",
      "To change this limit, set the config variable\n",
      "`--NotebookApp.iopub_msg_rate_limit`.\n",
      "\n",
      "Current values:\n",
      "NotebookApp.iopub_msg_rate_limit=1000.0 (msgs/sec)\n",
      "NotebookApp.rate_limit_window=3.0 (secs)\n",
      "\n",
      "IOPub message rate exceeded.\n",
      "The notebook server will temporarily stop sending output\n",
      "to the client in order to avoid crashing it.\n",
      "To change this limit, set the config variable\n",
      "`--NotebookApp.iopub_msg_rate_limit`.\n",
      "\n",
      "Current values:\n",
      "NotebookApp.iopub_msg_rate_limit=1000.0 (msgs/sec)\n",
      "NotebookApp.rate_limit_window=3.0 (secs)\n",
      "\n",
      "IOPub message rate exceeded.\n",
      "The notebook server will temporarily stop sending output\n",
      "to the client in order to avoid crashing it.\n",
      "To change this limit, set the config variable\n",
      "`--NotebookApp.iopub_msg_rate_limit`.\n",
      "\n",
      "Current values:\n",
      "NotebookApp.iopub_msg_rate_limit=1000.0 (msgs/sec)\n",
      "NotebookApp.rate_limit_window=3.0 (secs)\n",
      "\n",
      "IOPub message rate exceeded.\n",
      "The notebook server will temporarily stop sending output\n",
      "to the client in order to avoid crashing it.\n",
      "To change this limit, set the config variable\n",
      "`--NotebookApp.iopub_msg_rate_limit`.\n",
      "\n",
      "Current values:\n",
      "NotebookApp.iopub_msg_rate_limit=1000.0 (msgs/sec)\n",
      "NotebookApp.rate_limit_window=3.0 (secs)\n",
      "\n",
      "IOPub message rate exceeded.\n",
      "The notebook server will temporarily stop sending output\n",
      "to the client in order to avoid crashing it.\n",
      "To change this limit, set the config variable\n",
      "`--NotebookApp.iopub_msg_rate_limit`.\n",
      "\n",
      "Current values:\n",
      "NotebookApp.iopub_msg_rate_limit=1000.0 (msgs/sec)\n",
      "NotebookApp.rate_limit_window=3.0 (secs)\n",
      "\n",
      "IOPub message rate exceeded.\n",
      "The notebook server will temporarily stop sending output\n",
      "to the client in order to avoid crashing it.\n",
      "To change this limit, set the config variable\n",
      "`--NotebookApp.iopub_msg_rate_limit`.\n",
      "\n",
      "Current values:\n",
      "NotebookApp.iopub_msg_rate_limit=1000.0 (msgs/sec)\n",
      "NotebookApp.rate_limit_window=3.0 (secs)\n",
      "\n",
      "IOPub message rate exceeded.\n",
      "The notebook server will temporarily stop sending output\n",
      "to the client in order to avoid crashing it.\n",
      "To change this limit, set the config variable\n",
      "`--NotebookApp.iopub_msg_rate_limit`.\n",
      "\n",
      "Current values:\n",
      "NotebookApp.iopub_msg_rate_limit=1000.0 (msgs/sec)\n",
      "NotebookApp.rate_limit_window=3.0 (secs)\n",
      "\n"
     ]
    },
    {
     "name": "stderr",
     "output_type": "stream",
     "text": [
      "IOPub message rate exceeded.\n",
      "The notebook server will temporarily stop sending output\n",
      "to the client in order to avoid crashing it.\n",
      "To change this limit, set the config variable\n",
      "`--NotebookApp.iopub_msg_rate_limit`.\n",
      "\n",
      "Current values:\n",
      "NotebookApp.iopub_msg_rate_limit=1000.0 (msgs/sec)\n",
      "NotebookApp.rate_limit_window=3.0 (secs)\n",
      "\n",
      "IOPub message rate exceeded.\n",
      "The notebook server will temporarily stop sending output\n",
      "to the client in order to avoid crashing it.\n",
      "To change this limit, set the config variable\n",
      "`--NotebookApp.iopub_msg_rate_limit`.\n",
      "\n",
      "Current values:\n",
      "NotebookApp.iopub_msg_rate_limit=1000.0 (msgs/sec)\n",
      "NotebookApp.rate_limit_window=3.0 (secs)\n",
      "\n",
      "IOPub message rate exceeded.\n",
      "The notebook server will temporarily stop sending output\n",
      "to the client in order to avoid crashing it.\n",
      "To change this limit, set the config variable\n",
      "`--NotebookApp.iopub_msg_rate_limit`.\n",
      "\n",
      "Current values:\n",
      "NotebookApp.iopub_msg_rate_limit=1000.0 (msgs/sec)\n",
      "NotebookApp.rate_limit_window=3.0 (secs)\n",
      "\n",
      "IOPub message rate exceeded.\n",
      "The notebook server will temporarily stop sending output\n",
      "to the client in order to avoid crashing it.\n",
      "To change this limit, set the config variable\n",
      "`--NotebookApp.iopub_msg_rate_limit`.\n",
      "\n",
      "Current values:\n",
      "NotebookApp.iopub_msg_rate_limit=1000.0 (msgs/sec)\n",
      "NotebookApp.rate_limit_window=3.0 (secs)\n",
      "\n",
      "IOPub message rate exceeded.\n",
      "The notebook server will temporarily stop sending output\n",
      "to the client in order to avoid crashing it.\n",
      "To change this limit, set the config variable\n",
      "`--NotebookApp.iopub_msg_rate_limit`.\n",
      "\n",
      "Current values:\n",
      "NotebookApp.iopub_msg_rate_limit=1000.0 (msgs/sec)\n",
      "NotebookApp.rate_limit_window=3.0 (secs)\n",
      "\n",
      "IOPub message rate exceeded.\n",
      "The notebook server will temporarily stop sending output\n",
      "to the client in order to avoid crashing it.\n",
      "To change this limit, set the config variable\n",
      "`--NotebookApp.iopub_msg_rate_limit`.\n",
      "\n",
      "Current values:\n",
      "NotebookApp.iopub_msg_rate_limit=1000.0 (msgs/sec)\n",
      "NotebookApp.rate_limit_window=3.0 (secs)\n",
      "\n",
      "IOPub message rate exceeded.\n",
      "The notebook server will temporarily stop sending output\n",
      "to the client in order to avoid crashing it.\n",
      "To change this limit, set the config variable\n",
      "`--NotebookApp.iopub_msg_rate_limit`.\n",
      "\n",
      "Current values:\n",
      "NotebookApp.iopub_msg_rate_limit=1000.0 (msgs/sec)\n",
      "NotebookApp.rate_limit_window=3.0 (secs)\n",
      "\n",
      "IOPub message rate exceeded.\n",
      "The notebook server will temporarily stop sending output\n",
      "to the client in order to avoid crashing it.\n",
      "To change this limit, set the config variable\n",
      "`--NotebookApp.iopub_msg_rate_limit`.\n",
      "\n",
      "Current values:\n",
      "NotebookApp.iopub_msg_rate_limit=1000.0 (msgs/sec)\n",
      "NotebookApp.rate_limit_window=3.0 (secs)\n",
      "\n",
      "IOPub message rate exceeded.\n",
      "The notebook server will temporarily stop sending output\n",
      "to the client in order to avoid crashing it.\n",
      "To change this limit, set the config variable\n",
      "`--NotebookApp.iopub_msg_rate_limit`.\n",
      "\n",
      "Current values:\n",
      "NotebookApp.iopub_msg_rate_limit=1000.0 (msgs/sec)\n",
      "NotebookApp.rate_limit_window=3.0 (secs)\n",
      "\n",
      " 89%|████████▊ | 47/53 [20:28:55<3:49:26, 2294.34s/it]"
     ]
    },
    {
     "data": {
      "application/vnd.jupyter.widget-view+json": {
       "model_id": "",
       "version_major": 2,
       "version_minor": 0
      },
      "text/plain": [
       "  0%|          | 0/25000 [00:00<?, ?it/s]"
      ]
     },
     "metadata": {},
     "output_type": "display_data"
    },
    {
     "name": "stderr",
     "output_type": "stream",
     "text": [
      "\r",
      " 91%|█████████ | 48/53 [21:14:22<3:20:44, 2408.95s/it]"
     ]
    },
    {
     "data": {
      "application/vnd.jupyter.widget-view+json": {
       "model_id": "",
       "version_major": 2,
       "version_minor": 0
      },
      "text/plain": [
       "  0%|          | 0/25000 [00:00<?, ?it/s]"
      ]
     },
     "metadata": {},
     "output_type": "display_data"
    },
    {
     "name": "stderr",
     "output_type": "stream",
     "text": [
      "\r",
      " 92%|█████████▏| 49/53 [21:59:49<2:46:25, 2496.46s/it]"
     ]
    },
    {
     "name": "stdout",
     "output_type": "stream",
     "text": [
      "loading dr2full J2145-0750 from file\n"
     ]
    },
    {
     "data": {
      "application/vnd.jupyter.widget-view+json": {
       "model_id": "",
       "version_major": 2,
       "version_minor": 0
      },
      "text/plain": [
       "  0%|          | 0/25000 [00:00<?, ?it/s]"
      ]
     },
     "metadata": {},
     "output_type": "display_data"
    },
    {
     "name": "stderr",
     "output_type": "stream",
     "text": [
      "\r",
      " 96%|█████████▌| 51/53 [22:45:20<1:06:38, 1999.16s/it]"
     ]
    },
    {
     "name": "stdout",
     "output_type": "stream",
     "text": [
      "loading dr2full J2317+1439 from file\n"
     ]
    },
    {
     "data": {
      "application/vnd.jupyter.widget-view+json": {
       "model_id": "",
       "version_major": 2,
       "version_minor": 0
      },
      "text/plain": [
       "  0%|          | 0/25000 [00:00<?, ?it/s]"
      ]
     },
     "metadata": {},
     "output_type": "display_data"
    },
    {
     "name": "stderr",
     "output_type": "stream",
     "text": [
      "100%|██████████| 53/53 [23:30:49<00:00, 1597.16s/it]  \n"
     ]
    }
   ],
   "source": [
    "df_save_loc = '/vast/palmer/home.grace/bbl29/project/IPTA_DR2_analysis/dropout_factors'\n",
    "Nbins_FLike_list = [61, 71, 81, 91, 101]\n",
    "Nbins_SD_list = [6, 12, 18, 24, 30]\n",
    "for ds, lbl in zip(datasets, labels):\n",
    "    print(lbl)\n",
    "    for psr_drop in tqdm.tqdm(FL_psrnames):\n",
    "        if os.path.isfile(f'{df_save_loc}/{psr_drop}_{ds}.txt'):\n",
    "            print(f'loading {ds} {psr_drop} from file')\n",
    "            DFs_all[lbl][psr_drop] = np.loadtxt(f'{df_save_loc}/{psr_drop}_{ds}.txt')\n",
    "        else:\n",
    "            if not psr_drop in DFs_all[lbl]:\n",
    "                DFs_all[lbl][psr_drop] = np.zeros(25000)\n",
    "            # loop over meta-parameters & bootstrap realizations\n",
    "            for i1, i2, i3 in itertools.product(range(5), range(5), range(1000), leave=False):\n",
    "                i_tot = i1*5000 + i2*1000 + i3\n",
    "                if DFs_all[lbl][psr_drop][i_tot] != 0:\n",
    "                    continue\n",
    "                DFs_all[lbl][psr_drop][i_tot] = compute_DF(psr_drop, sampler_dict[lbl], psrnames,\n",
    "                                                           bootstrap_realizations=psr_masks[lbl],\n",
    "                                                           bootstrap_idx=i3,\n",
    "                                                           FLike_bin_num=Nbins_FLike_list[i1],\n",
    "                                                           SD_nbins=Nbins_SD_list[i2])\n",
    "            # save the DFs so we don't have to remake them\n",
    "            np.savetxt(f'{df_save_loc}/{psr_drop}_{ds}.txt', DFs_all[lbl][psr_drop])"
   ]
  },
  {
   "cell_type": "code",
   "execution_count": 16,
   "id": "d1c32df1",
   "metadata": {
    "scrolled": true
   },
   "outputs": [
    {
     "data": {
      "text/plain": [
       "{'DR2 Lite': {'J0030+0451': array([ 2.46892874,  1.52872348,  1.46948532, ...,  0.96609625,\n",
       "          1.02154713, 10.27828708]),\n",
       "  'J0034-0534': array([0.81886256, 0.4514531 , 1.15581838, ..., 1.18433675, 0.86727176,\n",
       "         1.13664722]),\n",
       "  'J0218+4232': array([2.17707644, 1.54638936, 1.46517848, ..., 1.5450762 , 1.04859902,\n",
       "         4.42255262]),\n",
       "  'J0437-4715': array([10.88018734,  7.06458566,  1.96975088, ...,  1.40118132,\n",
       "          2.54315256, 19.93336634]),\n",
       "  'J0610-2100': array([0.75641316, 0.88981286, 0.95605734, ..., 1.01736717, 1.07399363,\n",
       "         1.17746947]),\n",
       "  'J0613-0200': array([ 3.63770876, 14.92145961,  2.43415117, ...,  2.72468701,\n",
       "          4.7102196 ,  3.66226945]),\n",
       "  'J0621+1002': array([1.14190599, 0.93076418, 0.81646931, ..., 1.2631031 , 1.00108062,\n",
       "         0.94001394]),\n",
       "  'J0711-6830': array([1.48463874, 1.17966276, 1.22216843, ..., 1.1351058 , 1.46310335,\n",
       "         1.39174482]),\n",
       "  'J0751+1807': array([1.4623491 , 0.98958523, 1.21634625, ..., 1.11791362, 1.28851429,\n",
       "         1.57304643]),\n",
       "  'J0900-3144': array([1.16935927, 1.27703147, 0.97170901, ..., 0.47851747, 1.16206774,\n",
       "         0.25277988]),\n",
       "  'J1012+5307': array([0.61038978, 1.10617293, 0.71327118, ..., 0.45141304, 1.42521664,\n",
       "         0.37289138]),\n",
       "  'J1022+1001': array([3.11161356, 2.4660515 , 1.5826538 , ..., 2.33805246, 1.72073733,\n",
       "         2.77765981]),\n",
       "  'J1024-0719': array([1.15282098, 0.95982142, 1.10271433, ..., 0.92971156, 2.31055322,\n",
       "         1.70423079]),\n",
       "  'J1045-4509': array([0.75815359, 1.13877842, 0.64161373, ..., 0.90923789, 0.82525392,\n",
       "         0.4021715 ]),\n",
       "  'J1455-3330': array([1.26285844, 0.45031899, 0.95086834, ..., 0.66119677, 1.53013641,\n",
       "         2.09176943]),\n",
       "  'J1600-3053': array([1.10893026, 1.52780292, 0.84159911, ..., 0.71682806, 1.70679377,\n",
       "         0.70080652]),\n",
       "  'J1603-7202': array([1.17770926, 1.34849804, 0.79535047, ..., 1.00248848, 1.24533158,\n",
       "         0.8830125 ]),\n",
       "  'J1614-2230': array([0.88868384, 1.47199933, 1.04528886, ..., 0.79097192, 1.78222491,\n",
       "         0.81423957]),\n",
       "  'J1640+2224': array([0.25150215, 0.4647084 , 0.51670058, ..., 0.48996528, 0.73508015,\n",
       "         0.16137198]),\n",
       "  'J1643-1224': array([1.37708367, 1.05773838, 0.93391235, ..., 1.16620673, 0.74867415,\n",
       "         0.9895505 ]),\n",
       "  'J1713+0747': array([0.19297477, 0.35038824, 0.25772664, ..., 0.21246701, 0.8399721 ,\n",
       "         0.03168114]),\n",
       "  'J1721-2457': array([1.19491265, 1.06666386, 0.54136048, ..., 1.13360626, 1.66711145,\n",
       "         0.66634055]),\n",
       "  'J1730-2304': array([1.02033605, 1.51078616, 1.02171896, ..., 1.0654324 , 1.0484241 ,\n",
       "         0.70156478]),\n",
       "  'J1732-5049': array([0.94209345, 0.72388451, 1.22281819, ..., 0.97327569, 1.39134469,\n",
       "         1.02932698]),\n",
       "  'J1738+0333': array([1.27033598, 1.13217801, 1.00214829, ..., 0.97118981, 1.0087565 ,\n",
       "         1.23206494]),\n",
       "  'J1741+1351': array([0.92586738, 1.02829365, 1.05200663, ..., 0.88217325, 1.49594206,\n",
       "         1.86477297]),\n",
       "  'J1744-1134': array([ 2.18647701,  4.72021931, 11.89070009, ...,  2.84927622,\n",
       "          7.09224023,  3.99496726]),\n",
       "  'J1751-2857': array([0.89813356, 0.93383095, 1.06404954, ..., 1.18239389, 0.9606055 ,\n",
       "         0.83143931]),\n",
       "  'J1801-1417': array([1.26662123, 1.31291638, 0.8110288 , ..., 0.90007771, 0.25594651,\n",
       "         1.92098863]),\n",
       "  'J1802-2124': array([0.73487879, 1.3324802 , 1.29142093, ..., 0.96292684, 1.28272527,\n",
       "         1.2398967 ]),\n",
       "  'J1804-2717': array([0.96471202, 0.85532857, 0.74735668, ..., 0.89392661, 0.80655785,\n",
       "         0.76349302]),\n",
       "  'J1824-2452A': array([0.99060291, 0.79836808, 0.98290366, ..., 1.02754655, 0.97304102,\n",
       "         1.09427352]),\n",
       "  'J1843-1113': array([1.16331232, 1.29845965, 1.28485632, ..., 0.9586175 , 0.7735917 ,\n",
       "         1.0171704 ]),\n",
       "  'J1853+1303': array([0.9163331 , 1.04404441, 1.49929875, ..., 0.59970208, 0.82171038,\n",
       "         1.19791534]),\n",
       "  'J1857+0943': array([1.66508419, 6.04665619, 8.26908627, ..., 2.21757782, 6.9713178 ,\n",
       "         3.98351681]),\n",
       "  'J1903+0327': array([0.73510305, 1.29604539, 0.80528405, ..., 0.84431535, 0.90146703,\n",
       "         1.10006348]),\n",
       "  'J1909-3744': array([6.90857594e-06, 6.87650341e-06, 3.03701563e-04, ...,\n",
       "         2.51349875e-04, 1.51518294e-04, 4.67370002e-05]),\n",
       "  'J1910+1256': array([0.87799079, 1.13471533, 0.97077246, ..., 1.07929091, 0.88163015,\n",
       "         1.37434208]),\n",
       "  'J1911+1347': array([1.21165698, 2.31021826, 2.73240905, ..., 1.76125229, 1.83091873,\n",
       "         1.11000572]),\n",
       "  'J1911-1114': array([0.97757007, 0.88598144, 0.67914402, ..., 0.86114888, 1.31958082,\n",
       "         0.83713973]),\n",
       "  'J1918-0642': array([1.33863476, 1.59406802, 1.92569193, ..., 0.67202071, 1.7251709 ,\n",
       "         1.02381784]),\n",
       "  'J1939+2134': array([0.70730353, 1.13711125, 1.28295172, ..., 0.92953514, 0.89752106,\n",
       "         0.701365  ]),\n",
       "  'J1944+0907': array([0.84378628, 1.16368384, 0.67862855, ..., 1.28903609, 0.7442498 ,\n",
       "         0.79607786]),\n",
       "  'J1955+2908': array([0.84947779, 0.87110762, 0.99997944, ..., 1.16443446, 0.98944352,\n",
       "         1.12026706]),\n",
       "  'J2010-1323': array([1.01376006, 1.1767085 , 1.61383103, ..., 1.31956603, 1.93786172,\n",
       "         0.77205441]),\n",
       "  'J2019+2425': array([1.00611721, 0.88802744, 0.98028023, ..., 1.56627586, 0.91206132,\n",
       "         1.38968802]),\n",
       "  'J2033+1734': array([1.00516334, 0.93355247, 1.23785316, ..., 1.07204463, 1.11565561,\n",
       "         0.86288044]),\n",
       "  'J2124-3358': array([1.05857922, 1.2754539 , 0.87894757, ..., 0.70705238, 0.87898323,\n",
       "         0.83496423]),\n",
       "  'J2129-5721': array([1.30082709, 1.23831056, 1.42326188, ..., 1.27480033, 0.69476024,\n",
       "         1.44425616]),\n",
       "  'J2145-0750': array([0.81352211, 4.00300066, 4.51056877, ..., 1.4092102 , 3.86895835,\n",
       "         1.50786248]),\n",
       "  'J2229+2643': array([0.90037114, 0.98395193, 0.92698907, ..., 1.47790886, 0.43784926,\n",
       "         1.04649529]),\n",
       "  'J2317+1439': array([1.02460369, 1.21565218, 1.26697325, ..., 1.00381727, 0.8013813 ,\n",
       "         0.71735008]),\n",
       "  'J2322+2057': array([1.09460481, 0.95235145, 0.91658544, ..., 0.67953235, 0.89406932,\n",
       "         0.98923777])},\n",
       " 'Full DR2': {'J0030+0451': array([4.79996491, 5.35241453, 3.09354458, ..., 5.1062764 , 4.19144934,\n",
       "         4.66941962]),\n",
       "  'J0034-0534': array([1.14452614, 1.29341461, 1.13553202, ..., 0.95653307, 1.29722499,\n",
       "         0.63544734]),\n",
       "  'J0218+4232': array([1.68728082, 1.36483085, 1.5049643 , ..., 1.35418189, 1.2392526 ,\n",
       "         1.63020027]),\n",
       "  'J0437-4715': array([ 9.06728946, 12.05237745,  6.17890087, ...,  3.91890799,\n",
       "          3.37600548,  6.5390965 ]),\n",
       "  'J0610-2100': array([1.08961651, 1.09904207, 1.13962696, ..., 0.66842789, 1.33182223,\n",
       "         0.74590961]),\n",
       "  'J0613-0200': array([36.16393587, 23.94960629, 22.19226634, ..., 25.28112261,\n",
       "         25.17029214, 21.45703416]),\n",
       "  'J0621+1002': array([1.0635991 , 1.30540036, 0.85786863, ..., 0.96588363, 0.93132919,\n",
       "         1.00781986]),\n",
       "  'J0711-6830': array([2.77256298, 2.62528047, 1.94141976, ..., 3.19974851, 2.21981896,\n",
       "         2.04365335]),\n",
       "  'J0751+1807': array([1.11770572, 0.78374519, 1.67588485, ..., 0.58002829, 1.2095524 ,\n",
       "         1.38928292]),\n",
       "  'J0900-3144': array([0.77828096, 0.80162811, 1.17790112, ..., 0.80481675, 0.98490453,\n",
       "         0.72472302]),\n",
       "  'J1012+5307': array([1.09963189, 1.35738344, 1.12192145, ..., 1.52795474, 1.25275198,\n",
       "         0.63565537]),\n",
       "  'J1022+1001': array([1.43093065, 1.31516264, 1.26989174, ..., 2.00555473, 1.06882527,\n",
       "         1.03065524]),\n",
       "  'J1024-0719': array([0.64768264, 0.67157583, 0.6105775 , ..., 1.17328976, 0.87156415,\n",
       "         1.33450392]),\n",
       "  'J1045-4509': array([0.82082656, 1.18512277, 0.86086945, ..., 0.85287319, 0.98028961,\n",
       "         0.82899394]),\n",
       "  'J1455-3330': array([1.68491669, 2.57911322, 1.66145057, ..., 1.38727274, 2.71799369,\n",
       "         1.35331618]),\n",
       "  'J1600-3053': array([11.84850321, 12.84712718, 10.0146785 , ...,  6.32512786,\n",
       "          7.48236806,  6.8240423 ]),\n",
       "  'J1603-7202': array([1.04611694, 1.0811264 , 0.72524046, ..., 1.25169284, 0.72852967,\n",
       "         1.03342666]),\n",
       "  'J1614-2230': array([0.92293643, 0.99879012, 1.08532108, ..., 1.16057867, 0.61327769,\n",
       "         1.03958611]),\n",
       "  'J1640+2224': array([1.37242644, 0.85324342, 1.39885551, ..., 0.68624352, 1.96845824,\n",
       "         1.26093087]),\n",
       "  'J1643-1224': array([1.06739896, 1.08349065, 0.68583311, ..., 0.82256021, 0.70706527,\n",
       "         0.85396613]),\n",
       "  'J1713+0747': array([ 9.00450624, 12.86568654,  8.98475868, ...,  7.45049766,\n",
       "         13.43485991, 15.33313864]),\n",
       "  'J1721-2457': array([0.56063268, 0.56198165, 1.00303649, ..., 0.8160588 , 0.66095016,\n",
       "         1.3958529 ]),\n",
       "  'J1730-2304': array([1.73070838, 1.06856488, 2.51470995, ..., 1.68917327, 4.30262609,\n",
       "         0.67779727]),\n",
       "  'J1732-5049': array([1.06468045, 1.10760063, 0.94592592, ..., 0.94797347, 0.81415669,\n",
       "         0.81302714]),\n",
       "  'J1738+0333': array([1.08241794, 1.164242  , 1.51168591, ..., 1.65513729, 1.51731303,\n",
       "         1.02429171]),\n",
       "  'J1741+1351': array([1.10911785, 1.41765587, 0.95138463, ..., 0.92835242, 1.41759383,\n",
       "         0.98721238]),\n",
       "  'J1744-1134': array([5.21820353, 4.46222321, 4.01734252, ..., 5.17764052, 3.49176756,\n",
       "         3.39080689]),\n",
       "  'J1751-2857': array([1.42470605, 1.00138695, 1.04214388, ..., 1.18175575, 0.85562729,\n",
       "         1.69037717]),\n",
       "  'J1801-1417': array([1.27325144, 0.82078512, 0.80008401, ..., 1.14235041, 1.10311012,\n",
       "         0.67331112]),\n",
       "  'J1802-2124': array([0.80481686, 1.161126  , 1.27185966, ..., 0.90796488, 1.28092545,\n",
       "         0.51610233]),\n",
       "  'J1804-2717': array([1.07314164, 1.18723776, 1.20429104, ..., 0.6343086 , 1.35738503,\n",
       "         1.15220074]),\n",
       "  'J1824-2452A': array([0.96231382, 0.48717481, 0.98457008, ..., 0.34988384, 1.21885732,\n",
       "         1.72433513]),\n",
       "  'J1843-1113': array([1.43889815, 1.13266467, 0.84873906, ..., 1.02449755, 0.62436549,\n",
       "         0.91046902]),\n",
       "  'J1853+1303': array([3.97561485, 5.57108488, 3.08521603, ..., 2.29971363, 2.84830996,\n",
       "         3.241797  ]),\n",
       "  'J1857+0943': array([11.25273085, 10.94549616, 10.44115379, ..., 11.20317137,\n",
       "          3.65480559,  8.21225646]),\n",
       "  'J1903+0327': array([1.14682807, 1.13627069, 1.09351151, ..., 1.95932034, 1.16669249,\n",
       "         0.83930854]),\n",
       "  'J1909-3744': array([1.01914702, 0.89634296, 0.76133519, ..., 0.30951112, 1.19105787,\n",
       "         0.78301469]),\n",
       "  'J1910+1256': array([1.07154563, 0.97519636, 0.7311699 , ..., 1.285269  , 1.44415207,\n",
       "         0.41354332]),\n",
       "  'J1911+1347': array([2.072693  , 2.47623808, 1.89146197, ..., 1.40316993, 3.48329271,\n",
       "         2.14138858]),\n",
       "  'J1911-1114': array([1.04711692, 0.91905126, 0.9714168 , ..., 0.77580806, 0.44341002,\n",
       "         1.29935139]),\n",
       "  'J1918-0642': array([12.24527015,  7.66843928,  8.80539652, ...,  9.88609946,\n",
       "         11.06795607,  7.86701193]),\n",
       "  'J1939+2134': array([1.40988255, 0.67540954, 0.69014049, ..., 1.15138582, 0.76728767,\n",
       "         0.9472739 ]),\n",
       "  'J1944+0907': array([1.00247559, 1.19129317, 0.92092668, ..., 1.18532134, 1.05153266,\n",
       "         0.8397397 ]),\n",
       "  'J1955+2908': array([1.38888546, 1.05983642, 0.94035043, ..., 0.75738136, 1.30963722,\n",
       "         0.7590252 ]),\n",
       "  'J2010-1323': array([1.64088108, 1.5117119 , 1.51317852, ..., 1.32771965, 1.46141822,\n",
       "         1.79438442]),\n",
       "  'J2019+2425': array([0.83692299, 0.8656215 , 1.03432885, ..., 0.51493278, 0.70283337,\n",
       "         1.16075036]),\n",
       "  'J2033+1734': array([0.95878967, 0.76563053, 0.78028171, ..., 0.91583346, 0.75876086,\n",
       "         0.50315666]),\n",
       "  'J2124-3358': array([2.00466538, 2.75318985, 1.35952134, ..., 1.53648849, 1.60538782,\n",
       "         2.49912743]),\n",
       "  'J2129-5721': array([0.87410332, 0.90370384, 1.4254882 , ..., 2.32562024, 1.21828008,\n",
       "         2.00263225]),\n",
       "  'J2145-0750': array([1.85347045, 1.52564017, 1.41573765, ..., 0.52164002, 2.84826379,\n",
       "         1.37122268]),\n",
       "  'J2229+2643': array([1.0160432 , 0.89883143, 0.63548783, ..., 1.07286242, 0.83945586,\n",
       "         1.76971437]),\n",
       "  'J2317+1439': array([0.43738892, 0.29830153, 0.36638063, ..., 0.32361093, 0.35684455,\n",
       "         0.32715313]),\n",
       "  'J2322+2057': array([0.96393603, 0.82011422, 0.83217091, ..., 1.01776837, 1.06095418,\n",
       "         0.58037958])}}"
      ]
     },
     "execution_count": 16,
     "metadata": {},
     "output_type": "execute_result"
    }
   ],
   "source": [
    "DFs_all"
   ]
  },
  {
   "cell_type": "code",
   "execution_count": 174,
   "id": "20e3494f",
   "metadata": {},
   "outputs": [
    {
     "data": {
      "text/plain": [
       "'DR2 lite'"
      ]
     },
     "execution_count": 174,
     "metadata": {},
     "output_type": "execute_result"
    }
   ],
   "source": [
    "lbl"
   ]
  },
  {
   "cell_type": "code",
   "execution_count": 17,
   "id": "4651bb19",
   "metadata": {},
   "outputs": [],
   "source": [
    "for lbl in DFs_all:\n",
    "    DFs_all[lbl] = {k.replace('-',r'$-$'): v for k, v in sorted(DFs_all[lbl].items(),\n",
    "                                                                key=lambda item: np.nanmedian(item[1]),\n",
    "                                                                reverse=True)}"
   ]
  },
  {
   "cell_type": "code",
   "execution_count": 18,
   "id": "643fdcc0",
   "metadata": {
    "scrolled": true
   },
   "outputs": [
    {
     "data": {
      "text/plain": [
       "dict_items([('J0613$-$0200', array([36.16393587, 23.94960629, 22.19226634, ..., 25.28112261,\n",
       "       25.17029214, 21.45703416])), ('J1600$-$3053', array([11.84850321, 12.84712718, 10.0146785 , ...,  6.32512786,\n",
       "        7.48236806,  6.8240423 ])), ('J0437$-$4715', array([ 9.06728946, 12.05237745,  6.17890087, ...,  3.91890799,\n",
       "        3.37600548,  6.5390965 ])), ('J1857+0943', array([11.25273085, 10.94549616, 10.44115379, ..., 11.20317137,\n",
       "        3.65480559,  8.21225646])), ('J1918$-$0642', array([12.24527015,  7.66843928,  8.80539652, ...,  9.88609946,\n",
       "       11.06795607,  7.86701193])), ('J1713+0747', array([ 9.00450624, 12.86568654,  8.98475868, ...,  7.45049766,\n",
       "       13.43485991, 15.33313864])), ('J0030+0451', array([4.79996491, 5.35241453, 3.09354458, ..., 5.1062764 , 4.19144934,\n",
       "       4.66941962])), ('J1744$-$1134', array([5.21820353, 4.46222321, 4.01734252, ..., 5.17764052, 3.49176756,\n",
       "       3.39080689])), ('J1853+1303', array([3.97561485, 5.57108488, 3.08521603, ..., 2.29971363, 2.84830996,\n",
       "       3.241797  ])), ('J0711$-$6830', array([2.77256298, 2.62528047, 1.94141976, ..., 3.19974851, 2.21981896,\n",
       "       2.04365335])), ('J1911+1347', array([2.072693  , 2.47623808, 1.89146197, ..., 1.40316993, 3.48329271,\n",
       "       2.14138858])), ('J2124$-$3358', array([2.00466538, 2.75318985, 1.35952134, ..., 1.53648849, 1.60538782,\n",
       "       2.49912743])), ('J1455$-$3330', array([1.68491669, 2.57911322, 1.66145057, ..., 1.38727274, 2.71799369,\n",
       "       1.35331618])), ('J2010$-$1323', array([1.64088108, 1.5117119 , 1.51317852, ..., 1.32771965, 1.46141822,\n",
       "       1.79438442])), ('J0218+4232', array([1.68728082, 1.36483085, 1.5049643 , ..., 1.35418189, 1.2392526 ,\n",
       "       1.63020027])), ('J1730$-$2304', array([1.73070838, 1.06856488, 2.51470995, ..., 1.68917327, 4.30262609,\n",
       "       0.67779727])), ('J1022+1001', array([1.43093065, 1.31516264, 1.26989174, ..., 2.00555473, 1.06882527,\n",
       "       1.03065524])), ('J2129$-$5721', array([0.87410332, 0.90370384, 1.4254882 , ..., 2.32562024, 1.21828008,\n",
       "       2.00263225])), ('J2145$-$0750', array([1.85347045, 1.52564017, 1.41573765, ..., 0.52164002, 2.84826379,\n",
       "       1.37122268])), ('J1640+2224', array([1.37242644, 0.85324342, 1.39885551, ..., 0.68624352, 1.96845824,\n",
       "       1.26093087])), ('J1741+1351', array([1.10911785, 1.41765587, 0.95138463, ..., 0.92835242, 1.41759383,\n",
       "       0.98721238])), ('J0034$-$0534', array([1.14452614, 1.29341461, 1.13553202, ..., 0.95653307, 1.29722499,\n",
       "       0.63544734])), ('J1738+0333', array([1.08241794, 1.164242  , 1.51168591, ..., 1.65513729, 1.51731303,\n",
       "       1.02429171])), ('J1843$-$1113', array([1.43889815, 1.13266467, 0.84873906, ..., 1.02449755, 0.62436549,\n",
       "       0.91046902])), ('J0621+1002', array([1.0635991 , 1.30540036, 0.85786863, ..., 0.96588363, 0.93132919,\n",
       "       1.00781986])), ('J2229+2643', array([1.0160432 , 0.89883143, 0.63548783, ..., 1.07286242, 0.83945586,\n",
       "       1.76971437])), ('J1911$-$1114', array([1.04711692, 0.91905126, 0.9714168 , ..., 0.77580806, 0.44341002,\n",
       "       1.29935139])), ('J1910+1256', array([1.07154563, 0.97519636, 0.7311699 , ..., 1.285269  , 1.44415207,\n",
       "       0.41354332])), ('J1903+0327', array([1.14682807, 1.13627069, 1.09351151, ..., 1.95932034, 1.16669249,\n",
       "       0.83930854])), ('J1802$-$2124', array([0.80481686, 1.161126  , 1.27185966, ..., 0.90796488, 1.28092545,\n",
       "       0.51610233])), ('J0900$-$3144', array([0.77828096, 0.80162811, 1.17790112, ..., 0.80481675, 0.98490453,\n",
       "       0.72472302])), ('J1804$-$2717', array([1.07314164, 1.18723776, 1.20429104, ..., 0.6343086 , 1.35738503,\n",
       "       1.15220074])), ('J1643$-$1224', array([1.06739896, 1.08349065, 0.68583311, ..., 0.82256021, 0.70706527,\n",
       "       0.85396613])), ('J1751$-$2857', array([1.42470605, 1.00138695, 1.04214388, ..., 1.18175575, 0.85562729,\n",
       "       1.69037717])), ('J1012+5307', array([1.09963189, 1.35738344, 1.12192145, ..., 1.52795474, 1.25275198,\n",
       "       0.63565537])), ('J1045$-$4509', array([0.82082656, 1.18512277, 0.86086945, ..., 0.85287319, 0.98028961,\n",
       "       0.82899394])), ('J1732$-$5049', array([1.06468045, 1.10760063, 0.94592592, ..., 0.94797347, 0.81415669,\n",
       "       0.81302714])), ('J1801$-$1417', array([1.27325144, 0.82078512, 0.80008401, ..., 1.14235041, 1.10311012,\n",
       "       0.67331112])), ('J0610$-$2100', array([1.08961651, 1.09904207, 1.13962696, ..., 0.66842789, 1.33182223,\n",
       "       0.74590961])), ('J0751+1807', array([1.11770572, 0.78374519, 1.67588485, ..., 0.58002829, 1.2095524 ,\n",
       "       1.38928292])), ('J2033+1734', array([0.95878967, 0.76563053, 0.78028171, ..., 0.91583346, 0.75876086,\n",
       "       0.50315666])), ('J1955+2908', array([1.38888546, 1.05983642, 0.94035043, ..., 0.75738136, 1.30963722,\n",
       "       0.7590252 ])), ('J1721$-$2457', array([0.56063268, 0.56198165, 1.00303649, ..., 0.8160588 , 0.66095016,\n",
       "       1.3958529 ])), ('J2019+2425', array([0.83692299, 0.8656215 , 1.03432885, ..., 0.51493278, 0.70283337,\n",
       "       1.16075036])), ('J1939+2134', array([1.40988255, 0.67540954, 0.69014049, ..., 1.15138582, 0.76728767,\n",
       "       0.9472739 ])), ('J2322+2057', array([0.96393603, 0.82011422, 0.83217091, ..., 1.01776837, 1.06095418,\n",
       "       0.58037958])), ('J1603$-$7202', array([1.04611694, 1.0811264 , 0.72524046, ..., 1.25169284, 0.72852967,\n",
       "       1.03342666])), ('J1824$-$2452A', array([0.96231382, 0.48717481, 0.98457008, ..., 0.34988384, 1.21885732,\n",
       "       1.72433513])), ('J1944+0907', array([1.00247559, 1.19129317, 0.92092668, ..., 1.18532134, 1.05153266,\n",
       "       0.8397397 ])), ('J1024$-$0719', array([0.64768264, 0.67157583, 0.6105775 , ..., 1.17328976, 0.87156415,\n",
       "       1.33450392])), ('J1614$-$2230', array([0.92293643, 0.99879012, 1.08532108, ..., 1.16057867, 0.61327769,\n",
       "       1.03958611])), ('J1909$-$3744', array([1.01914702, 0.89634296, 0.76133519, ..., 0.30951112, 1.19105787,\n",
       "       0.78301469])), ('J2317+1439', array([0.43738892, 0.29830153, 0.36638063, ..., 0.32361093, 0.35684455,\n",
       "       0.32715313]))])"
      ]
     },
     "execution_count": 18,
     "metadata": {},
     "output_type": "execute_result"
    }
   ],
   "source": [
    "DFs_all[lbl].items()"
   ]
  },
  {
   "cell_type": "code",
   "execution_count": 26,
   "id": "b547972f",
   "metadata": {},
   "outputs": [
    {
     "data": {
      "image/png": "[encoded data removed]",
      "text/plain": [
       "<Figure size 3000x1200 with 1 Axes>"
      ]
     },
     "metadata": {},
     "output_type": "display_data"
    }
   ],
   "source": [
    "fig, ax = plt.subplots(figsize=(10,4),dpi=300)\n",
    "ax.axhline(1, alpha=0.5, lw=1, color='k')\n",
    "for i, psr_drop in enumerate(DFs['Full DR2']):\n",
    "    # DR2 Lite\n",
    "    DF = DFs['DR2 Lite'][psr_drop]\n",
    "    yerr = DF - np.nanquantile(DFs_all['DR2 Lite'][psr_drop], [0.05,0.95])\n",
    "    ax.errorbar(x=[i], y=[DF], yerr=np.abs(yerr[:,np.newaxis]), fmt=f'oC1', capsize=5, zorder=1)\n",
    "    # Full DR2\n",
    "    DF = DFs['Full DR2'][psr_drop]\n",
    "    yerr = DF - np.nanquantile(DFs_all['Full DR2'][psr_drop], [0.05,0.95])\n",
    "    ax.errorbar(x=[i], y=[DF], yerr=np.abs(yerr[:,np.newaxis]), fmt=f'oC0', mfc='none', capsize=5, zorder=2)\n",
    "    #ax.scatter([i], [DFs['Full DR2'][psr_drop]], ec='C0', fc='none', lw=2)\n",
    "ax.set_xticks(np.arange(len(FL_psrnames)))\n",
    "ax.set_xticklabels(list(DFs['Full DR2'].keys()), rotation=90, fontsize='large')\n",
    "ax.set_ylabel('CRN Dropout Factor', fontsize='x-large')\n",
    "#if datastr == 'full' and litec:\n",
    "#    ax.set_title(f'IPTA DR2litec CRN FL Dropout analysis', fontsize='x-large')\n",
    "#else:\n",
    "#    ax.set_title(f'IPTA DR2{datastr} CRN FL Dropout analysis', fontsize='x-large')\n",
    "ax.semilogy()\n",
    "ax.grid(which='both',lw=0.3)\n",
    "fig.tight_layout()\n",
    "fig.savefig(f'{figsave}/dropout_errors.png', bbox_inches='tight', dpi=300)"
   ]
  },
  {
   "cell_type": "code",
   "execution_count": 30,
   "id": "0dbce893",
   "metadata": {
    "scrolled": true
   },
   "outputs": [
    {
     "name": "stdout",
     "output_type": "stream",
     "text": [
      "J0613$-$0200 DR2 Lite 6.7478 [-5.3341, 11.2079]\n",
      "J0613$-$0200 Full DR2 24.2220 [-8.7913, 15.9151]\n",
      "J0437$-$4715 DR2 Lite 19.5606 [-18.5845, 13.3612]\n",
      "J0437$-$4715 Full DR2 13.8386 [-10.7807, 31.7472]\n",
      "J1600$-$3053 DR2 Lite 1.0714 [-0.3625, 0.7003]\n",
      "J1600$-$3053 Full DR2 13.5028 [-6.7117, 7.0921]\n",
      "J1857+0943 DR2 Lite 12.5471 [-11.3708, 4.3233]\n",
      "J1857+0943 Full DR2 12.6208 [-7.5295, 5.4103]\n",
      "J1918$-$0642 DR2 Lite 1.5945 [-0.8334, 1.0507]\n",
      "J1918$-$0642 Full DR2 9.5546 [-2.7154, 4.8692]\n",
      "J0030+0451 DR2 Lite 2.7629 [-1.9764, 4.2646]\n",
      "J0030+0451 Full DR2 6.2590 [-3.6481, 3.9242]\n",
      "J1713+0747 DR2 Lite 0.1798 [-0.1377, 0.7341]\n",
      "J1713+0747 Full DR2 4.9376 [-0.7200, 13.3399]\n",
      "J1853+1303 DR2 Lite 1.1967 [-0.4994, 0.4464]\n",
      "J1853+1303 Full DR2 4.4289 [-2.2642, 2.8755]\n",
      "J1744$-$1134 DR2 Lite 10.8419 [-9.3492, 2.4314]\n",
      "J1744$-$1134 Full DR2 2.9467 [-0.6233, 5.9011]\n",
      "J0711$-$6830 DR2 Lite 1.4469 [-0.7358, 0.5722]\n",
      "J0711$-$6830 Full DR2 2.4593 [-0.6936, 0.9620]\n",
      "J1911+1347 DR2 Lite 2.7806 [-1.9028, 1.4228]\n",
      "J1911+1347 Full DR2 2.2674 [-0.9483, 1.1074]\n",
      "J2124$-$3358 DR2 Lite 1.0103 [-0.3478, 0.4763]\n",
      "J2124$-$3358 Full DR2 2.1101 [-0.7640, 0.8403]\n",
      "J1455$-$3330 DR2 Lite 1.2809 [-0.6386, 0.7955]\n",
      "J1455$-$3330 Full DR2 1.8264 [-0.4530, 0.9413]\n",
      "J0218+4232 DR2 Lite 2.2211 [-1.4074, 1.4191]\n",
      "J0218+4232 Full DR2 1.6502 [-0.6448, 0.8033]\n",
      "J2010$-$1323 DR2 Lite 1.5005 [-0.7059, 0.8554]\n",
      "J2010$-$1323 Full DR2 1.5505 [-0.4616, 0.7104]\n",
      "J2145$-$0750 DR2 Lite 5.0083 [-4.1756, 7.2636]\n",
      "J2145$-$0750 Full DR2 1.3782 [-0.6702, 0.9201]\n",
      "J1022+1001 DR2 Lite 3.0706 [-1.9292, 0.8245]\n",
      "J1022+1001 Full DR2 1.2804 [-0.3388, 0.5334]\n",
      "J1730$-$2304 DR2 Lite 0.9271 [-0.3323, 0.6004]\n",
      "J1730$-$2304 Full DR2 1.2706 [-0.4385, 0.8420]\n",
      "J2129$-$5721 DR2 Lite 1.2612 [-0.5143, 0.4818]\n",
      "J2129$-$5721 Full DR2 1.2635 [-0.4114, 0.6053]\n",
      "J1741+1351 DR2 Lite 1.2101 [-0.4215, 0.4715]\n",
      "J1741+1351 Full DR2 1.2445 [-0.4198, 0.4527]\n",
      "J1738+0333 DR2 Lite 1.0275 [-0.3532, 0.6354]\n",
      "J1738+0333 Full DR2 1.1674 [-0.4940, 0.7112]\n",
      "J0034$-$0534 DR2 Lite 1.1912 [-0.4999, 0.5278]\n",
      "J0034$-$0534 Full DR2 1.1251 [-0.3483, 0.6299]\n",
      "J1903+0327 DR2 Lite 0.9943 [-0.4367, 0.4305]\n",
      "J1903+0327 Full DR2 1.0816 [-0.4376, 0.4880]\n",
      "J2229+2643 DR2 Lite 1.0886 [-0.4385, 0.3701]\n",
      "J2229+2643 Full DR2 1.0702 [-0.3582, 0.5578]\n",
      "J1843$-$1113 DR2 Lite 1.0753 [-0.4046, 0.5215]\n",
      "J1843$-$1113 Full DR2 1.0553 [-0.3855, 0.5991]\n",
      "J1802$-$2124 DR2 Lite 1.0338 [-0.3819, 0.4828]\n",
      "J1802$-$2124 Full DR2 1.0519 [-0.3871, 0.4965]\n",
      "J1804$-$2717 DR2 Lite 1.0434 [-0.4176, 0.4100]\n",
      "J1804$-$2717 Full DR2 1.0392 [-0.3879, 0.5475]\n",
      "J1751$-$2857 DR2 Lite 1.0664 [-0.4470, 0.4466]\n",
      "J1751$-$2857 Full DR2 1.0318 [-0.4020, 0.4932]\n",
      "J0900$-$3144 DR2 Lite 1.0290 [-0.4690, 0.6316]\n",
      "J0900$-$3144 Full DR2 1.0232 [-0.4271, 0.6645]\n",
      "J1911$-$1114 DR2 Lite 0.9207 [-0.3229, 0.5392]\n",
      "J1911$-$1114 Full DR2 1.0192 [-0.3231, 0.5587]\n",
      "J1045$-$4509 DR2 Lite 0.9161 [-0.3400, 0.5290]\n",
      "J1045$-$4509 Full DR2 1.0151 [-0.3780, 0.4136]\n",
      "J1643$-$1224 DR2 Lite 1.2649 [-0.5277, 0.4647]\n",
      "J1643$-$1224 Full DR2 1.0060 [-0.3350, 0.4919]\n",
      "J0621+1002 DR2 Lite 1.0847 [-0.4886, 0.4464]\n",
      "J0621+1002 Full DR2 1.0020 [-0.2981, 0.6589]\n",
      "J1732$-$5049 DR2 Lite 1.0369 [-0.3650, 0.5337]\n",
      "J1732$-$5049 Full DR2 0.9905 [-0.3534, 0.4356]\n",
      "J1955+2908 DR2 Lite 1.0457 [-0.3760, 0.5815]\n",
      "J1955+2908 Full DR2 0.9871 [-0.4035, 0.4589]\n",
      "J1910+1256 DR2 Lite 1.0054 [-0.3895, 0.3913]\n",
      "J1910+1256 Full DR2 0.9866 [-0.2964, 0.5509]\n",
      "J0751+1807 DR2 Lite 1.1508 [-0.5664, 0.8452]\n",
      "J0751+1807 Full DR2 0.9802 [-0.3900, 0.4782]\n",
      "J2019+2425 DR2 Lite 0.9720 [-0.3684, 0.5426]\n",
      "J2019+2425 Full DR2 0.9795 [-0.4093, 0.4130]\n",
      "J1801$-$1417 DR2 Lite 1.0540 [-0.4847, 0.4867]\n",
      "J1801$-$1417 Full DR2 0.9697 [-0.4075, 0.5453]\n",
      "J1640+2224 DR2 Lite 0.3743 [-0.2185, 0.6629]\n",
      "J1640+2224 Full DR2 0.9695 [-0.2223, 0.9335]\n",
      "J0610$-$2100 DR2 Lite 0.9257 [-0.3393, 0.4460]\n",
      "J0610$-$2100 Full DR2 0.9666 [-0.3473, 0.4756]\n",
      "J2033+1734 DR2 Lite 0.9246 [-0.3389, 0.5299]\n",
      "J2033+1734 Full DR2 0.9501 [-0.3821, 0.5649]\n",
      "J1603$-$7202 DR2 Lite 1.0797 [-0.4329, 0.3797]\n",
      "J1603$-$7202 Full DR2 0.9475 [-0.3537, 0.3622]\n",
      "J2322+2057 DR2 Lite 1.0151 [-0.3791, 0.4766]\n",
      "J2322+2057 Full DR2 0.9346 [-0.3839, 0.4651]\n",
      "J1944+0907 DR2 Lite 0.9459 [-0.3374, 0.5052]\n",
      "J1944+0907 Full DR2 0.9258 [-0.3563, 0.3540]\n",
      "J1824$-$2452A DR2 Lite 1.0283 [-0.5520, 0.8144]\n",
      "J1824$-$2452A Full DR2 0.9084 [-0.4720, 0.6608]\n",
      "J1721$-$2457 DR2 Lite 0.9763 [-0.3745, 0.5678]\n",
      "J1721$-$2457 Full DR2 0.8700 [-0.2970, 0.6335]\n",
      "J1939+2134 DR2 Lite 0.9525 [-0.3607, 0.4936]\n",
      "J1939+2134 Full DR2 0.8698 [-0.2530, 0.4963]\n",
      "J1614$-$2230 DR2 Lite 0.8355 [-0.3191, 0.6252]\n",
      "J1614$-$2230 Full DR2 0.8607 [-0.3228, 0.3602]\n",
      "J1012+5307 DR2 Lite 0.7027 [-0.4154, 1.1811]\n",
      "J1012+5307 Full DR2 0.8530 [-0.1891, 0.6552]\n",
      "J1024$-$0719 DR2 Lite 1.1843 [-0.6868, 0.6983]\n",
      "J1024$-$0719 Full DR2 0.8194 [-0.2514, 0.4427]\n",
      "J1909$-$3744 DR2 Lite 0.0006 [-0.0006, 0.0024]\n",
      "J1909$-$3744 Full DR2 0.4894 [-0.0853, 0.9147]\n",
      "J2317+1439 DR2 Lite 1.1484 [-0.4542, 0.4759]\n",
      "J2317+1439 Full DR2 0.2644 [-0.0986, 0.2282]\n"
     ]
    }
   ],
   "source": [
    "# what are the DFs and their uncertainties?\n",
    "for psr_drop in DFs['Full DR2']:\n",
    "    for lbl in labels:\n",
    "        yerr = np.nanquantile(DFs_all[lbl][psr_drop], [0.05,0.95]) - DFs[lbl][psr_drop]\n",
    "        print(psr_drop, lbl, f'{DFs[lbl][psr_drop]:0.4f}', f\"[{yerr[0]:0.4f}, {yerr[1]:0.4f}]\")"
   ]
  },
  {
   "cell_type": "code",
   "execution_count": 197,
   "id": "3f62d7ed",
   "metadata": {},
   "outputs": [
    {
     "data": {
      "text/plain": [
       "array([0.1657564 , 0.49252549])"
      ]
     },
     "execution_count": 197,
     "metadata": {},
     "output_type": "execute_result"
    }
   ],
   "source": [
    "np.nanquantile(DFs_all[lbl][psr_drop], [0.05,0.95])"
   ]
  },
  {
   "cell_type": "code",
   "execution_count": 202,
   "id": "8d4eb25c",
   "metadata": {},
   "outputs": [
    {
     "data": {
      "text/plain": [
       "array(['J0030+0451', 'J0034-0534', 'J0218+4232', 'J0437-4715',\n",
       "       'J0613-0200', 'J0621+1002', 'J1012+5307', 'J1022+1001',\n",
       "       'J1024-0719', 'J1455-3330', 'J1600-3053', 'J1640+2224',\n",
       "       'J1643-1224', 'J1713+0747', 'J1744-1134', 'J1857+0943',\n",
       "       'J1909-3744', 'J1918-0642', 'J1939+2134', 'J2145-0750',\n",
       "       'J2317+1439'], dtype='<U10')"
      ]
     },
     "execution_count": 202,
     "metadata": {},
     "output_type": "execute_result"
    }
   ],
   "source": [
    "psrnames"
   ]
  },
  {
   "cell_type": "code",
   "execution_count": 165,
   "id": "940e06a7",
   "metadata": {},
   "outputs": [
    {
     "data": {
      "text/plain": [
       "array([ 0.33947296, -0.63315227])"
      ]
     },
     "execution_count": 165,
     "metadata": {},
     "output_type": "execute_result"
    }
   ],
   "source": [
    "DF_med - np.quantile(DFs_all[lbl][psr_drop], [0.05,0.95])"
   ]
  },
  {
   "cell_type": "code",
   "execution_count": null,
   "id": "64d0e6ec",
   "metadata": {},
   "outputs": [],
   "source": []
  }
 ],
 "metadata": {
  "kernelspec": {
   "display_name": "Python 3 (ipykernel)",
   "language": "python",
   "name": "python3"
  },
  "language_info": {
   "codemirror_mode": {
    "name": "ipython",
    "version": 3
   },
   "file_extension": ".py",
   "mimetype": "text/x-python",
   "name": "python",
   "nbconvert_exporter": "python",
   "pygments_lexer": "ipython3",
   "version": "3.10.12"
  }
 },
 "nbformat": 4,
 "nbformat_minor": 5
}
