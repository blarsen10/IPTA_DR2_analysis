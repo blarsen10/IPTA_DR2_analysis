{
 "cells": [
  {
   "cell_type": "code",
   "execution_count": null,
   "id": "491646f0",
   "metadata": {},
   "outputs": [],
   "source": [
    "%load_ext autoreload\n",
    "%autoreload 2\n",
    "%matplotlib inline\n",
    "%config IPython.matplotlib.backend = \"retina\"\n",
    "from matplotlib import rcParams\n",
    "from matplotlib import lines as mlines\n",
    "rcParams[\"savefig.dpi\"] = 300\n",
    "rcParams[\"figure.dpi\"] = 300"
   ]
  },
  {
   "cell_type": "code",
   "execution_count": null,
   "id": "001b47c3",
   "metadata": {},
   "outputs": [],
   "source": [
    "import matplotlib as mpl\n",
    "default_colors = mpl.rcParams['axes.prop_cycle'].by_key()['color']"
   ]
  },
  {
   "cell_type": "code",
   "execution_count": null,
   "id": "e6875242",
   "metadata": {},
   "outputs": [],
   "source": [
    "import numpy as np\n",
    "import matplotlib.pyplot as plt\n",
    "import json, os, pickle, glob\n",
    "import tqdm\n",
    "import corner\n",
    "import scipy.linalg as sl\n",
    "import logging\n",
    "logger = logging.getLogger(__name__)"
   ]
  },
  {
   "cell_type": "code",
   "execution_count": null,
   "id": "23448fd8",
   "metadata": {},
   "outputs": [],
   "source": [
    "from scipy.linalg import LinAlgError\n",
    "import la_forge.diagnostics as dg\n",
    "import la_forge.core as co\n",
    "from la_forge.rednoise import gorilla_bf\n",
    "from la_forge.utils import epoch_ave_resid\n",
    "from h5pulsar import FilePulsar\n",
    "from enterprise.signals.utils import ConditionalGP\n",
    "#from la_forge.gp import Signal_Reconstruction\n",
    "from enterprise.signals import parameter, signal_base, utils, gp_signals, selections\n",
    "from enterprise_extensions import chromatic as chrom\n",
    "import enterprise.constants as const\n",
    "from enterprise_extensions.empirical_distr import EmpiricalDistribution1D, EmpiricalDistribution2D\n",
    "from collections import OrderedDict\n",
    "DM_K = float(2.41e-4)"
   ]
  },
  {
   "cell_type": "code",
   "execution_count": null,
   "id": "9e9b97f8",
   "metadata": {},
   "outputs": [],
   "source": [
    "from IPTA_DR2_analysis.model_blocks import adv_noise_block"
   ]
  },
  {
   "cell_type": "code",
   "execution_count": null,
   "id": "7bc4dd20",
   "metadata": {},
   "outputs": [],
   "source": [
    "from dr3_noise import post_processing_utils as ppu\n",
    "from dr3_noise import plot_utils as pu\n",
    "from dr3_noise.models import model_singlepsr_noise"
   ]
  },
  {
   "cell_type": "markdown",
   "id": "4af99667",
   "metadata": {},
   "source": [
    "## Compare the noise properties of lite vs lite-combined vs full\n",
    "\n",
    "Some things to make include the following:\n",
    "- Done: Overplot white noise and red noise parameters for each pulsar (1D hists)\n",
    "- Done: Overplot red noise parameters for each pulsar (corners)\n",
    "- Done: Overplot GP realizations for each pulsar\n",
    "    - Overplot GPs with adjustments (upper limit draws, same Tspans)\n",
    "- Compare all pulsars with significant red noise (all psrs 68% intervals on the same plot)\n",
    "    - lite pulsars: labelled, colored\n",
    "    - lite-combined pulsars: labelled, colored, lighter alpha\n",
    "    - full pulsars: grey, unlabelled, lighter alpha\n",
    "- Same comparison plot as above for DM\n",
    "- Intrisic noise comparison using full PTA CRN search\n",
    "    - Could also try this with CRN 13/3, CRN varied gamma, HD 13/3, or HD varied gamma (latter is probably best)"
   ]
  },
  {
   "cell_type": "code",
   "execution_count": null,
   "id": "4dc7bcd9",
   "metadata": {},
   "outputs": [],
   "source": [
    "def make_labels(params, psrname, add_psrname=True):\n",
    "    labels = []\n",
    "    if add_psrname:\n",
    "        add = psrname+'\\n'\n",
    "    else:\n",
    "        add = ''\n",
    "    for p in params:\n",
    "        if 'dm_gp_gamma' in p:\n",
    "            labels.append(add+r'$\\gamma_{\\rm{DM}}$')\n",
    "        elif 'dm_gp_log10_A' in p:\n",
    "            labels.append(add+r'$\\log_{10}A_{\\rm{DM}}$')\n",
    "        elif 'chrom_gp_gamma' in p:\n",
    "            labels.append(add+r'$\\gamma_{\\rm{Chr}}$')\n",
    "        elif 'chrom_gp_log10_A' in p:\n",
    "            labels.append(add+r'$\\log_{10}A_{\\rm{Chr}}$')\n",
    "        elif 'chrom_gp_idx' in p:\n",
    "            labels.append(add+r'$\\chi_{\\rm{Chr}}$')\n",
    "        elif 'hf_red_noise_gamma' in p:\n",
    "            labels.append(add+r'$\\gamma_{\\rm{HF}}$')\n",
    "        elif 'hf_red_noise_log10_A' in p:\n",
    "            labels.append(add+r'$\\log_{10}A_{\\rm{HF}}$')\n",
    "        elif 'red_noise_gamma' in p:\n",
    "            labels.append(add+r'$\\gamma_{\\rm{RN}}$')\n",
    "        elif 'red_noise_log10_A' in p:\n",
    "            labels.append(add+r'$\\log_{10}A_{\\rm{RN}}$')\n",
    "        elif p == 'crn_log10_A':\n",
    "            labels.append(r'$\\log_{10}A_{\\rm{CRN}}$')\n",
    "        elif p == 'crn_gamma':\n",
    "            labels.append(r'$\\gamma_{\\rm{CRN}}$')\n",
    "        elif 'sw_gp_log10_sigma_ne' in p:\n",
    "            labels.append(r'$\\log_{10}\\sigma_{n_E}$')\n",
    "        elif 'exp1_log10_Amp' in p:\n",
    "            labels.append(add+r'$\\log_{10}A_{\\rm{exp}}$')\n",
    "        elif 'exp1_log10_tau' in p:\n",
    "            labels.append(add+r'$\\log_{10}\\tau_{\\rm{exp}}$')\n",
    "        elif 'exp1_t0' in p:\n",
    "            labels.append(add+r'$t_{\\rm{exp}}$')\n",
    "        elif 'exp1_idx' in p:\n",
    "            labels.append(add+r'$\\chi_{\\rm{exp}}$')\n",
    "        else:\n",
    "            labels.append(p)\n",
    "    return labels"
   ]
  },
  {
   "cell_type": "code",
   "execution_count": null,
   "id": "4c2edb46",
   "metadata": {},
   "outputs": [],
   "source": [
    "project_path = '/vast/palmer/home.grace/bbl29/IPTA_DR2_analysis'\n",
    "figsave_dir = f'{project_path}/figs/dataset_comparisons/noise'\n",
    "full_dataset = f'{project_path}/data/full_ePSRs'\n",
    "lite_dataset = f'{project_path}/data/lite_unfiltered_53_ePSRs'\n",
    "full_coredir = f'/vast/palmer/home.grace/bbl29/project/IPTA_DR2_analysis/dr2full/advnoise'\n",
    "lite_coredir = f'/vast/palmer/home.grace/bbl29/project/IPTA_DR2_analysis/dr2lite_unfiltered/advnoise'\n",
    "full_noisedict_path = f'{project_path}/noisedicts/dr2full_advnoise.json'\n",
    "lite_noisedict_path = f'{project_path}/noisedicts/dr2lite_unfiltered_advnoise.json'\n",
    "full_pardir = f'{project_path}/data/full_partim_hotfix_sw'\n",
    "lite_pardir = f'{project_path}/data/lite_unfiltered_partim_final_hotfix_sw'"
   ]
  },
  {
   "cell_type": "code",
   "execution_count": null,
   "id": "ca2d4c83",
   "metadata": {},
   "outputs": [],
   "source": [
    "with open(full_noisedict_path,'r') as f:\n",
    "    full_noise_params = json.load(f)\n",
    "with open(lite_noisedict_path,'r') as f:\n",
    "    lite_noise_params = json.load(f)"
   ]
  },
  {
   "cell_type": "code",
   "execution_count": null,
   "id": "8e4c1aa1",
   "metadata": {
    "scrolled": true
   },
   "outputs": [],
   "source": [
    "full_psrs = []\n",
    "psr_paths = np.sort(glob.glob(f'{full_dataset}/J*'))\n",
    "for psr_path in psr_paths:\n",
    "    with open(psr_path,'rb') as f:\n",
    "        full_psrs.append(FilePulsar(f))\n",
    "full_psrnames = [psr.name for psr in full_psrs]\n",
    "lite_psrs = []\n",
    "psr_paths = np.sort(glob.glob(f'{lite_dataset}/J*'))\n",
    "for psr_path in psr_paths:\n",
    "    with open(psr_path,'rb') as f:\n",
    "        lite_psrs.append(pickle.load(f))\n",
    "lite_psrnames = [psr.name for psr in lite_psrs]"
   ]
  },
  {
   "cell_type": "code",
   "execution_count": null,
   "id": "12bf15d1",
   "metadata": {},
   "outputs": [],
   "source": [
    "# drop 4 pulsars with no multi-PTA measurements in Full\n",
    "drop_psrnames = [lite_psrnames[i] for i, psr in enumerate(full_psrs) if len(np.unique(psr.flags['pta']))==1]\n",
    "drop_psrnames, len(drop_psrnames), len(lite_psrnames) - len(drop_psrnames)"
   ]
  },
  {
   "cell_type": "code",
   "execution_count": null,
   "id": "17ce5e11",
   "metadata": {},
   "outputs": [],
   "source": [
    "# load cores\n",
    "full_cores = {}\n",
    "lite_cores = {}\n",
    "for psrname in full_psrnames:\n",
    "    full_cores[psrname] = co.Core(corepath=f'{full_coredir}/{psrname}/core.h5', burn=0)\n",
    "for psrname in lite_psrnames:\n",
    "    lite_cores[psrname] = co.Core(corepath=f'{lite_coredir}/{psrname}/core.h5', burn=0)"
   ]
  },
  {
   "cell_type": "markdown",
   "id": "f5d2af51",
   "metadata": {},
   "source": [
    "## Compare data cadence"
   ]
  },
  {
   "cell_type": "code",
   "execution_count": null,
   "id": "0140003e",
   "metadata": {
    "scrolled": true
   },
   "outputs": [],
   "source": [
    "cadences = {}\n",
    "for psrname in lite_psrnames:\n",
    "    lp = [p for p in lite_psrs if p.name == psrname][0]\n",
    "    fp = [p for p in full_psrs if p.name == psrname][0]\n",
    "    dt_lite = lp.toas[1:]-lp.toas[:-1]\n",
    "    dt_full = fp.toas[1:]-fp.toas[:-1]\n",
    "    # To avoid overweighting the subbanded NANOGrav data, the cadence must be at least half a day\n",
    "    dt_lite = dt_lite[dt_lite/const.day > 0.5]\n",
    "    dt_full = dt_full[dt_full/const.day > 0.5]\n",
    "    cadences[psrname] = {'lite':const.day/np.mean(dt_lite)}\n",
    "    cadences[psrname]['full'] = const.day/np.mean(dt_full)\n",
    "    cadences[psrname]['factor'] = cadences[psrname]['full']/cadences[psrname]['lite']\n",
    "for psrname in cadences:\n",
    "    print(psrname, cadences[psrname]['factor'])"
   ]
  },
  {
   "cell_type": "code",
   "execution_count": null,
   "id": "c39ece46",
   "metadata": {},
   "outputs": [],
   "source": [
    "mean_BWs = {}\n",
    "for psrname in lite_psrnames:\n",
    "    mean_BWs[psrname] = {}\n",
    "    lp = [p for p in lite_psrs if p.name == psrname][0]\n",
    "    fp = [p for p in full_psrs if p.name == psrname][0]\n",
    "    # lite\n",
    "    dts = np.arange(np.min(lp.toas), np.max(lp.toas), 14*const.day)\n",
    "    BWs = []\n",
    "    for i in range(len(dts)-1):\n",
    "        try:\n",
    "            max_nu = np.max(lp.freqs[(lp.toas <= dts[i+1])*(lp.toas >= dts[i])])\n",
    "            min_nu = np.min(lp.freqs[(lp.toas <= dts[i+1])*(lp.toas >= dts[i])])\n",
    "            BWs.append(max_nu/min_nu)\n",
    "        except:\n",
    "            pass\n",
    "    mean_BWs[psrname]['lite'] = np.mean(BWs)\n",
    "    # full\n",
    "    dts = np.arange(np.min(fp.toas), np.max(fp.toas), 14*const.day)\n",
    "    BWs = []\n",
    "    for i in range(len(dts)-1):\n",
    "        try:\n",
    "            max_nu = np.max(fp.freqs[(fp.toas <= dts[i+1])*(fp.toas >= dts[i])])\n",
    "            min_nu = np.min(fp.freqs[(fp.toas <= dts[i+1])*(fp.toas >= dts[i])])\n",
    "            BWs.append(max_nu/min_nu)\n",
    "        except:\n",
    "            pass\n",
    "    mean_BWs[psrname]['full'] = np.mean(BWs)\n",
    "#mean_BWs\n",
    "for psrname in mean_BWs:\n",
    "    print(psrname, mean_BWs[psrname]['full']/mean_BWs[psrname]['lite'])"
   ]
  },
  {
   "cell_type": "markdown",
   "id": "4053b5b3",
   "metadata": {},
   "source": [
    "## Compare white noise"
   ]
  },
  {
   "cell_type": "code",
   "execution_count": null,
   "id": "8f36f115",
   "metadata": {
    "scrolled": true
   },
   "outputs": [],
   "source": [
    "for psrname in ['J1713+0747']:#lite_psrnames:\n",
    "    params = [p for p in lite_cores[psrname].params if 'efac' in p or 'equad' in p or 'ecorr' in p]\n",
    "    full_Tspan = [(psr.toas.max() - psr.toas.min())/const.yr for psr in full_psrs if psr.name == psrname][0]\n",
    "    lite_Tspan = [(psr.toas.max() - psr.toas.min())/const.yr for psr in lite_psrs if psr.name == psrname][0]\n",
    "    psr = [p for p in lite_psrs if p.name == psrname][0]\n",
    "    pta = psr.flags['pta'][0]\n",
    "    ncols = 4\n",
    "    if pta == \"NANOGrav\":\n",
    "        ncols = 6\n",
    "    dg.plot_chains([full_cores[psrname], lite_cores[psrname]], ncols=ncols, pars=params,\n",
    "                   legend_labels=[f'DR2 \\nTspan={full_Tspan:2.1f} yr',\n",
    "                                  f'DR2lite ({pta}) \\nTspan={lite_Tspan:2.1f} yr'], \n",
    "                   save=f'{figsave_dir}/{psrname}_wn.png')"
   ]
  },
  {
   "cell_type": "markdown",
   "id": "a18a4b23",
   "metadata": {},
   "source": [
    "Another thing we can try is to check every unique hite noise parameter, and make a box plot of how those parameters change"
   ]
  },
  {
   "cell_type": "code",
   "execution_count": null,
   "id": "3694250b",
   "metadata": {},
   "outputs": [],
   "source": [
    "wn_params = []\n",
    "for psrname in lite_cores:\n",
    "    wn_params.extend([p.replace(f'{psrname}_','') for p in lite_cores[psrname].params\n",
    "                      if 'efac' in p or 'equad' in p or 'ecorr' in p]) \n",
    "wn_params = np.unique(wn_params)\n",
    "#\n",
    "wn_psrs = {}\n",
    "for p in wn_params:\n",
    "    psr_list = []\n",
    "    for psrname in lite_cores:\n",
    "        if f'{psrname}_{p}' in lite_cores[psrname].params:\n",
    "            psr_list.append(psrname)\n",
    "    wn_psrs[p] = psr_list\n",
    "wn_psrs"
   ]
  },
  {
   "cell_type": "code",
   "execution_count": null,
   "id": "f0cac6fe",
   "metadata": {},
   "outputs": [],
   "source": [
    "len(wn_psrs)/6"
   ]
  },
  {
   "cell_type": "code",
   "execution_count": null,
   "id": "f89f6f4f",
   "metadata": {
    "scrolled": true
   },
   "outputs": [],
   "source": [
    "# Do the distributions overlap?\n",
    "fig, axes = plt.subplots(14,6, figsize=(6*2,14*2))\n",
    "axes = np.array(axes).flatten()\n",
    "for i, param in enumerate(wn_psrs):\n",
    "    if 'efac' in param:\n",
    "        color = 'C0'\n",
    "    if 'equad' in param:\n",
    "        color = 'C1'\n",
    "    if 'ecorr' in param:\n",
    "        color = 'C2'\n",
    "    for j, psrname in enumerate(wn_psrs[param]):\n",
    "        param_name = f'{psrname}_{param}'\n",
    "        axes[i].hist(lite_cores[psrname](param_name), density=True, bins=30, color='k', histtype='step')\n",
    "        axes[i].hist(full_cores[psrname](param_name), density=True, bins=30, color=color, histtype='step')\n",
    "    axes[i].set_xlabel(param)\n",
    "    axes[i].set_yticks([])\n",
    "fig.tight_layout()"
   ]
  },
  {
   "cell_type": "code",
   "execution_count": null,
   "id": "763daf08",
   "metadata": {},
   "outputs": [],
   "source": [
    "# What about differences in Bayes factors?\n",
    "eq_BF_ratios = {}\n",
    "ec_BF_ratios = {}\n",
    "for i, param in enumerate(wn_psrs):\n",
    "    for j, psrname in enumerate(wn_psrs[param]):\n",
    "        param_name = f'{psrname}_{param}'\n",
    "        lite_BF = gorilla_bf(lite_cores[psrname](param_name), max=-4, min=-10)\n",
    "        full_BF = gorilla_bf(full_cores[psrname](param_name), max=-4, min=-10)\n",
    "        if np.isnan(lite_BF) and np.isnan(full_BF):\n",
    "            BF_ratio = np.nan\n",
    "        elif np.isnan(lite_BF):\n",
    "            lite_BF = np.inf\n",
    "        elif np.isnan(full_BF):\n",
    "            full_BF = np.inf\n",
    "        else:\n",
    "            BF_ratio = full_BF/lite_BF\n",
    "        if 'equad' in param:\n",
    "            eq_BF_ratios[param_name] = BF_ratio\n",
    "        elif 'ecorr' in param:\n",
    "            ec_BF_ratios[param_name] = BF_ratio\n",
    "#eq_BF_ratios, ec_BF_ratios"
   ]
  },
  {
   "cell_type": "code",
   "execution_count": null,
   "id": "afba3ff6",
   "metadata": {},
   "outputs": [],
   "source": [
    "for param in eq_BF_ratios:\n",
    "    if eq_BF_ratios[param] > 10 or eq_BF_ratios[param] < 0.01:\n",
    "        print(param, eq_BF_ratios[param])"
   ]
  },
  {
   "cell_type": "code",
   "execution_count": null,
   "id": "24da9258",
   "metadata": {},
   "outputs": [],
   "source": [
    "for param in ec_BF_ratios:\n",
    "    if ec_BF_ratios[param] > 10 or ec_BF_ratios[param] < 0.01:\n",
    "        print(param, ec_BF_ratios[param])"
   ]
  },
  {
   "cell_type": "markdown",
   "id": "ee539005",
   "metadata": {},
   "source": [
    "### Get White noise RMS across same set of TOAs"
   ]
  },
  {
   "cell_type": "code",
   "execution_count": null,
   "id": "b63d767d",
   "metadata": {
    "scrolled": true
   },
   "outputs": [],
   "source": [
    "lite_RMS_errs = {}\n",
    "full_RMS_errs = {}\n",
    "full_RMS_all_errs = {}\n",
    "n_realizations = 3000\n",
    "for psrname in lite_psrnames:\n",
    "    print(psrname)\n",
    "    # test getting the N matrix\n",
    "    lite_RMS_errs[psrname] = np.zeros(n_realizations)\n",
    "    full_RMS_errs[psrname] = np.zeros(n_realizations)\n",
    "    full_RMS_all_errs[psrname] = np.zeros(n_realizations)\n",
    "    lite_psr = [psr for psr in lite_psrs if psr.name == psrname][0]\n",
    "    full_psr = [psr for psr in full_psrs if psr.name == psrname][0]\n",
    "    lite_pta = adv_noise_block(lite_psr, full_pta_analysis=False, dataset='lite', psr_model=False,\n",
    "                               tm_marg=False, tm_svd=False, gp_ecorr=True)\n",
    "    full_pta = adv_noise_block(full_psr, full_pta_analysis=False, dataset='full', psr_model=False,\n",
    "                               tm_marg=False, tm_svd=False, gp_ecorr=True)\n",
    "    for i in tqdm.tqdm(range(n_realizations)):\n",
    "        # lite - use all data\n",
    "        rand_idx = np.random.choice(np.arange(len(lite_cores[psrname]('lnlike'))))\n",
    "        sample = {param:lite_cores[psrname](param)[rand_idx] for param in lite_cores[psrname].params}\n",
    "        Ndiag = lite_pta.get_ndiag(sample)[0]\n",
    "        lite_RMS_errs[psrname][i] = np.sqrt(np.sum(Ndiag)/len(Ndiag))\n",
    "        # full - apply mask to use only the same TOAs as in lite\n",
    "        rand_idx = np.random.choice(np.arange(len(full_cores[psrname]('lnlike'))))\n",
    "        sample = {param:full_cores[psrname](param)[rand_idx] for param in full_cores[psrname].params}\n",
    "        mask = np.isin(full_psr.toas, lite_psr.toas)\n",
    "        Ndiag = full_pta.get_ndiag(sample)[0]\n",
    "        full_RMS_errs[psrname][i] = np.sqrt(np.sum(Ndiag[mask])/len(Ndiag[mask]))\n",
    "        full_RMS_all_errs[psrname][i] = np.sqrt(np.sum(Ndiag)/len(Ndiag))\n",
    "        # noiseless - assume no efac equad, or ecorr\n",
    "        for param in lite_cores[psrname].params:\n",
    "            if 'efac' in param:\n",
    "                sample[param] = 1\n",
    "            elif 'equad' in param or 'ecorr' in param:\n",
    "                sample[param] = -np.inf\n",
    "        Ndiag = lite_pta.get_ndiag(sample)[0]"
   ]
  },
  {
   "cell_type": "code",
   "execution_count": null,
   "id": "703f1cf6",
   "metadata": {
    "scrolled": true
   },
   "outputs": [],
   "source": [
    "noiseless_RMS_errs = {}\n",
    "for psrname in lite_psrnames:\n",
    "    lite_psr = [psr for psr in lite_psrs if psr.name == psrname][0]\n",
    "    lite_pta = adv_noise_block(lite_psr, full_pta_analysis=False, dataset='lite', psr_model=False,\n",
    "                               tm_marg=False, tm_svd=False, gp_ecorr=True)\n",
    "    rand_idx = np.random.choice(np.arange(len(lite_cores[psrname]('lnlike'))))\n",
    "    sample = {param:lite_cores[psrname](param)[rand_idx] for param in lite_cores[psrname].params}\n",
    "    for param in lite_cores[psrname].params:\n",
    "        if 'efac' in param:\n",
    "            sample[param] = 1\n",
    "        elif 'equad' in param or 'ecorr' in param:\n",
    "            sample[param] = -np.inf\n",
    "    Ndiag = lite_pta.get_ndiag(sample)[0]\n",
    "    noiseless_RMS_errs[psrname] = np.sqrt(np.sum(Ndiag)/len(Ndiag))"
   ]
  },
  {
   "cell_type": "code",
   "execution_count": null,
   "id": "5150367c",
   "metadata": {},
   "outputs": [],
   "source": [
    "53/6"
   ]
  },
  {
   "cell_type": "code",
   "execution_count": null,
   "id": "775ccbcb",
   "metadata": {},
   "outputs": [],
   "source": [
    "fig, axes = plt.subplots(3,6,figsize=(6*2, 3*2))\n",
    "axes = np.array(axes).flatten()\n",
    "for i, psrname in enumerate(lite_psrnames):\n",
    "    axes[i].hist(lite_RMS_errs[psrname]*1e6, color='C1', density=True, bins=30, histtype='step')\n",
    "    axes[i].hist(full_RMS_errs[psrname]*1e6, color='C0', density=True, bins=30, histtype='step')\n",
    "    axes[i].set_xlabel(r'White noise RMS ($\\mu$s)')\n",
    "    axes[i].set_title(f'PSR {psrname}')\n",
    "    axes[i].axvline(noiseless_RMS_errs[psrname]*1e6, color='k', ls='--')\n",
    "handles = [mlines.Line2D([],[],color='C0',label='Full DR2')]\n",
    "handles += [mlines.Line2D([],[],color='C1',label='DR2 Lite')]\n",
    "handles += [mlines.Line2D([],[],color='k',ls='--',label='Original TOA error')]\n",
    "fig.legend(handles=handles, loc='lower right', bbox_to_anchor=(1, 0.15))\n",
    "fig.delaxes(axes[-1])\n",
    "fig.tight_layout()\n",
    "fig.savefig(f'{figsave_dir}/RMS_same_toas.png', bbox_inches='tight', dpi=400)\n",
    "plt.show()"
   ]
  },
  {
   "cell_type": "markdown",
   "id": "ed7f9ca4",
   "metadata": {},
   "source": [
    "### Get White noise RMS across each dataset"
   ]
  },
  {
   "cell_type": "code",
   "execution_count": null,
   "id": "d599ae30",
   "metadata": {},
   "outputs": [],
   "source": [
    "full_noiseless_RMS_errs = {}\n",
    "for psrname in lite_psrnames:\n",
    "    full_psr = [psr for psr in full_psrs if psr.name == psrname][0]\n",
    "    full_pta = adv_noise_block(full_psr, full_pta_analysis=False, dataset='lite', psr_model=False,\n",
    "                               tm_marg=False, tm_svd=False, gp_ecorr=True)\n",
    "    rand_idx = np.random.choice(np.arange(len(full_cores[psrname]('lnlike'))))\n",
    "    sample = {param:full_cores[psrname](param)[rand_idx] for param in full_cores[psrname].params}\n",
    "    for param in full_cores[psrname].params:\n",
    "        if 'efac' in param:\n",
    "            sample[param] = 1\n",
    "        elif 'equad' in param or 'ecorr' in param:\n",
    "            sample[param] = -np.inf\n",
    "    Ndiag = full_pta.get_ndiag(sample)[0]\n",
    "    full_noiseless_RMS_errs[psrname] = np.sqrt(np.sum(Ndiag)/len(Ndiag))"
   ]
  },
  {
   "cell_type": "code",
   "execution_count": null,
   "id": "1f198ad8",
   "metadata": {},
   "outputs": [],
   "source": [
    "fig, axes = plt.subplots(3,6,figsize=(6*2, 3*2))\n",
    "axes = np.array(axes).flatten()\n",
    "for i, psrname in enumerate(lite_psrnames):\n",
    "    axes[i].hist(lite_RMS_errs[psrname]*1e6, color='C1', density=True, bins=30, histtype='step')\n",
    "    axes[i].hist(full_RMS_all_errs[psrname]*1e6, color='C0', density=True, bins=30, histtype='step')\n",
    "    axes[i].set_xlabel(r'White noise RMS ($\\mu$s)')\n",
    "    axes[i].set_title(f'PSR {psrname}')\n",
    "    axes[i].axvline(noiseless_RMS_errs[psrname]*1e6, color='C1', ls='--')\n",
    "    axes[i].axvline(full_noiseless_RMS_errs[psrname]*1e6, color='C0', ls='--')\n",
    "handles = [mlines.Line2D([],[],color='C0',label='Full DR2')]\n",
    "handles += [mlines.Line2D([],[],color='C1',label='DR2 Lite')]\n",
    "handles += [mlines.Line2D([],[],color='C0',ls='--',label='Full DR2 TOA error')]\n",
    "handles += [mlines.Line2D([],[],color='C1',ls='--',label='DR2 Lite TOA error')]\n",
    "fig.legend(handles=handles, loc='lower right', bbox_to_anchor=(1, 0.15))\n",
    "fig.delaxes(axes[-1])\n",
    "fig.tight_layout()\n",
    "fig.savefig(f'{figsave_dir}/RMS_all_toas.png', bbox_inches='tight', dpi=400)\n",
    "plt.show()"
   ]
  },
  {
   "cell_type": "markdown",
   "id": "68fd6b40",
   "metadata": {},
   "source": [
    "## Make table of signal significances\n",
    "\n",
    "We are interested not in what the noise parameters are, but whether we detect them at all!"
   ]
  },
  {
   "cell_type": "code",
   "execution_count": null,
   "id": "ef60d967",
   "metadata": {
    "scrolled": false
   },
   "outputs": [],
   "source": [
    "table = []\n",
    "for psrname in lite_psrnames:\n",
    "    if psrname in drop_psrnames:\n",
    "        continue\n",
    "    line = []\n",
    "    line.append(psrname)\n",
    "    if psrname == 'J1012+5307':\n",
    "        params = [f'{psrname}_hf_red_noise_log10_A', f'{psrname}_dm_gp_log10_A']\n",
    "    else:\n",
    "        params = [f'{psrname}_red_noise_log10_A', f'{psrname}_dm_gp_log10_A']\n",
    "    if f'{psrname}_chrom_gp_log10_A' in lite_cores[psrname].params:\n",
    "        params += [f'{psrname}_chrom_gp_log10_A']\n",
    "    else:\n",
    "        params += [None]\n",
    "    if f'{psrname}_sw_gp_log10_sigma_ne' in lite_cores[psrname].params:\n",
    "        params += [f'{psrname}_sw_gp_log10_sigma_ne']\n",
    "    else:\n",
    "        params += [None]\n",
    "    for core in [lite_cores[psrname], full_cores[psrname]]:\n",
    "        # red noise first\n",
    "        for param in params:\n",
    "            #bf_conds = [psrname == 'J0613-0200' and core == lite_cores[psrname] and 'dm_gp' in params]\n",
    "            if param is None:\n",
    "                line.append('$-$')\n",
    "            else:\n",
    "                if 'sw_gp' in param:\n",
    "                    BF = gorilla_bf(core(param), max=2, min=-4)\n",
    "                else:\n",
    "                    BF = gorilla_bf(core(param), max=-11, min=-20)\n",
    "                if np.isnan(BF):\n",
    "                    line.append(r'$>\\mathbf{10^3}$')\n",
    "                elif BF > 10:# or np.any(bf_conds):\n",
    "                    #if np.any(bf_conds):\n",
    "                    #    print(psrname)\n",
    "                    line.append(fr'$\\mathbf{{{BF:0.1f}}}$')\n",
    "                else:\n",
    "                    line.append(fr'${BF:0.1f}$')\n",
    "    table.append(' & '.join(line))\n",
    "print(' \\\\\\ \\n'.join(table))"
   ]
  },
  {
   "cell_type": "code",
   "execution_count": null,
   "id": "ddccb952",
   "metadata": {},
   "outputs": [],
   "source": [
    "all_pars = []\n",
    "for psrname in lite_psrnames:\n",
    "    pars = [p.replace(f'{psrname}_','') for p in lite_cores[psrname].params if not 'efac' in p\n",
    "            and not 'equad' in p and not 'ecorr' in p]\n",
    "    all_pars.extend(pars)\n",
    "np.unique(all_pars)"
   ]
  },
  {
   "cell_type": "markdown",
   "id": "c5f95f9e",
   "metadata": {},
   "source": [
    "## Compare noise corners"
   ]
  },
  {
   "cell_type": "code",
   "execution_count": null,
   "id": "229ac0fe",
   "metadata": {
    "scrolled": true
   },
   "outputs": [],
   "source": [
    "for psrname in lite_psrnames:\n",
    "    if psrname in drop_psrnames:\n",
    "        continue\n",
    "    params = [p for p in lite_cores[psrname].params if 'gp' in p or 'red_noise' in p or 'exp' in p]\n",
    "    labels = make_labels(params, psrname, add_psrname=False)\n",
    "    # full\n",
    "    full_Tspan = [(psr.toas.max() - psr.toas.min())/const.yr for psr in full_psrs if psr.name == psrname][0]\n",
    "    p_idxs = [full_cores[psrname].params.index(p) for p in params]\n",
    "    fig = corner.corner(full_cores[psrname].chain[:,p_idxs], levels=(0.68,0.95), labels=labels,\n",
    "                        color='k', plot_density=False, plot_datapoints=False,\n",
    "                        no_fill_contours=True, hist_kwargs={'density':True},\n",
    "                        label_kwargs={'fontsize':20})\n",
    "    # lite\n",
    "    lite_Tspan = [(psr.toas.max() - psr.toas.min())/const.yr for psr in lite_psrs if psr.name == psrname][0]\n",
    "    pta = [np.unique(psr.flags['pta'])[0] for psr in lite_psrs if psr.name == psrname][0]\n",
    "    p_idxs = [lite_cores[psrname].params.index(p) for p in params]\n",
    "    fig = corner.corner(lite_cores[psrname].chain[:,p_idxs], levels=(0.68,0.95), fig=fig,\n",
    "                        color='C0', plot_density=False, plot_datapoints=True,\n",
    "                        no_fill_contours=True, hist_kwargs={'density':True},\n",
    "                        label_kwargs={'fontsize':20})\n",
    "    lines = [mlines.Line2D([],[],color='k',label=f'DR2 \\nTspan={full_Tspan:2.1f} yr')]\n",
    "    lines += [mlines.Line2D([],[],color='C0',label=f'DR2lite ({pta}) \\nTspan={lite_Tspan:2.1f} yr')]\n",
    "    fig.legend(handles=lines, fontsize=20)\n",
    "    fig.suptitle(f'PSR {psrname}', fontsize=30, x=0.3, y=1.01)\n",
    "    fig.savefig(f'{figsave_dir}/{psrname}_corner.png', dpi=300, bbox_inches='tight')\n",
    "    plt.show()"
   ]
  },
  {
   "cell_type": "code",
   "execution_count": null,
   "id": "3c9a9ea2",
   "metadata": {
    "scrolled": true
   },
   "outputs": [],
   "source": [
    "for psrname in lite_psrnames:\n",
    "    fig, ax = plt.subplots(figsize=(8,3))\n",
    "    psr1 = [p for p in full_psrs if p.name == psrname][0]\n",
    "    psr2 = [p for p in lite_psrs if p.name == psrname][0]\n",
    "    pta = psr2.flags['pta'][0]\n",
    "    mask = psr1.flags['pta'] == pta\n",
    "    ax.errorbar(psr1.toas[mask]/const.day, 1e6*psr1.residuals[mask], yerr=1e6*psr1.toaerrs[mask],\n",
    "                ls='none', fmt='.C0')\n",
    "    ax.errorbar(psr2.toas/const.day, 1e6*psr2.residuals, yerr=1e6*psr2.toaerrs, ls='none', fmt='.C1')\n",
    "    ax.set_title(psrname)\n",
    "    plt.show()"
   ]
  },
  {
   "cell_type": "code",
   "execution_count": null,
   "id": "d61dd090",
   "metadata": {},
   "outputs": [],
   "source": [
    "corepath_crn = f'/vast/palmer/home.grace/bbl29/project/IPTA_DR2_analysis/dr2full/CRN13_advnoise/core.h5'\n",
    "core_crn = co.Core(corepath=corepath_crn)"
   ]
  },
  {
   "cell_type": "code",
   "execution_count": null,
   "id": "58cfe1d3",
   "metadata": {
    "scrolled": false
   },
   "outputs": [],
   "source": [
    "for psrname in ['J0613-0200', 'J1909-3744', 'J1910+1256']:#lite_psrnames:\n",
    "    if psrname in drop_psrnames:\n",
    "        continue\n",
    "    params = [p for p in lite_cores[psrname].params if ('gp' in p and not 'idx' in p) or 'red_noise' in p]\n",
    "    # or 'exp' in p]\n",
    "    labels = make_labels(params, psrname, add_psrname=False)\n",
    "    ndim = len(params)\n",
    "    # lite\n",
    "    lite_Tspan = [(psr.toas.max() - psr.toas.min())/const.yr for psr in lite_psrs if psr.name == psrname][0]\n",
    "    pta = [np.unique(psr.flags['pta'])[0] for psr in lite_psrs if psr.name == psrname][0]\n",
    "    p_idxs = [lite_cores[psrname].params.index(p) for p in params]\n",
    "    fig = corner.corner(lite_cores[psrname].chain[:,p_idxs], levels=(0.68,0.95), labels=labels, bins=20,\n",
    "                        color='C1', plot_density=False, plot_datapoints=False, smooth=1,\n",
    "                        fill_contours=True, no_fill_contours=True, hist_kwargs={'density':True},\n",
    "                        label_kwargs={'fontsize':30},\n",
    "                        contourf_kwargs={'colors': [(*mpl.colors.to_rgb(default_colors[1]), 0),\n",
    "                                                    (*mpl.colors.to_rgb(default_colors[1]), 0.25),\n",
    "                                                    (*mpl.colors.to_rgb(default_colors[1]), 0.5)]})\n",
    "    # full\n",
    "    full_Tspan = [(psr.toas.max() - psr.toas.min())/const.yr for psr in full_psrs if psr.name == psrname][0]\n",
    "    p_idxs = [full_cores[psrname].params.index(p) for p in params]\n",
    "    fig = corner.corner(full_cores[psrname].chain[:,p_idxs], levels=(0.68,0.95), fig=fig, bins=20,\n",
    "                        color='C0', plot_density=False, plot_datapoints=False, smooth=1,\n",
    "                        fill_contours=True, no_fill_contours=True, hist_kwargs={'density':True},\n",
    "                        contourf_kwargs={'colors': [(*mpl.colors.to_rgb(default_colors[0]), 0),\n",
    "                                                    (*mpl.colors.to_rgb(default_colors[0]), 0.25),\n",
    "                                                    (*mpl.colors.to_rgb(default_colors[0]), 0.5)]})\n",
    "    # EDR2 CRN\n",
    "    fig.subplots_adjust(right=1.5,top=1.5)\n",
    "    axes = np.array(fig.axes).reshape((ndim,ndim))\n",
    "    for ax1 in axes:\n",
    "        for ax in ax1:\n",
    "            ax.tick_params(axis='both', labelsize=20)\n",
    "    ax_idxs = [params.index(p) for p in params if f'{psrname}_red_noise' in p]\n",
    "    p_idxs = [core_crn.params.index(p) for p in ['crn_gamma', 'crn_log10_A']]\n",
    "    for ax_idx, p_idx in zip(ax_idxs, p_idxs):\n",
    "        ax = axes[ax_idx,ax_idx]\n",
    "        ax.hist(core_crn.chain[:,p_idx], density=True, color='k', histtype='step', bins=20)\n",
    "        y, _ = np.histogram(core_crn.chain[:,p_idx], density=True, bins=20)\n",
    "        ax.set_ylim([0,1.1*np.max(y)])\n",
    "    ax = axes[ax_idxs[1],ax_idxs[0]]\n",
    "    xlabels = ax.get_xticklabels()\n",
    "    ylabels = ax.get_yticklabels()\n",
    "    corner.hist2d(core_crn('crn_gamma'), core_crn('crn_log10_A'), ax=ax, levels=(0.68,0.95), bins=20,\n",
    "                  color='k', plot_density=False, plot_datapoints=False, smooth=1, new_fig=False, #force_range=True,\n",
    "                  fill_contours=True, no_fill_contours=True, label_kwargs={'fontsize':20},\n",
    "                  contourf_kwargs={'colors': [(0, 0, 0, 0), (0, 0, 0, 0.25), (0, 0, 0, 0.5)]})\n",
    "    ax.set_xticklabels(xlabels)\n",
    "    ax.set_yticklabels(ylabels)\n",
    "    lines = [mlines.Line2D([],[],color='C0',label=f'Full DR2 ({psrname.replace(\"-\",\"$-$\")}) '\n",
    "                           f'\\nTspan={full_Tspan:2.1f} yr')]\n",
    "    lines += [mlines.Line2D([],[],color='C1',label=f'DR2 Lite ({psrname.replace(\"-\",\"$-$\")}) '\n",
    "                            f'\\nTspan={lite_Tspan:2.1f} yr')]\n",
    "    lines += [mlines.Line2D([],[],color='k',label=f'Full DR2 CRN')]\n",
    "    if psrname == 'J0613-0200':\n",
    "        fig.legend(handles=lines, fontsize=45, frameon=False)\n",
    "        #fig.suptitle(f'PSR {psrname.replace(\"-\",r\"$-$\")}', fontsize=43, x=0.3, y=1.01)\n",
    "    else:\n",
    "        fig.legend(handles=lines, fontsize=30, frameon=False)\n",
    "        #fig.suptitle(f'PSR {psrname.replace(\"-\",r\"$-$\")}', fontsize=30, x=0.3, y=1.01)\n",
    "    fig.savefig(f'{figsave_dir}/{psrname}_corner2.png', dpi=300, pad_inches=0.3, bbox_inches='tight')\n",
    "    plt.show()"
   ]
  },
  {
   "cell_type": "code",
   "execution_count": null,
   "id": "25ed630e",
   "metadata": {},
   "outputs": [],
   "source": [
    "J1955+2908"
   ]
  },
  {
   "cell_type": "code",
   "execution_count": null,
   "id": "a9ad8597",
   "metadata": {},
   "outputs": [],
   "source": [
    "psrname = 'J0613-0200'\n",
    "core = lite_cores[psrname]\n",
    "mask = core(f'{psrname}_chrom_gp_log10_A') < -18\n",
    "DMBF = gorilla_bf(core(f'{psrname}_dm_gp_log10_A')[mask], min=-20, max=-11)\n",
    "RNBF = gorilla_bf(core(f'{psrname}_red_noise_log10_A')[mask], min=-20, max=-11)\n",
    "print(DMBF, RNBF)\n",
    "mask = core(f'{psrname}_dm_gp_log10_A') < -18\n",
    "ChrBF = gorilla_bf(core(f'{psrname}_chrom_gp_log10_A')[mask], min=-20, max=-11)\n",
    "RNBF = gorilla_bf(core(f'{psrname}_red_noise_log10_A')[mask], min=-20, max=-11)\n",
    "print(ChrBF, RNBF)\n",
    "mask = core(f'{psrname}_red_noise_log10_A') < -18\n",
    "ChrBF = gorilla_bf(core(f'{psrname}_chrom_gp_log10_A')[mask], min=-20, max=-11)\n",
    "DMBF = gorilla_bf(core(f'{psrname}_dm_gp_log10_A')[mask], min=-20, max=-11)\n",
    "print(ChrBF, DMBF)"
   ]
  },
  {
   "cell_type": "code",
   "execution_count": null,
   "id": "9309a0ef",
   "metadata": {},
   "outputs": [],
   "source": [
    "psrname = 'J1022+1001'\n",
    "core = lite_cores[psrname]\n",
    "mask = core(f'{psrname}_dm_gp_log10_A') < -18\n",
    "RNBF = gorilla_bf(core(f'{psrname}_red_noise_log10_A')[mask], min=-20, max=-11)\n",
    "print(RNBF)"
   ]
  },
  {
   "cell_type": "code",
   "execution_count": null,
   "id": "9c773fed",
   "metadata": {},
   "outputs": [],
   "source": [
    "psrname = 'J1024-0719'\n",
    "core = lite_cores[psrname]\n",
    "mask = core(f'{psrname}_dm_gp_log10_A') < -18\n",
    "RNBF = gorilla_bf(core(f'{psrname}_red_noise_log10_A')[mask], min=-20, max=-11)\n",
    "print(RNBF)"
   ]
  },
  {
   "cell_type": "code",
   "execution_count": null,
   "id": "6dd035ee",
   "metadata": {},
   "outputs": [],
   "source": [
    "psrname = 'J1455-3330'\n",
    "core = lite_cores[psrname]\n",
    "mask = core(f'{psrname}_red_noise_log10_A') < -18\n",
    "DMBF = gorilla_bf(core(f'{psrname}_dm_gp_log10_A')[mask], min=-20, max=-11)\n",
    "print(DMBF)"
   ]
  },
  {
   "cell_type": "code",
   "execution_count": null,
   "id": "4acb6eea",
   "metadata": {},
   "outputs": [],
   "source": [
    "psrname = 'J1600-3053'\n",
    "core = lite_cores[psrname]\n",
    "mask = core(f'{psrname}_chrom_gp_log10_A') < -18\n",
    "#ChrBF = gorilla_bf(core(f'{psrname}_chrom_gp_log10_A')[mask], min=-20, max=-11)\n",
    "print(gorilla_bf(core(f'{psrname}_dm_gp_log10_A')[mask], min=-20, max=-11))\n",
    "#print(gorilla_bf(core(f'{psrname}_chrom_gp_log10_A')[mask], min=-20, max=-11))\n",
    "print(gorilla_bf(core(f'{psrname}_red_noise_log10_A')[mask], min=-20, max=11))\n",
    "print(gorilla_bf(core(f'{psrname}_sw_gp_log10_sigma_ne')[mask], min=-4, max=2))"
   ]
  },
  {
   "cell_type": "code",
   "execution_count": null,
   "id": "294bce3e",
   "metadata": {},
   "outputs": [],
   "source": [
    "psrname = 'J1600-3053'\n",
    "core = lite_cores[psrname]\n",
    "mask = (core(f'{psrname}_red_noise_log10_A') < -18) * (core(f'{psrname}_dm_gp_log10_A') < -18)\n",
    "#ChrBF = gorilla_bf(core(f'{psrname}_chrom_gp_log10_A')[mask], min=-20, max=-11)\n",
    "print(gorilla_bf(core(f'{psrname}_chrom_gp_log10_A')[mask], min=-20, max=-11))\n",
    "print(gorilla_bf(core(f'{psrname}_sw_gp_log10_sigma_ne')[mask], min=-4, max=2))"
   ]
  },
  {
   "cell_type": "code",
   "execution_count": null,
   "id": "e3071d3c",
   "metadata": {},
   "outputs": [],
   "source": [
    "psrname = 'J1643-1224'\n",
    "core = lite_cores[psrname]\n",
    "mask = core(f'{psrname}_chrom_gp_log10_A') < -18\n",
    "#ChrBF = gorilla_bf(core(f'{psrname}_chrom_gp_log10_A')[mask], min=-20, max=-11)\n",
    "print(gorilla_bf(core(f'{psrname}_dm_gp_log10_A')[mask], min=-20, max=-11))\n",
    "print(gorilla_bf(core(f'{psrname}_red_noise_log10_A')[mask], min=-20, max=-11))"
   ]
  },
  {
   "cell_type": "code",
   "execution_count": null,
   "id": "ab7f0eae",
   "metadata": {},
   "outputs": [],
   "source": [
    "psrname = 'J1738+0333'\n",
    "core = full_cores[psrname]\n",
    "mask = core(f'{psrname}_red_noise_log10_A') < -18\n",
    "DMBF = gorilla_bf(core(f'{psrname}_dm_gp_log10_A')[mask], min=-20, max=-11)\n",
    "print(DMBF)"
   ]
  },
  {
   "cell_type": "code",
   "execution_count": null,
   "id": "a2109aa7",
   "metadata": {},
   "outputs": [],
   "source": [
    "psrname = 'J1744-1134'\n",
    "core = lite_cores[psrname]\n",
    "mask = core(f'{psrname}_red_noise_log10_A') < -18\n",
    "DMBF = gorilla_bf(core(f'{psrname}_dm_gp_log10_A')[mask], min=-20, max=-11)\n",
    "print(DMBF)"
   ]
  },
  {
   "cell_type": "code",
   "execution_count": null,
   "id": "427b1e65",
   "metadata": {},
   "outputs": [],
   "source": [
    "psrname = 'J1918-0642'\n",
    "core = lite_cores[psrname]\n",
    "mask = core(f'{psrname}_sw_gp_log10_sigma_ne') < -2\n",
    "#ChrBF = gorilla_bf(core(f'{psrname}_chrom_gp_log10_A')[mask], min=-20, max=-11)\n",
    "print(gorilla_bf(core(f'{psrname}_dm_gp_log10_A')[mask], min=-20, max=-11))\n",
    "print(gorilla_bf(core(f'{psrname}_red_noise_log10_A')[mask], min=-20, max=-11))\n",
    "mask = core(f'{psrname}_dm_gp_log10_A') < -18\n",
    "#ChrBF = gorilla_bf(core(f'{psrname}_chrom_gp_log10_A')[mask], min=-20, max=-11)\n",
    "print(gorilla_bf(core(f'{psrname}_sw_gp_log10_sigma_ne')[mask], min=-4, max=2))\n",
    "print(gorilla_bf(core(f'{psrname}_red_noise_log10_A')[mask], min=-20, max=-11))"
   ]
  },
  {
   "cell_type": "code",
   "execution_count": null,
   "id": "d5b70081",
   "metadata": {},
   "outputs": [],
   "source": [
    "psrname = 'J2145-0750'\n",
    "core = lite_cores[psrname]\n",
    "mask = core(f'{psrname}_sw_gp_log10_sigma_ne') < -2\n",
    "#ChrBF = gorilla_bf(core(f'{psrname}_chrom_gp_log10_A')[mask], min=-20, max=-11)\n",
    "print(gorilla_bf(core(f'{psrname}_dm_gp_log10_A')[mask], min=-20, max=-11))\n",
    "print(gorilla_bf(core(f'{psrname}_red_noise_log10_A')[mask], min=-20, max=-11))\n",
    "mask = core(f'{psrname}_dm_gp_log10_A') < -18\n",
    "#ChrBF = gorilla_bf(core(f'{psrname}_chrom_gp_log10_A')[mask], min=-20, max=-11)\n",
    "print(gorilla_bf(core(f'{psrname}_sw_gp_log10_sigma_ne')[mask], min=-4, max=2))\n",
    "print(gorilla_bf(core(f'{psrname}_red_noise_log10_A')[mask], min=-20, max=-11))"
   ]
  },
  {
   "cell_type": "code",
   "execution_count": null,
   "id": "e7c05ca1",
   "metadata": {},
   "outputs": [],
   "source": []
  },
  {
   "cell_type": "code",
   "execution_count": null,
   "id": "5e0a1279",
   "metadata": {},
   "outputs": [],
   "source": [
    "np.count_nonzero(mask)"
   ]
  },
  {
   "cell_type": "code",
   "execution_count": null,
   "id": "c85af691",
   "metadata": {
    "scrolled": true
   },
   "outputs": [],
   "source": [
    "psrname = 'J1713+0747'\n",
    "params = [p for p in lite_cores[psrname].params if 'red_noise' in p or 'dm_gp' in p]\n",
    "labels = make_labels(params, psrname, add_psrname=False)\n",
    "pta = [np.unique(psr.flags['pta'])[0] for psr in lite_psrs if psr.name == psrname][0]\n",
    "p_idxs = [lite_cores[psrname].params.index(p) for p in params]\n",
    "mask = lite_cores[psrname](f'{psrname}_chrom_gp_log10_A') < -18\n",
    "fig = corner.corner(lite_cores[psrname].chain[:,p_idxs][mask], levels=(0.68,0.95), labels=labels, bins=20,\n",
    "                    color='C1', plot_density=False, plot_datapoints=False, smooth=1,\n",
    "                    fill_contours=True, no_fill_contours=True, hist_kwargs={'density':True},\n",
    "                    label_kwargs={'fontsize':20},\n",
    "                    contourf_kwargs={'colors': [(*mpl.colors.to_rgb(default_colors[1]), 0),\n",
    "                                                (*mpl.colors.to_rgb(default_colors[1]), 0.25),\n",
    "                                                (*mpl.colors.to_rgb(default_colors[1]), 0.5)]})"
   ]
  },
  {
   "cell_type": "code",
   "execution_count": null,
   "id": "1678231c",
   "metadata": {},
   "outputs": [],
   "source": [
    "np.count_nonzero(mask)"
   ]
  },
  {
   "cell_type": "markdown",
   "id": "f314d5b7",
   "metadata": {},
   "source": [
    "#### Compare detection statistics on ARN, DM, chromatic noise"
   ]
  },
  {
   "cell_type": "code",
   "execution_count": null,
   "id": "dd2c3c87",
   "metadata": {},
   "outputs": [],
   "source": [
    "def get_BFr(param_name, lite_core, full_core, max=-4, min=-10):\n",
    "    lite_BF = gorilla_bf(lite_core(param_name), max=max, min=min)\n",
    "    full_BF = gorilla_bf(full_core(param_name), max=max, min=min)\n",
    "    if np.isnan(lite_BF) and np.isnan(full_BF):\n",
    "        BFr = np.nan\n",
    "    else:\n",
    "        if np.isnan(lite_BF):\n",
    "            lite_BF = np.inf\n",
    "        elif np.isnan(full_BF):\n",
    "            full_BF = np.inf\n",
    "        BFr = full_BF/lite_BF\n",
    "    return BFr"
   ]
  },
  {
   "cell_type": "code",
   "execution_count": null,
   "id": "98d2c5a8",
   "metadata": {
    "scrolled": true
   },
   "outputs": [],
   "source": [
    "for j, psrname in enumerate(lite_psrnames):\n",
    "    print(psrname)\n",
    "    for i, param in enumerate(lite_cores[psrname].params):\n",
    "        if param == f'{psrname}_red_noise_log10_A':\n",
    "            BF_ratio = get_BFr(param, lite_cores[psrname], full_cores[psrname], max=-11, min=-20)\n",
    "            if BF_ratio > 20 or np.isnan(BF_ratio) or BF_ratio < 0.5:\n",
    "                print(param, BF_ratio)\n",
    "        if param == f'{psrname}_hf_red_noise_log10_A':\n",
    "            BF_ratio = get_BFr(param, lite_cores[psrname], full_cores[psrname], max=-11, min=-20)\n",
    "            if BF_ratio > 20 or np.isnan(BF_ratio) or BF_ratio < 0.5:\n",
    "                print(param, BF_ratio)\n",
    "        if param == f'{psrname}_dm_gp_log10_A':\n",
    "            BF_ratio = get_BFr(param, lite_cores[psrname], full_cores[psrname], max=-11, min=-20)\n",
    "            if BF_ratio > 20 or np.isnan(BF_ratio) or BF_ratio < 0.5:\n",
    "                print(param, BF_ratio)\n",
    "        if param == f'{psrname}_chrom_gp_log10_A':\n",
    "            BF_ratio = get_BFr(param, lite_cores[psrname], full_cores[psrname], max=-11, min=-20)\n",
    "            if BF_ratio > 20 or np.isnan(BF_ratio) or BF_ratio < 0.5:\n",
    "                print(param, BF_ratio)\n",
    "        if param == f'{psrname}_sw_gp_log10_sigma_ne':\n",
    "            BF_ratio = get_BFr(param, lite_cores[psrname], full_cores[psrname], max=-11, min=-20)\n",
    "            if BF_ratio > 20 or np.isnan(BF_ratio) or BF_ratio < 0.5:\n",
    "                print(param, BF_ratio)\n",
    "    print()"
   ]
  },
  {
   "cell_type": "markdown",
   "id": "163e91f8",
   "metadata": {},
   "source": [
    "### J1909: What if we use uniform RN priors?"
   ]
  },
  {
   "cell_type": "code",
   "execution_count": null,
   "id": "9ff5abf4",
   "metadata": {},
   "outputs": [],
   "source": [
    "from targeted_cws_ng15.utils import get_prior_log_weights"
   ]
  },
  {
   "cell_type": "code",
   "execution_count": null,
   "id": "6a7e9acf",
   "metadata": {},
   "outputs": [],
   "source": [
    "lite_cores[psrname].priors"
   ]
  },
  {
   "cell_type": "code",
   "execution_count": null,
   "id": "3818dede",
   "metadata": {},
   "outputs": [],
   "source": [
    "psrname = 'J1909-3744'\n",
    "lnweight = get_prior_log_weights(lite_cores[psrname](f'{psrname}_red_noise_log10_A'),\n",
    "                                 prior1_args=[-20,-11],prior0_args=[-20,-11])"
   ]
  },
  {
   "cell_type": "code",
   "execution_count": null,
   "id": "9c38f078",
   "metadata": {
    "scrolled": true
   },
   "outputs": [],
   "source": [
    "psrname = 'J1909-3744'\n",
    "params = [p for p in lite_cores[psrname].params if ('gp' in p and not 'idx' in p) or 'red_noise' in p]\n",
    "# or 'exp' in p]\n",
    "labels = make_labels(params, psrname, add_psrname=False)\n",
    "ndim = len(params)\n",
    "# lite\n",
    "lite_Tspan = [(psr.toas.max() - psr.toas.min())/const.yr for psr in lite_psrs if psr.name == psrname][0]\n",
    "pta = [np.unique(psr.flags['pta'])[0] for psr in lite_psrs if psr.name == psrname][0]\n",
    "p_idxs = [lite_cores[psrname].params.index(p) for p in params]\n",
    "fig = corner.corner(lite_cores[psrname].chain[:,p_idxs], levels=(0.68,0.95), labels=labels, bins=20,\n",
    "                    color='C1', plot_density=False, plot_datapoints=False, smooth=1,\n",
    "                    fill_contours=True, no_fill_contours=True, hist_kwargs={'density':True},\n",
    "                    label_kwargs={'fontsize':20}, weights=np.exp(lnweight),\n",
    "                    contourf_kwargs={'colors': [(*mpl.colors.to_rgb(default_colors[1]), 0),\n",
    "                                                (*mpl.colors.to_rgb(default_colors[1]), 0.25),\n",
    "                                                (*mpl.colors.to_rgb(default_colors[1]), 0.5)]})\n",
    "# full\n",
    "full_Tspan = [(psr.toas.max() - psr.toas.min())/const.yr for psr in full_psrs if psr.name == psrname][0]\n",
    "p_idxs = [full_cores[psrname].params.index(p) for p in params]\n",
    "fig = corner.corner(full_cores[psrname].chain[:,p_idxs], levels=(0.68,0.95), fig=fig, bins=20,\n",
    "                    color='C0', plot_density=False, plot_datapoints=False, smooth=1,\n",
    "                    fill_contours=True, no_fill_contours=True, hist_kwargs={'density':True},\n",
    "                    label_kwargs={'fontsize':20},\n",
    "                    contourf_kwargs={'colors': [(*mpl.colors.to_rgb(default_colors[0]), 0),\n",
    "                                                (*mpl.colors.to_rgb(default_colors[0]), 0.25),\n",
    "                                                (*mpl.colors.to_rgb(default_colors[0]), 0.5)]})\n",
    "# EDR2 CRN\n",
    "axes = np.array(fig.axes).reshape((ndim,ndim))\n",
    "ax_idxs = [params.index(p) for p in params if f'{psrname}_red_noise' in p]\n",
    "p_idxs = [core_crn.params.index(p) for p in ['crn_gamma', 'crn_log10_A']]\n",
    "for ax_idx, p_idx in zip(ax_idxs, p_idxs):\n",
    "    ax = axes[ax_idx,ax_idx]\n",
    "    ax.hist(core_crn.chain[:,p_idx], density=True, color='k', histtype='step', bins=20)\n",
    "    y, _ = np.histogram(core_crn.chain[:,p_idx], density=True, bins=20)\n",
    "    ax.set_ylim([0,1.1*np.max(y)])\n",
    "ax = axes[ax_idxs[1],ax_idxs[0]]\n",
    "xlabels = ax.get_xticklabels()\n",
    "ylabels = ax.get_yticklabels()\n",
    "corner.hist2d(core_crn('crn_gamma'), core_crn('crn_log10_A'), ax=ax, levels=(0.68,0.95), bins=20,\n",
    "              color='k', plot_density=False, plot_datapoints=False, smooth=1, new_fig=False, #force_range=True,\n",
    "              fill_contours=True, no_fill_contours=True, label_kwargs={'fontsize':20},\n",
    "              contourf_kwargs={'colors': [(0, 0, 0, 0), (0, 0, 0, 0.25), (0, 0, 0, 0.5)]})\n",
    "ax.set_xticklabels(xlabels)\n",
    "ax.set_yticklabels(ylabels)\n",
    "lines = [mlines.Line2D([],[],color='C0',label=f'Full DR2 \\nTspan={full_Tspan:2.1f} yr')]\n",
    "lines += [mlines.Line2D([],[],color='C1',label=f'DR2 Lite ({pta}) \\nTspan={lite_Tspan:2.1f} yr')]\n",
    "lines += [mlines.Line2D([],[],color='k',label=f'Full DR2 CRN')]\n",
    "fig.legend(handles=lines, fontsize=20)\n",
    "fig.suptitle(f'PSR {psrname}', fontsize=30, x=0.3, y=1.01)\n",
    "fig.savefig(f'{figsave_dir}/{psrname}_corner2_UL.png', dpi=300, bbox_inches='tight')\n",
    "plt.show()"
   ]
  },
  {
   "cell_type": "markdown",
   "id": "6906dfa4",
   "metadata": {},
   "source": [
    "## Compare GP spectra\n",
    "\n",
    "Just red noise. Which pulsars show excursions at 4 nHz?"
   ]
  },
  {
   "cell_type": "code",
   "execution_count": null,
   "id": "70937275",
   "metadata": {},
   "outputs": [],
   "source": [
    "full_pta_Tspan=952746385.6296968"
   ]
  },
  {
   "cell_type": "code",
   "execution_count": null,
   "id": "2d558361",
   "metadata": {},
   "outputs": [],
   "source": [
    "from enterprise.signals.utils import ConditionalGP"
   ]
  },
  {
   "cell_type": "code",
   "execution_count": null,
   "id": "4855f834",
   "metadata": {},
   "outputs": [],
   "source": []
  },
  {
   "cell_type": "code",
   "execution_count": null,
   "id": "ab81bd05",
   "metadata": {
    "scrolled": true
   },
   "outputs": [],
   "source": [
    "n_realizations = 500\n",
    "continue_ = True\n",
    "for psrname in lite_cores:\n",
    "    if psrname == 'J1911-1114':\n",
    "        continue_ = False\n",
    "    if continue_:\n",
    "        continue\n",
    "    lite_psr = [p for p in lite_psrs if p.name == psrname][0]\n",
    "    full_psr = [p for p in full_psrs if p.name == psrname][0]\n",
    "    lite_pta = adv_noise_block(lite_psr, full_pta_analysis=False, dataset='full', psr_model=False,\n",
    "                               tm_marg=False, tm_svd=False)\n",
    "    full_pta = adv_noise_block(full_psr, full_pta_analysis=False, dataset='full', psr_model=False,\n",
    "                               tm_marg=False, tm_svd=False)\n",
    "    pta_label = np.unique(lite_psr.flags['pta'])[0]\n",
    "    lite_pta.set_default_params(lite_noise_params)\n",
    "    full_pta.set_default_params(full_noise_params)\n",
    "    for signal in lite_pta.signals:\n",
    "        lite_pta.signals[signal].basis_combine = False\n",
    "    for signal in full_pta.signals:\n",
    "        full_pta.signals[signal].basis_combine = False\n",
    "    gp_lite = ConditionalGP(lite_pta)\n",
    "    gp_full = ConditionalGP(full_pta)\n",
    "\n",
    "    lite_Tspan = lite_psr.toas.max() - lite_psr.toas.min()\n",
    "    lite_Nf = int(np.ceil(lite_Tspan*30/full_pta_Tspan))\n",
    "    lite_freqs = np.linspace(1/lite_Tspan, lite_Nf/lite_Tspan, lite_Nf)\n",
    "    full_Tspan = full_psr.toas.max() - full_psr.toas.min()\n",
    "    full_Nf = int(np.ceil(full_Tspan*30/full_pta_Tspan))\n",
    "    full_freqs = np.linspace(1/full_Tspan, full_Nf/full_Tspan, full_Nf)\n",
    "\n",
    "    rho_lite = np.zeros((n_realizations,lite_Nf))\n",
    "    rho_full = np.zeros((n_realizations,full_Nf))\n",
    "    for i in tqdm.tqdm(range(n_realizations)):\n",
    "        # lite\n",
    "        try:\n",
    "            idx = np.random.choice(np.arange(len(lite_cores[psrname]('lnlike'))))\n",
    "            params = {p:lite_cores[psrname](p)[idx] for p in lite_cores[psrname].params}\n",
    "            coefs = gp_lite.sample_coefficients(params, n=1)\n",
    "            a = coefs[0][f'{psrname}_red_noise_coefficients']\n",
    "            rho_lite[i] = np.sqrt(a[::2]**2 + a[1::2]**2)\n",
    "            # full\n",
    "            idx = np.random.choice(np.arange(len(full_cores[psrname]('lnlike'))))\n",
    "            params = {p:full_cores[psrname](p)[idx] for p in full_cores[psrname].params}\n",
    "            coefs = gp_full.sample_coefficients(params, n=1)\n",
    "            a = coefs[0][f'{psrname}_red_noise_coefficients']\n",
    "            rho_full[i] = np.sqrt(a[::2]**2 + a[1::2]**2)\n",
    "        except LinAlgError:\n",
    "            rho_lite[i] = np.ones(len(lite_freqs))*np.nan\n",
    "            rho_full[i] = np.ones(len(full_freqs))*np.nan\n",
    "\n",
    "    fig, ax = plt.subplots(figsize=(6,3))\n",
    "    # Full\n",
    "    med = np.nanmedian(rho_full, axis=0)\n",
    "    err = np.nanquantile(rho_full, [0.16,0.84], axis=0)\n",
    "    ax.plot(full_freqs*1e9, med, '.C0', ms=1)\n",
    "    ax.fill_between(full_freqs*1e9, err[0], err[1], alpha=0.2, color='C0', label='DR2')\n",
    "    # lite\n",
    "    med = np.median(rho_lite, axis=0)\n",
    "    err = np.quantile(rho_lite, [0.16,0.84], axis=0)\n",
    "    ax.plot(lite_freqs*1e9, med, '.C1', ms=1)\n",
    "    ax.fill_between(lite_freqs*1e9, err[0], err[1], alpha=0.2, color='C1', label=f'DR2lite ({pta_label})')\n",
    "    # labels\n",
    "    ax.grid(lw=0.3)\n",
    "    ax.set_title(psrname)\n",
    "    ax.loglog()\n",
    "    ax.legend()\n",
    "    ax.set_xlabel(r'$f$ (nHz)')\n",
    "    ax.set_ylabel(r'$\\rho$ (s)')\n",
    "    ax.scatter([4], [10**(-6.3)], marker='s', color='k', s=10)\n",
    "    fig.tight_layout()\n",
    "    fig.subplots_adjust(hspace=0)\n",
    "    fig.savefig(f'{figsave_dir}/{psrname}_rn_spectra.png', dpi=300, bbox_inches='tight')\n",
    "    plt.show()"
   ]
  },
  {
   "cell_type": "markdown",
   "id": "34d8c7e0",
   "metadata": {},
   "source": [
    "## Compare GPs"
   ]
  },
  {
   "cell_type": "code",
   "execution_count": null,
   "id": "34cf3e45",
   "metadata": {},
   "outputs": [],
   "source": [
    "lite_psrnames"
   ]
  },
  {
   "cell_type": "code",
   "execution_count": null,
   "id": "ab515f51",
   "metadata": {
    "scrolled": true
   },
   "outputs": [],
   "source": [
    "n_realizations = 500\n",
    "for psrname in lite_psrnames[10:]:\n",
    "    lite_psr = [p for p in lite_psrs if p.name == psrname][0]\n",
    "    full_psr = [p for p in full_psrs if p.name == psrname][0]\n",
    "    lite_pta = adv_noise_block(lite_psr, full_pta_analysis=False, dataset='lite', psr_model=False,\n",
    "                               tm_marg=False, tm_svd=False)\n",
    "    full_pta = adv_noise_block(full_psr, full_pta_analysis=False, dataset='full', psr_model=False,\n",
    "                               tm_marg=False, tm_svd=False)\n",
    "    pta_label = np.unique(lite_psr.flags['pta'])[0]\n",
    "    lite_pta.set_default_params(lite_noise_params)\n",
    "    full_pta.set_default_params(full_noise_params)\n",
    "    for signal in lite_pta.signals:\n",
    "        lite_pta.signals[signal].basis_combine = False\n",
    "    for signal in full_pta.signals:\n",
    "        full_pta.signals[signal].basis_combine = False\n",
    "    lite_sig = ppu.make_gp_realizations(lite_cores[psrname], lite_pta, lite_psr, all_dm=True,\n",
    "                                        tm_params=['Offset','F0', 'F1', 'DM', 'DM1', 'DM2', 'NE_SW'],\n",
    "                                        pardir=lite_pardir, n_realizations=n_realizations,\n",
    "                                        use_dm_units=True, ref_MHz=1400)\n",
    "    lite_sig[f'{psrname}_red_noise'] += (lite_sig[f'{psrname}_Offset'] + lite_sig[f'{psrname}_F0'] +\n",
    "                                         lite_sig[f'{psrname}_F1'])\n",
    "    if f'{psrname}_hf_red_noise' in lite_sig:\n",
    "        lite_sig[f'{psrname}_red_noise'] += lite_sig[f'{psrname}_hf_red_noise']\n",
    "    full_sig = ppu.make_gp_realizations(full_cores[psrname], full_pta, full_psr, all_dm=True,\n",
    "                                        tm_params=['Offset', 'F0', 'F1', 'DM', 'DM1', 'DM2', 'NE_SW'],\n",
    "                                        pardir=full_pardir, n_realizations=n_realizations,\n",
    "                                        use_dm_units=True, ref_MHz=1400)\n",
    "    full_sig[f'{psrname}_red_noise'] += (full_sig[f'{psrname}_Offset'] + full_sig[f'{psrname}_F0'] +\n",
    "                                         full_sig[f'{psrname}_F1'])\n",
    "    if f'{psrname}_hf_red_noise' in full_sig:\n",
    "        full_sig[f'{psrname}_red_noise'] += full_sig[f'{psrname}_hf_red_noise']\n",
    "    # plot\n",
    "    labels = [r'$\\Delta$DM ($10^{-3}$ pc/cm$^3$)', r'$\\Delta t_{\\rm{RN}}$ ($\\mu$s)']\n",
    "    sig_names = [f'{psrname}_dm_gp', f'{psrname}_red_noise']\n",
    "    if f'{psrname}_chrom_gp' in lite_pta.signals:\n",
    "        labels = [r'$\\Delta t_{\\rm{Chr,1400}}$ ($\\mu$s)'] + labels\n",
    "        sig_names = [f'{psrname}_chrom_gp'] + sig_names\n",
    "    lite_toas_only = np.isin(full_psr.toas, lite_psr.toas)\n",
    "    for i in range(n_realizations):\n",
    "        for sig_name in sig_names:\n",
    "            lite_sig[sig_name][i] -= np.mean(lite_sig[sig_name][i])\n",
    "            full_sig[sig_name][i] -= np.mean(full_sig[sig_name][i][lite_toas_only])\n",
    "    fig, ax = plt.subplots(len(sig_names),1,figsize=(8,2*len(sig_names)),sharex=True)\n",
    "    for i, sig_name in enumerate(sig_names):\n",
    "        # Full\n",
    "        med = np.median(full_sig[sig_name], axis=0)\n",
    "        err = np.quantile(full_sig[sig_name], [0.16,0.84], axis=0)\n",
    "        ax[i].plot(full_psr.toas/const.day, med, '.C0', ms=1)\n",
    "        ax[i].fill_between(full_psr.toas/const.day, err[0], err[1], alpha=0.2, color='C0', label='DR2')\n",
    "        # lite\n",
    "        med = np.median(lite_sig[sig_name], axis=0)\n",
    "        err = np.quantile(lite_sig[sig_name], [0.16,0.84], axis=0)\n",
    "        ax[i].plot(lite_psr.toas/const.day, med, '.C1', ms=1)\n",
    "        ax[i].fill_between(lite_psr.toas/const.day, err[0], err[1], alpha=0.2, color='C1',\n",
    "                           label=f'DR2lite ({pta_label})')\n",
    "        # labels\n",
    "        ax[i].set_ylabel(labels[i])\n",
    "        ax[i].grid(lw=0.3)\n",
    "    ax[0].set_title(psrname)\n",
    "    ax[0].legend()\n",
    "    ax[1].set_xlabel(r'$t$ (MJD)')\n",
    "    fig.tight_layout()\n",
    "    fig.subplots_adjust(hspace=0)\n",
    "    fig.savefig(f'{figsave_dir}/{psrname}_gps.png', dpi=300, bbox_inches='tight')\n",
    "    plt.show()"
   ]
  },
  {
   "cell_type": "code",
   "execution_count": null,
   "id": "55d0619c",
   "metadata": {},
   "outputs": [],
   "source": []
  },
  {
   "cell_type": "markdown",
   "id": "780d34c3",
   "metadata": {
    "scrolled": true
   },
   "source": [
    "J1909: Get signals and plot vs the TOAs"
   ]
  },
  {
   "cell_type": "code",
   "execution_count": null,
   "id": "1ead2422",
   "metadata": {},
   "outputs": [],
   "source": [
    "n_realizations = 500\n",
    "psrname = 'J1909-3744'\n",
    "lite_psr = [p for p in lite_psrs if p.name == psrname][0]\n",
    "full_psr = [p for p in full_psrs if p.name == psrname][0]\n",
    "lite_pta = adv_noise_block(lite_psr, full_pta_analysis=False, dataset='lite', psr_model=False,\n",
    "                           tm_marg=False, tm_svd=False)\n",
    "full_pta = adv_noise_block(full_psr, full_pta_analysis=False, dataset='full', psr_model=False,\n",
    "                           tm_marg=False, tm_svd=False)\n",
    "pta_label = np.unique(lite_psr.flags['pta'])[0]\n",
    "lite_pta.set_default_params(lite_noise_params)\n",
    "full_pta.set_default_params(full_noise_params)\n",
    "for signal in lite_pta.signals:\n",
    "    lite_pta.signals[signal].basis_combine = False\n",
    "for signal in full_pta.signals:\n",
    "    full_pta.signals[signal].basis_combine = False\n",
    "lite_sig = ppu.make_gp_realizations(lite_cores[psrname], lite_pta, lite_psr, all_dm=True,\n",
    "                                    tm_params=['Offset','F0', 'F1', 'DM', 'DM1', 'DM2', 'NE_SW'],\n",
    "                                    pardir=lite_pardir, n_realizations=n_realizations,\n",
    "                                    use_dm_units=True, ref_MHz=1400)\n",
    "lite_sig[f'{psrname}_red_noise'] += (lite_sig[f'{psrname}_Offset'] + lite_sig[f'{psrname}_F0'] +\n",
    "                                     lite_sig[f'{psrname}_F1'])\n",
    "if f'{psrname}_hf_red_noise' in lite_sig:\n",
    "    lite_sig[f'{psrname}_red_noise'] += lite_sig[f'{psrname}_hf_red_noise']\n",
    "full_sig = ppu.make_gp_realizations(full_cores[psrname], full_pta, full_psr, all_dm=True,\n",
    "                                    tm_params=['Offset', 'F0', 'F1', 'DM', 'DM1', 'DM2', 'NE_SW'],\n",
    "                                    pardir=full_pardir, n_realizations=n_realizations,\n",
    "                                    use_dm_units=True, ref_MHz=1400)\n",
    "full_sig[f'{psrname}_red_noise'] += (full_sig[f'{psrname}_Offset'] + full_sig[f'{psrname}_F0'] +\n",
    "                                     full_sig[f'{psrname}_F1'])\n",
    "if f'{psrname}_hf_red_noise' in full_sig:\n",
    "    full_sig[f'{psrname}_red_noise'] += full_sig[f'{psrname}_hf_red_noise']"
   ]
  },
  {
   "cell_type": "code",
   "execution_count": null,
   "id": "e1d102ad",
   "metadata": {},
   "outputs": [],
   "source": [
    "lite_sig.keys()"
   ]
  },
  {
   "cell_type": "code",
   "execution_count": null,
   "id": "ec7e14fa",
   "metadata": {},
   "outputs": [],
   "source": [
    "gp = ppu.ConditionalGP(lite_pta, tm_params=['DM','DM1','DM2'], psr=lite_psr)\n",
    "params = lite_cores[psrname].map_params\n",
    "lite_GPs = gp.sample_processes(params, n=1)[0]\n",
    "# get red noise uncertainties\n",
    "lite_red_noise = np.array([GP['J1909-3744_red_noise'] for GP in gp.sample_processes(params, n=1000)])\n",
    "lite_GPs.keys(), lite_red_noise.shape"
   ]
  },
  {
   "cell_type": "code",
   "execution_count": null,
   "id": "2f7a82f8",
   "metadata": {},
   "outputs": [],
   "source": [
    "correction = lite_GPs['J1909-3744_linear_timing_model']\n",
    "pu.plot_resids(lite_psr, correction=correction, correction_label=' timing model (Lite)')"
   ]
  },
  {
   "cell_type": "code",
   "execution_count": null,
   "id": "e1dc5c04",
   "metadata": {},
   "outputs": [],
   "source": [
    "correction = lite_GPs['J1909-3744_linear_timing_model'] + lite_GPs['J1909-3744_dm_gp']\n",
    "fig = pu.plot_resids(lite_psr, correction=correction, correction_label=' timing model & DM (Lite)',\n",
    "                     return_fig=True)\n",
    "ax = fig.axes[0]\n",
    "med = np.median(lite_red_noise, axis=0)\n",
    "quantile = np.quantile(lite_red_noise, [0.16,0.84], axis=0)\n",
    "ax.plot(lite_psr.toas/const.day, med*1e6, 'k')\n",
    "ax.fill_between(lite_psr.toas/const.day, quantile[0]*1e6, quantile[1]*1e6, alpha=0.3, color='k')\n",
    "fig.show()"
   ]
  },
  {
   "cell_type": "code",
   "execution_count": null,
   "id": "cebb025b",
   "metadata": {},
   "outputs": [],
   "source": [
    "gp = ppu.ConditionalGP(full_pta, tm_params=['DM','DM1','DM2'], psr=full_psr)\n",
    "params = full_cores[psrname].get_map_dict()\n",
    "full_GPs = gp.sample_processes(params, n=1)[0]\n",
    "# get red noise uncertainties\n",
    "full_red_noise = np.array([GP['J1909-3744_red_noise'] for GP in gp.sample_processes(params, n=1000)])\n",
    "full_GPs.keys(), full_red_noise.shape"
   ]
  },
  {
   "cell_type": "code",
   "execution_count": null,
   "id": "1005f01b",
   "metadata": {},
   "outputs": [],
   "source": [
    "correction = full_GPs['J1909-3744_linear_timing_model']\n",
    "PPTA_mask = full_psr.flags['pta'] == 'PPTA'\n",
    "pu.plot_resids(full_psr, correction=correction, correction_label=' timing model (Full - PPTA only)',\n",
    "               mask=PPTA_mask)"
   ]
  },
  {
   "cell_type": "code",
   "execution_count": null,
   "id": "9416c58b",
   "metadata": {},
   "outputs": [],
   "source": [
    "correction = full_GPs['J1909-3744_linear_timing_model'] + full_GPs['J1909-3744_dm_gp']\n",
    "fig = pu.plot_resids(full_psr, correction=correction, correction_label=' timing model & DM (Full - PPTA only)',\n",
    "                     return_fig=True, mask=PPTA_mask)\n",
    "ax = fig.axes[0]\n",
    "med = np.median(full_red_noise, axis=0)\n",
    "quantile = np.quantile(full_red_noise, [0.16,0.84], axis=0)\n",
    "ax.plot(full_psr.toas/const.day, med*1e6, 'k')\n",
    "ax.fill_between(full_psr.toas/const.day, quantile[0]*1e6, quantile[1]*1e6, alpha=0.3, color='k')\n",
    "fig.show()"
   ]
  },
  {
   "cell_type": "code",
   "execution_count": null,
   "id": "6fb053ab",
   "metadata": {},
   "outputs": [],
   "source": [
    "# Here's the kicker - do the PPTA resids from Lite look like the Full resids\n",
    "Lite_mask = np.isin(full_psr.toas, lite_psr.toas)\n",
    "# if I subtract Full DR2's DM from Lite instead of Lite's DM?\n",
    "correction = lite_GPs['J1909-3744_linear_timing_model'] + full_GPs['J1909-3744_dm_gp'][Lite_mask]\n",
    "#correction -= lite_GPs['J1909-3744_DM1'] + lite_GPs['J1909-3744_DM2']\n",
    "#correction += full_GPs['J1909-3744_DM1'][Lite_mask] + full_GPs['J1909-3744_DM2'][Lite_mask]\n",
    "fig = pu.plot_resids(lite_psr, correction=correction, correction_label=' w/ timing model & FULL DM (Lite)',\n",
    "                     return_fig=True)\n",
    "ax = fig.axes[0]\n",
    "ax.plot(full_psr.toas/const.day, med*1e6, 'k')\n",
    "ax.fill_between(full_psr.toas/const.day, quantile[0]*1e6, quantile[1]*1e6, alpha=0.3, color='k')\n",
    "fig.show()"
   ]
  },
  {
   "cell_type": "code",
   "execution_count": null,
   "id": "6dd21457",
   "metadata": {},
   "outputs": [],
   "source": []
  },
  {
   "cell_type": "code",
   "execution_count": null,
   "id": "1b5df15f",
   "metadata": {},
   "outputs": [],
   "source": []
  },
  {
   "cell_type": "code",
   "execution_count": null,
   "id": "b3f2154e",
   "metadata": {},
   "outputs": [],
   "source": [
    "tm_dt = lite_sig['J1909-3744_linear_timing_model']\n",
    "dm_dt = lite_sig['J1909-3744_dm_gp']/(1e15*const.DM_K*lite_psr.freqs**2)*1e6\n",
    "all_dt = lite_sig['J1909-3744_all']*1e6\n",
    "tm_dm_dt_med = np.median(tm_dt + dm_dt, axis=0)\n",
    "rn_dt = lite_sig['J1909-3744_red_noise']\n",
    "all_dt_med = np.median(all_dt, axis=0)\n",
    "all_mrn_dt_med = np.median(all_dt - rn_dt, axis=0)\n",
    "lite_correction = all_mrn_dt_med/1e6"
   ]
  },
  {
   "cell_type": "code",
   "execution_count": null,
   "id": "d2f0ae04",
   "metadata": {},
   "outputs": [],
   "source": [
    "# these are the Lite resids without RN corrections\n",
    "pu.plot_resids(lite_psr, correction=lite_correction, correction_label=' Lite')"
   ]
  },
  {
   "cell_type": "code",
   "execution_count": null,
   "id": "b247da6f",
   "metadata": {},
   "outputs": [],
   "source": [
    "all_dt = full_sig['J1909-3744_all']*1e6\n",
    "rn_dt = full_sig['J1909-3744_red_noise']\n",
    "all_mrn_dt_med = np.median(all_dt - rn_dt, axis=0)\n",
    "rn_dt -= np.mean(rn_dt)\n",
    "full_correction = all_mrn_dt_med/1e6\n",
    "full_red_noise = np.median(rn_dt, axis=0)\n",
    "full_red_noise_err = np.quantile(rn_dt, [0.16,0.84], axis=0)\n",
    "full_red_noise_err.shape"
   ]
  },
  {
   "cell_type": "code",
   "execution_count": null,
   "id": "8e712a78",
   "metadata": {},
   "outputs": [],
   "source": [
    "# these are the Full resids without RN corrections (PPTA only) + RN overplotted\n",
    "mask = full_psr.flags['pta'] == 'PPTA'\n",
    "fig = pu.plot_resids(full_psr, correction=full_correction, mask=mask, correction_label=' Full', return_fig=True)\n",
    "ax = fig.axes[0]\n",
    "ax.plot(full_psr.toas/const.day, full_red_noise, '-k')\n",
    "ax.fill_between(full_psr.toas/const.day, full_red_noise_err[0], full_red_noise_err[1], alpha=0.2, color='k')"
   ]
  },
  {
   "cell_type": "code",
   "execution_count": null,
   "id": "56341c69",
   "metadata": {},
   "outputs": [],
   "source": [
    "# these are the Full resids without RN corrections (EPTA only) + RN overplotted\n",
    "mask = full_psr.flags['pta'] == 'EPTA'\n",
    "fig = pu.plot_resids(full_psr, correction=full_correction, mask=mask, correction_label=' Full', return_fig=True)\n",
    "ax = fig.axes[0]\n",
    "ax.plot(full_psr.toas/const.day, full_red_noise, '-k')\n",
    "ax.fill_between(full_psr.toas/const.day, full_red_noise_err[0], full_red_noise_err[1], alpha=0.2, color='k')"
   ]
  },
  {
   "cell_type": "code",
   "execution_count": null,
   "id": "e237a83a",
   "metadata": {},
   "outputs": [],
   "source": [
    "# these are the Full resids without RN corrections (NG only) + RN overplotted\n",
    "mask = full_psr.flags['pta'] == 'NANOGrav'\n",
    "fig = pu.plot_resids(full_psr, correction=full_correction, mask=mask, correction_label=' Full', return_fig=True)\n",
    "ax = fig.axes[0]\n",
    "ax.plot(full_psr.toas/const.day, full_red_noise, '-k')\n",
    "ax.fill_between(full_psr.toas/const.day, full_red_noise_err[0], full_red_noise_err[1], alpha=0.2, color='k')"
   ]
  },
  {
   "cell_type": "code",
   "execution_count": null,
   "id": "30905cbd",
   "metadata": {},
   "outputs": [],
   "source": [
    "# these are the Lite resids if you assume the DM variations from Full instead of Lite\n",
    "mask = full_psr.flags['pta'] == 'PPTA'\n",
    "lite_dm_dt = lite_sig['J1909-3744_dm_gp']*1e6/(1e15*const.DM_K*lite_psr.freqs**2)\n",
    "full_dm_dt = full_sig['J1909-3744_dm_gp']*1e6/(1e15*const.DM_K*full_psr.freqs**2)\n",
    "#pu.plot_resids(lite_psr, correction=lite_correction, correction_label=' Lite')"
   ]
  },
  {
   "cell_type": "code",
   "execution_count": null,
   "id": "cfb972bb",
   "metadata": {},
   "outputs": [],
   "source": [
    "# plot\n",
    "labels = [r'$\\Delta$DM ($10^{-3}$ pc/cm$^3$)', r'$\\Delta t_{\\rm{RN}}$ ($\\mu$s)']\n",
    "sig_names = [f'{psrname}_dm_gp', f'{psrname}_red_noise']\n",
    "if f'{psrname}_chrom_gp' in lite_pta.signals:\n",
    "    labels = [r'$\\Delta t_{\\rm{Chr,1400}}$ ($\\mu$s)'] + labels\n",
    "    sig_names = [f'{psrname}_chrom_gp'] + sig_names\n",
    "lite_toas_only = np.isin(full_psr.toas, lite_psr.toas)\n",
    "for i in range(n_realizations):\n",
    "    for sig_name in sig_names:\n",
    "        lite_sig[sig_name][i] -= np.mean(lite_sig[sig_name][i])\n",
    "        full_sig[sig_name][i] -= np.mean(full_sig[sig_name][i][lite_toas_only])\n",
    "sig_names += [f'{psrname}_all']\n",
    "labels += [r'$\\Delta t_{\\rm{all}}$ ($\\mu$s)']\n",
    "fig, ax = plt.subplots(len(sig_names),1,figsize=(8,2*len(sig_names)),sharex=True)\n",
    "for i, sig_name in enumerate(sig_names):\n",
    "    # Full\n",
    "    med = np.median(full_sig[sig_name], axis=0)\n",
    "    err = np.quantile(full_sig[sig_name], [0.16,0.84], axis=0)\n",
    "    ax[i].plot(full_psr.toas/const.day, med, '.C0', ms=1)\n",
    "    ax[i].fill_between(full_psr.toas/const.day, err[0], err[1], alpha=0.2, color='C0', label='DR2')\n",
    "    # lite\n",
    "    med = np.median(lite_sig[sig_name], axis=0)\n",
    "    err = np.quantile(lite_sig[sig_name], [0.16,0.84], axis=0)\n",
    "    ax[i].plot(lite_psr.toas/const.day, med, '.C1', ms=1)\n",
    "    ax[i].fill_between(lite_psr.toas/const.day, err[0], err[1], alpha=0.2, color='C1',\n",
    "                       label=f'DR2lite ({pta_label})')\n",
    "    # labels\n",
    "    ax[i].set_ylabel(labels[i])\n",
    "    ax[i].grid(lw=0.3)\n",
    "ax[0].set_title(psrname)\n",
    "ax[0].legend()\n",
    "ax[1].set_xlabel(r'$t$ (MJD)')\n",
    "fig.tight_layout()\n",
    "fig.subplots_adjust(hspace=0)\n",
    "#fig.savefig(f'{figsave_dir}/{psrname}_gps_withtotal.png', dpi=300, bbox_inches='tight')\n",
    "plt.show()"
   ]
  },
  {
   "cell_type": "markdown",
   "id": "0664eadc",
   "metadata": {},
   "source": [
    "## Compare GP spectra"
   ]
  },
  {
   "cell_type": "code",
   "execution_count": null,
   "id": "3c6cb149",
   "metadata": {},
   "outputs": [],
   "source": [
    "def get_freqs(pta, signal_id='red_noise'):\n",
    "    \"\"\" Hackish way to get frequency vector.\"\"\"\n",
    "    for sig in pta._signalcollections[0]._signals:\n",
    "        if sig.signal_id == signal_id:\n",
    "            sig._construct_basis()\n",
    "            try:\n",
    "                freqs = np.array(sig._labels[''])[::2]\n",
    "            except IndexError:\n",
    "                freqs = sig._labels[::2]\n",
    "            break\n",
    "    return freqs"
   ]
  },
  {
   "cell_type": "code",
   "execution_count": null,
   "id": "c85b94cc",
   "metadata": {
    "scrolled": true
   },
   "outputs": [],
   "source": [
    "n_realizations = 1000\n",
    "for psrname in lite_psrnames[-3:]:\n",
    "    # setup ptas\n",
    "    lite_psr = [p for p in lite_psrs if p.name == psrname][0]\n",
    "    full_psr = [p for p in full_psrs if p.name == psrname][0]\n",
    "    pta_label = np.unique(lite_psr.flags['pta'])[0]\n",
    "    lite_pta = adv_noise_block(lite_psr, full_pta_analysis=False, dataset='lite', psr_model=False,\n",
    "                               tm_marg=False, tm_svd=False)\n",
    "    full_pta = adv_noise_block(full_psr, full_pta_analysis=False, dataset='full', psr_model=False,\n",
    "                               tm_marg=False, tm_svd=False)\n",
    "    pta_label = np.unique(lite_psr.flags['pta'])[0]\n",
    "    lite_pta.set_default_params(lite_noise_params)\n",
    "    full_pta.set_default_params(full_noise_params)\n",
    "    for signal in lite_pta.signals:\n",
    "        lite_pta.signals[signal].basis_combine = False\n",
    "    for signal in full_pta.signals:\n",
    "        full_pta.signals[signal].basis_combine = False\n",
    "    # setup labels\n",
    "    labels = [r'$\\Delta$DM ($10^{-3}$ pc/cm$^3$)', r'$\\Delta t_{\\rm{RN}}$ ($\\mu$s)']\n",
    "    sig_names = [f'{psrname}_dm_gp', f'{psrname}_red_noise']\n",
    "    if f'{psrname}_chrom_gp' in lite_pta.signals:\n",
    "        labels = [r'$\\Delta t_{\\rm{Chr,1400}}$ ($\\mu$s)'] + labels\n",
    "        sig_names = [f'{psrname}_chrom_gp'] + sig_names\n",
    "    # get Fourier coefficients - lite\n",
    "    gp = ConditionalGP(lite_pta)\n",
    "    lite_rho = {}\n",
    "    for i in tqdm.tqdm(range(n_realizations)):\n",
    "        params = {p:np.random.choice(lite_cores[psrname](p)) for p in lite_cores[psrname].params}\n",
    "        try:\n",
    "            GPs = gp.sample_coefficients(params, n=1)[0]\n",
    "        except LinAlgError:\n",
    "            print('Ran into cholesky error')\n",
    "            lite_rho[name][i] = lite_rho[name][i-1]\n",
    "            continue\n",
    "        for name in sig_names:\n",
    "            Nf = len(get_freqs(lite_pta, signal_id='_'.join(name.split('_')[1:])))\n",
    "            if i == 0:\n",
    "                lite_rho[name] = np.zeros((n_realizations,Nf))\n",
    "            a = GPs[f'{name}_coefficients']\n",
    "            for j in range(Nf):\n",
    "                lite_rho[name][i,j] = np.sqrt(a[j]**2 + a[j+1]**2)\n",
    "    # get Fourier coefficients - adv noise\n",
    "    gp = ConditionalGP(full_pta)\n",
    "    full_rho = {}\n",
    "    for i in tqdm.tqdm(range(n_realizations)):\n",
    "        params = {p:np.random.choice(full_cores[psrname](p)) for p in full_cores[psrname].params}\n",
    "        try:\n",
    "            GPs = gp.sample_coefficients(params, n=1)[0]\n",
    "        except LinAlgError:\n",
    "            print('Ran into cholesky error')\n",
    "            full_rho[name][i] = full_rho[name][i-1]\n",
    "            continue\n",
    "        for name in sig_names:\n",
    "            Nf = len(get_freqs(full_pta, signal_id='_'.join(name.split('_')[1:])))\n",
    "            if i == 0:\n",
    "                full_rho[name] = np.zeros((n_realizations,Nf))\n",
    "            a = GPs[f'{name}_coefficients']\n",
    "            for j in range(Nf):\n",
    "                full_rho[name][i,j] = np.sqrt(a[j]**2 + a[j+1]**2)\n",
    "    # plot\n",
    "    fig, ax = plt.subplots(len(sig_names),1,figsize=(8,2*len(sig_names)),sharex=True)\n",
    "    for i, name in enumerate(sig_names):\n",
    "        # DR2 full\n",
    "        freqs = get_freqs(full_pta, signal_id='_'.join(name.split('_')[1:]))\n",
    "        med = np.median(full_rho[name], axis=0)\n",
    "        err = np.quantile(full_rho[name], [0.05,0.95], axis=0)\n",
    "        ax[i].plot(freqs, med, '-C0', ms=1, label='DR2')\n",
    "        ax[i].fill_between(freqs, err[0], err[1], alpha=0.2, color='C0')\n",
    "        # DR2 lite\n",
    "        freqs = get_freqs(lite_pta, signal_id='_'.join(name.split('_')[1:]))\n",
    "        med = np.median(lite_rho[name], axis=0)\n",
    "        err = np.quantile(lite_rho[name], [0.05,0.95], axis=0)\n",
    "        ax[i].plot(freqs, med, '-C1', ms=1, label=f'DR2 lite ({pta_label})')\n",
    "        ax[i].fill_between(freqs, err[0], err[1], alpha=0.2, color='C1')\n",
    "        # labels\n",
    "        ax[i].set_ylabel(labels[i])\n",
    "        ax[i].grid(which='both', lw=0.3)\n",
    "        ax[i].loglog()\n",
    "        ax[i].axvline(1/const.yr, alpha=0.5, ls='--', color='k')\n",
    "        ax[i].set_ylim([1.01e-10, 1e-4])\n",
    "        if psrname == 'J1939+2134':\n",
    "            ax[i].set_ylim([1.01e-10, 1e-3])\n",
    "    ax[0].set_title(psrname)\n",
    "    ax[0].legend()\n",
    "    ax[1].set_xlabel(r'$f$ (Hz)')\n",
    "    fig.tight_layout()\n",
    "    fig.subplots_adjust(hspace=0)\n",
    "    fig.savefig(f'{figsave_dir}/{psrname}_spectra.png', dpi=300, bbox_inches='tight')\n",
    "    plt.show()"
   ]
  },
  {
   "cell_type": "code",
   "execution_count": null,
   "id": "73d7e4cb",
   "metadata": {},
   "outputs": [],
   "source": [
    "psr_paths"
   ]
  },
  {
   "cell_type": "code",
   "execution_count": null,
   "id": "c9789620",
   "metadata": {},
   "outputs": [],
   "source": [
    "import shutil"
   ]
  },
  {
   "cell_type": "code",
   "execution_count": null,
   "id": "87878993",
   "metadata": {},
   "outputs": [],
   "source": [
    "for path in psr_paths:\n",
    "    src = path.replace('lite_ePSRs','full_ePSRs')\n",
    "    dst = path.replace('lite_ePSRs','litecombined_ePSRs')\n",
    "    shutil.copyfile(src, dst)"
   ]
  },
  {
   "cell_type": "code",
   "execution_count": null,
   "id": "f226742e",
   "metadata": {},
   "outputs": [],
   "source": [
    "! ls /vast/palmer/home.grace/bbl29/IPTA_DR2_analysis/data/"
   ]
  },
  {
   "cell_type": "code",
   "execution_count": null,
   "id": "34a3b1af",
   "metadata": {},
   "outputs": [],
   "source": [
    "figsave_dir"
   ]
  },
  {
   "cell_type": "code",
   "execution_count": null,
   "id": "581667ae",
   "metadata": {},
   "outputs": [],
   "source": []
  }
 ],
 "metadata": {
  "kernelspec": {
   "display_name": "Python 3 (ipykernel)",
   "language": "python",
   "name": "python3"
  },
  "language_info": {
   "codemirror_mode": {
    "name": "ipython",
    "version": 3
   },
   "file_extension": ".py",
   "mimetype": "text/x-python",
   "name": "python",
   "nbconvert_exporter": "python",
   "pygments_lexer": "ipython3",
   "version": "3.10.12"
  }
 },
 "nbformat": 4,
 "nbformat_minor": 5
}
