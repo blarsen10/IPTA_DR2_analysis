{
 "cells": [
  {
   "cell_type": "code",
   "execution_count": null,
   "id": "0329b915",
   "metadata": {},
   "outputs": [],
   "source": [
    "%load_ext autoreload\n",
    "%autoreload 2"
   ]
  },
  {
   "cell_type": "code",
   "execution_count": null,
   "id": "c248371c",
   "metadata": {},
   "outputs": [],
   "source": [
    "import numpy as np\n",
    "from scipy.special import erfc, erfcinv\n",
    "import os, glob, pickle\n",
    "import json\n",
    "import matplotlib.pyplot as plt\n",
    "import libstempo as t2\n",
    "from enterprise.signals import utils as ent_utils\n",
    "from enterprise import constants as const\n",
    "from dr3_noise.models import model_singlepsr_noise\n",
    "from enterprise_extensions.blocks import common_red_noise_block\n",
    "from enterprise.signals import signal_base\n",
    "from h5pulsar import Pulsar, FilePulsar\n",
    "#from enterprise.pulsar import Pulsar\n",
    "import IPTA_DR2_analysis.utils as dr2u\n",
    "from IPTA_DR2_analysis.model_blocks import adv_noise_block"
   ]
  },
  {
   "cell_type": "code",
   "execution_count": null,
   "id": "ca22104d",
   "metadata": {},
   "outputs": [],
   "source": [
    "from la_forge import core as co\n",
    "import defiant\n",
    "from defiant import OptimalStatistic\n",
    "from defiant import utils, orf_functions\n",
    "from defiant import plotting as defplot\n",
    "from defiant.extra import mdc1_utils\n",
    "import tqdm\n",
    "from IPython.display import display, Math"
   ]
  },
  {
   "cell_type": "code",
   "execution_count": null,
   "id": "57beb81e",
   "metadata": {},
   "outputs": [],
   "source": [
    "%matplotlib inline\n",
    "%config IPython.matplotlib.backend = \"retina\"\n",
    "from matplotlib import rcParams\n",
    "rcParams[\"savefig.dpi\"] = 300\n",
    "rcParams[\"figure.dpi\"] = 300"
   ]
  },
  {
   "cell_type": "markdown",
   "id": "e79635bc",
   "metadata": {},
   "source": [
    "Here we would like to generate MCOS results using our new runs. We'll use DEFIANT to do this. We'll use the following settings throughout:\n",
    "- Multiple ORF\n",
    "- Noise marginalization\n",
    "- Uncertainty sampling\n",
    "- Power law model (fixed gamma)\n",
    "\n",
    "In order to get these results, we need to load the following:\n",
    "\n",
    "## Load PSRs, PTA object, CRN chain"
   ]
  },
  {
   "cell_type": "code",
   "execution_count": null,
   "id": "f25f2c11",
   "metadata": {},
   "outputs": [],
   "source": [
    "All_MCOS = {}"
   ]
  },
  {
   "cell_type": "code",
   "execution_count": null,
   "id": "3705fe10",
   "metadata": {},
   "outputs": [],
   "source": [
    "# UPDATE THIS\n",
    "ds = 'lite_unfiltered_53'\n",
    "if ds == 'lite' or ds == 'litec_filtered':\n",
    "    Nfreqs = 7\n",
    "else:\n",
    "    Nfreqs = 13\n",
    "project_path = '/vast/palmer/home.grace/bbl29/IPTA_DR2_analysis'\n",
    "dataset = f'{project_path}/data/{ds}_ePSRs'\n",
    "if 'lite_unfiltered' in ds:\n",
    "    noisedict_path = f'{project_path}/noisedicts/dr2lite_unfiltered_advnoise.json'\n",
    "elif not ds == 'lite':\n",
    "    noisedict_path = f'{project_path}/noisedicts/dr2full_advnoise.json'\n",
    "else:\n",
    "    noisedict_path = f'{project_path}/noisedicts/dr2{ds}_advnoise.json'\n",
    "if ds == 'edr2':\n",
    "    coredir = f'/vast/palmer/home.grace/bbl29/project/IPTA_DR2_analysis/edr2'\n",
    "    figsave = f'{project_path}/figs/edr2/CRN{Nfreqs}_g4p3_advnoise'\n",
    "else:\n",
    "    coredir = f'/vast/palmer/home.grace/bbl29/project/IPTA_DR2_analysis/dr2{ds}'\n",
    "    figsave = f'{project_path}/figs/dr2{ds}/CRN{Nfreqs}_g4p3_advnoise'"
   ]
  },
  {
   "cell_type": "code",
   "execution_count": null,
   "id": "804ce84f",
   "metadata": {},
   "outputs": [],
   "source": [
    "Nfreqs, noisedict_path"
   ]
  },
  {
   "cell_type": "code",
   "execution_count": null,
   "id": "363993c2",
   "metadata": {},
   "outputs": [],
   "source": [
    "psrs = []\n",
    "psr_paths = np.sort(glob.glob(f'{dataset}/J*'))\n",
    "try:\n",
    "    for psr_path in psr_paths:\n",
    "        with open(psr_path,'rb') as f:\n",
    "            psrs.append(FilePulsar(f))\n",
    "except:\n",
    "    for psr_path in psr_paths:\n",
    "        with open(psr_path,'rb') as f:\n",
    "            psrs.append(pickle.load(f))\n",
    "len(psrs), psr_paths[0]"
   ]
  },
  {
   "cell_type": "markdown",
   "id": "768a7a2e",
   "metadata": {},
   "source": [
    "We have a fixed gamma run and a varied gamma run. Let's make both ptas and load both runs.\n",
    "\n",
    "The pta objects are setup to be exactly the same as what was used for the MCMC run."
   ]
  },
  {
   "cell_type": "code",
   "execution_count": null,
   "id": "aed324e0",
   "metadata": {},
   "outputs": [],
   "source": [
    "# load noise params\n",
    "with open(noisedict_path,'r') as f:\n",
    "    noise_params = json.load(f)\n",
    "\n",
    "# set up model\n",
    "max_mjd = np.max([np.max(psr.toas) for psr in psrs])\n",
    "min_mjd = np.min([np.min(psr.toas) for psr in psrs])\n",
    "Tspan = max_mjd - min_mjd\n",
    "crn = common_red_noise_block(psd='powerlaw', prior='log-uniform', Tspan=Tspan,\n",
    "                             components=Nfreqs, gamma_val=13/3,\n",
    "                             logmin=-18, logmax=-12,\n",
    "                             orf=None, name='crn')\n",
    "\n",
    "# loop through pulsars, add noise\n",
    "models = []\n",
    "for psr in tqdm.tqdm(psrs):\n",
    "    if ds in ['litec', 'edr2'] or 'unfiltered' in ds:\n",
    "        noise = adv_noise_block(psr, full_pta_analysis=True, dataset='full', psr_model=True,\n",
    "                                tm_marg=True, tm_svd=True)\n",
    "    else:\n",
    "        noise = adv_noise_block(psr, full_pta_analysis=True, dataset=ds, psr_model=True,\n",
    "                                tm_marg=True, tm_svd=True)\n",
    "    signals = crn + noise\n",
    "    models.append(signals(psr))\n",
    "pta = signal_base.PTA(models)\n",
    "pta.set_default_params(noise_params)"
   ]
  },
  {
   "cell_type": "code",
   "execution_count": null,
   "id": "3055359b",
   "metadata": {
    "scrolled": true
   },
   "outputs": [],
   "source": [
    "corepath = f'{coredir}/CRN{Nfreqs}_g4p3_advnoise/core.h5'\n",
    "core = co.Core(corepath=corepath, burn=0)"
   ]
  },
  {
   "cell_type": "markdown",
   "id": "423fa72a",
   "metadata": {},
   "source": [
    "## Get MCOS distributions\n",
    "\n",
    "We will first compare the full distributions with uncertainty sampling, then we will compare the SNR distributions."
   ]
  },
  {
   "cell_type": "code",
   "execution_count": null,
   "id": "68f2dfad",
   "metadata": {},
   "outputs": [],
   "source": [
    "MCOS_obj = OptimalStatistic(psrs, pta=pta, gwb_name='crn', core=core, orfs=['hd','mp','dp'])"
   ]
  },
  {
   "cell_type": "code",
   "execution_count": null,
   "id": "368f2665",
   "metadata": {},
   "outputs": [],
   "source": [
    "# Fixed gamma results: HD, DP, MP. Get extra samples since this is what's used in the paper\n",
    "A2,A2s,idx = MCOS_obj.compute_OS(N=3000, return_pair_vals=False, pair_covariance=False, gamma=13/3)\n",
    "MCOS_results = {'A2_mean':A2, 'idx':idx}\n",
    "MCOS_results['A2_sigma'] = np.array([np.diag(np.sqrt(np.abs(A2s[i]))) for i in range(len(A2s))])"
   ]
  },
  {
   "cell_type": "code",
   "execution_count": null,
   "id": "fd1fc25b",
   "metadata": {},
   "outputs": [],
   "source": [
    "# compute additional statistics: A2, SNR, Bayesian p-value, Bayesian SNR\n",
    "MCOS_results['A2'] = utils.uncertainty_sample(A2,A2s,pfos=False,mcos=True)\n",
    "MCOS_results['SNR'] = MCOS_results['A2_mean']/MCOS_results['A2_sigma']\n",
    "MCOS_results['pB'] = 1/2*erfc(MCOS_results['SNR']/np.sqrt(2))\n",
    "MCOS_results['pB_mean'] = np.mean(MCOS_results['pB'], axis=0)\n",
    "MCOS_results['BSNR'] = np.sqrt(2)*erfcinv(2*MCOS_results['pB_mean'])"
   ]
  },
  {
   "cell_type": "code",
   "execution_count": null,
   "id": "73a4d128",
   "metadata": {},
   "outputs": [],
   "source": [
    "# save SNRs for dataset comparison\n",
    "All_MCOS[ds] = {}\n",
    "All_MCOS[ds]['SNR'] = MCOS_results['SNR']\n",
    "All_MCOS[ds]['BSNR'] = MCOS_results['BSNR']\n",
    "All_MCOS[ds]['A2'] = MCOS_results['A2']"
   ]
  },
  {
   "cell_type": "code",
   "execution_count": null,
   "id": "40400c1d",
   "metadata": {
    "scrolled": true
   },
   "outputs": [],
   "source": [
    "All_MCOS"
   ]
  },
  {
   "cell_type": "code",
   "execution_count": null,
   "id": "9fc8153a",
   "metadata": {},
   "outputs": [],
   "source": [
    "NMOS_savepath = f'/vast/palmer/home.grace/bbl29/project/IPTA_DR2_analysis/NMOS.pkl'\n",
    "with open(NMOS_savepath, 'wb') as f:\n",
    "    pickle.dump(All_MCOS, f)"
   ]
  },
  {
   "cell_type": "markdown",
   "id": "2278fed7",
   "metadata": {},
   "source": [
    "Can also just load the pickle directly"
   ]
  },
  {
   "cell_type": "code",
   "execution_count": null,
   "id": "a4de5927",
   "metadata": {},
   "outputs": [],
   "source": [
    "coredir"
   ]
  },
  {
   "cell_type": "code",
   "execution_count": null,
   "id": "298d9ce5",
   "metadata": {
    "scrolled": true
   },
   "outputs": [],
   "source": [
    "NMOS_savepath = f'/vast/palmer/home.grace/bbl29/project/IPTA_DR2_analysis/NMOS.pkl'\n",
    "with open(NMOS_savepath, 'rb') as f:\n",
    "    All_MCOS = pickle.load(f)"
   ]
  },
  {
   "cell_type": "markdown",
   "id": "379d9c9e",
   "metadata": {},
   "source": [
    "### Amplitudes\n",
    "\n",
    "For uncertainty sampling, we are assuming the OS is a Gaussian"
   ]
  },
  {
   "cell_type": "code",
   "execution_count": null,
   "id": "01d8b710",
   "metadata": {},
   "outputs": [],
   "source": [
    "figsave"
   ]
  },
  {
   "cell_type": "code",
   "execution_count": null,
   "id": "a3b63e1f",
   "metadata": {},
   "outputs": [],
   "source": [
    "fig, ax = plt.subplots(figsize=(6,3))\n",
    "plt.hist(MCOS_results['A2'][:,1],bins='auto',histtype='step',label=r'Monopole',density=True,range=[0,2e-29])\n",
    "plt.hist(MCOS_results['A2'][:,0],bins='auto',histtype='step',label=r'HD',density=True,range=[0,2e-29])\n",
    "plt.hist(MCOS_results['A2'][:,2],bins='auto',histtype='step',label=r'Dipole',density=True,range=[0,2e-29])\n",
    "plt.hist((10**core('crn_log10_A'))**2,bins='auto',histtype='step',color='k',alpha=0.5,ls='--',\n",
    "         label='Bayesian uncorrelated process',density=True,range=[0,2e-29])\n",
    "plt.xlim([0,2e-29])\n",
    "plt.title(fr'IPTA DR2{ds} | $A^2$ full distributions (fixed $\\gamma = 13/3$)')\n",
    "plt.xlabel('$A^2$')\n",
    "plt.ylabel('$p(A^2)$')\n",
    "plt.legend()\n",
    "plt.savefig(f'{figsave}/OS.png', dpi=300, bbox_inches='tight')\n",
    "plt.show()"
   ]
  },
  {
   "cell_type": "markdown",
   "id": "7fee6315",
   "metadata": {},
   "source": [
    "### SNRs\n",
    "\n",
    "Note here we are assuming the null-distribution is a Gaussian, which is wrong"
   ]
  },
  {
   "cell_type": "code",
   "execution_count": null,
   "id": "690b14cd",
   "metadata": {},
   "outputs": [],
   "source": [
    "fig, ax = plt.subplots(figsize=(6,3))\n",
    "labels = ['HD', 'Monopole', 'Dipole']\n",
    "colors = ['C1', 'C0', 'C2']\n",
    "for i in range(3):\n",
    "    plt.hist(MCOS_results['SNR'][:,i],bins='auto',histtype='step',\n",
    "             density=True,color=colors[i],label=labels[i]+f' | BSNR = {MCOS_results[\"BSNR\"][i]:0.2f}')\n",
    "    ax.axvline(MCOS_results['BSNR'][i], color=colors[i])\n",
    "#plt.xlim([0,2e-29])\n",
    "plt.title(fr'IPTA DR2{ds} | S/N distributions (fixed $\\gamma = 13/3$)')\n",
    "plt.xlabel('S/N')\n",
    "plt.ylabel('$p(S/N)$')\n",
    "plt.legend()\n",
    "plt.savefig(f'{figsave}/SNR.png', dpi=300, bbox_inches='tight')\n",
    "plt.show()"
   ]
  },
  {
   "cell_type": "markdown",
   "id": "47ccd27b",
   "metadata": {},
   "source": [
    "### p-values\n",
    "\n",
    "Note here we are assuming the null-distribution is a Gaussian, which is wrong"
   ]
  },
  {
   "cell_type": "code",
   "execution_count": null,
   "id": "df24f24b",
   "metadata": {},
   "outputs": [],
   "source": [
    "fig, ax = plt.subplots(figsize=(6,3))\n",
    "labels = ['HD', 'Monopole', 'Dipole']\n",
    "colors = ['C1', 'C0', 'C2']\n",
    "for i in range(3):\n",
    "    plt.hist(np.log10(MCOS_results['pB'][:,i]),bins=40,histtype='step',\n",
    "             range=[np.max([-6,np.min(np.log10(MCOS_results['pB'][:,i]))]),0],\n",
    "             density=True,color=colors[i],label=labels[i]+fr' | $p_B$ = {MCOS_results[\"pB_mean\"][i]:0.2f}')\n",
    "    ax.axvline(np.log10(MCOS_results['pB_mean'][i]), color=colors[i])\n",
    "#plt.xlim([0,2e-29])\n",
    "plt.title(fr'IPTA DR2{ds} | $p_B$ distributions (fixed $\\gamma = 13/3$)')\n",
    "plt.xlabel(r'$\\log_{10}p_B$')\n",
    "plt.ylabel('$p(p_B)$')\n",
    "plt.xlim([-6,0])\n",
    "plt.legend()\n",
    "plt.savefig(f'{figsave}/p_values.png', dpi=300, bbox_inches='tight')\n",
    "plt.show()"
   ]
  },
  {
   "cell_type": "markdown",
   "id": "fca1ffac",
   "metadata": {},
   "source": [
    "# Paper versions\n",
    "\n",
    "### Compare datasets -- Old version (Lite filtered 21, Combined 21, Full 21)"
   ]
  },
  {
   "cell_type": "code",
   "execution_count": null,
   "id": "18df4e1b",
   "metadata": {},
   "outputs": [],
   "source": [
    "fig, ax = plt.subplots(figsize=(6,3))\n",
    "datasets = ['full', 'lite_unfiltered_53', 'edr2']\n",
    "labels = ['Full DR2', 'DR2 Lite', 'EDR2']\n",
    "#datasets = ['litec', 'litec_filtered']\n",
    "#labels = ['EDR2', 'EDR2_filtered']\n",
    "for i in range(len(datasets)):\n",
    "    plt.hist(All_MCOS[datasets[i]]['SNR'][:,0],bins='auto',histtype='step',\n",
    "             density=True,color=f'C{i}',label=labels[i])#+f' | BSNR = {All_MCOS[datasets[i]][\"BSNR\"][0]:0.2f}')\n",
    "    ax.axvline(All_MCOS[datasets[i]]['BSNR'][0], color=f'C{i}', lw=1, ls='--')\n",
    "#plt.xlim([0,2e-29])\n",
    "#plt.title(fr'IPTA DR2{ds} | S/N distributions (fixed $\\gamma = 13/3$)')\n",
    "plt.xlabel('HD S/N', fontsize='x-large')\n",
    "plt.ylabel('PDF', fontsize='x-large')\n",
    "plt.legend(frameon=False)\n",
    "plt.savefig(f'{project_path}/figs/dataset_comparisons/gwb/OS_SNR.png',\n",
    "            dpi=300, bbox_inches='tight')\n",
    "plt.show()"
   ]
  },
  {
   "cell_type": "markdown",
   "id": "2485eae3",
   "metadata": {},
   "source": [
    "Let's have a version with all 3 ORFs"
   ]
  },
  {
   "cell_type": "code",
   "execution_count": null,
   "id": "d4b98a26",
   "metadata": {},
   "outputs": [],
   "source": [
    "print(All_MCOS['full'])"
   ]
  },
  {
   "cell_type": "code",
   "execution_count": null,
   "id": "927fe919",
   "metadata": {},
   "outputs": [],
   "source": [
    "#fig, ax = plt.subplots(figsize=(6,3))\n",
    "datasets = ['full', 'lite_unfiltered_53', 'edr2']\n",
    "labels = ['Full DR2', 'DR2 Lite', 'EDR2']\n",
    "#datasets = ['litec', 'litec_filtered']\n",
    "#labels = ['EDR2', 'EDR2_filtered']\n",
    "orf_labels = ['Hellings-Downs', 'Monopole', 'Dipole']\n",
    "fig, ax = plt.subplots(3,1,figsize=(6,6),sharex=True)\n",
    "for j in range(len(orf_labels)):\n",
    "    for i in range(len(datasets)):\n",
    "        ax[j].hist(All_MCOS[datasets[i]]['SNR'][:,j],bins='auto',histtype='step',\n",
    "                   density=True,color=f'C{i}',\n",
    "                   label=labels[i])#+f' | BSNR = {All_MCOS[datasets[i]][\"BSNR\"][0]:0.2f}')\n",
    "        ax[j].axvline(All_MCOS[datasets[i]]['BSNR'][j], color=f'C{i}', lw=1, ls='--')\n",
    "    ax[j].set_ylabel(f'PDF', fontsize='x-large')\n",
    "#ax[0].legend(frameon=False)\n",
    "for j in range(len(orf_labels)):\n",
    "    xlim = ax[j].get_xlim()\n",
    "    ylim = ax[j].get_ylim()\n",
    "    ax[j].text(xlim[1]-np.diff(xlim)/2.8, ylim[1]*0.8, orf_labels[j], fontsize='large', weight='bold')\n",
    "    ax[j].grid(lw=0.3)\n",
    "    ax[j].set_yticks([])\n",
    "#plt.xlim([0,2e-29])\n",
    "#plt.title(fr'IPTA DR2{ds} | S/N distributions (fixed $\\gamma = 13/3$)')\n",
    "ax[-1].set_xlabel('S/N', fontsize='x-large')\n",
    "fig.subplots_adjust(hspace=0)\n",
    "plt.savefig(f'{project_path}/figs/dataset_comparisons/gwb/MCOS_SNR.png', dpi=300, bbox_inches='tight')\n",
    "plt.show()"
   ]
  },
  {
   "cell_type": "code",
   "execution_count": null,
   "id": "e0b222ae",
   "metadata": {},
   "outputs": [],
   "source": [
    "#fig, ax = plt.subplots(figsize=(6,3))\n",
    "datasets = ['full', 'lite_unfiltered_53', 'edr2']\n",
    "labels = ['Full DR2', 'DR2 Lite', 'EDR2']\n",
    "#datasets = ['litec', 'litec_filtered']\n",
    "#labels = ['EDR2', 'EDR2_filtered']\n",
    "orf_labels = ['Hellings-Downs', 'Monopole', 'Dipole']\n",
    "fig, ax = plt.subplots(3,1,figsize=(6,6),sharex=True)\n",
    "for j in range(len(orf_labels)):\n",
    "    for i in range(len(datasets)):\n",
    "        ax[j].hist(All_MCOS[datasets[i]]['SNR'][:,j]**2,bins='auto',histtype='step',\n",
    "                   density=True,color=f'C{i}',\n",
    "                   label=labels[i])#+f' | BSNR = {All_MCOS[datasets[i]][\"BSNR\"][0]:0.2f}')\n",
    "        ax[j].axvline(All_MCOS[datasets[i]]['BSNR'][j]**2, color=f'C{i}', lw=1, ls='--')\n",
    "    ax[j].set_ylabel(f'PDF', fontsize='x-large')\n",
    "#ax[0].legend(frameon=False)\n",
    "ax[0].set_xlim([0,10])\n",
    "for j in range(len(orf_labels)):\n",
    "    xlim = ax[j].get_xlim()\n",
    "    ylim = ax[j].get_ylim()\n",
    "    ax[j].text(xlim[1]-4, ylim[1]*0.8, orf_labels[j], fontsize='large', weight='bold')\n",
    "    ax[j].grid(lw=0.3)\n",
    "#plt.xlim([0,2e-29])\n",
    "#plt.title(fr'IPTA DR2{ds} | S/N distributions (fixed $\\gamma = 13/3$)')\n",
    "ax[-1].set_xlabel(r'S/N$^2$', fontsize='x-large')\n",
    "fig.subplots_adjust(hspace=0)\n",
    "plt.savefig(f'{project_path}/figs/dataset_comparisons/gwb/MCOS_SNR_sq.png', dpi=300, bbox_inches='tight')\n",
    "plt.show()"
   ]
  },
  {
   "cell_type": "code",
   "execution_count": null,
   "id": "8aee9da8",
   "metadata": {},
   "outputs": [],
   "source": [
    "#fig, ax = plt.subplots(figsize=(6,3))\n",
    "datasets = ['full', 'lite_unfiltered_53', 'edr2']\n",
    "labels = ['Full DR2', 'DR2 Lite', 'EDR2']\n",
    "#datasets = ['litec', 'litec_filtered']\n",
    "#labels = ['EDR2', 'EDR2_filtered']\n",
    "orf_labels = ['Hellings-Downs', 'Monopole', 'Dipole']\n",
    "fig, ax = plt.subplots(3,1,figsize=(6,6),sharex=True)\n",
    "for j in range(len(orf_labels)):\n",
    "    for i in range(len(datasets)):\n",
    "        mask = All_MCOS[datasets[i]]['A2'][:,j] > 0\n",
    "        ax[j].hist(All_MCOS[datasets[i]]['A2'][:,j][mask],bins='auto',histtype='step',\n",
    "                   density=True,color=f'C{i}',\n",
    "                   label=labels[i])#+f' | BSNR = {All_MCOS[datasets[i]][\"BSNR\"][0]:0.2f}')\n",
    "        #ax[j].axvline(All_MCOS[datasets[i]]['A2'][j], color=f'C{i}', lw=1, ls='--')\n",
    "    ax[j].set_ylabel(f'PDF', fontsize='x-large')\n",
    "#ax[0].legend(frameon=False)\n",
    "ax[0].set_xlim([0,3e-29])\n",
    "for j in range(len(orf_labels)):\n",
    "    xlim = ax[j].get_xlim()\n",
    "    ylim = ax[j].get_ylim()\n",
    "    ax[j].text(xlim[1]-np.diff(xlim)/2.8, ylim[1]*0.8, orf_labels[j], fontsize='large', weight='bold')\n",
    "    ax[j].grid(lw=0.3)\n",
    "    ax[j].set_yticks([])\n",
    "plt.xlim([0,3e-29])\n",
    "#plt.title(fr'IPTA DR2{ds} | S/N distributions (fixed $\\gamma = 13/3$)')\n",
    "ax[-1].set_xlabel(r'$\\hat{A}^2$', fontsize='x-large')\n",
    "fig.subplots_adjust(hspace=0)\n",
    "plt.savefig(f'{project_path}/figs/dataset_comparisons/gwb/MCOS_Asq.png', dpi=300, bbox_inches='tight')\n",
    "plt.show()"
   ]
  },
  {
   "cell_type": "markdown",
   "id": "2d23f75f",
   "metadata": {},
   "source": [
    "# Pair-covariant MCOS"
   ]
  },
  {
   "cell_type": "code",
   "execution_count": null,
   "id": "09be332d",
   "metadata": {},
   "outputs": [],
   "source": [
    "All_PCMCOS = {}"
   ]
  },
  {
   "cell_type": "code",
   "execution_count": null,
   "id": "665e3179",
   "metadata": {},
   "outputs": [],
   "source": [
    "PCOS_obj = OptimalStatistic(psrs, pta=pta, gwb_name='crn', core=core, orfs=['hd','mp','dp'])\n",
    "PCOS_obj.set_orf(['hd','dipole','monopole'], pcmc_orf='hd')"
   ]
  },
  {
   "cell_type": "code",
   "execution_count": null,
   "id": "1d1774ab",
   "metadata": {},
   "outputs": [],
   "source": [
    "A2,A2s,idx = PCOS_obj.compute_OS(N=100, pair_covariance=True, return_pair_vals=False, gamma=13/3)\n",
    "PCOS_results = {'A2_mean':A2, 'idx':idx}\n",
    "PCOS_results['A2_sigma'] = np.array([np.diag(np.sqrt(np.abs(A2s[i]))) for i in range(len(A2s))])"
   ]
  },
  {
   "cell_type": "code",
   "execution_count": null,
   "id": "4e359da5",
   "metadata": {},
   "outputs": [],
   "source": [
    "# compute additional statistics: A2, SNR, Bayesian p-value, Bayesian SNR\n",
    "PCOS_results['A2'] = utils.uncertainty_sample(A2,A2s,pfos=False,mcos=True)\n",
    "PCOS_results['SNR'] = PCOS_results['A2_mean']/PCOS_results['A2_sigma']\n",
    "PCOS_results['pB'] = 1/2*erfc(PCOS_results['SNR']/np.sqrt(2))\n",
    "PCOS_results['pB_mean'] = np.mean(PCOS_results['pB'], axis=0)\n",
    "PCOS_results['BSNR'] = np.sqrt(2)*erfcinv(2*PCOS_results['pB_mean'])"
   ]
  },
  {
   "cell_type": "code",
   "execution_count": null,
   "id": "2add2d0a",
   "metadata": {},
   "outputs": [],
   "source": [
    "# save SNRs for dataset comparison\n",
    "All_PCOS[ds] = {}\n",
    "All_PCOS[ds]['A2'] = PCOS_results['A2']\n",
    "All_PCOS[ds]['SNR'] = PCOS_results['SNR']\n",
    "All_PCOS[ds]['BSNR'] = PCOS_results['BSNR']"
   ]
  },
  {
   "cell_type": "code",
   "execution_count": null,
   "id": "cc7eb948",
   "metadata": {},
   "outputs": [],
   "source": [
    "PCMCOS_savepath = f'/vast/palmer/home.grace/bbl29/project/IPTA_DR2_analysis/PCMCOS.pkl'\n",
    "with open(PCMCOS_savepath, 'wb') as f:\n",
    "    pickle.dump(All_PCMCOS, f)"
   ]
  },
  {
   "cell_type": "markdown",
   "id": "6bb87c90",
   "metadata": {},
   "source": [
    "Can also just load the pickle directly"
   ]
  },
  {
   "cell_type": "code",
   "execution_count": null,
   "id": "6a4c7ee3",
   "metadata": {
    "scrolled": true
   },
   "outputs": [],
   "source": [
    "PCMCOS_savepath = f'/vast/palmer/home.grace/bbl29/project/IPTA_DR2_analysis/PCMCOS.pkl'\n",
    "with open(PCMCOS_savepath, 'rb') as f:\n",
    "    All_PCMCOS = pickle.load(f)"
   ]
  },
  {
   "cell_type": "code",
   "execution_count": null,
   "id": "b003a038",
   "metadata": {
    "scrolled": true
   },
   "outputs": [],
   "source": [
    "All_PCOS"
   ]
  },
  {
   "cell_type": "code",
   "execution_count": null,
   "id": "54d57734",
   "metadata": {},
   "outputs": [],
   "source": [
    "fig, ax = plt.subplots(figsize=(6,3))\n",
    "plt.hist(PCOS_results['A2'][:,1],bins='auto',histtype='step',label=r'Monopole',density=True,range=[0,3e-29])\n",
    "plt.hist(PCOS_results['A2'][:,0],bins='auto',histtype='step',label=r'HD',density=True,range=[0,3e-29])\n",
    "plt.hist(PCOS_results['A2'][:,2],bins='auto',histtype='step',label=r'Dipole',density=True,range=[0,3e-29])\n",
    "plt.hist((10**core('crn_log10_A'))**2,bins='auto',histtype='step',color='k',alpha=0.5,ls='--',\n",
    "         label='Bayesian uncorrelated process',density=True,range=[0,3e-29])\n",
    "plt.xlim([0,3e-29])\n",
    "plt.title(fr'IPTA DR2{ds} | $A^2$ full distributions (fixed $\\gamma = 13/3$)')\n",
    "plt.xlabel('$A^2$')\n",
    "plt.ylabel('$p(A^2)$')\n",
    "plt.legend()\n",
    "plt.savefig(f'{figsave}/PCOS.png', dpi=300, bbox_inches='tight')\n",
    "plt.show()"
   ]
  },
  {
   "cell_type": "markdown",
   "id": "4cfc1c9c",
   "metadata": {},
   "source": [
    "### SNRs\n",
    "\n",
    "Note here we are assuming the null-distribution is a Gaussian, which is wrong"
   ]
  },
  {
   "cell_type": "code",
   "execution_count": null,
   "id": "005177a1",
   "metadata": {},
   "outputs": [],
   "source": [
    "fig, ax = plt.subplots(figsize=(6,3))\n",
    "labels = ['HD', 'Monopole', 'Dipole']\n",
    "colors = ['C1', 'C0', 'C2']\n",
    "for i in range(3):\n",
    "    plt.hist(PCOS_results['SNR'][:,i],bins='auto',histtype='step',\n",
    "             density=True,color=colors[i],label=labels[i]+f' | BSNR = {PCOS_results[\"BSNR\"][i]:0.2f}')\n",
    "    ax.axvline(PCOS_results['BSNR'][i], color=colors[i])\n",
    "#plt.xlim([0,2e-29])\n",
    "plt.title(fr'IPTA DR2{ds} | S/N distributions (fixed $\\gamma = 13/3$)')\n",
    "plt.xlabel('S/N')\n",
    "plt.ylabel('$p(S/N)$')\n",
    "plt.legend()\n",
    "plt.savefig(f'{figsave}/PC_SNR.png', dpi=300, bbox_inches='tight')\n",
    "plt.show()"
   ]
  },
  {
   "cell_type": "markdown",
   "id": "e8af6e70",
   "metadata": {},
   "source": [
    "### p-values\n",
    "\n",
    "Note here we are assuming the null-distribution is a Gaussian, which is wrong"
   ]
  },
  {
   "cell_type": "code",
   "execution_count": null,
   "id": "12f6e0a5",
   "metadata": {},
   "outputs": [],
   "source": [
    "fig, ax = plt.subplots(figsize=(6,3))\n",
    "labels = ['HD', 'Monopole', 'Dipole']\n",
    "colors = ['C1', 'C0', 'C2']\n",
    "for i in range(3):\n",
    "    plt.hist(np.log10(PCMCOS_results['pB'][:,i]),bins=40,histtype='step',\n",
    "             range=[np.max([-6,np.min(np.log10(PCMCOS_results['pB'][:,i]))]),0],\n",
    "             density=True,color=colors[i],label=labels[i]+fr' | $p_B$ = {PCMCOS_results[\"pB_mean\"][i]:0.2f}')\n",
    "    ax.axvline(np.log10(PCMCOS_results['pB_mean'][i]), color=colors[i])\n",
    "#plt.xlim([0,2e-29])\n",
    "plt.title(fr'IPTA DR2{ds} | $p_B$ distributions (fixed $\\gamma = 13/3$)')\n",
    "plt.xlabel(r'$\\log_{10}p_B$')\n",
    "plt.ylabel('$p(p_B)$')\n",
    "plt.xlim([-6,0])\n",
    "plt.legend()\n",
    "plt.savefig(f'{figsave}/PC_p_values.png', dpi=300, bbox_inches='tight')\n",
    "plt.show()"
   ]
  },
  {
   "cell_type": "code",
   "execution_count": null,
   "id": "797c4811",
   "metadata": {},
   "outputs": [],
   "source": []
  },
  {
   "cell_type": "code",
   "execution_count": null,
   "id": "3c38fa0f",
   "metadata": {},
   "outputs": [],
   "source": []
  },
  {
   "cell_type": "code",
   "execution_count": null,
   "id": "0e9f4718",
   "metadata": {},
   "outputs": [],
   "source": []
  },
  {
   "cell_type": "code",
   "execution_count": null,
   "id": "142dd07a",
   "metadata": {},
   "outputs": [],
   "source": []
  },
  {
   "cell_type": "code",
   "execution_count": null,
   "id": "90cef991",
   "metadata": {},
   "outputs": [],
   "source": []
  },
  {
   "cell_type": "code",
   "execution_count": null,
   "id": "09e5a3b9",
   "metadata": {},
   "outputs": [],
   "source": []
  },
  {
   "cell_type": "code",
   "execution_count": null,
   "id": "6f5196da",
   "metadata": {},
   "outputs": [],
   "source": []
  },
  {
   "cell_type": "code",
   "execution_count": null,
   "id": "4bf794ee",
   "metadata": {},
   "outputs": [],
   "source": []
  },
  {
   "cell_type": "code",
   "execution_count": null,
   "id": "e926b9a3",
   "metadata": {},
   "outputs": [],
   "source": []
  },
  {
   "cell_type": "markdown",
   "id": "8a6bc7c6",
   "metadata": {},
   "source": [
    "### Compare datasets -- New paper version (Lite unfiltered 21, Combined 21, Full 53)"
   ]
  },
  {
   "cell_type": "code",
   "execution_count": null,
   "id": "95ee215b",
   "metadata": {},
   "outputs": [],
   "source": [
    "#fig, ax = plt.subplots(figsize=(6,3))\n",
    "datasets = ['full', 'lite_unfiltered_21', 'litec']\n",
    "labels = ['Full DR2', 'DR2 Lite', 'EDR2']\n",
    "#datasets = ['litec', 'litec_filtered']\n",
    "#labels = ['EDR2', 'EDR2_filtered']\n",
    "orf_labels = ['HD', 'Monopole', 'Dipole']\n",
    "fig, ax = plt.subplots(3,1,figsize=(6,6),sharex=True)\n",
    "for j in range(len(orf_labels)):\n",
    "    for i in range(len(datasets)):\n",
    "        ax[j].hist(All_MCOS[datasets[i]]['SNR'][:,j],bins='auto',histtype='step',\n",
    "                   density=True,color=f'C{i}',\n",
    "                   label=labels[i])#+f' | BSNR = {All_MCOS[datasets[i]][\"BSNR\"][0]:0.2f}')\n",
    "        ax[j].axvline(All_MCOS[datasets[i]]['BSNR'][j], color=f'C{i}', lw=1, ls='--')\n",
    "    ax[j].set_ylabel(f'PDF', fontsize='x-large')\n",
    "#ax[0].legend(frameon=False)\n",
    "for j in range(len(orf_labels)):\n",
    "    xlim = ax[j].get_xlim()\n",
    "    ylim = ax[j].get_ylim()\n",
    "    ax[j].text(xlim[0]+1, ylim[1]*0.8, orf_labels[j], fontsize='large', weight='bold')\n",
    "    ax[j].grid(lw=0.3)\n",
    "#plt.xlim([0,2e-29])\n",
    "#plt.title(fr'IPTA DR2{ds} | S/N distributions (fixed $\\gamma = 13/3$)')\n",
    "ax[-1].set_xlabel('S/N', fontsize='x-large')\n",
    "plt.savefig(f'{project_path}/figs/dataset_comparisons/gwb/MCOS_SNR_unfiltered.png',\n",
    "            dpi=300, bbox_inches='tight')\n",
    "fig.subplots_adjust(hspace=0)\n",
    "plt.show()"
   ]
  },
  {
   "cell_type": "markdown",
   "id": "0eacd8ae",
   "metadata": {},
   "source": [
    "### Compare datasets -- New paper version (Lite unfiltered 43, Combined 21, Full 53)"
   ]
  },
  {
   "cell_type": "code",
   "execution_count": null,
   "id": "9ebd8994",
   "metadata": {},
   "outputs": [],
   "source": [
    "#fig, ax = plt.subplots(figsize=(6,3))\n",
    "datasets = ['full', 'lite_unfiltered_43', 'litec']\n",
    "labels = ['Full DR2', 'DR2 Lite', 'EDR2']\n",
    "#datasets = ['litec', 'litec_filtered']\n",
    "#labels = ['EDR2', 'EDR2_filtered']\n",
    "orf_labels = ['HD', 'Monopole', 'Dipole']\n",
    "fig, ax = plt.subplots(3,1,figsize=(6,6),sharex=True)\n",
    "for j in range(len(orf_labels)):\n",
    "    for i in range(len(datasets)):\n",
    "        ax[j].hist(All_MCOS[datasets[i]]['SNR'][:,j],bins='auto',histtype='step',\n",
    "                   density=True,color=f'C{i}',\n",
    "                   label=labels[i])#+f' | BSNR = {All_MCOS[datasets[i]][\"BSNR\"][0]:0.2f}')\n",
    "        ax[j].axvline(All_MCOS[datasets[i]]['BSNR'][j], color=f'C{i}', lw=1, ls='--')\n",
    "    ax[j].set_ylabel(f'PDF', fontsize='x-large')\n",
    "#ax[0].legend(frameon=False)\n",
    "for j in range(len(orf_labels)):\n",
    "    xlim = ax[j].get_xlim()\n",
    "    ylim = ax[j].get_ylim()\n",
    "    ax[j].text(xlim[0]+1, ylim[1]*0.8, orf_labels[j], fontsize='large', weight='bold')\n",
    "    ax[j].grid(lw=0.3)\n",
    "#plt.xlim([0,2e-29])\n",
    "#plt.title(fr'IPTA DR2{ds} | S/N distributions (fixed $\\gamma = 13/3$)')\n",
    "ax[-1].set_xlabel('S/N', fontsize='x-large')\n",
    "plt.savefig(f'{project_path}/figs/dataset_comparisons/gwb/MCOS_SNR_unfiltered_43.png',\n",
    "            dpi=300, bbox_inches='tight')\n",
    "fig.subplots_adjust(hspace=0)\n",
    "plt.show()"
   ]
  },
  {
   "cell_type": "markdown",
   "id": "1d5adbce",
   "metadata": {},
   "source": [
    "### Compare datasets -- Presentation version 21 psrs each (Combined unfiltered, Lite unfiltered, Lite filtered, Combined filtered)"
   ]
  },
  {
   "cell_type": "code",
   "execution_count": null,
   "id": "02c24757",
   "metadata": {},
   "outputs": [],
   "source": [
    "#fig, ax = plt.subplots(figsize=(6,3))\n",
    "datasets = ['litec', 'lite', 'lite_unfiltered_21', 'litec_filtered']\n",
    "labels = ['EDR2', 'DR2 Lite filtered', 'DR2 Lite', 'EDR2 filtered']\n",
    "#datasets = ['litec', 'litec_filtered']\n",
    "#labels = ['EDR2', 'EDR2_filtered']\n",
    "orf_labels = ['HD', 'Monopole', 'Dipole']\n",
    "fig, ax = plt.subplots(3,1,figsize=(6,6),sharex=True)\n",
    "for j in range(len(orf_labels)):\n",
    "    for i in range(len(datasets)):\n",
    "        ax[j].hist(All_MCOS[datasets[i]]['SNR'][:,j],bins='auto',histtype='step',\n",
    "                   density=True,color=f'C{i}',\n",
    "                   label=labels[i])#+f' | BSNR = {All_MCOS[datasets[i]][\"BSNR\"][0]:0.2f}')\n",
    "        ax[j].axvline(All_MCOS[datasets[i]]['BSNR'][j], color=f'C{i}', lw=1, ls='--')\n",
    "    ax[j].set_ylabel(f'PDF', fontsize='x-large')\n",
    "#ax[0].legend(frameon=False)\n",
    "for j in range(len(orf_labels)):\n",
    "    xlim = ax[j].get_xlim()\n",
    "    ylim = ax[j].get_ylim()\n",
    "    ax[j].text(xlim[0]+1, ylim[1]*0.8, orf_labels[j], fontsize='large', weight='bold')\n",
    "    ax[j].grid(lw=0.3)\n",
    "#plt.xlim([0,2e-29])\n",
    "#plt.title(fr'IPTA DR2{ds} | S/N distributions (fixed $\\gamma = 13/3$)')\n",
    "ax[-1].set_xlabel('S/N', fontsize='x-large')\n",
    "plt.savefig(f'{project_path}/figs/dataset_comparisons/gwb/MCOS_SNR_compare_filters.png',\n",
    "            dpi=300, bbox_inches='tight')\n",
    "fig.subplots_adjust(hspace=0)\n",
    "plt.show()"
   ]
  },
  {
   "cell_type": "code",
   "execution_count": null,
   "id": "16b3cce7",
   "metadata": {},
   "outputs": [],
   "source": []
  },
  {
   "cell_type": "code",
   "execution_count": null,
   "id": "8a66fd9b",
   "metadata": {},
   "outputs": [],
   "source": []
  },
  {
   "cell_type": "markdown",
   "id": "6b7535ab",
   "metadata": {},
   "source": [
    "## MCOS - EDR2 filtered dataset"
   ]
  },
  {
   "cell_type": "code",
   "execution_count": null,
   "id": "9d19f970",
   "metadata": {},
   "outputs": [],
   "source": [
    "figsave"
   ]
  },
  {
   "cell_type": "markdown",
   "id": "bf6e1a26",
   "metadata": {},
   "source": [
    "# PC test\n",
    "\n",
    "Let's first do a test to see if there is any difference whether we use pair covariance or not.\n",
    "\n",
    "Now make the OS"
   ]
  },
  {
   "cell_type": "code",
   "execution_count": null,
   "id": "015d690b",
   "metadata": {},
   "outputs": [],
   "source": [
    "MCOS_obj = OptimalStatistic(psrs, pta=pta, gwb_name='crn', core=core, orfs=['hd','mp','dp'])"
   ]
  },
  {
   "cell_type": "markdown",
   "id": "23e74c2e",
   "metadata": {},
   "source": [
    "### Generate OS results"
   ]
  },
  {
   "cell_type": "code",
   "execution_count": null,
   "id": "1169a6b5",
   "metadata": {},
   "outputs": [],
   "source": [
    "# Fixed gamma results: HD, DP, MP. Get extra samples since this is what's used in the paper\n",
    "A2,A2s,idx = MCOS_obj.compute_OS(N=500, return_pair_vals=False, pair_covariance=False, gamma=13/3)\n",
    "MCOS_results = {'A2':A2, 'A2_sigma':A2s, 'idx':idx}"
   ]
  },
  {
   "cell_type": "code",
   "execution_count": null,
   "id": "274df220",
   "metadata": {
    "scrolled": true
   },
   "outputs": [],
   "source": [
    "# Fixed gamma results: HD, DP, MP. Get extra samples since this is what's used in the paper\n",
    "A2,A2s,idx = MCOS_obj.compute_OS(N=500, return_pair_vals=False, pair_covariance=True, gamma=13/3)\n",
    "MCOS_results_pc = {'A2':A2, 'A2_sigma':A2s, 'idx':idx}"
   ]
  },
  {
   "cell_type": "markdown",
   "id": "5ad8a6c6",
   "metadata": {},
   "source": [
    "It turns out the PCMCOS is actually broken right now, so that's why we are not using it."
   ]
  },
  {
   "cell_type": "code",
   "execution_count": null,
   "id": "a475994a",
   "metadata": {},
   "outputs": [],
   "source": []
  }
 ],
 "metadata": {
  "kernelspec": {
   "display_name": "Python 3 (ipykernel)",
   "language": "python",
   "name": "python3"
  },
  "language_info": {
   "codemirror_mode": {
    "name": "ipython",
    "version": 3
   },
   "file_extension": ".py",
   "mimetype": "text/x-python",
   "name": "python",
   "nbconvert_exporter": "python",
   "pygments_lexer": "ipython3",
   "version": "3.10.12"
  }
 },
 "nbformat": 4,
 "nbformat_minor": 5
}
